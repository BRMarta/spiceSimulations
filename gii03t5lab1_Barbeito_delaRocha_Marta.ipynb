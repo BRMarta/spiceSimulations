{
  "cells": [
    {
      "cell_type": "markdown",
      "source": [
        "\n",
        " # Objetivo del laboratorio\n",
        " El objetivo de la presenta práctica es conocer el estándar de simulación de circuitos [SPICE](http://bwrcs.eecs.berkeley.edu/Classes/IcBook/SPICE) y realizar pequeñas simulaciones en corriente continua con el mismo. SPICE es una forma elegante y sencilla de codificar circuitos eléctricos de manera que puedan ser procesados por un ordenador. Mediante un sencillo lenguaje podemos definir resistencias, fuentes de alimentación, etc., las conexiones entre ellos y los resultados que deseamos obtener.\n",
        "\n",
        " # El estándar SPICE\n",
        " **SPICE** es una abreviabiación de *Simulation Program with Integrated Circtuit Emphasis*.\n",
        " Se trata básicamente de un método estándar para describir circuitos usando texto plano en\n",
        " lugar de una representación gráfica (o *esquemática*). A esta descripción en texto se\n",
        " la llama también **netlist** y básicamente se corresponde con la *lista* de los componentes del circuito y cómo estos están conectados entre sí, es decir, de los nodos de unión.\n",
        " Los ficheros netlist pueden tener extensiones `.cir`, `.net`, `.ckt`, ó `.sp` y es muy común encontrárselos con cualquiera de estas.\n",
        "\n",
        " Existen en el mercado muchas variantes (intérpretes) de Spice, aunque el original fue descrito\n",
        " en la Universidad de Berkeley. En la lista de intérpretes de Spice tenemos desde esfuerzos y proyectos comerciales hasta *open source* y regidos por distintas comunidades de usuarios y programadores.\n",
        "\n",
        "> **Pregunta:** Enumera todos los intérprete de Spice que puedas encontrar. Crea una tabla en Markdown con varias columnas (para el nombre, fabricante, versión actual, licencia y alguna característica sobresaliente). Aquí tienes un ejemplo del que puedes partir y seguir completando:\n",
        "\n",
        "| `Intérprete` | `Licencia` | `Fabricante`                             | `Características`  |\n",
        "| :--------- | :------- | :------------------------------------------- | :---------------- |\n",
        "| ---------- | ------------- | -------------------------------------------- | ------------------ |\n",
        "| Ahkab      | GPL      | Giuseppe Venturini                           | Basado en Python |\n",
        "| LTspice    | Freeware | Mike Engelhardt                              | Basado en Python |\n",
        "| PSpice     | Propiedad| Dennis Fitzpatrick/Cadence Design Systems    | Basado en C/C++  |\n",
        "| Ngspice    | BSD      | Open project                                 | Basado en C, multiplataforma      |\n",
        "| Macspice   | BSD      | Charles D. H. Williams                       | Para Mac OS X    |\n",
        "| OrCAD      | Propiedad| Cadence Design Systems                       | Basado en C/C++  |\n",
        "| TINA       | Propiedad| DesignSoft                                   | Multiplataforma  |\n",
        "\n",
        "\n",
        " > **Pregunta:** ¿Qué comparación puedes efectuar entre C y Spice como estándares (lenguajes) y sus respectivas implementaciones en software? ¿Qué implementaciones reales (compiladores) del lenguaje C conoces? \n",
        "\n",
        "Mientras que C es un lenguaje compilado, Spice es interpretado. Es por esto que el software utilizado para programar en C ha de ser compilador, es decir, que previo paso a ser ejecutado, el software que utilicemos traducirá nuestro programa a lenguaje máquina, creando así un ejecutable legible por una máquina de manera directa. Spice por su parte no necesita de dicho paso ya que el programa que lo ejecute interpretará cada instrucción a medida que la va leyendo.\n",
        " \n",
        "En la siguiente tabla se muestra una relación de ejemplos de compiladores C para diferentes sistemas operativos: \n",
        "\n",
        "| `Compilador`      | `Sistema Operativo` | `Licencia`                  | `Fabricante`                           | `Observaciones`           |\n",
        "| :--------------- | :----------------- | :------------------------- | :------------------------------------ | :----------------------- |\n",
        "| --------------- | ------------------- | ------------------------- | ------------------------------------ | ----------------------- |\n",
        "| Dev C++         | Windows           | GPL                       | Colin Laplace (Bloodshed Software)   | Basado en Object Pascal |\n",
        "| AppCode         | Mac OS            | Trialware                 | JetBrains                            |                         |\n",
        "| CLion           | Multiplataforma   | Propiedad                 | JetBrains                            |                         |\n",
        "| KDevelop        | Multiplataforma   | GPL                       | Milian Wolff                         | Programado en C++       |     \n",
        "| Eclipse         | Multiplataforma   | EPL                       | Eclipse Foundation                   | Programado en Java      |\n",
        "| Code::Blocks    | Multiplataforma   | GPL                       | The Code::Blocks team                | Programado en C++       |\n",
        "\n",
        " ## Elementos de un netlist\n",
        " Como acabamos de comentar, un netlist se corresponde con la codificación de los elementos electrónicos de un circuito y las uniones entre los mismos. Veamos con más concreción qué partes y secciones lo componen.\n",
        "\n",
        " ## Comentarios\n",
        "\n",
        " La primera línea de un netlist se corresponderá siempre con un comentario. A partir de esta línea se pueden introducir más comentarios pero tienen que ir siempre precedidos de un `*`. Ejemplo:\n",
        " \n",
        " ```spice\n",
        " Mi primer circuito\n",
        " * Otro comentario\n",
        " * más comentarios\n",
        " *\n",
        " ```\n",
        "\n",
        " ## Dispositivos básicos de un circuito\n",
        " Los elementos de un netlist son los mismos que encontramos en cualquier circuito eléctrico sencillo,\n",
        " tales como resistencias, **condensadores**, **bobinas**, **interruptores**, **hilos** y **fuentes** de alimentación.\n",
        " Para distinguir uno de otro, se reserva una letra característica: `V` para fuentes de alimentación, `R` para resistencias, `C` para condensadores y `L` para bobinas. También es posible usar estas letras en su versión en minúscula (`r`, `v`, `c`, `l`, etc.).\n",
        " Después de esta letra característica se puede sufijar cualquier texto para diferenciar un elemento de otro (números, letras, palabras, etc.). Ejemplo:\n",
        "\n",
        " ```\n",
        " * Una resistencia\n",
        " R1\n",
        " *  Otra resistencia\n",
        " R2\n",
        " * Fuente de alimentación\n",
        " V\n",
        " * Un condensador\n",
        " Cprincipal\n",
        " ```\n",
        "\n",
        " ## Conexiones\n",
        " A continuación de indicar el elemento eléctrico, tenemos que informar a Spice cuáles\n",
        " son los puntos de unión tanto a un lado como al otro del elemento.\n",
        " Así es como Spice sabe qué está conectado a qué: porque comparten un **punto**\n",
        " (o **nodo**, aunque este término se reserva sobretodo a uniones de más de dos elementos)\n",
        " que hemos señalizado correctamente. Para nombrar nodos, lo mejor es emplear una\n",
        " numeración secuencial: 0...n. **La enumeración de los puntos de unión es completamente\n",
        " a nuestro criterio**.\n",
        "\n",
        " ```\n",
        " * Una resistencia\n",
        " * entre cables 0 y 1\n",
        " R1 0 1\n",
        " ```\n",
        "\n",
        " **Sólo es necesario seguir un criterio**: en el caso de una\n",
        " fuente de alimentación, el nodo que pondremos primero será\n",
        " aquel que está más cerca del *borne* positivo. Ejemplo:\n",
        "\n",
        " ```spice\n",
        " * Para una fuente indicamos primeramente conexión a nodo positivo.\n",
        " v 2 3 type=vdc vdc=1\n",
        " ```\n",
        " \n",
        "En el *caso de LTspice* no es necesario indicar los parámetros `type=vdc` y `vdc=X`, sino que si no se especifica nada, se supone que el último valor es el del voltaje a corriente continua:\n",
        "\n",
        "```spice\n",
        "* Especificación de una fuente de alimentación de 10 V en corrient continua en el caso de LTspice\n",
        "v 0 1 10\n",
        "```\n",
        "\n",
        "Aquí tienes un ejemplo gráfico de los componentes comentados justo arriba (resistencia y voltaje):\n",
        "\n",
        "![](https://raw.githubusercontent.com/pammacdotnet/spicelab/master/resistencia%20y%20pila%20con%20nodos.svg?sanitize=true)\n",
        "\n",
        " ## Unidades en SPICE\n",
        "\n",
        " Las unidades de las magnitudes características del circuito son siempre [unidades\n",
        " del Sistema Internacional](https://en.wikipedia.org/wiki/SI_electromagnetism_units) y no es necesario indicarlo explícitamente en el netlist.\n",
        "\n",
        " La forma de especificar múltiplos de estas cantidades es añadiendo una letra.\n",
        " Básicamente las que nos interesan y las que suelen aparecer mayoritariamente son `k` para \"kilo-,\" `m` para \"mili?\" y `u` para \"micro?\".\n",
        "\n",
        " > **Pregunta:** Crea una tabla en Markdown con todos los prefijos de múltiplos que puedas, su abreviatura y su equivalencia numérica.\n",
        "A continuación se muestra la tabla solicitada, encontrándose en las tres primeras columnas los múltiplos, complementado con los submúltiplos en las siguientes tres columnas:\n",
        "\n",
        "| `Prefijo`      | `Simbolo` | `Equivalencia numérica` | `Prefijo`      | `Simbolo` | `Equivalencia numérica` |\n",
        "| :------------: | :-------: | :---------------------: | :------------: | :-------: | :---------------------: |\n",
        "| ------------ | ------------ | ------------------------- | ------------ | ------------ | --------------------- |\n",
        "| deca         | da      | $10^{1}$              | deci         | d       | $10^{-1}$ \n",
        "| hecto        | h       | $10^{2}$              | centi        | c       | $10^{-2}$ \n",
        "| kilo         | k       | $10^{3}$              | mili         | m       | $10^{-3}$ \n",
        "| mega         | M       | $10^{6}$              | micro        | µ       | $10^{-6}$ \n",
        "| giga         | G       | $10^{9}$              | nano         | n       | $10^{-9}$ \n",
        "| tera         | T       | $10^{12}$             | pico         | p       | $10^{-12}$ \n",
        "| peta         | P       | $10^{15}$             | femto        | f       | $10^{-15}$ \n",
        "| exa          | E       | $10^{18}$             | atto         | a       | $10^{-18}$ \n",
        "| zetta        | Z       | $10^{21}$             | zepto        | z       | $10^{-21}$ \n",
        "| yotta        | Y       | $10^{24}$             | yocto        | y       | $10^{-24}$ \n",
        "\n",
        "\n",
        " En el caso de las fuentes de alimentación hemos de especificar si se trata de corriente contínua (`vdc`) o alterna (`ac`).\n",
        "\n",
        " ```\n",
        " * Una resistencia de 5 Ohmios\n",
        " R2 1 0 5\n",
        " * Una pila de 10 Voltios (continua)\n",
        " V1 1 0 type=vdc vdc=10\n",
        " * Una resistencia de 5 kΩ\n",
        " RX 2 4 5k\n",
        " ```\n",
        "\n",
        " > **Pregunta**: ¿qué unidades del Sistema Internacional relacionadas con la asignatura –y los circuitos en general– conoces? Responde aquí mismo en una celda de Markdown con una tabla.\n",
        "\n",
        "De las 7 unidades básicas del Sistema Internacional, las relacionadas principalmente con el temario visto hasta ahora son:\n",
        "\n",
        "| `Unidad`      | `Simbolo` | `Magnitud` |\n",
        "| :------------ | :------- | :--------------------- | \n",
        "| ------------ | ------------ | ------------------------- | \n",
        "| segundo | s | tiempo|\n",
        "| metro | m | longitud|\n",
        "| kilogramo | kg | masa|\n",
        "| amperio | A | corriente eléctrica|\n",
        "\n",
        "Dentro de la unidades suplementarias: \n",
        "\n",
        "| `Unidad`      | `Simbolo` | `Magnitud` |\n",
        "| :------------ | :------- | :--------------------- | \n",
        "| ------------ | ------------ | ------------------------- |\n",
        "| radián | rad | ángulo plano |\n",
        "\n",
        "En lo que concierne a las unidades derivadas (aquellas que matemáticamente se pueden reformular expresándose en base a las unidades básicas) las utilizadas son:\n",
        "\n",
        "| `Nombre`      | `Simbolo` | `Cantidad física` | `Expresión en unidades básicas` |\n",
        "| :------------ | :------- | :--------------------- | :--------------------------------- |\n",
        "| ------------ | ------------ | ------------------------- | ---------------------------------- |\n",
        "| hercio | Hz | frecuencia | $$s^{-1}$$ |\n",
        "| newton | N | fuerza | $$m kg s^{-2}$$ |\n",
        "| julio | J | energía | $$m^{2} kg s^{-2}$$ |\n",
        "| vatio | W | potencia | $$m^{2} kg s^{-3}$$|\n",
        "| culombio | C | carga electrica | $$s A$$ |\n",
        "| voltio | V | tensión eléctrica/diferencia potencial | $$m^{2} kg s^{-3} A^{-1}$$ |\n",
        "| faradio | F | capacitancia | $$m^{-2} kg^{-1} s^{4} A^{2}$$ | \n",
        "| ohmio | Ω | resistencia eléctrica | $$m^{2} kg s^{-3} A^{-2}$$ | \n",
        "| weber | Wb | flujo magnético | $$m^{2} kg s^{-2} A^{-1}$$ | \n",
        "| tesla | T | campo magnético (densidad de flujo magnético) | $$kg s^{-2} A^{-1}$$ | \n",
        "\n",
        " ## Valores iniciales\n",
        "\n",
        " Aparecen justo al final de la definición del componente (`ic`). Suelen aplicarse principalmente con condensadores.\n",
        "\n",
        " ```\n",
        " * Una condensador inicialmente no cargado\n",
        " c 1 0 1u ic=0\n",
        " ```\n",
        "\n",
        " ## Fin del circuito\n",
        "\n",
        " El fin de la descripción de un netlist se especifica mediante el\n",
        " comando `.end`.\n",
        "\n",
        " ```spice\n",
        " * Mi primer circuito\n",
        " V 1 0 vdc=10 type=vdc\n",
        " R 1 0 5\n",
        " * Fin del circuito\n",
        " .end\n",
        " ```\n",
        "\n",
        "\n",
        " ## Comandos SPICE para circuitos en corriente continua\n",
        "\n",
        " Además de la descripción del circuito, hemos de indicar al intérprete de Spice qué\n",
        " tipo de análisis queremos realizar en sobre el mismo y cómo queremos presentar\n",
        " la salida de la simulación. Los comandos en Spice empiezan por un `.` y suelen\n",
        " escribirse justo al final del circuito, pero antes del comando `.end`.\n",
        "\n",
        " ```\n",
        "  Mi primer circuito\n",
        " * Aquí van los componentes\n",
        " R 1 0 6k\n",
        " ...\n",
        " * Comandos\n",
        " .op\n",
        " ...\n",
        " * Fin del circuito\n",
        " .end\n",
        " ```\n",
        "\n",
        " > **Pregunta**: Hasta lo que has visto del lenguaje Spice, ¿dentro de qué tipo o conjunto de lenguajes encajaría? ¿Funcionales? ¿Específicos de dominio? ¿Procedurales? ¿Estructurados? ¿Orientado a Objetos ¿Funcionales? Justifica tu respuesta. \n",
        "\n",
        " Encajaría el lenguaje Spice dentro de los lenguajes específicos de dominio ya que fue creado y se usa con un objetivo concreto (la simulación de circuitos), característica fundamental de este tipo de lenguajes. \n",
        "\n",
        " Veamos los principales comandos de simulación:\n",
        "\n",
        " - `.op` es el comando más sencillo que podemos emplear en. Devuelve el voltaje e intensidad en cada ramal y componente del circuito. Este comando no necesita parámetros.\n",
        " - `.dc` es uy parecido al comando `.op` pero nos permite cambiar el valor del voltaje de una fuente de alimentación en pasos consecutivos entre el valor A y el valor B.\n",
        " En el caso de que la fuente tuviera asignada ya un valor para su voltaje, este sería ignorado. Ejemplo:\n",
        "\n",
        "\n",
        " ```spice\n",
        " * Variamos el valor del voltaje\n",
        " * de la fuente \"v\" de 1 a 1000\n",
        " * en pasos de 5 voltios\n",
        " v 1 0 type=vdc vdc=10\n",
        " .dc v 1 start=1 stop=1000 step=20\n",
        " v2a 2 4 type=vdc vdc=9\n",
        " * Igual para v2a. Se ignora su voltaje de 9V\n",
        " .dc v2a start=0 stop=10 step=2\n",
        " ```\n",
        "\n",
        " - El comando `.tran` realiza un análisis en el tiempo de los parámetros del\n",
        " circuito. Si no se emplea la directiva `uic` (*use initial conditions*) o esta es igual a cero, este análisis se realiza desde el punto estable de funcionamiento del circuito hasta un tiempo `tfinal`.\n",
        " y en intervalos `tstep`. Si empleamos un varlor distinto para parámetro `uic`,\n",
        " entonces se hará uso de las condiciones iniciales definidas para cada componente\n",
        "  (típicamente `ic=X` en el caso de los condensadores, que da cuenta de la carga incial que estos pudieran tener).\n",
        "\n",
        "\n",
        " ```\n",
        " * Hacemos avanzar el tiempo entre\n",
        " * tinicial y tfinal en pasos tstep\n",
        " .tran tstart=X tstop=Y tstep=Z uic=0/1/2/3\n",
        " ```\n",
        "\n",
        " `X`, `Y` y `Z` tienen, evidentemente unidades de tiempo en el S.I. (segundos).\n",
        "\n",
        " > **Pregunta**: El parámetro `uic` puede tener varios valores y cada uno significa una cosa. Detállalo usando un celda Markdown y consultando la [documentación de Ahkab](https://buildmedia.readthedocs.org/media/pdf/ahkab/latest/ahkab.pdf).\n",
        "\n",
        "UIC (Use Initial Conditions), parámetro usado para establecer unos valores iniciales en el análisis de tipo .tran que puede tener los siguientes valores:\n",
        "\n",
        " \n",
        "| `Valor`   | `Significado` | \n",
        "| --------- | ------------ | \n",
        "| 0 | Todos los voltajes y corrientes a través de las diferentes fuentes serán consideradas 0 en el tiempo  t = tstart |\n",
        "| 1 | En el momento t = start serán considerados como valores los obtenidos en el último análisis .op |\n",
        "| 2 | al igual que con el valor 1, si uic = 2, el status en t = tstart será el resultado del análisis .op, sin embargo en este caso, en el análisis .op se colocan los valores de las corrientes a traves de voltajes e inductores en condensadores especificado en su valor ic |\n",
        "| 3 | El usuario provee la directiva .ic en el netlist |\n",
        "\n",
        "\n",
        " ## Intérprete SPICE que vamos a usar: Ahkab\n",
        " Tras un estándar siempre hay una o varias implementaciones. Ahkab no deja de ser una implmentación más en Python del estándar Spice.\n",
        " > **Pregunta:** Comenta las distintas implementaciones de lenguajes y estándares que conozcas. Hazlo usando una tabla en Markdown. [Aquí](https://www.markdownguide.org/extended-syntax/#tables) tienes un poco de ayuda (aunque antes ya se ha puesto el ejemplo de una tabla).\n",
        " \n",
        "| `Lenguaje`   | `Estandar`   | \n",
        "| ------------ | ------------ | \n",
        "| Java         |    Spring, JWt, Google Web Toolkit    |\n",
        "| Python       |    Django, Pyramid, CherryPy, Bootle    |\n",
        "| C++          |    Drogon, CppCMS, Poco    |\n",
        "| C#           |    ASP.NET         |\n",
        "| JavaScript   |    Angular.JS, Reac.Js, Vue.Js, Node.Js, Polymer.Js      |     \n",
        "| PHP          |    Laravel,Symfony, Codelgniter       |\n",
        "| Swift        |    Vapor, Realm       | \n",
        "| Perl         |    Catalyst, Mason, Maypole   |\n",
        "| Ruby         |    Ruby on Rails, Sinatra, Celluloid        |\n",
        "\n",
        " > **Pregunta:** Describe brevemente este software (creador, objetivos, versiones, licencia, características principales, dependencias, etc.).\n",
        "\n",
        "Ahkab es un software basado en el lenguaje Spice y creado por Giuseppe Venturini, cuyos principales objetivos con este proyecto, y a su vez lo que lo caracteriza, eran permitir al diseñador del circuito ver claramente lo que ocurre de manera interna en los circuitos durante las simulaciones a través de los diferentes algoritmos que implementa y que el usuario tiene disponibles para ver, analizar y modificar si fuese necesario gracias al ser de código abierto. Otro de sus objetivos es que permite experimentar mediante la implementación de algoritmos ajenos al proyecto original y publicados en artículos, siendo el usuario el que tiene que crear el código de ese algoritmo y pudiendo ser incluido en el proyecto original previa comunicación con los autores con anticipación. Siendo estos sus dos principales objetivos, el autor espera que los usuarios se diviertan implementando y simulando circuitos usando este software\n",
        "Cuenta con un repositorio de GitHub, donde se puede ver el desarrollo que ha ido teniendo a lo largo del tiempo con sus diferentes versiones, comenzando con la v0.10 en mayo del 2014, y creando subsecuentes hasta en 8 ocasiones (haciendo un total de 9 versiones) que solucionaban bugs, mejoraban y documentaban el código inicial. Cuenta con Licencia GPL2 (GNU General Public License), característico de todo software libre y de código abierto disponible para que el usuario lo pueda utilizar, estudiar, compartir y modificar.\n",
        "Las dependencias básica y obligatorioas son: numpy, scipy, sympy y tabulate. También altamente recomendado: matplotlib y nose.\n",
        "\n",
        "\n",
        " # Trabajo práctico\n",
        " Muy bien, ahora toca definir circuitos y ejecutar simulaciones sobre los mismos gracias a Ahkab.\n",
        " ## Instalación de bibliotecas necesarias\n",
        " Si estás utilizando Anaconda, asegúrate de tener su entorno activado:\n",
        " \n",
        " ```cmd\n",
        " C:\\> conda activate base (en el caso de Windows)\n",
        " ```\n",
        " ó\n",
        "\n",
        " ```bash\n",
        " $ source /usr/local/Caskroom/miniconda/base/bin/activate (en el caso de macOS)\n",
        " ```\n",
        "\n",
        "En el caso de Windows tienes que tener en el PATH el directorio donde se encuentre el comando `conda` (visita la sección de [Environment Variables](https://superuser.com/questions/949560/how-do-i-set-system-environment-variables-in-windows-10) del [Panel de Control](https://www.digitalcitizen.life/8-ways-start-control-panel-windows-10)). Si has instalado Anaconda con [esta opción](https://docs.anaconda.com/_images/win-install-options.png) marcada, ya no tienes que preocuparte por ello. \n",
        "\n",
        "En el caso de usar Visual Studio Code, este puede encontrar automáticamente la distintas distribuciones de Python que tengamos instaladas y si abrimos un terminal, este se adaptará automáticamente al entorno Python que hayamos seleccionado. \n",
        "\n",
        "![](https://raw.githubusercontent.com/microsoft/vscode-python/main/images/InterpreterSelectionZoom.gif)\n",
        "\n",
        "Ahora ya puedes instalar Ahkab:\n",
        "\n",
        " ```\n",
        " (base) $ pip install ahkab\n",
        " ``` "
      ],
      "metadata": {}
    },
    {
      "source": [
        "También puedes instalar Ahkab directamente desde este mismo notebook:\n"
      ],
      "cell_type": "markdown",
      "metadata": {}
    },
    {
      "cell_type": "code",
      "execution_count": 4,
      "metadata": {},
      "outputs": [
        {
          "output_type": "stream",
          "name": "stdout",
          "text": [
            "Requirement already satisfied: ahkab in c:\\users\\marta\\scoop\\apps\\miniconda3\\current\\lib\\site-packages (0.18)\n",
            "Requirement already satisfied: numpy>1.7.0 in c:\\users\\marta\\scoop\\apps\\miniconda3\\current\\lib\\site-packages (from ahkab) (1.19.2)\n",
            "Requirement already satisfied: scipy>=0.14.0 in c:\\users\\marta\\scoop\\apps\\miniconda3\\current\\lib\\site-packages (from ahkab) (1.5.2)\n",
            "Requirement already satisfied: sympy>=0.7.6 in c:\\users\\marta\\scoop\\apps\\miniconda3\\current\\lib\\site-packages (from ahkab) (1.6.2)\n",
            "Requirement already satisfied: tabulate>=0.7.3 in c:\\users\\marta\\scoop\\apps\\miniconda3\\current\\lib\\site-packages (from ahkab) (0.8.7)\n",
            "Requirement already satisfied: mpmath>=0.19 in c:\\users\\marta\\scoop\\apps\\miniconda3\\current\\lib\\site-packages (from sympy>=0.7.6->ahkab) (1.1.0)\n"
          ]
        }
      ],
      "source": [
        "!pip install ahkab"
      ]
    },
    {
      "source": [
        "\n",
        " Como siempre, una vez instalado cualquier framework para Python, ya lo podemos utilizar, tanto desde el [REPL](https://en.wikipedia.org/wiki/Read–eval–print_loop) como desde un entorno Jupyter (Jupyter, [Jupyterlab](http://jupyterlab.readthedocs.io/en/stable/), VS Code o nteract). Recuerda que para usar el kernel Python (que viene con Anaconda) desde nteract debes seguir las instrucciones que se indican en su [documentación oficial](https://nteract.io/kernels). "
      ],
      "cell_type": "markdown",
      "metadata": {}
    },
    {
      "source": [
        "Como vamos a pintar algunas gráficas, necesitamos instlar [matplotlib](https://matplotlib.org). Al igual que con Ahkab, esto lo podemos hacer directamente desde este mismo notebook. Si hemos usado Anaconda: "
      ],
      "cell_type": "markdown",
      "metadata": {}
    },
    {
      "cell_type": "code",
      "execution_count": 5,
      "metadata": {},
      "outputs": [
        {
          "output_type": "stream",
          "name": "stdout",
          "text": [
            "Collecting package metadata (current_repodata.json): ...working... done\nSolving environment: ...working... done\n\n# All requested packages already installed.\n\n"
          ]
        }
      ],
      "source": [
        "!conda install -y -c conda-forge matplotlib"
      ]
    },
    {
      "cell_type": "code",
      "source": [
        "import pylab as plt\n",
        "import ahkab"
      ],
      "outputs": [],
      "execution_count": 157,
      "metadata": {
        "execution": {
          "iopub.status.busy": "2020-12-04T16:31:38.592Z",
          "iopub.execute_input": "2020-12-04T16:31:38.612Z",
          "iopub.status.idle": "2020-12-04T16:31:44.372Z",
          "shell.execute_reply": "2020-12-04T16:31:44.448Z"
        }
      }
    },
    {
      "cell_type": "markdown",
      "source": [
        " > **Pregunta:** ¿Qué es y para qué sirve PyLab?\n",
        " \n",
        " PyLab es un módulo que incluye partes del paquete matplotlib para plotear (matplotlib.pyplot) las gráficas y partes del paquete numpy para para la parte matemática.\n",
        " \n",
        "\n",
        " ## Circuitos sencillos para trabjar con la ley de Ohm:\n",
        "\n",
        " La *mal llamada* ley de Ohm reza que el voltaje (la *energía por unidad de carga*) que se disipa en un tramo de un circuito eléctrico es equivalente a la intensidad ($I$) de la corriente (es decir, cuántos electrones circulan por unidad de tiempo) por la resistencia del material ($R$) en el que está desplazándose dicha corriente. Matemáticamente:\n",
        "\n",
        " $$\n",
        " V = I\\cdot R\n",
        " $$\n",
        "\n",
        " > **Pregunta:** comprueba que la ecuación anterior está ajustada a nivel dimensional, es decir, que la naturaleza de lo que está a ambos lados del signo igual es la misma. Realiza este ejercicio con LaTeX en una celda Markdown.\n",
        " \n",
        " Dada la ecuación anterior y sabiendo que la intensidad es de por si una unidad básica del Sistema Internacional, y que el voltaje y la resistencia en unidades básicas del Sistema Internacional se expresan como: \n",
        " $$\n",
        " [I] = A =  A^{1}\n",
        " $$\n",
        " $$\n",
        " [V] = m^{2} kg s^{-3} A^{-1}\n",
        " $$\n",
        " $$\n",
        " [R] = m^{2} kg s^{-3} A^{-2}\n",
        " $$\n",
        " Sustituyendo en la *mal llamada* ley de Ohm:\n",
        " $$\n",
        " m^{2} kg s^{-3} A^{-1} = Am^{2} kg s^{-3} A^{-2}\n",
        " $$\n",
        " $$\n",
        " m^{2} kg s^{-3} A^{-1} = A^{1}m^{2} kg s^{-3} A^{-2}\n",
        " $$\n",
        " Aplicando la propiedad de las potencias con misma base, en este caso los amperios:\n",
        " $$\n",
        " m^{2} kg s^{-3} A^{-1} = m^{2} kg s^{-3} A^{-1}\n",
        " $$\n",
        "\n",
        "\n",
        " Comencemos con el circuito más sencillo posible de todos:\n",
        "\n",
        " ![](https://raw.githubusercontent.com/pammacdotnet/spicelab/master/primer%20circuito.svg?sanitize=true)\n",
        "\n",
        " Vamos a escribir su contenido (componentes o *netlist*) en disco con el nombre `circuito sencillo.sp`. Esto lo podemos lograr directamente y en tiempo real desde una celda de Jupyter gracias a los *comandos mágicos* de este entorno de programación literaria. En concreto vamos a utilizar `%%writefile` que guarda los contenidos de una celda como un fichero. "
      ],
      "metadata": {}
    },
    {
      "cell_type": "code",
      "source": [
        "%%writefile \"circuito sencillo.sp\"\n",
        "* Este es un circuito sencillo\n",
        "r1 1 0 100\n",
        "v1 0 1 type=vdc vdc=9\n",
        ".op\n",
        ".dc v1 start=0 stop=9 step=1\n",
        ".end\n"
      ],
      "outputs": [
        {
          "output_type": "stream",
          "name": "stdout",
          "text": [
            "Overwriting circuito sencillo.sp\n"
          ]
        }
      ],
      "execution_count": 158,
      "metadata": {
        "execution": {
          "iopub.status.busy": "2020-12-04T16:31:49.729Z",
          "iopub.execute_input": "2020-12-04T16:31:49.743Z",
          "iopub.status.idle": "2020-12-04T16:31:49.773Z",
          "shell.execute_reply": "2020-12-04T16:31:49.784Z"
        }
      }
    },
    {
      "cell_type": "markdown",
      "source": [
        "Ahora vamos a leer su descripción con Ahkab, interpretar y ejecutar las simulaciones que en él estén descritas."
      ],
      "metadata": {}
    },
    {
      "cell_type": "code",
      "source": [
        "circuito_y_análisis = ahkab.netlist_parser.parse_circuit('circuito sencillo.sp')"
      ],
      "outputs": [],
      "execution_count": 160,
      "metadata": {
        "execution": {
          "iopub.status.busy": "2020-12-04T16:31:53.003Z",
          "iopub.execute_input": "2020-12-04T16:31:53.016Z",
          "iopub.status.idle": "2020-12-04T16:31:53.038Z",
          "shell.execute_reply": "2020-12-04T16:31:53.050Z"
        }
      }
    },
    {
      "cell_type": "markdown",
      "source": [
        " Separamos la información del netlist (componentes) de los análisis (uno de tipo `op` y otro de tipo `dc`):"
      ],
      "metadata": {}
    },
    {
      "cell_type": "code",
      "source": [
        "circuito = circuito_y_análisis[0]\n",
        "análisis_en_netlist = circuito_y_análisis[1]\n",
        "lista_de_análisis = ahkab.netlist_parser.parse_analysis(circuito, análisis_en_netlist)\n",
        "print(lista_de_análisis)\n"
      ],
      "outputs": [
        {
          "output_type": "stream",
          "name": "stdout",
          "text": [
            "[{'type': 'op', 'guess': True, 'x0': None}, {'type': 'dc', 'source': 'v1', 'start': 0.0, 'stop': 9.0, 'step': 1.0, 'sweep_type': 'LIN'}]\n"
          ]
        }
      ],
      "execution_count": 161,
      "metadata": {
        "execution": {
          "iopub.status.busy": "2020-12-04T16:32:03.807Z",
          "iopub.execute_input": "2020-12-04T16:32:03.818Z",
          "iopub.status.idle": "2020-12-04T16:32:03.844Z",
          "shell.execute_reply": "2020-12-04T16:32:03.856Z"
        }
      }
    },
    {
      "cell_type": "markdown",
      "source": [
        "> **Pregunta:** ¿qué tipo de estructura de Python es `lista_de_análisis`? Diccionario dentro de lista_de_análisis\n",
        "\n",
        "`lista_de_análisis` como su propio nombre indica tiene el tipo de estructura de lista, que a su vez cada uno de los dos elementos que la forman es un diccionario el cual contiene una serie de elementos del tipo clave:valor. \n",
        "\n",
        "\n",
        " Las simulaciones que implican listas de datos (`.dc`, `.tran`, etc.) necesitan de un fichero temporal (`outfile`)\n",
        " donde almacenar los resultados. Para ello tenemos que definir la propiedad `outfile`."
      ],
      "metadata": {}
    },
    {
      "cell_type": "code",
      "source": [
        "lista_de_análisis[1]['outfile'] = \"simulación dc.tsv\"\n"
      ],
      "outputs": [],
      "execution_count": 162,
      "metadata": {
        "execution": {
          "iopub.status.busy": "2020-12-04T16:32:06.517Z",
          "iopub.execute_input": "2020-12-04T16:32:06.529Z",
          "iopub.status.idle": "2020-12-04T16:32:06.547Z",
          "shell.execute_reply": "2020-12-04T16:32:06.559Z"
        }
      }
    },
    {
      "cell_type": "markdown",
      "source": [
        " > **Pregunta:** escribe el código Python necesario para identificar qué análisis de `lista_de_análisis`\n",
        " son de tipo `dc` ó `tran` y sólo añadir la propiedad `outfile` en estos casos.\n",
        "Aquí tenéis un post de Stackoverflow con algo de [ayuda](https://stackoverflow.com/questions/49194107/how-to-find-index-of-a-dictionary-key-value-within-a-list-python).\n",
        " Un poco más de ayuda: el siguiente código (sí, una única línea) devuelve el índice de la simulación que es de tipo `dc`. Para simplificar un poco el ejercicio, suponed que, como máximo, habrá un análisis de tipo `tran` y/o `dc`."
      ],
      "metadata": {}
    },
    {
      "cell_type": "code",
      "source": [
        "numero = [i for i, d in enumerate(lista_de_análisis) if \"dc\" or \"tran\" in d.values()][0] \n",
        "lista_de_análisis[numero]['outfile'] = \"simulación.tsv\"\n"
      ],
      "outputs": [],
      "execution_count": 163,
      "metadata": {}
    },
    {
      "source": [
        "En el codigo expresado en la celda anterior se asignará a la variable número la posición del análisis de tipo `dc` ó `tran` dentro de la lista. Tras obtener su posición, el programa irá a ese lugar dentro del array de la `lista_de_análisis` y con la propiedad `outfile` exportará la simulación al archivo de nombre establecido como \"simulación.tsv\""
      ],
      "cell_type": "markdown",
      "metadata": {}
    },
    {
      "cell_type": "markdown",
      "source": [
        "Una vez que ya hemos separado netlists de simulaciones, ahora ejecutamos las segundas (¡todas a la vez!) gracias al método `.run` de Ahkab: "
      ],
      "metadata": {}
    },
    {
      "cell_type": "code",
      "source": [
        "resultados = ahkab.run(circuito, lista_de_análisis)"
      ],
      "outputs": [
        {
          "output_type": "stream",
          "name": "stdout",
          "text": [
            "Starting op analysis:\n",
            "Calculating guess: skipped. (linear circuit)\n",
            "Solving...   done.\n",
            "Solving...   done.\n",
            "Difference check within margins.\n",
            "(Voltage: er=0.001, ea=1e-06, Current: er=0.001, ea=1e-09)\n",
            "Starting DC analysis:\n",
            "Solving...  done\n"
          ]
        }
      ],
      "execution_count": 164,
      "metadata": {}
    },
    {
      "cell_type": "markdown",
      "source": [
        "### Resultados de la simulación `.dc`\n",
        "Imprimimos información sobre la simulación de tipo `.dc`:"
      ],
      "metadata": {}
    },
    {
      "cell_type": "code",
      "source": [
        "print(resultados['dc'])"
      ],
      "outputs": [
        {
          "output_type": "stream",
          "name": "stdout",
          "text": [
            "<DC simulation results for '* este es un circuito sencillo' (netlist circuito sencillo.sp). LIN sweep of V1 from 0 to 9 V. Run on 2021-01-06 20:25:19, data file simulación dc.tsv>\n"
          ]
        }
      ],
      "execution_count": 165,
      "metadata": {}
    },
    {
      "cell_type": "markdown",
      "source": [
        " Veamos qué variables podemos dibujar para el caso del análisis `dc`."
      ],
      "metadata": {}
    },
    {
      "cell_type": "code",
      "source": [
        "print(resultados['dc'].keys())"
      ],
      "outputs": [
        {
          "output_type": "stream",
          "name": "stdout",
          "text": [
            "['V1', 'V1', 'I(V1)']\n"
          ]
        }
      ],
      "execution_count": 166,
      "metadata": {}
    },
    {
      "cell_type": "markdown",
      "source": [
        "Y ahora graficamos el resultado del análisis anterior. Concretamente vamos a representar el voltaje en el borne 1 (`V1`) con respecto a la intensidad del circuito (`I(V1)`)."
      ],
      "metadata": {}
    },
    {
      "cell_type": "code",
      "source": [
        "figura = plt.figure()\n",
        "plt.title(\"Prueba DC\")\n",
        "plt.plot(resultados['dc']['V1'], resultados['dc']['I(V1)'], label=\"Voltaje (V1)\")\n",
        "plt.xlabel(\"Voltaje (V)\")\n",
        "plt.ylabel(\"Intensidad (I)\")"
      ],
      "outputs": [
        {
          "output_type": "execute_result",
          "data": {
            "text/plain": [
              "Text(0, 0.5, 'Intensidad (I)')"
            ]
          },
          "metadata": {},
          "execution_count": 177
        },
        {
          "output_type": "display_data",
          "data": {
            "text/plain": "<Figure size 432x288 with 1 Axes>",
            "image/png": "[encoded data removed]"
          },
          "metadata": {
            "needs_background": "light"
          }
        }
      ],
      "execution_count": 177,
      "metadata": {}
    },
    {
      "cell_type": "markdown",
      "source": [
        "> **Pregunta:** comenta la gráfica anterior… ¿qué estamos viendo exactamente? Etiqueta los ejes de la misma convenientemente. Así como ningún número puede *viajar* solo sin hacer referencia a su naturaleza, ninguna gráfica puede estar sin sus ejes convenientemente etiquetados. Algo de [ayuda](https://matplotlib.org/3.1.0/gallery/pyplots/fig_axes_labels_simple.html). ¿Qué biblioteca estamos usando para graficar? Una [pista](https://matplotlib.org).\n",
        "\n",
        "En la gráfica previa se puede observar la intensidad del circuito en función de la resistencia previamente establecida en los parámetros del netlist (100 Ω) voltaje de la pila, el cual va cambiando (aumentando) tal y como establecimos en los parámetros del análisis .dc en un rango de 0 a 9 voltios en pasos de +1 voltio, siendo el signo del eje vertical (Intensidad) indicador de la dirección de la corriente"
      ],
      "metadata": {}
    },
    {
      "cell_type": "markdown",
      "source": [
        " ### Resultados de la simulación `.op` \n",
        " El método `.results` nos devuelve un diccionario con los resultados de la simulación."
      ],
      "metadata": {}
    },
    {
      "cell_type": "code",
      "source": [
        "print(resultados['op'].results)"
      ],
      "outputs": [
        {
          "output_type": "stream",
          "name": "stdout",
          "text": [
            "{V1: -9.0, I(V1): -0.09}\n"
          ]
        }
      ],
      "execution_count": 178,
      "metadata": {}
    },
    {
      "cell_type": "markdown",
      "source": [
        " > **Pregunta:** justifica el sencillo resultado anterior (análisis `op`). Repite el cálculo con Sympy, atendiendo con mimo a las unidades y al formateo de los resultados (tal y como hemos visto en muchos otros notebooks en clase).\n",
        "\n",
        "El resultado anterior nos indica el voltaje en el punto 1 (V1) que son 9 voltios, y la intensidad resultante en ese punto aplicando la ley de Ohm en base a ese voltaje y una resistencia establecida de 100 ohmios. \n",
        "$$ I = \\frac {V}{Ω} = \\frac{9V}{100Ω} = 0.09A$$\n",
        " "
      ],
      "metadata": {}
    },
    {
      "cell_type": "code",
      "execution_count": 180,
      "metadata": {},
      "outputs": [
        {
          "output_type": "execute_result",
          "data": {
            "text/plain": [
              "0.09*ampere"
            ],
            "text/latex": "$\\displaystyle 0.09 \\text{A}$"
          },
          "metadata": {},
          "execution_count": 180
        }
      ],
      "source": [
        "from sympy.physics.units.systems import SI\n",
        "from sympy.physics.units import volt, ohm, ampere, convert_to\n",
        "from sympy import solve, symbols, Eq, sympify\n",
        "\n",
        "V = 9 * volt\n",
        "R = 100 * ohm\n",
        "I=symbols(\"Intensidad\")\n",
        "\n",
        "ley_ohm = Eq(I, V/R)\n",
        "Intensidad_v1 = solve(ley_ohm, I)\n",
        "\n",
        "resultado_intensidad = sympify(Intensidad_v1[0])\n",
        "convert_to(resultado_intensidad, ampere).n()\n"
      ]
    },
    {
      "source": [
        "## Resolución del mismo circuito pero con LTspice\n",
        "¿Cómo? ¿Es esto posible? ¿Desde Jupyter? Sí!!! Pero primero, por comodidad, deberíamos crear un alias del comando que apunte a nuestro ejecutable. Además, con un poco de inteligencia, podemos adelantarnos al hecho de si estamos en Windows o macOS:"
      ],
      "cell_type": "markdown",
      "metadata": {}
    },
    {
      "cell_type": "code",
      "execution_count": 181,
      "metadata": {},
      "outputs": [],
      "source": [
        "import platform\n",
        "%alias lts /Applications/LTspice.app/Contents/MacOS/LTspice -ascii -b\n",
        "if platform.system() == \"Windows\":\n",
        "    %alias lts \"C:\\Program Files\\LTC\\LTspiceXVII\\XVIIx64.exe\" -ascii -b"
      ]
    },
    {
      "source": [
        "**Pregunta**: ¿Qué significan las opciones `-b` y `-ascii`? Algo de ayuda [aquí](http://ltwiki.org/LTspiceHelp/LTspiceHelp/Command_Line_Switches.htm).\n",
        "\n",
        "-ascii: para el uso de archivos .raw escritos en ascii\n",
        "\n",
        "-b: Procesamiento por lotes, para generar el archivo .raw con los resultados del circuito"
      ],
      "cell_type": "markdown",
      "metadata": {}
    },
    {
      "source": [
        "También tenemos que cambiar ligeramente la sintaxis. Ejecuta esta línea para que se escriba el fichero siguiente. Para LTspice, vamos a reservar la extensión `.net`:"
      ],
      "cell_type": "markdown",
      "metadata": {}
    },
    {
      "cell_type": "code",
      "execution_count": 182,
      "metadata": {},
      "outputs": [
        {
          "output_type": "stream",
          "name": "stdout",
          "text": [
            "Overwriting circuito sencillo.net\n"
          ]
        }
      ],
      "source": [
        "%%writefile \"circuito sencillo.net\"\n",
        "* Este es un circuito sencillo adaptado para LTspice\n",
        "r1 1 0 100\n",
        "v1 0 1 9\n",
        ".op\n",
        "* Comentamos el análisis .dc para centrarnos primero en el .op\n",
        "* .dc v1 1 10 \n",
        ".end"
      ]
    },
    {
      "source": [
        "Ejecutamos LTspice con el circuito (de la misma manera que antes habíamos hecho con Ahkab)."
      ],
      "cell_type": "markdown",
      "metadata": {}
    },
    {
      "cell_type": "code",
      "execution_count": 183,
      "metadata": {},
      "outputs": [],
      "source": [
        "lts \"circuito sencillo.net\""
      ]
    },
    {
      "source": [
        "Veamos el contenido de la simulación."
      ],
      "cell_type": "markdown",
      "metadata": {}
    },
    {
      "cell_type": "code",
      "execution_count": 184,
      "metadata": {},
      "outputs": [
        {
          "output_type": "stream",
          "text": [
            "\u001b[0mCircuit\u001b[0m\u001b[1;33m:\u001b[0m \u001b[1;33m*\u001b[0m \u001b[0mEste\u001b[0m \u001b[0mes\u001b[0m \u001b[0mun\u001b[0m \u001b[0mcircuito\u001b[0m \u001b[0msencillo\u001b[0m \u001b[0madaptado\u001b[0m \u001b[0mpara\u001b[0m \u001b[0mLTspice\u001b[0m\u001b[1;33m\n",
            "\u001b[0m\u001b[1;33m\n",
            "\u001b[0m\u001b[0mDirect\u001b[0m \u001b[0mNewton\u001b[0m \u001b[0miteration\u001b[0m \u001b[1;32mfor\u001b[0m \u001b[1;33m.\u001b[0m\u001b[0mop\u001b[0m \u001b[0mpoint\u001b[0m \u001b[0msucceeded\u001b[0m\u001b[1;33m.\u001b[0m\u001b[1;33m\n",
            "\u001b[0m\u001b[1;33m\n",
            "\u001b[0m\u001b[0mDate\u001b[0m\u001b[1;33m:\u001b[0m \u001b[0mWed\u001b[0m \u001b[0mJan\u001b[0m \u001b[1;36m0\u001b[0m\u001b[1;36m6\u001b[0m \u001b[1;36m21\u001b[0m\u001b[1;33m:\u001b[0m\u001b[1;36m29\u001b[0m\u001b[1;33m:\u001b[0m\u001b[1;36m0\u001b[0m\u001b[1;36m2\u001b[0m \u001b[1;36m2021\u001b[0m\u001b[1;33m\n",
            "\u001b[0m\u001b[0mTotal\u001b[0m \u001b[0melapsed\u001b[0m \u001b[0mtime\u001b[0m\u001b[1;33m:\u001b[0m \u001b[1;36m0.030\u001b[0m \u001b[0mseconds\u001b[0m\u001b[1;33m.\u001b[0m\u001b[1;33m\n",
            "\u001b[0m\u001b[1;33m\n",
            "\u001b[0m\u001b[0mtnom\u001b[0m \u001b[1;33m=\u001b[0m \u001b[1;36m27\u001b[0m\u001b[1;33m\n",
            "\u001b[0m\u001b[0mtemp\u001b[0m \u001b[1;33m=\u001b[0m \u001b[1;36m27\u001b[0m\u001b[1;33m\n",
            "\u001b[0m\u001b[0mmethod\u001b[0m \u001b[1;33m=\u001b[0m \u001b[0mtrap\u001b[0m\u001b[1;33m\n",
            "\u001b[0m\u001b[0mtotiter\u001b[0m \u001b[1;33m=\u001b[0m \u001b[1;36m3\u001b[0m\u001b[1;33m\n",
            "\u001b[0m\u001b[0mtraniter\u001b[0m \u001b[1;33m=\u001b[0m \u001b[1;36m0\u001b[0m\u001b[1;33m\n",
            "\u001b[0m\u001b[0mtranpoints\u001b[0m \u001b[1;33m=\u001b[0m \u001b[1;36m0\u001b[0m\u001b[1;33m\n",
            "\u001b[0m\u001b[0maccept\u001b[0m \u001b[1;33m=\u001b[0m \u001b[1;36m0\u001b[0m\u001b[1;33m\n",
            "\u001b[0m\u001b[0mrejected\u001b[0m \u001b[1;33m=\u001b[0m \u001b[1;36m0\u001b[0m\u001b[1;33m\n",
            "\u001b[0m\u001b[0mmatrix\u001b[0m \u001b[0msize\u001b[0m \u001b[1;33m=\u001b[0m \u001b[1;36m2\u001b[0m\u001b[1;33m\n",
            "\u001b[0m\u001b[0mfillins\u001b[0m \u001b[1;33m=\u001b[0m \u001b[1;36m0\u001b[0m\u001b[1;33m\n",
            "\u001b[0m\u001b[0msolver\u001b[0m \u001b[1;33m=\u001b[0m \u001b[0mNormal\u001b[0m\u001b[1;33m\n",
            "\u001b[0m\u001b[0mMatrix\u001b[0m \u001b[0mCompiler1\u001b[0m\u001b[1;33m:\u001b[0m \u001b[1;36m36\u001b[0m \u001b[0mbytes\u001b[0m \u001b[0mobject\u001b[0m \u001b[0mcode\u001b[0m \u001b[0msize\u001b[0m\u001b[1;33m\n",
            "\u001b[0m\u001b[0mMatrix\u001b[0m \u001b[0mCompiler2\u001b[0m\u001b[1;33m:\u001b[0m \u001b[1;36m96\u001b[0m \u001b[0mbytes\u001b[0m \u001b[0mobject\u001b[0m \u001b[0mcode\u001b[0m \u001b[0msize\u001b[0m\u001b[1;33m\u001b[0m\u001b[1;33m\u001b[0m\u001b[0m\n"
          ],
          "name": "stdout"
        }
      ],
      "source": [
        "%pycat circuito sencillo.log"
      ]
    },
    {
      "source": [
        "Ahora repitamos lo mismo para el análisis `.dc`:"
      ],
      "cell_type": "markdown",
      "metadata": {}
    },
    {
      "cell_type": "code",
      "execution_count": 185,
      "metadata": {},
      "outputs": [
        {
          "output_type": "stream",
          "name": "stdout",
          "text": [
            "Overwriting circuito sencillo.net\n"
          ]
        }
      ],
      "source": [
        "%%writefile \"circuito sencillo.net\"\n",
        "* Este es un circuito sencillo adaptado para LTspice\n",
        "r1 1 0 100\n",
        "v1 0 1 9\n",
        "* Ahora obviamos el análisis .op\n",
        "* .op\n",
        ".dc v1 1 10 \n",
        ".end\n"
      ]
    },
    {
      "cell_type": "code",
      "execution_count": 186,
      "metadata": {},
      "outputs": [],
      "source": [
        "lts \"circuito sencillo.net\""
      ]
    },
    {
      "source": [
        "Al ejecutar esta simulación, se genera un fichero `.raw` con los resultados. Es muy parecido al `outfile` que hemos empleado antes con Ahkab. Para leer este fichero, tenemos que usar el paquete [ltspice de Python](https://github.com/DongHoonPark/ltspice_pytool), el cual podéis instalar directamente desde Jupyter:"
      ],
      "cell_type": "markdown",
      "metadata": {}
    },
    {
      "cell_type": "code",
      "execution_count": 24,
      "metadata": {},
      "outputs": [
        {
          "output_type": "stream",
          "name": "stdout",
          "text": [
            "Requirement already satisfied: ltspice in c:\\users\\marta\\scoop\\apps\\miniconda3\\current\\lib\\site-packages (1.0.0)\nRequirement already satisfied: numpy in c:\\users\\marta\\scoop\\apps\\miniconda3\\current\\lib\\site-packages (from ltspice) (1.19.2)\n"
          ]
        }
      ],
      "source": [
        "!pip install ltspice"
      ]
    },
    {
      "source": [
        "Ahora ya podemos leer este fichero `.raw` y pintar una recta de voltaje muy parecida a la que obtuvimos anteriormente con Ahkab:"
      ],
      "cell_type": "markdown",
      "metadata": {}
    },
    {
      "cell_type": "code",
      "execution_count": 187,
      "metadata": {},
      "outputs": [
        {
          "output_type": "execute_result",
          "data": {
            "text/plain": [
              "[<matplotlib.lines.Line2D at 0x1fe09b81ec8>]"
            ]
          },
          "metadata": {},
          "execution_count": 187
        },
        {
          "output_type": "display_data",
          "data": {
            "text/plain": "<Figure size 432x288 with 1 Axes>",
            "image/png": "[encoded data removed]"
          },
          "metadata": {
            "needs_background": "light"
          }
        }
      ],
      "source": [
        "import ltspice\n",
        "l = ltspice.Ltspice(\"circuito sencillo.raw\")\n",
        "l.parse()\n",
        "time = l.get_time()\n",
        "V1 = l.get_data('V(1)')\n",
        "plt.plot(time, V1)"
      ]
    },
    {
      "source": [
        "** En resumen: ** hemos usado dos *compiladores* Spice distintos para hacer el mismo ejercicio. De igual manera podríamos haber usado [Ngspice](http://ngspice.sourceforge.net) u otro. De hecho, podíamos haber usado Ahkab en modo comando. Si tenemos correctamente instalado este framework, en princpio podemos invocarlo [directamente desde línea de comandos](https://ahkab.readthedocs.io/en/latest/help/Command-Line-Help.html):"
      ],
      "cell_type": "markdown",
      "metadata": {}
    },
    {
      "cell_type": "code",
      "execution_count": 188,
      "metadata": {},
      "outputs": [
        {
          "output_type": "stream",
          "name": "stdout",
          "text": [
            "2021-01-06 20:29:21\n",
            "ahkab v. 0.18 (c) 2006-2015 Giuseppe Venturini\n",
            "\n",
            "Operating Point (OP) analysis\n",
            "\n",
            "Netlist: circuito sencillo.sp\n",
            "Title: * este es un circuito sencillo\n",
            "At 300.00 K\n",
            "Options:\n",
            "\tvea = 1.000000e-06\n",
            "\tver = 0.001000\n",
            "\tiea = 1.000000e-09\n",
            "\tier = 0.001000\n",
            "\tgmin = 0.000000e+00\n",
            "\n",
            "Convergence reached in 2 iterations.\n",
            "\n",
            "========\n",
            "RESULTS:\n",
            "========\n",
            "\n",
            "Variable    Units      Value        Error    %\n",
            "----------  -------  -------  -----------  ---\n",
            "V1          V          -9     9.00001e-12    0\n",
            "I(V1)       A          -0.09  0              0\n",
            "W: Locale appears not set! please export LANG=\"en_US.UTF-8\" or equivalent, \n",
            "W: or ahkab's unicode support is broken.\n",
            "\n",
            "========================\n",
            "ELEMENTS OP INFORMATION:\n",
            "========================\n",
            "\n",
            "Part ID      R [Ω]    V(n1,n2) [V]    I(n1->n2) [A]    P [W]\n",
            "---------  -------  --------------  ---------------  -------\n",
            "R1             100              -9            -0.09     0.81\n",
            "\n",
            "Part ID      V(n1,n2) [V]    I(n1->n2) [A]    P [W]\n",
            "---------  --------------  ---------------  -------\n",
            "V1                      9            -0.09    -0.81\n",
            "\n",
            "Total power dissipation: 0.81 W\n",
            "\n",
            "#V1\tV1\tI(V1)\n",
            "0.000000000000000000e+00\t0.000000000000000000e+00\t0.000000000000000000e+00\n",
            "1.000000000000000000e+00\t-1.000000000000000000e+00\t-1.000000000000000021e-02\n",
            "2.000000000000000000e+00\t-2.000000000000000000e+00\t-2.000000000000000042e-02\n",
            "3.000000000000000000e+00\t-3.000000000000000000e+00\t-2.999999999999999889e-02\n",
            "4.000000000000000000e+00\t-4.000000000000000000e+00\t-4.000000000000000083e-02\n",
            "5.000000000000000000e+00\t-5.000000000000000000e+00\t-5.000000000000000278e-02\n",
            "6.000000000000000000e+00\t-6.000000000000000000e+00\t-5.999999999999999778e-02\n",
            "7.000000000000000000e+00\t-7.000000000000000000e+00\t-7.000000000000000666e-02\n",
            "8.000000000000000000e+00\t-8.000000000000000000e+00\t-8.000000000000000167e-02\n",
            "9.000000000000000000e+00\t-9.000000000000000000e+00\t-8.999999999999999667e-02\n"
          ]
        }
      ],
      "source": [
        "!ahkab \"circuito sencillo.sp\""
      ]
    },
    {
      "source": [
        "**Ejercicio premium**: Graficar los datos anteriores con [Gnuplot](http://www.gnuplot.info). "
      ],
      "cell_type": "markdown",
      "metadata": {}
    },
    {
      "source": [
        " ## Análisis de circuito con resistencias en serie"
      ],
      "cell_type": "markdown",
      "metadata": {}
    },
    {
      "cell_type": "markdown",
      "source": [
        "Vamos a resolver (en punto de operación) el siguiente circuito:\n",
        "\n",
        "![](https://raw.githubusercontent.com/pammacdotnet/spicelab/master/resistencias%20en%20serie.svg?sanitize=true)\n",
        "\n",
        "Al igual que antes, grabamos el netlist en disco desde Jupyter gracias a la *palabra mágica* [`%writefile`](https://ipython.readthedocs.io/en/stable/interactive/magics.html#cellmagic-writefile). "
      ],
      "metadata": {}
    },
    {
      "cell_type": "code",
      "source": [
        "%%writefile \"resistencias en serie.net\"\n",
        "* circuito con tres resistencias en serie\n",
        "v1 1 0 type=vdc vdc=9\n",
        "R1 0 2 3k\n",
        "R2 2 3 10k  \n",
        "R3 3 1 5k\n",
        "* análisis del circuito\n",
        ".op\n",
        ".end"
      ],
      "outputs": [
        {
          "output_type": "stream",
          "name": "stdout",
          "text": [
            "Overwriting resistencias en serie.net\n"
          ]
        }
      ],
      "execution_count": 189,
      "metadata": {}
    },
    {
      "cell_type": "code",
      "source": [
        "circuito_y_análisis = ahkab.netlist_parser.parse_circuit('resistencias en serie.net')\n",
        "circuito = circuito_y_análisis[0]       \n",
        "análisis_en_netlist = circuito_y_análisis[1]\n",
        "lista_de_análisis = ahkab.netlist_parser.parse_analysis(circuito, análisis_en_netlist)\n",
        "resultados = ahkab.run(circuito, lista_de_análisis)"
      ],
      "outputs": [
        {
          "output_type": "stream",
          "name": "stdout",
          "text": [
            "Starting op analysis:\n",
            "Calculating guess: skipped. (linear circuit)\n",
            "Solving...   done.\n",
            "Solving...   done.\n",
            "Difference check within margins.\n",
            "(Voltage: er=0.001, ea=1e-06, Current: er=0.001, ea=1e-09)\n"
          ]
        }
      ],
      "execution_count": 190,
      "metadata": {}
    },
    {
      "cell_type": "markdown",
      "source": [
        "Imprimos los resultados del análisis `.op`:"
      ],
      "metadata": {}
    },
    {
      "cell_type": "code",
      "source": [
        "print(resultados['op'])"
      ],
      "outputs": [
        {
          "output_type": "stream",
          "name": "stdout",
          "text": [
            "OP simulation results for '* circuito con tres resistencias en serie'(netlist resistencias en serie.net).\nRun on 2021-01-06 20:29:29, data file None.\nVariable    Units      Value     Error    %\n----------  -------  -------  --------  ---\nV1          V         9       -9e-12      0\nV2          V         1.5     -1.5e-12    0\nV3          V         6.5     -6.5e-12    0\nI(V1)       A        -0.0005   0          0\n"
          ]
        }
      ],
      "execution_count": 191,
      "metadata": {}
    },
    {
      "cell_type": "markdown",
      "source": [
        "Los cantidades `V1`, `V2` y `V3` hacen referencia a los distintos valores del potencial que se ha perdido en cada uno de los bornes que has elegido para describir el netlist (`1`, `2`, etc.). Por ejemplo, podemos calcular el *potencial consumido* por la resistencia `R1` y verás que coincide con el del punto `V2` devuelto por Ahkab. **Ejercicio**: compruébalo tú mismo y refléjalo por escrito."
      ],
      "metadata": {}
    },
    {
      "source": [
        "Cargamos primero todo lo relacionado con Sympy:"
      ],
      "cell_type": "markdown",
      "metadata": {}
    },
    {
      "cell_type": "code",
      "execution_count": 192,
      "metadata": {},
      "outputs": [],
      "source": [
        "from sympy.physics.units import ohms, amperes, volts\n",
        "from sympy.physics.units import convert_to"
      ]
    },
    {
      "cell_type": "code",
      "source": [
        "r1 = 3E3*ohms\n",
        "intensidad_ahkab = resultados['op']['I(V1)'][0][0]*amperes\n",
        "v2 = convert_to(intensidad_ahkab*r1, [volts])\n",
        "v2"
      ],
      "outputs": [
        {
          "output_type": "execute_result",
          "data": {
            "text/plain": [
              "-1.5*volt"
            ],
            "text/latex": "$\\displaystyle - 1.5 \\text{V}$"
          },
          "metadata": {},
          "execution_count": 193
        }
      ],
      "execution_count": 193,
      "metadata": {}
    },
    {
      "cell_type": "markdown",
      "source": [
        " > **Pregunta**: reproduce el resto de los valores anteriores de manera *manual* mediante Sympy (es decir, aplicando la ley de Ohm, pero con un *toque computacional*). Te pongo aquí un ejemplo del que puedes partir… En él sólo calculo la corriente que circula por el circuito (sí, justo la que antes Ahkab ha devuelto de manera automática). Para ello necesito previamente computar la resistencia total (`r_total`). Faltarían el resto de resultados y convertirlos a unidades más *vistosas* (mediante la orden `convert_to` y `.n()`)."
      ],
      "metadata": {}
    },
    {
      "cell_type": "code",
      "source": [
        "from sympy.physics.units import kilo\n",
        "from sympy import solve, symbols, Eq\n",
        "v1 = 9*volts\n",
        "r1 = 3*kilo*ohms\n",
        "r2 = 10*kilo*ohms\n",
        "r3 = 5*kilo*ohms\n",
        "r_total = r1 + r2 + r3\n",
        "intensidad = symbols('i')\n",
        "ley_ohm = Eq(v1, intensidad*r_total)\n",
        "solucion_para_intensidad = solve(ley_ohm, intensidad)\n",
        "intensidad=convert_to(solucion_para_intensidad[0], [amperes]).n(2)\n",
        "convert_to(solucion_para_intensidad[0], [amperes]).n(2)\n"
      ],
      "outputs": [
        {
          "output_type": "execute_result",
          "data": {
            "text/plain": [
              "0.0005*ampere"
            ],
            "text/latex": "$\\displaystyle 0.0005 \\text{A}$"
          },
          "metadata": {},
          "execution_count": 194
        }
      ],
      "execution_count": 194,
      "metadata": {}
    },
    {
      "cell_type": "code",
      "execution_count": 45,
      "metadata": {},
      "outputs": [
        {
          "output_type": "execute_result",
          "data": {
            "text/plain": [
              "1.5*volt"
            ],
            "text/latex": "$\\displaystyle 1.5 \\text{V}$"
          },
          "metadata": {},
          "execution_count": 45
        }
      ],
      "source": [
        "r1 = 3*kilo*ohms\n",
        "ley_ohm_r1 = Eq(v2,intensidad*r1)\n",
        "solucion_r1= solve(ley_ohm_r1,v2)\n",
        "v_r1 = convert_to(solucion_r1[0], [volts]).n(2)\n",
        "v_r1\n",
        "\n"
      ]
    },
    {
      "cell_type": "code",
      "execution_count": 50,
      "metadata": {},
      "outputs": [
        {
          "output_type": "execute_result",
          "data": {
            "text/plain": [
              "5.0*volt"
            ],
            "text/latex": "$\\displaystyle 5.0 \\text{V}$"
          },
          "metadata": {},
          "execution_count": 50
        }
      ],
      "source": [
        "r2 = 10*kilo*ohms\n",
        "ley_ohm_r2 = Eq(v3,intensidad*r2)\n",
        "solucion_r2= solve(ley_ohm_r2,v3)\n",
        "v_r2 = convert_to(solucion_r2[0], [volts]).n(2)\n",
        "v_r2\n"
      ]
    },
    {
      "cell_type": "code",
      "execution_count": 49,
      "metadata": {},
      "outputs": [
        {
          "output_type": "execute_result",
          "data": {
            "text/plain": [
              "2.5*volt"
            ],
            "text/latex": "$\\displaystyle 2.5 \\text{V}$"
          },
          "metadata": {},
          "execution_count": 49
        }
      ],
      "source": [
        "r3 = 5*kilo*ohms\n",
        "ley_ohm_r3 = Eq(v4,intensidad*r3)\n",
        "solucion_r3= solve(ley_ohm_r3,v4)\n",
        "v_r3 = convert_to(solucion_r3[0], [volts]).n(2)\n",
        "v_r3\n"
      ]
    },
    {
      "cell_type": "markdown",
      "source": [
        "> **Pregunta**: Demuestra que se cumple la Ley de Kirchhoff de la energía en un circuito, es decir, que la suma de la energía suministrada por las fuentes (pilas) es igual a la consumida por las resistencias. Realiza la operación con Sympy.\n",
        "\n",
        "$$\n",
        "\\sum_i^N V_{\\text{fuentes}} = \\sum_j^M V_{\\text{consumido en resistencias}}\n",
        "$$\n",
        "\n",
        "Ten en cuenta que en este caso sólo hay una fuente."
      ],
      "metadata": {}
    },
    {
      "source": [
        "Sabemos que hay una única pila (fuente de energía) que aporta 9 voltios, y los valores del potencial consumido por las resistencias se han calculado previamente, siendo sus valores 1.5V para el caso de la resistencia 1, 5.0V para la resistencia 2 y 2.5V para la resistencia 3."
      ],
      "cell_type": "markdown",
      "metadata": {}
    },
    {
      "cell_type": "code",
      "execution_count": 48,
      "metadata": {},
      "outputs": [
        {
          "output_type": "execute_result",
          "data": {
            "text/plain": [
              "9.0*volt"
            ],
            "text/latex": "$\\displaystyle 9.0 \\text{V}$"
          },
          "metadata": {},
          "execution_count": 48
        }
      ],
      "source": [
        "v_consumido_resistencias_total = v_r1 + v_r2 + v_r3\n",
        "v_consumido_resistencias_total"
      ]
    },
    {
      "source": [
        "De esta manera, el sumatorio del total de las fuentes (única pila de 9V) y el sumatorio de los potenciales consumidos por las resistencias (calculado en el punto previo) se iguala, cumpliendo así la Ley de Kirchhoff de la energía en un circuito\n",
        "\n",
        "$$\n",
        "\\sum_i^N V_{\\text{fuentes}} = \\sum_j^M V_{\\text{consumido en resistencias}}\n",
        "$$\n",
        "$$\n",
        "\\sum_i^N 9V = \\sum_j^M 9V\n",
        "$$"
      ],
      "cell_type": "markdown",
      "metadata": {}
    },
    {
      "source": [
        "## Análisis `.op` de circuitos con resistencias en paralelo\n",
        "\n",
        "Vamos a complicar un poco el trabajo añadiendo elementos en paralelo.\n",
        "\n",
        " > **Pregunta**: realiza los análisis `.op` de los siguientes circuitos.\n",
        " Para ello crea un netlist separado para cada uno donde queden correctamente descritos\n",
        " junto con la simulación (`.op`). Comenta los resultados que devuelve Ahkab (no imprimas los resultados de las simulaciones *sin más*).\n",
        "\n",
        " ![](https://raw.githubusercontent.com/pammacdotnet/spicelab/master/resistencias%20en%20paralelo.svg?sanitize=true)\n",
        "\n",
        " Aquí tienes el análisis del primer circuito, para que sirva de ejemplo:"
      ],
      "cell_type": "markdown",
      "metadata": {}
    },
    {
      "source": [
        "## Circuito 1"
      ],
      "cell_type": "markdown",
      "metadata": {}
    },
    {
      "cell_type": "code",
      "source": [
        "%%writefile \"resistencias en paralelo 1.cir\"\n",
        "* resistencias en paralelo\n",
        "vdd 0 1 vdc=12 type=vdc\n",
        "vdummy 2 5 vdc=0 type=vdc\n",
        "vdummy2 3 4 vdc=0 type=vdc\n",
        "r2 1 2 1k\n",
        "r3 2 3 220\n",
        "r4 4 0 1.5k\n",
        "r5 5 0 470\n",
        ".op\n",
        ".end"
      ],
      "outputs": [
        {
          "output_type": "stream",
          "name": "stdout",
          "text": [
            "Overwriting resistencias en paralelo 1.cir\n"
          ]
        }
      ],
      "execution_count": 128,
      "metadata": {}
    },
    {
      "cell_type": "code",
      "source": [
        "circuito_y_análisis = ahkab.netlist_parser.parse_circuit('resistencias en paralelo 1.cir')\n",
        "circuito = circuito_y_análisis[0]       \n",
        "análisis_en_netlist = circuito_y_análisis[1]\n",
        "lista_de_análisis = ahkab.netlist_parser.parse_analysis(circuito, análisis_en_netlist)\n",
        "resultados = ahkab.run(circuito, lista_de_análisis)"
      ],
      "outputs": [
        {
          "output_type": "stream",
          "name": "stdout",
          "text": [
            "Starting op analysis:\n",
            "Calculating guess: skipped. (linear circuit)\n",
            "Solving...   done.\n",
            "Solving...   done.\n",
            "Difference check within margins.\n",
            "(Voltage: er=0.001, ea=1e-06, Current: er=0.001, ea=1e-09)\n"
          ]
        }
      ],
      "execution_count": 129,
      "metadata": {}
    },
    {
      "cell_type": "markdown",
      "source": [
        "Imprimimos los resultados del análisis `.op`. Como puedes comprobar, Ahkab sólo reporta la intensidad de corriente en las ramas en las que hay una pila (en este caso, la rama donde está la pila `VDD`)."
      ],
      "metadata": {}
    },
    {
      "cell_type": "code",
      "source": [
        "print(resultados['op'])"
      ],
      "outputs": [
        {
          "output_type": "stream",
          "name": "stdout",
          "text": [
            "OP simulation results for '* resistencias en paralelo'(netlist resistencias en paralelo 1.cir).\nRun on 2021-01-06 18:55:12, data file None.\nVariable    Units           Value        Error    %\n----------  -------  ------------  -----------  ---\nV1          V        -12           1.2e-11        0\nV2          V         -3.23533     3.23533e-12    0\nV5          V         -3.23533     3.23533e-12    0\nV3          V         -2.8215      2.82151e-12    0\nV4          V         -2.8215      2.82151e-12    0\nI(VDD)      A         -0.00876467  0              0\nI(VDUMMY)   A         -0.00688367  0              0\nI(VDUMMY2)  A         -0.001881    0              0\n"
          ]
        }
      ],
      "execution_count": 130,
      "metadata": {}
    },
    {
      "cell_type": "markdown",
      "source": [
        "> **Pregunta:** inserta dos *pilas virtuales* de 0 voltios en el resto de ramas del circuito (`Vdummy1` en la rama donde está `R5` y `Vdummy2` en la rama donde está `R3` y `R4`) para que Ahkab nos imprima también la corriente en las mismas. Es muy parecido al tercer circuito que tienes que resolver, donde `V1`, `V2` y `V3` tienen cero voltios. Estas *pilas nulas* son, a todos los efectos, *simples cables*. Una vez que ya tienes las corrientes en todas las ramas, comprueba que se cumple la Ley de Kirchhoff para las corrientes:\n",
        "\n",
        "$$\n",
        "I_{\\text{entrante}} = \\sum_i^{N} I_{\\text{salientes}}\n",
        "$$\n",
        "\n",
        "Repite lo mismo para los otros dos circuitos. Realiza además los cálculos con Sympy (recalcula los mismos voltajes que devuelve Ahkab a partir de la corriente que sí te devuelve la simulación) y cuidando de no olvidar las unidades. Recuerda que el objeto `resultados` alberga toda la información que necesitas de manera indexada. Ya han aparecido un ejemplo más arriba. Es decir: no *copies* los números *a mano*, trabaja de manera informáticamente elegante (usando la variable `resultados`). "
      ],
      "metadata": {}
    },
    {
      "source": [
        "En este primer circuito los resultados del análisis `.op` nos muestran en la variable `V1` el potencial establecido en el netlist que proviene de la pila (12 voltios) y en el resto de variables `VN` los potenciales consumidos por las resistencias.En el caso de las variables que reflejan la intensidad, en primer lugar Ahkab nos muestra la corriente de la rama inicial donde se encuentra la pila (I(VDD)) y dado que tras la primera resistencia, el circuito se divide en dos ramas, se han ubicado en ambas dos pilas \"falsas\" de 0 voltios para poder ver la intensidad de corriente en cada rama, cuya suma es igual a la intensidad que se encontraba en la rama inicial."
      ],
      "cell_type": "markdown",
      "metadata": {}
    },
    {
      "source": [
        "### Ley de Kirchhoff"
      ],
      "cell_type": "markdown",
      "metadata": {}
    },
    {
      "cell_type": "code",
      "execution_count": 67,
      "metadata": {},
      "outputs": [
        {
          "output_type": "stream",
          "name": "stdout",
          "text": [
            "Siendo la intensidad entrante igual a:  -0.00876467449306297*ampere . Observamos que efectivamente el sumatorio de las dos intensidades salientes da el mismo resultado: \n"
          ]
        },
        {
          "output_type": "execute_result",
          "data": {
            "text/plain": [
              "-0.00876467449306297*ampere"
            ],
            "text/latex": "$\\displaystyle - 0.00876467449306297 \\text{A}$"
          },
          "metadata": {},
          "execution_count": 67
        }
      ],
      "source": [
        "intensidad_entrante = resultados['op']['I(VDD)'][0][0]*amperes\n",
        "print(\"Siendo la intensidad entrante igual a: \",intensidad_entrante,\". Observamos que efectivamente el sumatorio de las dos intensidades salientes da el mismo resultado: \")\n",
        "resultados['op']['I(VDUMMY)'][0][0]*amperes+resultados['op']['I(VDUMMY2)'][0][0]*amperes"
      ]
    },
    {
      "source": [
        "## Circuito 2"
      ],
      "cell_type": "markdown",
      "metadata": {}
    },
    {
      "source": [
        "### Circuito 2 - Spice"
      ],
      "cell_type": "markdown",
      "metadata": {}
    },
    {
      "cell_type": "code",
      "execution_count": 118,
      "metadata": {},
      "outputs": [
        {
          "output_type": "stream",
          "name": "stdout",
          "text": [
            "Overwriting resistencias en paralelo 2.cir\n"
          ]
        }
      ],
      "source": [
        "%%writefile \"resistencias en paralelo 2.cir\"\n",
        "* resistencias en paralelo\n",
        "v1 0 1 vdc=9 type=vdc\n",
        "v2 5 0 vdc=1.5 type=vdc\n",
        "vdummy 2 6 vdc=0 type=vdc\n",
        "vdummy2 3 7 vdc=0 type=vdc\n",
        "r1 1 2 47\n",
        "r2 2 3 220\n",
        "r3 6 5 180\n",
        "r4 7 4 1K\n",
        "r5 4 0 560\n",
        ".op\n",
        ".end"
      ]
    },
    {
      "cell_type": "code",
      "execution_count": 119,
      "metadata": {},
      "outputs": [
        {
          "output_type": "stream",
          "name": "stdout",
          "text": [
            "Starting op analysis:\n",
            "Calculating guess: skipped. (linear circuit)\n",
            "Solving...   done.\n",
            "Solving...   done.\n",
            "Difference check within margins.\n",
            "(Voltage: er=0.001, ea=1e-06, Current: er=0.001, ea=1e-09)\n"
          ]
        }
      ],
      "source": [
        "circuito_y_análisis_2 = ahkab.netlist_parser.parse_circuit('resistencias en paralelo 2.cir')\n",
        "circuito_2 = circuito_y_análisis_2[0]       \n",
        "análisis_en_netlist_2 = circuito_y_análisis_2[1]\n",
        "lista_de_análisis_2 = ahkab.netlist_parser.parse_analysis(circuito_2, análisis_en_netlist_2)\n",
        "resultados_2 = ahkab.run(circuito_2, lista_de_análisis_2)"
      ]
    },
    {
      "cell_type": "code",
      "execution_count": 120,
      "metadata": {},
      "outputs": [
        {
          "output_type": "stream",
          "name": "stdout",
          "text": [
            "OP simulation results for '* resistencias en paralelo'(netlist resistencias en paralelo 2.cir).\nRun on 2021-01-06 16:09:29, data file None.\nVariable    Units          Value         Error    %\n----------  -------  -----------  ------------  ---\nV1          V        -9            8.99997e-12    0\nV5          V         1.5         -1.5e-12        0\nV2          V        -6.686        6.68599e-12    0\nV6          V        -6.686        6.686e-12      0\nV3          V        -5.85964      5.85965e-12    0\nV7          V        -5.85964      5.85964e-12    0\nV4          V        -2.10346      2.10346e-12    0\nI(V1)       A        -0.049234     0              0\nI(V2)       A        -0.0454778    0              0\nI(VDUMMY)   A        -0.0454778    0              0\nI(VDUMMY2)  A        -0.00375618   0              0\n"
          ]
        }
      ],
      "source": [
        "print(resultados_2['op'])"
      ]
    },
    {
      "source": [
        "En este primer circuito los resultados del análisis `.op` nos muestran en la variable `V1` el potencial establecido en el netlist que proviene de la pila (12 voltios) y en el resto de variables `VN` los potenciales consumidos por las resistencias. Observamos por otro lugar las intensidades que comienza siendo el valor mostrado para `I(V1)` y gracias a las pilas \"falsas\" `VDUMMY1` y `VDUMMY2` podemos ver la intensidad de corriente en los ramales en los que se divide el circuito `I(VDUMMY1)` y `I(VDUMMY2)`"
      ],
      "cell_type": "markdown",
      "metadata": {}
    },
    {
      "source": [
        "### Ley de Kirchhoff"
      ],
      "cell_type": "markdown",
      "metadata": {}
    },
    {
      "cell_type": "code",
      "execution_count": 124,
      "metadata": {},
      "outputs": [
        {
          "output_type": "stream",
          "name": "stdout",
          "text": [
            "Siendo la intensidad entrante igual a:  -0.0492339765344711*ampere . Observamos que efectivamente el sumatorio de las dos intensidades salientes da el mismo resultado: \n"
          ]
        },
        {
          "output_type": "execute_result",
          "data": {
            "text/plain": [
              "-0.0492339765344711*ampere"
            ],
            "text/latex": "$\\displaystyle - 0.0492339765344711 \\text{A}$"
          },
          "metadata": {},
          "execution_count": 124
        }
      ],
      "source": [
        "intensidad_entrante = resultados_2['op']['I(V1)'][0][0]*amperes\n",
        "print(\"Siendo la intensidad entrante igual a: \",intensidad_entrante,\". Observamos que efectivamente el sumatorio de las dos intensidades salientes da el mismo resultado: \")\n",
        "resultados_2['op']['I(VDUMMY)'][0][0]*amperes+resultados_2['op']['I(VDUMMY2)'][0][0]*amperes"
      ]
    },
    {
      "source": [
        "## Circuito 3"
      ],
      "cell_type": "markdown",
      "metadata": {}
    },
    {
      "cell_type": "code",
      "execution_count": 69,
      "metadata": {},
      "outputs": [
        {
          "output_type": "stream",
          "name": "stdout",
          "text": [
            "Overwriting resistencias en paralelo 3.cir\n"
          ]
        }
      ],
      "source": [
        "%%writefile \"resistencias en paralelo 3.cir\"\n",
        "* resistencias en paralelo\n",
        "v1 0 1 vdc=9 type=vdc\n",
        "v2 1 2 vdc=0 type=vdc\n",
        "v3 1 3 vdc=0 type=vdc\n",
        "v4 1 4 vdc=0 type=vdc\n",
        "r1 2 0 10k\n",
        "r2 3 0 2k\n",
        "r3 4 0 1k\n",
        ".op\n",
        ".end"
      ]
    },
    {
      "cell_type": "code",
      "execution_count": 70,
      "metadata": {},
      "outputs": [
        {
          "output_type": "stream",
          "name": "stdout",
          "text": [
            "Starting op analysis:\n",
            "Calculating guess: skipped. (linear circuit)\n",
            "Solving...   done.\n",
            "Solving...   done.\n",
            "Difference check within margins.\n",
            "(Voltage: er=0.001, ea=1e-06, Current: er=0.001, ea=1e-09)\n"
          ]
        }
      ],
      "source": [
        "circuito_y_análisis_3 = ahkab.netlist_parser.parse_circuit('resistencias en paralelo 3.cir')\n",
        "circuito_3 = circuito_y_análisis_3[0]       \n",
        "análisis_en_netlist_3 = circuito_y_análisis_3[1]\n",
        "lista_de_análisis_3 = ahkab.netlist_parser.parse_analysis(circuito_3, análisis_en_netlist_3)\n",
        "resultados_3 = ahkab.run(circuito_3, lista_de_análisis_3)"
      ]
    },
    {
      "cell_type": "code",
      "execution_count": 71,
      "metadata": {},
      "outputs": [
        {
          "output_type": "stream",
          "name": "stdout",
          "text": [
            "OP simulation results for '* resistencias en paralelo'(netlist resistencias en paralelo 3.cir).\nRun on 2020-12-28 14:28:17, data file None.\nVariable    Units      Value    Error    %\n----------  -------  -------  -------  ---\nV1          V        -9         9e-12    0\nV2          V        -9         9e-12    0\nV3          V        -9         9e-12    0\nV4          V        -9         9e-12    0\nI(V1)       A        -0.0144    0        0\nI(V2)       A        -0.0009    0        0\nI(V3)       A        -0.0045    0        0\nI(V4)       A        -0.009     0        0\n"
          ]
        }
      ],
      "source": [
        "print(resultados_3['op'])"
      ]
    },
    {
      "source": [
        "En el tercer circuito con los resultados del análisis `.op` vemos la variable `V1` con potencial establecido en el netlist de la primera pila (9 voltios) y en el resto de variables `VN` los potenciales que circulan por las diferentes pilas del circuito en paralelo, en los 3 casos igual al de la pila de inicio al ser voltaje proviniente de ella. Para las variables de la intensidad, vemos inicialmente en `I(V1)` la corriente existente en el circuito en un primer lugar, y que posteriormente de encuentra con tres ramales dividiéndose así esa intensidad primera entre los tres `I(V2)`, `I(V3)`, `I(V4)`."
      ],
      "cell_type": "markdown",
      "metadata": {}
    },
    {
      "source": [
        "### Ley de Kirchhoff"
      ],
      "cell_type": "markdown",
      "metadata": {}
    },
    {
      "cell_type": "code",
      "execution_count": 77,
      "metadata": {},
      "outputs": [
        {
          "output_type": "stream",
          "name": "stdout",
          "text": [
            "Siendo la intensidad entrante igual a:  -0.0144*ampere . Observamos que efectivamente el sumatorio de las dos intensidades salientes da el mismo resultado: \n"
          ]
        },
        {
          "output_type": "execute_result",
          "data": {
            "text/plain": [
              "-0.0144*ampere"
            ],
            "text/latex": "$\\displaystyle - 0.0144 \\text{A}$"
          },
          "metadata": {},
          "execution_count": 77
        }
      ],
      "source": [
        "intensidad_entrante = resultados_3['op']['I(V1)'][0][0]*amperes\n",
        "print(\"Siendo la intensidad entrante igual a: \",intensidad_entrante,\". Observamos que efectivamente el sumatorio de las dos intensidades salientes da el mismo resultado: \")\n",
        "resultados_3['op']['I(V2)'][0][0]*amperes+resultados_3['op']['I(V3)'][0][0]*amperes+resultados_3['op']['I(V4)'][0][0]*amperes"
      ]
    },
    {
      "cell_type": "markdown",
      "source": [
        " # Circuitos en DC que evolucionan con el tiempo"
      ],
      "metadata": {}
    },
    {
      "cell_type": "markdown",
      "source": [
        " ## Carga de un condensador\n",
        " Vamos a ver qué le pasa a un circuito de corriente continua cuando tiene un condensador\n",
        " en serie.\n",
        "\n",
        " ![](https://raw.githubusercontent.com/pammacdotnet/spicelab/master/condensador%20en%20continua.svg?sanitize=true)\n",
        "\n",
        " Al igual que antes, primero guardamos el circuito en un netlist externo:"
      ],
      "metadata": {}
    },
    {
      "cell_type": "code",
      "source": [
        "%%writefile \"condensador en continua.ckt\"\n",
        "* Carga condensador\n",
        "v1 0 1 type=vdc vdc=6\n",
        "r1 1 2 1k\n",
        "c1 2 0 1m ic=0\n",
        ".op\n",
        ".tran tstep=0.1 tstop=8 uic=0\n",
        ".end"
      ],
      "outputs": [
        {
          "output_type": "stream",
          "name": "stdout",
          "text": [
            "Overwriting condensador en continua.ckt\n"
          ]
        }
      ],
      "execution_count": 195,
      "metadata": {}
    },
    {
      "cell_type": "markdown",
      "source": [
        "> **Pregunta:** ¿qué significa el parámetro `ic=0`? ¿qué perseguimos con un análisis de tipo `.tran`?\n",
        "\n",
        "El parámetro ic sirve para indicar las condiciones iniciales de carga del dispositivo, generalmente condensadores y para análisis de tipo .tran. En este tipo de análisis se busca simular un reloj que en cada monento establecido en los parámetros del netlist el programa realice un análisis .op en cada momento del tiempo.\n",
        "\n",
        "Leamos el circuito:"
      ],
      "metadata": {}
    },
    {
      "cell_type": "code",
      "source": [
        "circuito_y_análisis = ahkab.netlist_parser.parse_circuit(\"condensador en continua.ckt\")"
      ],
      "outputs": [],
      "execution_count": 196,
      "metadata": {}
    },
    {
      "cell_type": "markdown",
      "source": [
        " Separamos el netlist de los análisis y asignamos un fichero de almacenamiento de datos (`outfile`):"
      ],
      "metadata": {}
    },
    {
      "cell_type": "code",
      "source": [
        "circuito = circuito_y_análisis[0]\n",
        "análisis_en_netlist = circuito_y_análisis[1]\n",
        "lista_de_análisis = ahkab.netlist_parser.parse_analysis(circuito, análisis_en_netlist)\n",
        "lista_de_análisis[1]['outfile'] = \"simulación tran.tsv\""
      ],
      "outputs": [],
      "execution_count": 197,
      "metadata": {}
    },
    {
      "cell_type": "markdown",
      "source": [
        " Ejecutamos la simulación:"
      ],
      "metadata": {}
    },
    {
      "cell_type": "code",
      "source": [
        "resultados = ahkab.run(circuito, lista_de_análisis)\n",
        "print(resultados['op'])\n",
        "#print(resultados['tran'].keys())"
      ],
      "outputs": [
        {
          "output_type": "stream",
          "name": "stdout",
          "text": [
            "Starting op analysis:\n",
            "Calculating guess: skipped. (linear circuit)\n",
            "Solving...   done.\n",
            "Solving...   done.\n",
            "Difference check within margins.\n",
            "(Voltage: er=0.001, ea=1e-06, Current: er=0.001, ea=1e-09)\n",
            "Starting transient analysis: \n",
            "Selected method: TRAP\n",
            "Solving...  done.\n",
            "Average time step: 0.0869565\n",
            "OP simulation results for '* carga condensador'(netlist condensador en continua.ckt).\n",
            "Run on 2021-01-06 20:30:26, data file None.\n",
            "Variable    Units      Value    Error    %\n",
            "----------  -------  -------  -------  ---\n",
            "V1          V             -6    6e-12    0\n",
            "V2          V             -6    6e-12    0\n",
            "I(V1)       A              0    0        0\n"
          ]
        }
      ],
      "execution_count": 198,
      "metadata": {}
    },
    {
      "cell_type": "markdown",
      "source": [
        " Dibujamos la gráfica de carga del condensador con el tiempo, centrándonos en la intensidad que circula por la pila. "
      ],
      "metadata": {}
    },
    {
      "cell_type": "code",
      "source": [
        "from IPython.display import set_matplotlib_formats\n",
        "\n",
        "set_matplotlib_formats('svg')\n",
        "\n",
        "figura = plt.figure()\n",
        "plt.title(\"Carga de un condensador\")\n",
        "plt.xlabel(\"Tiempo (T)\")\n",
        "plt.ylabel(\"Intensidad (I)\")\n",
        "plt.plot(resultados['tran']['T'], resultados['tran']['I(V1)'], label=\"Una etiqueta\")"
      ],
      "outputs": [
        {
          "output_type": "execute_result",
          "data": {
            "text/plain": [
              "[<matplotlib.lines.Line2D at 0x1fe09c97108>]"
            ]
          },
          "metadata": {},
          "execution_count": 199
        },
        {
          "output_type": "display_data",
          "data": {
            "text/plain": "<Figure size 432x288 with 1 Axes>",
            "image/svg+xml": "<?xml version=\"1.0\" encoding=\"utf-8\" standalone=\"no\"?>\r\n<!DOCTYPE svg PUBLIC \"-//W3C//DTD SVG 1.1//EN\"\r\n  \"http://www.w3.org/Graphics/SVG/1.1/DTD/svg11.dtd\">\r\n<!-- Created with matplotlib (https://matplotlib.org/) -->\r\n<svg height=\"279.25pt\" version=\"1.1\" viewBox=\"0 0 411.554531 279.25\" width=\"411.554531pt\" xmlns=\"http://www.w3.org/2000/svg\" xmlns:xlink=\"http://www.w3.org/1999/xlink\">\r\n <metadata>\r\n  <rdf:RDF xmlns:cc=\"http://creativecommons.org/ns#\" xmlns:dc=\"http://purl.org/dc/elements/1.1/\" xmlns:rdf=\"http://www.w3.org/1999/02/22-rdf-syntax-ns#\">\r\n   <cc:Work>\r\n    <dc:type rdf:resource=\"http://purl.org/dc/dcmitype/StillImage\"/>\r\n    <dc:date>2021-01-06T21:30:31.000391</dc:date>\r\n    <dc:format>image/svg+xml</dc:format>\r\n    <dc:creator>\r\n     <cc:Agent>\r\n      <dc:title>Matplotlib v3.3.3, https://matplotlib.org/</dc:title>\r\n     </cc:Agent>\r\n    </dc:creator>\r\n   </cc:Work>\r\n  </rdf:RDF>\r\n </metadata>\r\n <defs>\r\n  <style type=\"text/css\">*{stroke-linecap:butt;stroke-linejoin:round;}</style>\r\n </defs>\r\n <g id=\"figure_1\">\r\n  <g id=\"patch_1\">\r\n   <path d=\"M 0 279.25 \r\nL 411.554531 279.25 \r\nL 411.554531 0 \r\nL 0 0 \r\nz\r\n\" style=\"fill:none;\"/>\r\n  </g>\r\n  <g id=\"axes_1\">\r\n   <g id=\"patch_2\">\r\n    <path d=\"M 69.554531 239.758125 \r\nL 404.354531 239.758125 \r\nL 404.354531 22.318125 \r\nL 69.554531 22.318125 \r\nz\r\n\" style=\"fill:#ffffff;\"/>\r\n   </g>\r\n   <g id=\"matplotlib.axis_1\">\r\n    <g id=\"xtick_1\">\r\n     <g id=\"line2d_1\">\r\n      <defs>\r\n       <path d=\"M 0 0 \r\nL 0 3.5 \r\n\" id=\"med78138afe\" style=\"stroke:#000000;stroke-width:0.8;\"/>\r\n      </defs>\r\n      <g>\r\n       <use style=\"stroke:#000000;stroke-width:0.8;\" x=\"84.742539\" xlink:href=\"#med78138afe\" y=\"239.758125\"/>\r\n      </g>\r\n     </g>\r\n     <g id=\"text_1\">\r\n      <!-- 0 -->\r\n      <g transform=\"translate(81.243164 255.116406)scale(0.11 -0.11)\">\r\n       <defs>\r\n        <path d=\"M 31.78125 66.40625 \r\nQ 24.171875 66.40625 20.328125 58.90625 \r\nQ 16.5 51.421875 16.5 36.375 \r\nQ 16.5 21.390625 20.328125 13.890625 \r\nQ 24.171875 6.390625 31.78125 6.390625 \r\nQ 39.453125 6.390625 43.28125 13.890625 \r\nQ 47.125 21.390625 47.125 36.375 \r\nQ 47.125 51.421875 43.28125 58.90625 \r\nQ 39.453125 66.40625 31.78125 66.40625 \r\nz\r\nM 31.78125 74.21875 \r\nQ 44.046875 74.21875 50.515625 64.515625 \r\nQ 56.984375 54.828125 56.984375 36.375 \r\nQ 56.984375 17.96875 50.515625 8.265625 \r\nQ 44.046875 -1.421875 31.78125 -1.421875 \r\nQ 19.53125 -1.421875 13.0625 8.265625 \r\nQ 6.59375 17.96875 6.59375 36.375 \r\nQ 6.59375 54.828125 13.0625 64.515625 \r\nQ 19.53125 74.21875 31.78125 74.21875 \r\nz\r\n\" id=\"DejaVuSans-48\"/>\r\n       </defs>\r\n       <use xlink:href=\"#DejaVuSans-48\"/>\r\n      </g>\r\n     </g>\r\n    </g>\r\n    <g id=\"xtick_2\">\r\n     <g id=\"line2d_2\">\r\n      <g>\r\n       <use style=\"stroke:#000000;stroke-width:0.8;\" x=\"122.456429\" xlink:href=\"#med78138afe\" y=\"239.758125\"/>\r\n      </g>\r\n     </g>\r\n     <g id=\"text_2\">\r\n      <!-- 1 -->\r\n      <g transform=\"translate(118.957054 255.116406)scale(0.11 -0.11)\">\r\n       <defs>\r\n        <path d=\"M 12.40625 8.296875 \r\nL 28.515625 8.296875 \r\nL 28.515625 63.921875 \r\nL 10.984375 60.40625 \r\nL 10.984375 69.390625 \r\nL 28.421875 72.90625 \r\nL 38.28125 72.90625 \r\nL 38.28125 8.296875 \r\nL 54.390625 8.296875 \r\nL 54.390625 0 \r\nL 12.40625 0 \r\nz\r\n\" id=\"DejaVuSans-49\"/>\r\n       </defs>\r\n       <use xlink:href=\"#DejaVuSans-49\"/>\r\n      </g>\r\n     </g>\r\n    </g>\r\n    <g id=\"xtick_3\">\r\n     <g id=\"line2d_3\">\r\n      <g>\r\n       <use style=\"stroke:#000000;stroke-width:0.8;\" x=\"160.17032\" xlink:href=\"#med78138afe\" y=\"239.758125\"/>\r\n      </g>\r\n     </g>\r\n     <g id=\"text_3\">\r\n      <!-- 2 -->\r\n      <g transform=\"translate(156.670945 255.116406)scale(0.11 -0.11)\">\r\n       <defs>\r\n        <path d=\"M 19.1875 8.296875 \r\nL 53.609375 8.296875 \r\nL 53.609375 0 \r\nL 7.328125 0 \r\nL 7.328125 8.296875 \r\nQ 12.9375 14.109375 22.625 23.890625 \r\nQ 32.328125 33.6875 34.8125 36.53125 \r\nQ 39.546875 41.84375 41.421875 45.53125 \r\nQ 43.3125 49.21875 43.3125 52.78125 \r\nQ 43.3125 58.59375 39.234375 62.25 \r\nQ 35.15625 65.921875 28.609375 65.921875 \r\nQ 23.96875 65.921875 18.8125 64.3125 \r\nQ 13.671875 62.703125 7.8125 59.421875 \r\nL 7.8125 69.390625 \r\nQ 13.765625 71.78125 18.9375 73 \r\nQ 24.125 74.21875 28.421875 74.21875 \r\nQ 39.75 74.21875 46.484375 68.546875 \r\nQ 53.21875 62.890625 53.21875 53.421875 \r\nQ 53.21875 48.921875 51.53125 44.890625 \r\nQ 49.859375 40.875 45.40625 35.40625 \r\nQ 44.1875 33.984375 37.640625 27.21875 \r\nQ 31.109375 20.453125 19.1875 8.296875 \r\nz\r\n\" id=\"DejaVuSans-50\"/>\r\n       </defs>\r\n       <use xlink:href=\"#DejaVuSans-50\"/>\r\n      </g>\r\n     </g>\r\n    </g>\r\n    <g id=\"xtick_4\">\r\n     <g id=\"line2d_4\">\r\n      <g>\r\n       <use style=\"stroke:#000000;stroke-width:0.8;\" x=\"197.884211\" xlink:href=\"#med78138afe\" y=\"239.758125\"/>\r\n      </g>\r\n     </g>\r\n     <g id=\"text_4\">\r\n      <!-- 3 -->\r\n      <g transform=\"translate(194.384836 255.116406)scale(0.11 -0.11)\">\r\n       <defs>\r\n        <path d=\"M 40.578125 39.3125 \r\nQ 47.65625 37.796875 51.625 33 \r\nQ 55.609375 28.21875 55.609375 21.1875 \r\nQ 55.609375 10.40625 48.1875 4.484375 \r\nQ 40.765625 -1.421875 27.09375 -1.421875 \r\nQ 22.515625 -1.421875 17.65625 -0.515625 \r\nQ 12.796875 0.390625 7.625 2.203125 \r\nL 7.625 11.71875 \r\nQ 11.71875 9.328125 16.59375 8.109375 \r\nQ 21.484375 6.890625 26.8125 6.890625 \r\nQ 36.078125 6.890625 40.9375 10.546875 \r\nQ 45.796875 14.203125 45.796875 21.1875 \r\nQ 45.796875 27.640625 41.28125 31.265625 \r\nQ 36.765625 34.90625 28.71875 34.90625 \r\nL 20.21875 34.90625 \r\nL 20.21875 43.015625 \r\nL 29.109375 43.015625 \r\nQ 36.375 43.015625 40.234375 45.921875 \r\nQ 44.09375 48.828125 44.09375 54.296875 \r\nQ 44.09375 59.90625 40.109375 62.90625 \r\nQ 36.140625 65.921875 28.71875 65.921875 \r\nQ 24.65625 65.921875 20.015625 65.03125 \r\nQ 15.375 64.15625 9.8125 62.3125 \r\nL 9.8125 71.09375 \r\nQ 15.4375 72.65625 20.34375 73.4375 \r\nQ 25.25 74.21875 29.59375 74.21875 \r\nQ 40.828125 74.21875 47.359375 69.109375 \r\nQ 53.90625 64.015625 53.90625 55.328125 \r\nQ 53.90625 49.265625 50.4375 45.09375 \r\nQ 46.96875 40.921875 40.578125 39.3125 \r\nz\r\n\" id=\"DejaVuSans-51\"/>\r\n       </defs>\r\n       <use xlink:href=\"#DejaVuSans-51\"/>\r\n      </g>\r\n     </g>\r\n    </g>\r\n    <g id=\"xtick_5\">\r\n     <g id=\"line2d_5\">\r\n      <g>\r\n       <use style=\"stroke:#000000;stroke-width:0.8;\" x=\"235.598101\" xlink:href=\"#med78138afe\" y=\"239.758125\"/>\r\n      </g>\r\n     </g>\r\n     <g id=\"text_5\">\r\n      <!-- 4 -->\r\n      <g transform=\"translate(232.098726 255.116406)scale(0.11 -0.11)\">\r\n       <defs>\r\n        <path d=\"M 37.796875 64.3125 \r\nL 12.890625 25.390625 \r\nL 37.796875 25.390625 \r\nz\r\nM 35.203125 72.90625 \r\nL 47.609375 72.90625 \r\nL 47.609375 25.390625 \r\nL 58.015625 25.390625 \r\nL 58.015625 17.1875 \r\nL 47.609375 17.1875 \r\nL 47.609375 0 \r\nL 37.796875 0 \r\nL 37.796875 17.1875 \r\nL 4.890625 17.1875 \r\nL 4.890625 26.703125 \r\nz\r\n\" id=\"DejaVuSans-52\"/>\r\n       </defs>\r\n       <use xlink:href=\"#DejaVuSans-52\"/>\r\n      </g>\r\n     </g>\r\n    </g>\r\n    <g id=\"xtick_6\">\r\n     <g id=\"line2d_6\">\r\n      <g>\r\n       <use style=\"stroke:#000000;stroke-width:0.8;\" x=\"273.311992\" xlink:href=\"#med78138afe\" y=\"239.758125\"/>\r\n      </g>\r\n     </g>\r\n     <g id=\"text_6\">\r\n      <!-- 5 -->\r\n      <g transform=\"translate(269.812617 255.116406)scale(0.11 -0.11)\">\r\n       <defs>\r\n        <path d=\"M 10.796875 72.90625 \r\nL 49.515625 72.90625 \r\nL 49.515625 64.59375 \r\nL 19.828125 64.59375 \r\nL 19.828125 46.734375 \r\nQ 21.96875 47.46875 24.109375 47.828125 \r\nQ 26.265625 48.1875 28.421875 48.1875 \r\nQ 40.625 48.1875 47.75 41.5 \r\nQ 54.890625 34.8125 54.890625 23.390625 \r\nQ 54.890625 11.625 47.5625 5.09375 \r\nQ 40.234375 -1.421875 26.90625 -1.421875 \r\nQ 22.3125 -1.421875 17.546875 -0.640625 \r\nQ 12.796875 0.140625 7.71875 1.703125 \r\nL 7.71875 11.625 \r\nQ 12.109375 9.234375 16.796875 8.0625 \r\nQ 21.484375 6.890625 26.703125 6.890625 \r\nQ 35.15625 6.890625 40.078125 11.328125 \r\nQ 45.015625 15.765625 45.015625 23.390625 \r\nQ 45.015625 31 40.078125 35.4375 \r\nQ 35.15625 39.890625 26.703125 39.890625 \r\nQ 22.75 39.890625 18.8125 39.015625 \r\nQ 14.890625 38.140625 10.796875 36.28125 \r\nz\r\n\" id=\"DejaVuSans-53\"/>\r\n       </defs>\r\n       <use xlink:href=\"#DejaVuSans-53\"/>\r\n      </g>\r\n     </g>\r\n    </g>\r\n    <g id=\"xtick_7\">\r\n     <g id=\"line2d_7\">\r\n      <g>\r\n       <use style=\"stroke:#000000;stroke-width:0.8;\" x=\"311.025882\" xlink:href=\"#med78138afe\" y=\"239.758125\"/>\r\n      </g>\r\n     </g>\r\n     <g id=\"text_7\">\r\n      <!-- 6 -->\r\n      <g transform=\"translate(307.526507 255.116406)scale(0.11 -0.11)\">\r\n       <defs>\r\n        <path d=\"M 33.015625 40.375 \r\nQ 26.375 40.375 22.484375 35.828125 \r\nQ 18.609375 31.296875 18.609375 23.390625 \r\nQ 18.609375 15.53125 22.484375 10.953125 \r\nQ 26.375 6.390625 33.015625 6.390625 \r\nQ 39.65625 6.390625 43.53125 10.953125 \r\nQ 47.40625 15.53125 47.40625 23.390625 \r\nQ 47.40625 31.296875 43.53125 35.828125 \r\nQ 39.65625 40.375 33.015625 40.375 \r\nz\r\nM 52.59375 71.296875 \r\nL 52.59375 62.3125 \r\nQ 48.875 64.0625 45.09375 64.984375 \r\nQ 41.3125 65.921875 37.59375 65.921875 \r\nQ 27.828125 65.921875 22.671875 59.328125 \r\nQ 17.53125 52.734375 16.796875 39.40625 \r\nQ 19.671875 43.65625 24.015625 45.921875 \r\nQ 28.375 48.1875 33.59375 48.1875 \r\nQ 44.578125 48.1875 50.953125 41.515625 \r\nQ 57.328125 34.859375 57.328125 23.390625 \r\nQ 57.328125 12.15625 50.6875 5.359375 \r\nQ 44.046875 -1.421875 33.015625 -1.421875 \r\nQ 20.359375 -1.421875 13.671875 8.265625 \r\nQ 6.984375 17.96875 6.984375 36.375 \r\nQ 6.984375 53.65625 15.1875 63.9375 \r\nQ 23.390625 74.21875 37.203125 74.21875 \r\nQ 40.921875 74.21875 44.703125 73.484375 \r\nQ 48.484375 72.75 52.59375 71.296875 \r\nz\r\n\" id=\"DejaVuSans-54\"/>\r\n       </defs>\r\n       <use xlink:href=\"#DejaVuSans-54\"/>\r\n      </g>\r\n     </g>\r\n    </g>\r\n    <g id=\"xtick_8\">\r\n     <g id=\"line2d_8\">\r\n      <g>\r\n       <use style=\"stroke:#000000;stroke-width:0.8;\" x=\"348.739773\" xlink:href=\"#med78138afe\" y=\"239.758125\"/>\r\n      </g>\r\n     </g>\r\n     <g id=\"text_8\">\r\n      <!-- 7 -->\r\n      <g transform=\"translate(345.240398 255.116406)scale(0.11 -0.11)\">\r\n       <defs>\r\n        <path d=\"M 8.203125 72.90625 \r\nL 55.078125 72.90625 \r\nL 55.078125 68.703125 \r\nL 28.609375 0 \r\nL 18.3125 0 \r\nL 43.21875 64.59375 \r\nL 8.203125 64.59375 \r\nz\r\n\" id=\"DejaVuSans-55\"/>\r\n       </defs>\r\n       <use xlink:href=\"#DejaVuSans-55\"/>\r\n      </g>\r\n     </g>\r\n    </g>\r\n    <g id=\"xtick_9\">\r\n     <g id=\"line2d_9\">\r\n      <g>\r\n       <use style=\"stroke:#000000;stroke-width:0.8;\" x=\"386.453663\" xlink:href=\"#med78138afe\" y=\"239.758125\"/>\r\n      </g>\r\n     </g>\r\n     <g id=\"text_9\">\r\n      <!-- 8 -->\r\n      <g transform=\"translate(382.954288 255.116406)scale(0.11 -0.11)\">\r\n       <defs>\r\n        <path d=\"M 31.78125 34.625 \r\nQ 24.75 34.625 20.71875 30.859375 \r\nQ 16.703125 27.09375 16.703125 20.515625 \r\nQ 16.703125 13.921875 20.71875 10.15625 \r\nQ 24.75 6.390625 31.78125 6.390625 \r\nQ 38.8125 6.390625 42.859375 10.171875 \r\nQ 46.921875 13.96875 46.921875 20.515625 \r\nQ 46.921875 27.09375 42.890625 30.859375 \r\nQ 38.875 34.625 31.78125 34.625 \r\nz\r\nM 21.921875 38.8125 \r\nQ 15.578125 40.375 12.03125 44.71875 \r\nQ 8.5 49.078125 8.5 55.328125 \r\nQ 8.5 64.0625 14.71875 69.140625 \r\nQ 20.953125 74.21875 31.78125 74.21875 \r\nQ 42.671875 74.21875 48.875 69.140625 \r\nQ 55.078125 64.0625 55.078125 55.328125 \r\nQ 55.078125 49.078125 51.53125 44.71875 \r\nQ 48 40.375 41.703125 38.8125 \r\nQ 48.828125 37.15625 52.796875 32.3125 \r\nQ 56.78125 27.484375 56.78125 20.515625 \r\nQ 56.78125 9.90625 50.3125 4.234375 \r\nQ 43.84375 -1.421875 31.78125 -1.421875 \r\nQ 19.734375 -1.421875 13.25 4.234375 \r\nQ 6.78125 9.90625 6.78125 20.515625 \r\nQ 6.78125 27.484375 10.78125 32.3125 \r\nQ 14.796875 37.15625 21.921875 38.8125 \r\nz\r\nM 18.3125 54.390625 \r\nQ 18.3125 48.734375 21.84375 45.5625 \r\nQ 25.390625 42.390625 31.78125 42.390625 \r\nQ 38.140625 42.390625 41.71875 45.5625 \r\nQ 45.3125 48.734375 45.3125 54.390625 \r\nQ 45.3125 60.0625 41.71875 63.234375 \r\nQ 38.140625 66.40625 31.78125 66.40625 \r\nQ 25.390625 66.40625 21.84375 63.234375 \r\nQ 18.3125 60.0625 18.3125 54.390625 \r\nz\r\n\" id=\"DejaVuSans-56\"/>\r\n       </defs>\r\n       <use xlink:href=\"#DejaVuSans-56\"/>\r\n      </g>\r\n     </g>\r\n    </g>\r\n    <g id=\"text_10\">\r\n     <!-- Tiempo (T) -->\r\n     <g transform=\"translate(207.241641 269.762344)scale(0.11 -0.11)\">\r\n      <defs>\r\n       <path d=\"M -0.296875 72.90625 \r\nL 61.375 72.90625 \r\nL 61.375 64.59375 \r\nL 35.5 64.59375 \r\nL 35.5 0 \r\nL 25.59375 0 \r\nL 25.59375 64.59375 \r\nL -0.296875 64.59375 \r\nz\r\n\" id=\"DejaVuSans-84\"/>\r\n       <path d=\"M 9.421875 54.6875 \r\nL 18.40625 54.6875 \r\nL 18.40625 0 \r\nL 9.421875 0 \r\nz\r\nM 9.421875 75.984375 \r\nL 18.40625 75.984375 \r\nL 18.40625 64.59375 \r\nL 9.421875 64.59375 \r\nz\r\n\" id=\"DejaVuSans-105\"/>\r\n       <path d=\"M 56.203125 29.59375 \r\nL 56.203125 25.203125 \r\nL 14.890625 25.203125 \r\nQ 15.484375 15.921875 20.484375 11.0625 \r\nQ 25.484375 6.203125 34.421875 6.203125 \r\nQ 39.59375 6.203125 44.453125 7.46875 \r\nQ 49.3125 8.734375 54.109375 11.28125 \r\nL 54.109375 2.78125 \r\nQ 49.265625 0.734375 44.1875 -0.34375 \r\nQ 39.109375 -1.421875 33.890625 -1.421875 \r\nQ 20.796875 -1.421875 13.15625 6.1875 \r\nQ 5.515625 13.8125 5.515625 26.8125 \r\nQ 5.515625 40.234375 12.765625 48.109375 \r\nQ 20.015625 56 32.328125 56 \r\nQ 43.359375 56 49.78125 48.890625 \r\nQ 56.203125 41.796875 56.203125 29.59375 \r\nz\r\nM 47.21875 32.234375 \r\nQ 47.125 39.59375 43.09375 43.984375 \r\nQ 39.0625 48.390625 32.421875 48.390625 \r\nQ 24.90625 48.390625 20.390625 44.140625 \r\nQ 15.875 39.890625 15.1875 32.171875 \r\nz\r\n\" id=\"DejaVuSans-101\"/>\r\n       <path d=\"M 52 44.1875 \r\nQ 55.375 50.25 60.0625 53.125 \r\nQ 64.75 56 71.09375 56 \r\nQ 79.640625 56 84.28125 50.015625 \r\nQ 88.921875 44.046875 88.921875 33.015625 \r\nL 88.921875 0 \r\nL 79.890625 0 \r\nL 79.890625 32.71875 \r\nQ 79.890625 40.578125 77.09375 44.375 \r\nQ 74.3125 48.1875 68.609375 48.1875 \r\nQ 61.625 48.1875 57.5625 43.546875 \r\nQ 53.515625 38.921875 53.515625 30.90625 \r\nL 53.515625 0 \r\nL 44.484375 0 \r\nL 44.484375 32.71875 \r\nQ 44.484375 40.625 41.703125 44.40625 \r\nQ 38.921875 48.1875 33.109375 48.1875 \r\nQ 26.21875 48.1875 22.15625 43.53125 \r\nQ 18.109375 38.875 18.109375 30.90625 \r\nL 18.109375 0 \r\nL 9.078125 0 \r\nL 9.078125 54.6875 \r\nL 18.109375 54.6875 \r\nL 18.109375 46.1875 \r\nQ 21.1875 51.21875 25.484375 53.609375 \r\nQ 29.78125 56 35.6875 56 \r\nQ 41.65625 56 45.828125 52.96875 \r\nQ 50 49.953125 52 44.1875 \r\nz\r\n\" id=\"DejaVuSans-109\"/>\r\n       <path d=\"M 18.109375 8.203125 \r\nL 18.109375 -20.796875 \r\nL 9.078125 -20.796875 \r\nL 9.078125 54.6875 \r\nL 18.109375 54.6875 \r\nL 18.109375 46.390625 \r\nQ 20.953125 51.265625 25.265625 53.625 \r\nQ 29.59375 56 35.59375 56 \r\nQ 45.5625 56 51.78125 48.09375 \r\nQ 58.015625 40.1875 58.015625 27.296875 \r\nQ 58.015625 14.40625 51.78125 6.484375 \r\nQ 45.5625 -1.421875 35.59375 -1.421875 \r\nQ 29.59375 -1.421875 25.265625 0.953125 \r\nQ 20.953125 3.328125 18.109375 8.203125 \r\nz\r\nM 48.6875 27.296875 \r\nQ 48.6875 37.203125 44.609375 42.84375 \r\nQ 40.53125 48.484375 33.40625 48.484375 \r\nQ 26.265625 48.484375 22.1875 42.84375 \r\nQ 18.109375 37.203125 18.109375 27.296875 \r\nQ 18.109375 17.390625 22.1875 11.75 \r\nQ 26.265625 6.109375 33.40625 6.109375 \r\nQ 40.53125 6.109375 44.609375 11.75 \r\nQ 48.6875 17.390625 48.6875 27.296875 \r\nz\r\n\" id=\"DejaVuSans-112\"/>\r\n       <path d=\"M 30.609375 48.390625 \r\nQ 23.390625 48.390625 19.1875 42.75 \r\nQ 14.984375 37.109375 14.984375 27.296875 \r\nQ 14.984375 17.484375 19.15625 11.84375 \r\nQ 23.34375 6.203125 30.609375 6.203125 \r\nQ 37.796875 6.203125 41.984375 11.859375 \r\nQ 46.1875 17.53125 46.1875 27.296875 \r\nQ 46.1875 37.015625 41.984375 42.703125 \r\nQ 37.796875 48.390625 30.609375 48.390625 \r\nz\r\nM 30.609375 56 \r\nQ 42.328125 56 49.015625 48.375 \r\nQ 55.71875 40.765625 55.71875 27.296875 \r\nQ 55.71875 13.875 49.015625 6.21875 \r\nQ 42.328125 -1.421875 30.609375 -1.421875 \r\nQ 18.84375 -1.421875 12.171875 6.21875 \r\nQ 5.515625 13.875 5.515625 27.296875 \r\nQ 5.515625 40.765625 12.171875 48.375 \r\nQ 18.84375 56 30.609375 56 \r\nz\r\n\" id=\"DejaVuSans-111\"/>\r\n       <path id=\"DejaVuSans-32\"/>\r\n       <path d=\"M 31 75.875 \r\nQ 24.46875 64.65625 21.28125 53.65625 \r\nQ 18.109375 42.671875 18.109375 31.390625 \r\nQ 18.109375 20.125 21.3125 9.0625 \r\nQ 24.515625 -2 31 -13.1875 \r\nL 23.1875 -13.1875 \r\nQ 15.875 -1.703125 12.234375 9.375 \r\nQ 8.59375 20.453125 8.59375 31.390625 \r\nQ 8.59375 42.28125 12.203125 53.3125 \r\nQ 15.828125 64.359375 23.1875 75.875 \r\nz\r\n\" id=\"DejaVuSans-40\"/>\r\n       <path d=\"M 8.015625 75.875 \r\nL 15.828125 75.875 \r\nQ 23.140625 64.359375 26.78125 53.3125 \r\nQ 30.421875 42.28125 30.421875 31.390625 \r\nQ 30.421875 20.453125 26.78125 9.375 \r\nQ 23.140625 -1.703125 15.828125 -13.1875 \r\nL 8.015625 -13.1875 \r\nQ 14.5 -2 17.703125 9.0625 \r\nQ 20.90625 20.125 20.90625 31.390625 \r\nQ 20.90625 42.671875 17.703125 53.65625 \r\nQ 14.5 64.65625 8.015625 75.875 \r\nz\r\n\" id=\"DejaVuSans-41\"/>\r\n      </defs>\r\n      <use xlink:href=\"#DejaVuSans-84\"/>\r\n      <use x=\"57.958984\" xlink:href=\"#DejaVuSans-105\"/>\r\n      <use x=\"85.742188\" xlink:href=\"#DejaVuSans-101\"/>\r\n      <use x=\"147.265625\" xlink:href=\"#DejaVuSans-109\"/>\r\n      <use x=\"244.677734\" xlink:href=\"#DejaVuSans-112\"/>\r\n      <use x=\"308.154297\" xlink:href=\"#DejaVuSans-111\"/>\r\n      <use x=\"369.335938\" xlink:href=\"#DejaVuSans-32\"/>\r\n      <use x=\"401.123047\" xlink:href=\"#DejaVuSans-40\"/>\r\n      <use x=\"440.136719\" xlink:href=\"#DejaVuSans-84\"/>\r\n      <use x=\"501.220703\" xlink:href=\"#DejaVuSans-41\"/>\r\n     </g>\r\n    </g>\r\n   </g>\r\n   <g id=\"matplotlib.axis_2\">\r\n    <g id=\"ytick_1\">\r\n     <g id=\"line2d_10\">\r\n      <defs>\r\n       <path d=\"M 0 0 \r\nL -3.5 0 \r\n\" id=\"m0d75e8d6a1\" style=\"stroke:#000000;stroke-width:0.8;\"/>\r\n      </defs>\r\n      <g>\r\n       <use style=\"stroke:#000000;stroke-width:0.8;\" x=\"69.554531\" xlink:href=\"#m0d75e8d6a1\" y=\"230.032692\"/>\r\n      </g>\r\n     </g>\r\n     <g id=\"text_11\">\r\n      <!-- −0.006 -->\r\n      <g transform=\"translate(21.845937 234.211832)scale(0.11 -0.11)\">\r\n       <defs>\r\n        <path d=\"M 10.59375 35.5 \r\nL 73.1875 35.5 \r\nL 73.1875 27.203125 \r\nL 10.59375 27.203125 \r\nz\r\n\" id=\"DejaVuSans-8722\"/>\r\n        <path d=\"M 10.6875 12.40625 \r\nL 21 12.40625 \r\nL 21 0 \r\nL 10.6875 0 \r\nz\r\n\" id=\"DejaVuSans-46\"/>\r\n       </defs>\r\n       <use xlink:href=\"#DejaVuSans-8722\"/>\r\n       <use x=\"83.789062\" xlink:href=\"#DejaVuSans-48\"/>\r\n       <use x=\"147.412109\" xlink:href=\"#DejaVuSans-46\"/>\r\n       <use x=\"179.199219\" xlink:href=\"#DejaVuSans-48\"/>\r\n       <use x=\"242.822266\" xlink:href=\"#DejaVuSans-48\"/>\r\n       <use x=\"306.445312\" xlink:href=\"#DejaVuSans-54\"/>\r\n      </g>\r\n     </g>\r\n    </g>\r\n    <g id=\"ytick_2\">\r\n     <g id=\"line2d_11\">\r\n      <g>\r\n       <use style=\"stroke:#000000;stroke-width:0.8;\" x=\"69.554531\" xlink:href=\"#m0d75e8d6a1\" y=\"197.050634\"/>\r\n      </g>\r\n     </g>\r\n     <g id=\"text_12\">\r\n      <!-- −0.005 -->\r\n      <g transform=\"translate(21.845937 201.229774)scale(0.11 -0.11)\">\r\n       <use xlink:href=\"#DejaVuSans-8722\"/>\r\n       <use x=\"83.789062\" xlink:href=\"#DejaVuSans-48\"/>\r\n       <use x=\"147.412109\" xlink:href=\"#DejaVuSans-46\"/>\r\n       <use x=\"179.199219\" xlink:href=\"#DejaVuSans-48\"/>\r\n       <use x=\"242.822266\" xlink:href=\"#DejaVuSans-48\"/>\r\n       <use x=\"306.445312\" xlink:href=\"#DejaVuSans-53\"/>\r\n      </g>\r\n     </g>\r\n    </g>\r\n    <g id=\"ytick_3\">\r\n     <g id=\"line2d_12\">\r\n      <g>\r\n       <use style=\"stroke:#000000;stroke-width:0.8;\" x=\"69.554531\" xlink:href=\"#m0d75e8d6a1\" y=\"164.068576\"/>\r\n      </g>\r\n     </g>\r\n     <g id=\"text_13\">\r\n      <!-- −0.004 -->\r\n      <g transform=\"translate(21.845937 168.247716)scale(0.11 -0.11)\">\r\n       <use xlink:href=\"#DejaVuSans-8722\"/>\r\n       <use x=\"83.789062\" xlink:href=\"#DejaVuSans-48\"/>\r\n       <use x=\"147.412109\" xlink:href=\"#DejaVuSans-46\"/>\r\n       <use x=\"179.199219\" xlink:href=\"#DejaVuSans-48\"/>\r\n       <use x=\"242.822266\" xlink:href=\"#DejaVuSans-48\"/>\r\n       <use x=\"306.445312\" xlink:href=\"#DejaVuSans-52\"/>\r\n      </g>\r\n     </g>\r\n    </g>\r\n    <g id=\"ytick_4\">\r\n     <g id=\"line2d_13\">\r\n      <g>\r\n       <use style=\"stroke:#000000;stroke-width:0.8;\" x=\"69.554531\" xlink:href=\"#m0d75e8d6a1\" y=\"131.086518\"/>\r\n      </g>\r\n     </g>\r\n     <g id=\"text_14\">\r\n      <!-- −0.003 -->\r\n      <g transform=\"translate(21.845937 135.265658)scale(0.11 -0.11)\">\r\n       <use xlink:href=\"#DejaVuSans-8722\"/>\r\n       <use x=\"83.789062\" xlink:href=\"#DejaVuSans-48\"/>\r\n       <use x=\"147.412109\" xlink:href=\"#DejaVuSans-46\"/>\r\n       <use x=\"179.199219\" xlink:href=\"#DejaVuSans-48\"/>\r\n       <use x=\"242.822266\" xlink:href=\"#DejaVuSans-48\"/>\r\n       <use x=\"306.445312\" xlink:href=\"#DejaVuSans-51\"/>\r\n      </g>\r\n     </g>\r\n    </g>\r\n    <g id=\"ytick_5\">\r\n     <g id=\"line2d_14\">\r\n      <g>\r\n       <use style=\"stroke:#000000;stroke-width:0.8;\" x=\"69.554531\" xlink:href=\"#m0d75e8d6a1\" y=\"98.104459\"/>\r\n      </g>\r\n     </g>\r\n     <g id=\"text_15\">\r\n      <!-- −0.002 -->\r\n      <g transform=\"translate(21.845937 102.2836)scale(0.11 -0.11)\">\r\n       <use xlink:href=\"#DejaVuSans-8722\"/>\r\n       <use x=\"83.789062\" xlink:href=\"#DejaVuSans-48\"/>\r\n       <use x=\"147.412109\" xlink:href=\"#DejaVuSans-46\"/>\r\n       <use x=\"179.199219\" xlink:href=\"#DejaVuSans-48\"/>\r\n       <use x=\"242.822266\" xlink:href=\"#DejaVuSans-48\"/>\r\n       <use x=\"306.445312\" xlink:href=\"#DejaVuSans-50\"/>\r\n      </g>\r\n     </g>\r\n    </g>\r\n    <g id=\"ytick_6\">\r\n     <g id=\"line2d_15\">\r\n      <g>\r\n       <use style=\"stroke:#000000;stroke-width:0.8;\" x=\"69.554531\" xlink:href=\"#m0d75e8d6a1\" y=\"65.122401\"/>\r\n      </g>\r\n     </g>\r\n     <g id=\"text_16\">\r\n      <!-- −0.001 -->\r\n      <g transform=\"translate(21.845937 69.301542)scale(0.11 -0.11)\">\r\n       <use xlink:href=\"#DejaVuSans-8722\"/>\r\n       <use x=\"83.789062\" xlink:href=\"#DejaVuSans-48\"/>\r\n       <use x=\"147.412109\" xlink:href=\"#DejaVuSans-46\"/>\r\n       <use x=\"179.199219\" xlink:href=\"#DejaVuSans-48\"/>\r\n       <use x=\"242.822266\" xlink:href=\"#DejaVuSans-48\"/>\r\n       <use x=\"306.445312\" xlink:href=\"#DejaVuSans-49\"/>\r\n      </g>\r\n     </g>\r\n    </g>\r\n    <g id=\"ytick_7\">\r\n     <g id=\"line2d_16\">\r\n      <g>\r\n       <use style=\"stroke:#000000;stroke-width:0.8;\" x=\"69.554531\" xlink:href=\"#m0d75e8d6a1\" y=\"32.140343\"/>\r\n      </g>\r\n     </g>\r\n     <g id=\"text_17\">\r\n      <!-- 0.000 -->\r\n      <g transform=\"translate(31.063594 36.319484)scale(0.11 -0.11)\">\r\n       <use xlink:href=\"#DejaVuSans-48\"/>\r\n       <use x=\"63.623047\" xlink:href=\"#DejaVuSans-46\"/>\r\n       <use x=\"95.410156\" xlink:href=\"#DejaVuSans-48\"/>\r\n       <use x=\"159.033203\" xlink:href=\"#DejaVuSans-48\"/>\r\n       <use x=\"222.65625\" xlink:href=\"#DejaVuSans-48\"/>\r\n      </g>\r\n     </g>\r\n    </g>\r\n    <g id=\"text_18\">\r\n     <!-- Intensidad (I) -->\r\n     <g transform=\"translate(15.558281 167.581328)rotate(-90)scale(0.11 -0.11)\">\r\n      <defs>\r\n       <path d=\"M 9.8125 72.90625 \r\nL 19.671875 72.90625 \r\nL 19.671875 0 \r\nL 9.8125 0 \r\nz\r\n\" id=\"DejaVuSans-73\"/>\r\n       <path d=\"M 54.890625 33.015625 \r\nL 54.890625 0 \r\nL 45.90625 0 \r\nL 45.90625 32.71875 \r\nQ 45.90625 40.484375 42.875 44.328125 \r\nQ 39.84375 48.1875 33.796875 48.1875 \r\nQ 26.515625 48.1875 22.3125 43.546875 \r\nQ 18.109375 38.921875 18.109375 30.90625 \r\nL 18.109375 0 \r\nL 9.078125 0 \r\nL 9.078125 54.6875 \r\nL 18.109375 54.6875 \r\nL 18.109375 46.1875 \r\nQ 21.34375 51.125 25.703125 53.5625 \r\nQ 30.078125 56 35.796875 56 \r\nQ 45.21875 56 50.046875 50.171875 \r\nQ 54.890625 44.34375 54.890625 33.015625 \r\nz\r\n\" id=\"DejaVuSans-110\"/>\r\n       <path d=\"M 18.3125 70.21875 \r\nL 18.3125 54.6875 \r\nL 36.8125 54.6875 \r\nL 36.8125 47.703125 \r\nL 18.3125 47.703125 \r\nL 18.3125 18.015625 \r\nQ 18.3125 11.328125 20.140625 9.421875 \r\nQ 21.96875 7.515625 27.59375 7.515625 \r\nL 36.8125 7.515625 \r\nL 36.8125 0 \r\nL 27.59375 0 \r\nQ 17.1875 0 13.234375 3.875 \r\nQ 9.28125 7.765625 9.28125 18.015625 \r\nL 9.28125 47.703125 \r\nL 2.6875 47.703125 \r\nL 2.6875 54.6875 \r\nL 9.28125 54.6875 \r\nL 9.28125 70.21875 \r\nz\r\n\" id=\"DejaVuSans-116\"/>\r\n       <path d=\"M 44.28125 53.078125 \r\nL 44.28125 44.578125 \r\nQ 40.484375 46.53125 36.375 47.5 \r\nQ 32.28125 48.484375 27.875 48.484375 \r\nQ 21.1875 48.484375 17.84375 46.4375 \r\nQ 14.5 44.390625 14.5 40.28125 \r\nQ 14.5 37.15625 16.890625 35.375 \r\nQ 19.28125 33.59375 26.515625 31.984375 \r\nL 29.59375 31.296875 \r\nQ 39.15625 29.25 43.1875 25.515625 \r\nQ 47.21875 21.78125 47.21875 15.09375 \r\nQ 47.21875 7.46875 41.1875 3.015625 \r\nQ 35.15625 -1.421875 24.609375 -1.421875 \r\nQ 20.21875 -1.421875 15.453125 -0.5625 \r\nQ 10.6875 0.296875 5.421875 2 \r\nL 5.421875 11.28125 \r\nQ 10.40625 8.6875 15.234375 7.390625 \r\nQ 20.0625 6.109375 24.8125 6.109375 \r\nQ 31.15625 6.109375 34.5625 8.28125 \r\nQ 37.984375 10.453125 37.984375 14.40625 \r\nQ 37.984375 18.0625 35.515625 20.015625 \r\nQ 33.0625 21.96875 24.703125 23.78125 \r\nL 21.578125 24.515625 \r\nQ 13.234375 26.265625 9.515625 29.90625 \r\nQ 5.8125 33.546875 5.8125 39.890625 \r\nQ 5.8125 47.609375 11.28125 51.796875 \r\nQ 16.75 56 26.8125 56 \r\nQ 31.78125 56 36.171875 55.265625 \r\nQ 40.578125 54.546875 44.28125 53.078125 \r\nz\r\n\" id=\"DejaVuSans-115\"/>\r\n       <path d=\"M 45.40625 46.390625 \r\nL 45.40625 75.984375 \r\nL 54.390625 75.984375 \r\nL 54.390625 0 \r\nL 45.40625 0 \r\nL 45.40625 8.203125 \r\nQ 42.578125 3.328125 38.25 0.953125 \r\nQ 33.9375 -1.421875 27.875 -1.421875 \r\nQ 17.96875 -1.421875 11.734375 6.484375 \r\nQ 5.515625 14.40625 5.515625 27.296875 \r\nQ 5.515625 40.1875 11.734375 48.09375 \r\nQ 17.96875 56 27.875 56 \r\nQ 33.9375 56 38.25 53.625 \r\nQ 42.578125 51.265625 45.40625 46.390625 \r\nz\r\nM 14.796875 27.296875 \r\nQ 14.796875 17.390625 18.875 11.75 \r\nQ 22.953125 6.109375 30.078125 6.109375 \r\nQ 37.203125 6.109375 41.296875 11.75 \r\nQ 45.40625 17.390625 45.40625 27.296875 \r\nQ 45.40625 37.203125 41.296875 42.84375 \r\nQ 37.203125 48.484375 30.078125 48.484375 \r\nQ 22.953125 48.484375 18.875 42.84375 \r\nQ 14.796875 37.203125 14.796875 27.296875 \r\nz\r\n\" id=\"DejaVuSans-100\"/>\r\n       <path d=\"M 34.28125 27.484375 \r\nQ 23.390625 27.484375 19.1875 25 \r\nQ 14.984375 22.515625 14.984375 16.5 \r\nQ 14.984375 11.71875 18.140625 8.90625 \r\nQ 21.296875 6.109375 26.703125 6.109375 \r\nQ 34.1875 6.109375 38.703125 11.40625 \r\nQ 43.21875 16.703125 43.21875 25.484375 \r\nL 43.21875 27.484375 \r\nz\r\nM 52.203125 31.203125 \r\nL 52.203125 0 \r\nL 43.21875 0 \r\nL 43.21875 8.296875 \r\nQ 40.140625 3.328125 35.546875 0.953125 \r\nQ 30.953125 -1.421875 24.3125 -1.421875 \r\nQ 15.921875 -1.421875 10.953125 3.296875 \r\nQ 6 8.015625 6 15.921875 \r\nQ 6 25.140625 12.171875 29.828125 \r\nQ 18.359375 34.515625 30.609375 34.515625 \r\nL 43.21875 34.515625 \r\nL 43.21875 35.40625 \r\nQ 43.21875 41.609375 39.140625 45 \r\nQ 35.0625 48.390625 27.6875 48.390625 \r\nQ 23 48.390625 18.546875 47.265625 \r\nQ 14.109375 46.140625 10.015625 43.890625 \r\nL 10.015625 52.203125 \r\nQ 14.9375 54.109375 19.578125 55.046875 \r\nQ 24.21875 56 28.609375 56 \r\nQ 40.484375 56 46.34375 49.84375 \r\nQ 52.203125 43.703125 52.203125 31.203125 \r\nz\r\n\" id=\"DejaVuSans-97\"/>\r\n      </defs>\r\n      <use xlink:href=\"#DejaVuSans-73\"/>\r\n      <use x=\"29.492188\" xlink:href=\"#DejaVuSans-110\"/>\r\n      <use x=\"92.871094\" xlink:href=\"#DejaVuSans-116\"/>\r\n      <use x=\"132.080078\" xlink:href=\"#DejaVuSans-101\"/>\r\n      <use x=\"193.603516\" xlink:href=\"#DejaVuSans-110\"/>\r\n      <use x=\"256.982422\" xlink:href=\"#DejaVuSans-115\"/>\r\n      <use x=\"309.082031\" xlink:href=\"#DejaVuSans-105\"/>\r\n      <use x=\"336.865234\" xlink:href=\"#DejaVuSans-100\"/>\r\n      <use x=\"400.341797\" xlink:href=\"#DejaVuSans-97\"/>\r\n      <use x=\"461.621094\" xlink:href=\"#DejaVuSans-100\"/>\r\n      <use x=\"525.097656\" xlink:href=\"#DejaVuSans-32\"/>\r\n      <use x=\"556.884766\" xlink:href=\"#DejaVuSans-40\"/>\r\n      <use x=\"595.898438\" xlink:href=\"#DejaVuSans-73\"/>\r\n      <use x=\"625.390625\" xlink:href=\"#DejaVuSans-41\"/>\r\n     </g>\r\n    </g>\r\n   </g>\r\n   <g id=\"line2d_17\">\r\n    <path clip-path=\"url(#pf4b4ae0a24)\" d=\"M 84.772713 229.874489 \r\nL 84.802887 229.716349 \r\nL 84.809171 229.683432 \r\nL 84.815426 229.650673 \r\nL 84.827935 229.585172 \r\nL 84.852953 229.454236 \r\nL 84.90299 229.192623 \r\nL 85.003064 228.670438 \r\nL 85.203211 227.630214 \r\nL 85.603506 225.566239 \r\nL 86.404096 221.503321 \r\nL 88.005276 213.630848 \r\nL 91.196614 198.896582 \r\nL 94.968003 183.015035 \r\nL 98.739392 168.646017 \r\nL 102.510781 155.645477 \r\nL 106.28217 143.883083 \r\nL 110.053559 133.240917 \r\nL 113.824949 123.612291 \r\nL 117.596338 114.900677 \r\nL 121.367727 107.018741 \r\nL 125.139116 99.887465 \r\nL 128.910505 93.435358 \r\nL 132.681894 87.597738 \r\nL 136.453283 82.316081 \r\nL 140.224672 77.537439 \r\nL 143.996061 73.213907 \r\nL 147.76745 69.302139 \r\nL 151.538839 65.76292 \r\nL 155.310228 62.56077 \r\nL 159.081617 59.663587 \r\nL 162.853006 57.042325 \r\nL 166.624395 54.670708 \r\nL 170.395784 52.524959 \r\nL 174.167173 50.583567 \r\nL 177.938562 48.82707 \r\nL 181.709951 47.237858 \r\nL 185.481341 45.799999 \r\nL 189.25273 44.49908 \r\nL 193.024119 43.322057 \r\nL 196.795508 42.257132 \r\nL 200.566897 41.293628 \r\nL 204.338286 40.421887 \r\nL 208.109675 39.633169 \r\nL 211.881064 38.919566 \r\nL 215.652453 38.273926 \r\nL 219.423842 37.689775 \r\nL 223.195231 37.161258 \r\nL 226.96662 36.683076 \r\nL 230.738009 36.250435 \r\nL 234.509398 35.858997 \r\nL 238.280787 35.50484 \r\nL 242.052176 35.184412 \r\nL 245.823565 34.894501 \r\nL 249.594954 34.6322 \r\nL 253.366343 34.39488 \r\nL 257.137733 34.180163 \r\nL 260.909122 33.985894 \r\nL 264.680511 33.810127 \r\nL 268.4519 33.6511 \r\nL 272.223289 33.507219 \r\nL 275.994678 33.37704 \r\nL 279.766067 33.25926 \r\nL 283.537456 33.152696 \r\nL 287.308845 33.056282 \r\nL 291.080234 32.96905 \r\nL 294.851623 32.890125 \r\nL 298.623012 32.818717 \r\nL 302.394401 32.75411 \r\nL 306.16579 32.695656 \r\nL 309.937179 32.64277 \r\nL 313.708568 32.594919 \r\nL 317.479957 32.551627 \r\nL 321.251346 32.512457 \r\nL 325.022736 32.477017 \r\nL 328.794125 32.444953 \r\nL 332.565514 32.415943 \r\nL 336.336903 32.389695 \r\nL 340.108292 32.365948 \r\nL 343.879681 32.344462 \r\nL 347.65107 32.325022 \r\nL 351.422459 32.307433 \r\nL 355.193848 32.29152 \r\nL 358.965237 32.277122 \r\nL 362.736626 32.264096 \r\nL 366.508015 32.25231 \r\nL 370.279404 32.241646 \r\nL 374.050793 32.231999 \r\nL 377.822182 32.22327 \r\nL 381.593571 32.215372 \r\nL 385.36496 32.208226 \r\nL 389.136349 32.201761 \r\n\" style=\"fill:none;stroke:#1f77b4;stroke-linecap:square;stroke-width:1.5;\"/>\r\n   </g>\r\n   <g id=\"patch_3\">\r\n    <path d=\"M 69.554531 239.758125 \r\nL 69.554531 22.318125 \r\n\" style=\"fill:none;stroke:#000000;stroke-linecap:square;stroke-linejoin:miter;stroke-width:0.8;\"/>\r\n   </g>\r\n   <g id=\"patch_4\">\r\n    <path d=\"M 404.354531 239.758125 \r\nL 404.354531 22.318125 \r\n\" style=\"fill:none;stroke:#000000;stroke-linecap:square;stroke-linejoin:miter;stroke-width:0.8;\"/>\r\n   </g>\r\n   <g id=\"patch_5\">\r\n    <path d=\"M 69.554531 239.758125 \r\nL 404.354531 239.758125 \r\n\" style=\"fill:none;stroke:#000000;stroke-linecap:square;stroke-linejoin:miter;stroke-width:0.8;\"/>\r\n   </g>\r\n   <g id=\"patch_6\">\r\n    <path d=\"M 69.554531 22.318125 \r\nL 404.354531 22.318125 \r\n\" style=\"fill:none;stroke:#000000;stroke-linecap:square;stroke-linejoin:miter;stroke-width:0.8;\"/>\r\n   </g>\r\n   <g id=\"text_19\">\r\n    <!-- Carga de un condensador -->\r\n    <g transform=\"translate(159.588281 16.318125)scale(0.12 -0.12)\">\r\n     <defs>\r\n      <path d=\"M 64.40625 67.28125 \r\nL 64.40625 56.890625 \r\nQ 59.421875 61.53125 53.78125 63.8125 \r\nQ 48.140625 66.109375 41.796875 66.109375 \r\nQ 29.296875 66.109375 22.65625 58.46875 \r\nQ 16.015625 50.828125 16.015625 36.375 \r\nQ 16.015625 21.96875 22.65625 14.328125 \r\nQ 29.296875 6.6875 41.796875 6.6875 \r\nQ 48.140625 6.6875 53.78125 8.984375 \r\nQ 59.421875 11.28125 64.40625 15.921875 \r\nL 64.40625 5.609375 \r\nQ 59.234375 2.09375 53.4375 0.328125 \r\nQ 47.65625 -1.421875 41.21875 -1.421875 \r\nQ 24.65625 -1.421875 15.125 8.703125 \r\nQ 5.609375 18.84375 5.609375 36.375 \r\nQ 5.609375 53.953125 15.125 64.078125 \r\nQ 24.65625 74.21875 41.21875 74.21875 \r\nQ 47.75 74.21875 53.53125 72.484375 \r\nQ 59.328125 70.75 64.40625 67.28125 \r\nz\r\n\" id=\"DejaVuSans-67\"/>\r\n      <path d=\"M 41.109375 46.296875 \r\nQ 39.59375 47.171875 37.8125 47.578125 \r\nQ 36.03125 48 33.890625 48 \r\nQ 26.265625 48 22.1875 43.046875 \r\nQ 18.109375 38.09375 18.109375 28.8125 \r\nL 18.109375 0 \r\nL 9.078125 0 \r\nL 9.078125 54.6875 \r\nL 18.109375 54.6875 \r\nL 18.109375 46.1875 \r\nQ 20.953125 51.171875 25.484375 53.578125 \r\nQ 30.03125 56 36.53125 56 \r\nQ 37.453125 56 38.578125 55.875 \r\nQ 39.703125 55.765625 41.0625 55.515625 \r\nz\r\n\" id=\"DejaVuSans-114\"/>\r\n      <path d=\"M 45.40625 27.984375 \r\nQ 45.40625 37.75 41.375 43.109375 \r\nQ 37.359375 48.484375 30.078125 48.484375 \r\nQ 22.859375 48.484375 18.828125 43.109375 \r\nQ 14.796875 37.75 14.796875 27.984375 \r\nQ 14.796875 18.265625 18.828125 12.890625 \r\nQ 22.859375 7.515625 30.078125 7.515625 \r\nQ 37.359375 7.515625 41.375 12.890625 \r\nQ 45.40625 18.265625 45.40625 27.984375 \r\nz\r\nM 54.390625 6.78125 \r\nQ 54.390625 -7.171875 48.1875 -13.984375 \r\nQ 42 -20.796875 29.203125 -20.796875 \r\nQ 24.46875 -20.796875 20.265625 -20.09375 \r\nQ 16.0625 -19.390625 12.109375 -17.921875 \r\nL 12.109375 -9.1875 \r\nQ 16.0625 -11.328125 19.921875 -12.34375 \r\nQ 23.78125 -13.375 27.78125 -13.375 \r\nQ 36.625 -13.375 41.015625 -8.765625 \r\nQ 45.40625 -4.15625 45.40625 5.171875 \r\nL 45.40625 9.625 \r\nQ 42.625 4.78125 38.28125 2.390625 \r\nQ 33.9375 0 27.875 0 \r\nQ 17.828125 0 11.671875 7.65625 \r\nQ 5.515625 15.328125 5.515625 27.984375 \r\nQ 5.515625 40.671875 11.671875 48.328125 \r\nQ 17.828125 56 27.875 56 \r\nQ 33.9375 56 38.28125 53.609375 \r\nQ 42.625 51.21875 45.40625 46.390625 \r\nL 45.40625 54.6875 \r\nL 54.390625 54.6875 \r\nz\r\n\" id=\"DejaVuSans-103\"/>\r\n      <path d=\"M 8.5 21.578125 \r\nL 8.5 54.6875 \r\nL 17.484375 54.6875 \r\nL 17.484375 21.921875 \r\nQ 17.484375 14.15625 20.5 10.265625 \r\nQ 23.53125 6.390625 29.59375 6.390625 \r\nQ 36.859375 6.390625 41.078125 11.03125 \r\nQ 45.3125 15.671875 45.3125 23.6875 \r\nL 45.3125 54.6875 \r\nL 54.296875 54.6875 \r\nL 54.296875 0 \r\nL 45.3125 0 \r\nL 45.3125 8.40625 \r\nQ 42.046875 3.421875 37.71875 1 \r\nQ 33.40625 -1.421875 27.6875 -1.421875 \r\nQ 18.265625 -1.421875 13.375 4.4375 \r\nQ 8.5 10.296875 8.5 21.578125 \r\nz\r\nM 31.109375 56 \r\nz\r\n\" id=\"DejaVuSans-117\"/>\r\n      <path d=\"M 48.78125 52.59375 \r\nL 48.78125 44.1875 \r\nQ 44.96875 46.296875 41.140625 47.34375 \r\nQ 37.3125 48.390625 33.40625 48.390625 \r\nQ 24.65625 48.390625 19.8125 42.84375 \r\nQ 14.984375 37.3125 14.984375 27.296875 \r\nQ 14.984375 17.28125 19.8125 11.734375 \r\nQ 24.65625 6.203125 33.40625 6.203125 \r\nQ 37.3125 6.203125 41.140625 7.25 \r\nQ 44.96875 8.296875 48.78125 10.40625 \r\nL 48.78125 2.09375 \r\nQ 45.015625 0.34375 40.984375 -0.53125 \r\nQ 36.96875 -1.421875 32.421875 -1.421875 \r\nQ 20.0625 -1.421875 12.78125 6.34375 \r\nQ 5.515625 14.109375 5.515625 27.296875 \r\nQ 5.515625 40.671875 12.859375 48.328125 \r\nQ 20.21875 56 33.015625 56 \r\nQ 37.15625 56 41.109375 55.140625 \r\nQ 45.0625 54.296875 48.78125 52.59375 \r\nz\r\n\" id=\"DejaVuSans-99\"/>\r\n     </defs>\r\n     <use xlink:href=\"#DejaVuSans-67\"/>\r\n     <use x=\"69.824219\" xlink:href=\"#DejaVuSans-97\"/>\r\n     <use x=\"131.103516\" xlink:href=\"#DejaVuSans-114\"/>\r\n     <use x=\"170.466797\" xlink:href=\"#DejaVuSans-103\"/>\r\n     <use x=\"233.943359\" xlink:href=\"#DejaVuSans-97\"/>\r\n     <use x=\"295.222656\" xlink:href=\"#DejaVuSans-32\"/>\r\n     <use x=\"327.009766\" xlink:href=\"#DejaVuSans-100\"/>\r\n     <use x=\"390.486328\" xlink:href=\"#DejaVuSans-101\"/>\r\n     <use x=\"452.009766\" xlink:href=\"#DejaVuSans-32\"/>\r\n     <use x=\"483.796875\" xlink:href=\"#DejaVuSans-117\"/>\r\n     <use x=\"547.175781\" xlink:href=\"#DejaVuSans-110\"/>\r\n     <use x=\"610.554688\" xlink:href=\"#DejaVuSans-32\"/>\r\n     <use x=\"642.341797\" xlink:href=\"#DejaVuSans-99\"/>\r\n     <use x=\"697.322266\" xlink:href=\"#DejaVuSans-111\"/>\r\n     <use x=\"758.503906\" xlink:href=\"#DejaVuSans-110\"/>\r\n     <use x=\"821.882812\" xlink:href=\"#DejaVuSans-100\"/>\r\n     <use x=\"885.359375\" xlink:href=\"#DejaVuSans-101\"/>\r\n     <use x=\"946.882812\" xlink:href=\"#DejaVuSans-110\"/>\r\n     <use x=\"1010.261719\" xlink:href=\"#DejaVuSans-115\"/>\r\n     <use x=\"1062.361328\" xlink:href=\"#DejaVuSans-97\"/>\r\n     <use x=\"1123.640625\" xlink:href=\"#DejaVuSans-100\"/>\r\n     <use x=\"1187.117188\" xlink:href=\"#DejaVuSans-111\"/>\r\n     <use x=\"1248.298828\" xlink:href=\"#DejaVuSans-114\"/>\r\n    </g>\r\n   </g>\r\n  </g>\r\n </g>\r\n <defs>\r\n  <clipPath id=\"pf4b4ae0a24\">\r\n   <rect height=\"217.44\" width=\"334.8\" x=\"69.554531\" y=\"22.318125\"/>\r\n  </clipPath>\r\n </defs>\r\n</svg>\r\n"
          },
          "metadata": {
            "needs_background": "light"
          }
        }
      ],
      "execution_count": 199,
      "metadata": {}
    },
    {
      "cell_type": "code",
      "execution_count": 15,
      "metadata": {},
      "outputs": [
        {
          "output_type": "execute_result",
          "data": {
            "text/plain": [
              "[<matplotlib.lines.Line2D at 0x2500f020a88>]"
            ]
          },
          "metadata": {},
          "execution_count": 15
        },
        {
          "output_type": "display_data",
          "data": {
            "text/plain": "<Figure size 432x288 with 1 Axes>",
            "image/svg+xml": "<?xml version=\"1.0\" encoding=\"utf-8\" standalone=\"no\"?>\r\n<!DOCTYPE svg PUBLIC \"-//W3C//DTD SVG 1.1//EN\"\r\n  \"http://www.w3.org/Graphics/SVG/1.1/DTD/svg11.dtd\">\r\n<!-- Created with matplotlib (https://matplotlib.org/) -->\r\n<svg height=\"279.25pt\" version=\"1.1\" viewBox=\"0 0 387.062344 279.25\" width=\"387.062344pt\" xmlns=\"http://www.w3.org/2000/svg\" xmlns:xlink=\"http://www.w3.org/1999/xlink\">\r\n <metadata>\r\n  <rdf:RDF xmlns:cc=\"http://creativecommons.org/ns#\" xmlns:dc=\"http://purl.org/dc/elements/1.1/\" xmlns:rdf=\"http://www.w3.org/1999/02/22-rdf-syntax-ns#\">\r\n   <cc:Work>\r\n    <dc:type rdf:resource=\"http://purl.org/dc/dcmitype/StillImage\"/>\r\n    <dc:date>2021-01-04T21:42:07.125427</dc:date>\r\n    <dc:format>image/svg+xml</dc:format>\r\n    <dc:creator>\r\n     <cc:Agent>\r\n      <dc:title>Matplotlib v3.3.3, https://matplotlib.org/</dc:title>\r\n     </cc:Agent>\r\n    </dc:creator>\r\n   </cc:Work>\r\n  </rdf:RDF>\r\n </metadata>\r\n <defs>\r\n  <style type=\"text/css\">*{stroke-linecap:butt;stroke-linejoin:round;}</style>\r\n </defs>\r\n <g id=\"figure_1\">\r\n  <g id=\"patch_1\">\r\n   <path d=\"M 0 279.25 \r\nL 387.062344 279.25 \r\nL 387.062344 0 \r\nL 0 0 \r\nz\r\n\" style=\"fill:none;\"/>\r\n  </g>\r\n  <g id=\"axes_1\">\r\n   <g id=\"patch_2\">\r\n    <path d=\"M 45.062344 239.758125 \r\nL 379.862344 239.758125 \r\nL 379.862344 22.318125 \r\nL 45.062344 22.318125 \r\nz\r\n\" style=\"fill:#ffffff;\"/>\r\n   </g>\r\n   <g id=\"matplotlib.axis_1\">\r\n    <g id=\"xtick_1\">\r\n     <g id=\"line2d_1\">\r\n      <defs>\r\n       <path d=\"M 0 0 \r\nL 0 3.5 \r\n\" id=\"mdaf7849d46\" style=\"stroke:#000000;stroke-width:0.8;\"/>\r\n      </defs>\r\n      <g>\r\n       <use style=\"stroke:#000000;stroke-width:0.8;\" x=\"60.250351\" xlink:href=\"#mdaf7849d46\" y=\"239.758125\"/>\r\n      </g>\r\n     </g>\r\n     <g id=\"text_1\">\r\n      <!-- 0 -->\r\n      <g transform=\"translate(56.750976 255.116406)scale(0.11 -0.11)\">\r\n       <defs>\r\n        <path d=\"M 31.78125 66.40625 \r\nQ 24.171875 66.40625 20.328125 58.90625 \r\nQ 16.5 51.421875 16.5 36.375 \r\nQ 16.5 21.390625 20.328125 13.890625 \r\nQ 24.171875 6.390625 31.78125 6.390625 \r\nQ 39.453125 6.390625 43.28125 13.890625 \r\nQ 47.125 21.390625 47.125 36.375 \r\nQ 47.125 51.421875 43.28125 58.90625 \r\nQ 39.453125 66.40625 31.78125 66.40625 \r\nz\r\nM 31.78125 74.21875 \r\nQ 44.046875 74.21875 50.515625 64.515625 \r\nQ 56.984375 54.828125 56.984375 36.375 \r\nQ 56.984375 17.96875 50.515625 8.265625 \r\nQ 44.046875 -1.421875 31.78125 -1.421875 \r\nQ 19.53125 -1.421875 13.0625 8.265625 \r\nQ 6.59375 17.96875 6.59375 36.375 \r\nQ 6.59375 54.828125 13.0625 64.515625 \r\nQ 19.53125 74.21875 31.78125 74.21875 \r\nz\r\n\" id=\"DejaVuSans-48\"/>\r\n       </defs>\r\n       <use xlink:href=\"#DejaVuSans-48\"/>\r\n      </g>\r\n     </g>\r\n    </g>\r\n    <g id=\"xtick_2\">\r\n     <g id=\"line2d_2\">\r\n      <g>\r\n       <use style=\"stroke:#000000;stroke-width:0.8;\" x=\"97.964242\" xlink:href=\"#mdaf7849d46\" y=\"239.758125\"/>\r\n      </g>\r\n     </g>\r\n     <g id=\"text_2\">\r\n      <!-- 1 -->\r\n      <g transform=\"translate(94.464867 255.116406)scale(0.11 -0.11)\">\r\n       <defs>\r\n        <path d=\"M 12.40625 8.296875 \r\nL 28.515625 8.296875 \r\nL 28.515625 63.921875 \r\nL 10.984375 60.40625 \r\nL 10.984375 69.390625 \r\nL 28.421875 72.90625 \r\nL 38.28125 72.90625 \r\nL 38.28125 8.296875 \r\nL 54.390625 8.296875 \r\nL 54.390625 0 \r\nL 12.40625 0 \r\nz\r\n\" id=\"DejaVuSans-49\"/>\r\n       </defs>\r\n       <use xlink:href=\"#DejaVuSans-49\"/>\r\n      </g>\r\n     </g>\r\n    </g>\r\n    <g id=\"xtick_3\">\r\n     <g id=\"line2d_3\">\r\n      <g>\r\n       <use style=\"stroke:#000000;stroke-width:0.8;\" x=\"135.678133\" xlink:href=\"#mdaf7849d46\" y=\"239.758125\"/>\r\n      </g>\r\n     </g>\r\n     <g id=\"text_3\">\r\n      <!-- 2 -->\r\n      <g transform=\"translate(132.178758 255.116406)scale(0.11 -0.11)\">\r\n       <defs>\r\n        <path d=\"M 19.1875 8.296875 \r\nL 53.609375 8.296875 \r\nL 53.609375 0 \r\nL 7.328125 0 \r\nL 7.328125 8.296875 \r\nQ 12.9375 14.109375 22.625 23.890625 \r\nQ 32.328125 33.6875 34.8125 36.53125 \r\nQ 39.546875 41.84375 41.421875 45.53125 \r\nQ 43.3125 49.21875 43.3125 52.78125 \r\nQ 43.3125 58.59375 39.234375 62.25 \r\nQ 35.15625 65.921875 28.609375 65.921875 \r\nQ 23.96875 65.921875 18.8125 64.3125 \r\nQ 13.671875 62.703125 7.8125 59.421875 \r\nL 7.8125 69.390625 \r\nQ 13.765625 71.78125 18.9375 73 \r\nQ 24.125 74.21875 28.421875 74.21875 \r\nQ 39.75 74.21875 46.484375 68.546875 \r\nQ 53.21875 62.890625 53.21875 53.421875 \r\nQ 53.21875 48.921875 51.53125 44.890625 \r\nQ 49.859375 40.875 45.40625 35.40625 \r\nQ 44.1875 33.984375 37.640625 27.21875 \r\nQ 31.109375 20.453125 19.1875 8.296875 \r\nz\r\n\" id=\"DejaVuSans-50\"/>\r\n       </defs>\r\n       <use xlink:href=\"#DejaVuSans-50\"/>\r\n      </g>\r\n     </g>\r\n    </g>\r\n    <g id=\"xtick_4\">\r\n     <g id=\"line2d_4\">\r\n      <g>\r\n       <use style=\"stroke:#000000;stroke-width:0.8;\" x=\"173.392023\" xlink:href=\"#mdaf7849d46\" y=\"239.758125\"/>\r\n      </g>\r\n     </g>\r\n     <g id=\"text_4\">\r\n      <!-- 3 -->\r\n      <g transform=\"translate(169.892648 255.116406)scale(0.11 -0.11)\">\r\n       <defs>\r\n        <path d=\"M 40.578125 39.3125 \r\nQ 47.65625 37.796875 51.625 33 \r\nQ 55.609375 28.21875 55.609375 21.1875 \r\nQ 55.609375 10.40625 48.1875 4.484375 \r\nQ 40.765625 -1.421875 27.09375 -1.421875 \r\nQ 22.515625 -1.421875 17.65625 -0.515625 \r\nQ 12.796875 0.390625 7.625 2.203125 \r\nL 7.625 11.71875 \r\nQ 11.71875 9.328125 16.59375 8.109375 \r\nQ 21.484375 6.890625 26.8125 6.890625 \r\nQ 36.078125 6.890625 40.9375 10.546875 \r\nQ 45.796875 14.203125 45.796875 21.1875 \r\nQ 45.796875 27.640625 41.28125 31.265625 \r\nQ 36.765625 34.90625 28.71875 34.90625 \r\nL 20.21875 34.90625 \r\nL 20.21875 43.015625 \r\nL 29.109375 43.015625 \r\nQ 36.375 43.015625 40.234375 45.921875 \r\nQ 44.09375 48.828125 44.09375 54.296875 \r\nQ 44.09375 59.90625 40.109375 62.90625 \r\nQ 36.140625 65.921875 28.71875 65.921875 \r\nQ 24.65625 65.921875 20.015625 65.03125 \r\nQ 15.375 64.15625 9.8125 62.3125 \r\nL 9.8125 71.09375 \r\nQ 15.4375 72.65625 20.34375 73.4375 \r\nQ 25.25 74.21875 29.59375 74.21875 \r\nQ 40.828125 74.21875 47.359375 69.109375 \r\nQ 53.90625 64.015625 53.90625 55.328125 \r\nQ 53.90625 49.265625 50.4375 45.09375 \r\nQ 46.96875 40.921875 40.578125 39.3125 \r\nz\r\n\" id=\"DejaVuSans-51\"/>\r\n       </defs>\r\n       <use xlink:href=\"#DejaVuSans-51\"/>\r\n      </g>\r\n     </g>\r\n    </g>\r\n    <g id=\"xtick_5\">\r\n     <g id=\"line2d_5\">\r\n      <g>\r\n       <use style=\"stroke:#000000;stroke-width:0.8;\" x=\"211.105914\" xlink:href=\"#mdaf7849d46\" y=\"239.758125\"/>\r\n      </g>\r\n     </g>\r\n     <g id=\"text_5\">\r\n      <!-- 4 -->\r\n      <g transform=\"translate(207.606539 255.116406)scale(0.11 -0.11)\">\r\n       <defs>\r\n        <path d=\"M 37.796875 64.3125 \r\nL 12.890625 25.390625 \r\nL 37.796875 25.390625 \r\nz\r\nM 35.203125 72.90625 \r\nL 47.609375 72.90625 \r\nL 47.609375 25.390625 \r\nL 58.015625 25.390625 \r\nL 58.015625 17.1875 \r\nL 47.609375 17.1875 \r\nL 47.609375 0 \r\nL 37.796875 0 \r\nL 37.796875 17.1875 \r\nL 4.890625 17.1875 \r\nL 4.890625 26.703125 \r\nz\r\n\" id=\"DejaVuSans-52\"/>\r\n       </defs>\r\n       <use xlink:href=\"#DejaVuSans-52\"/>\r\n      </g>\r\n     </g>\r\n    </g>\r\n    <g id=\"xtick_6\">\r\n     <g id=\"line2d_6\">\r\n      <g>\r\n       <use style=\"stroke:#000000;stroke-width:0.8;\" x=\"248.819804\" xlink:href=\"#mdaf7849d46\" y=\"239.758125\"/>\r\n      </g>\r\n     </g>\r\n     <g id=\"text_6\">\r\n      <!-- 5 -->\r\n      <g transform=\"translate(245.320429 255.116406)scale(0.11 -0.11)\">\r\n       <defs>\r\n        <path d=\"M 10.796875 72.90625 \r\nL 49.515625 72.90625 \r\nL 49.515625 64.59375 \r\nL 19.828125 64.59375 \r\nL 19.828125 46.734375 \r\nQ 21.96875 47.46875 24.109375 47.828125 \r\nQ 26.265625 48.1875 28.421875 48.1875 \r\nQ 40.625 48.1875 47.75 41.5 \r\nQ 54.890625 34.8125 54.890625 23.390625 \r\nQ 54.890625 11.625 47.5625 5.09375 \r\nQ 40.234375 -1.421875 26.90625 -1.421875 \r\nQ 22.3125 -1.421875 17.546875 -0.640625 \r\nQ 12.796875 0.140625 7.71875 1.703125 \r\nL 7.71875 11.625 \r\nQ 12.109375 9.234375 16.796875 8.0625 \r\nQ 21.484375 6.890625 26.703125 6.890625 \r\nQ 35.15625 6.890625 40.078125 11.328125 \r\nQ 45.015625 15.765625 45.015625 23.390625 \r\nQ 45.015625 31 40.078125 35.4375 \r\nQ 35.15625 39.890625 26.703125 39.890625 \r\nQ 22.75 39.890625 18.8125 39.015625 \r\nQ 14.890625 38.140625 10.796875 36.28125 \r\nz\r\n\" id=\"DejaVuSans-53\"/>\r\n       </defs>\r\n       <use xlink:href=\"#DejaVuSans-53\"/>\r\n      </g>\r\n     </g>\r\n    </g>\r\n    <g id=\"xtick_7\">\r\n     <g id=\"line2d_7\">\r\n      <g>\r\n       <use style=\"stroke:#000000;stroke-width:0.8;\" x=\"286.533695\" xlink:href=\"#mdaf7849d46\" y=\"239.758125\"/>\r\n      </g>\r\n     </g>\r\n     <g id=\"text_7\">\r\n      <!-- 6 -->\r\n      <g transform=\"translate(283.03432 255.116406)scale(0.11 -0.11)\">\r\n       <defs>\r\n        <path d=\"M 33.015625 40.375 \r\nQ 26.375 40.375 22.484375 35.828125 \r\nQ 18.609375 31.296875 18.609375 23.390625 \r\nQ 18.609375 15.53125 22.484375 10.953125 \r\nQ 26.375 6.390625 33.015625 6.390625 \r\nQ 39.65625 6.390625 43.53125 10.953125 \r\nQ 47.40625 15.53125 47.40625 23.390625 \r\nQ 47.40625 31.296875 43.53125 35.828125 \r\nQ 39.65625 40.375 33.015625 40.375 \r\nz\r\nM 52.59375 71.296875 \r\nL 52.59375 62.3125 \r\nQ 48.875 64.0625 45.09375 64.984375 \r\nQ 41.3125 65.921875 37.59375 65.921875 \r\nQ 27.828125 65.921875 22.671875 59.328125 \r\nQ 17.53125 52.734375 16.796875 39.40625 \r\nQ 19.671875 43.65625 24.015625 45.921875 \r\nQ 28.375 48.1875 33.59375 48.1875 \r\nQ 44.578125 48.1875 50.953125 41.515625 \r\nQ 57.328125 34.859375 57.328125 23.390625 \r\nQ 57.328125 12.15625 50.6875 5.359375 \r\nQ 44.046875 -1.421875 33.015625 -1.421875 \r\nQ 20.359375 -1.421875 13.671875 8.265625 \r\nQ 6.984375 17.96875 6.984375 36.375 \r\nQ 6.984375 53.65625 15.1875 63.9375 \r\nQ 23.390625 74.21875 37.203125 74.21875 \r\nQ 40.921875 74.21875 44.703125 73.484375 \r\nQ 48.484375 72.75 52.59375 71.296875 \r\nz\r\n\" id=\"DejaVuSans-54\"/>\r\n       </defs>\r\n       <use xlink:href=\"#DejaVuSans-54\"/>\r\n      </g>\r\n     </g>\r\n    </g>\r\n    <g id=\"xtick_8\">\r\n     <g id=\"line2d_8\">\r\n      <g>\r\n       <use style=\"stroke:#000000;stroke-width:0.8;\" x=\"324.247585\" xlink:href=\"#mdaf7849d46\" y=\"239.758125\"/>\r\n      </g>\r\n     </g>\r\n     <g id=\"text_8\">\r\n      <!-- 7 -->\r\n      <g transform=\"translate(320.74821 255.116406)scale(0.11 -0.11)\">\r\n       <defs>\r\n        <path d=\"M 8.203125 72.90625 \r\nL 55.078125 72.90625 \r\nL 55.078125 68.703125 \r\nL 28.609375 0 \r\nL 18.3125 0 \r\nL 43.21875 64.59375 \r\nL 8.203125 64.59375 \r\nz\r\n\" id=\"DejaVuSans-55\"/>\r\n       </defs>\r\n       <use xlink:href=\"#DejaVuSans-55\"/>\r\n      </g>\r\n     </g>\r\n    </g>\r\n    <g id=\"xtick_9\">\r\n     <g id=\"line2d_9\">\r\n      <g>\r\n       <use style=\"stroke:#000000;stroke-width:0.8;\" x=\"361.961476\" xlink:href=\"#mdaf7849d46\" y=\"239.758125\"/>\r\n      </g>\r\n     </g>\r\n     <g id=\"text_9\">\r\n      <!-- 8 -->\r\n      <g transform=\"translate(358.462101 255.116406)scale(0.11 -0.11)\">\r\n       <defs>\r\n        <path d=\"M 31.78125 34.625 \r\nQ 24.75 34.625 20.71875 30.859375 \r\nQ 16.703125 27.09375 16.703125 20.515625 \r\nQ 16.703125 13.921875 20.71875 10.15625 \r\nQ 24.75 6.390625 31.78125 6.390625 \r\nQ 38.8125 6.390625 42.859375 10.171875 \r\nQ 46.921875 13.96875 46.921875 20.515625 \r\nQ 46.921875 27.09375 42.890625 30.859375 \r\nQ 38.875 34.625 31.78125 34.625 \r\nz\r\nM 21.921875 38.8125 \r\nQ 15.578125 40.375 12.03125 44.71875 \r\nQ 8.5 49.078125 8.5 55.328125 \r\nQ 8.5 64.0625 14.71875 69.140625 \r\nQ 20.953125 74.21875 31.78125 74.21875 \r\nQ 42.671875 74.21875 48.875 69.140625 \r\nQ 55.078125 64.0625 55.078125 55.328125 \r\nQ 55.078125 49.078125 51.53125 44.71875 \r\nQ 48 40.375 41.703125 38.8125 \r\nQ 48.828125 37.15625 52.796875 32.3125 \r\nQ 56.78125 27.484375 56.78125 20.515625 \r\nQ 56.78125 9.90625 50.3125 4.234375 \r\nQ 43.84375 -1.421875 31.78125 -1.421875 \r\nQ 19.734375 -1.421875 13.25 4.234375 \r\nQ 6.78125 9.90625 6.78125 20.515625 \r\nQ 6.78125 27.484375 10.78125 32.3125 \r\nQ 14.796875 37.15625 21.921875 38.8125 \r\nz\r\nM 18.3125 54.390625 \r\nQ 18.3125 48.734375 21.84375 45.5625 \r\nQ 25.390625 42.390625 31.78125 42.390625 \r\nQ 38.140625 42.390625 41.71875 45.5625 \r\nQ 45.3125 48.734375 45.3125 54.390625 \r\nQ 45.3125 60.0625 41.71875 63.234375 \r\nQ 38.140625 66.40625 31.78125 66.40625 \r\nQ 25.390625 66.40625 21.84375 63.234375 \r\nQ 18.3125 60.0625 18.3125 54.390625 \r\nz\r\n\" id=\"DejaVuSans-56\"/>\r\n       </defs>\r\n       <use xlink:href=\"#DejaVuSans-56\"/>\r\n      </g>\r\n     </g>\r\n    </g>\r\n    <g id=\"text_10\">\r\n     <!-- Tiempo -->\r\n     <g transform=\"translate(192.148438 269.762344)scale(0.11 -0.11)\">\r\n      <defs>\r\n       <path d=\"M -0.296875 72.90625 \r\nL 61.375 72.90625 \r\nL 61.375 64.59375 \r\nL 35.5 64.59375 \r\nL 35.5 0 \r\nL 25.59375 0 \r\nL 25.59375 64.59375 \r\nL -0.296875 64.59375 \r\nz\r\n\" id=\"DejaVuSans-84\"/>\r\n       <path d=\"M 9.421875 54.6875 \r\nL 18.40625 54.6875 \r\nL 18.40625 0 \r\nL 9.421875 0 \r\nz\r\nM 9.421875 75.984375 \r\nL 18.40625 75.984375 \r\nL 18.40625 64.59375 \r\nL 9.421875 64.59375 \r\nz\r\n\" id=\"DejaVuSans-105\"/>\r\n       <path d=\"M 56.203125 29.59375 \r\nL 56.203125 25.203125 \r\nL 14.890625 25.203125 \r\nQ 15.484375 15.921875 20.484375 11.0625 \r\nQ 25.484375 6.203125 34.421875 6.203125 \r\nQ 39.59375 6.203125 44.453125 7.46875 \r\nQ 49.3125 8.734375 54.109375 11.28125 \r\nL 54.109375 2.78125 \r\nQ 49.265625 0.734375 44.1875 -0.34375 \r\nQ 39.109375 -1.421875 33.890625 -1.421875 \r\nQ 20.796875 -1.421875 13.15625 6.1875 \r\nQ 5.515625 13.8125 5.515625 26.8125 \r\nQ 5.515625 40.234375 12.765625 48.109375 \r\nQ 20.015625 56 32.328125 56 \r\nQ 43.359375 56 49.78125 48.890625 \r\nQ 56.203125 41.796875 56.203125 29.59375 \r\nz\r\nM 47.21875 32.234375 \r\nQ 47.125 39.59375 43.09375 43.984375 \r\nQ 39.0625 48.390625 32.421875 48.390625 \r\nQ 24.90625 48.390625 20.390625 44.140625 \r\nQ 15.875 39.890625 15.1875 32.171875 \r\nz\r\n\" id=\"DejaVuSans-101\"/>\r\n       <path d=\"M 52 44.1875 \r\nQ 55.375 50.25 60.0625 53.125 \r\nQ 64.75 56 71.09375 56 \r\nQ 79.640625 56 84.28125 50.015625 \r\nQ 88.921875 44.046875 88.921875 33.015625 \r\nL 88.921875 0 \r\nL 79.890625 0 \r\nL 79.890625 32.71875 \r\nQ 79.890625 40.578125 77.09375 44.375 \r\nQ 74.3125 48.1875 68.609375 48.1875 \r\nQ 61.625 48.1875 57.5625 43.546875 \r\nQ 53.515625 38.921875 53.515625 30.90625 \r\nL 53.515625 0 \r\nL 44.484375 0 \r\nL 44.484375 32.71875 \r\nQ 44.484375 40.625 41.703125 44.40625 \r\nQ 38.921875 48.1875 33.109375 48.1875 \r\nQ 26.21875 48.1875 22.15625 43.53125 \r\nQ 18.109375 38.875 18.109375 30.90625 \r\nL 18.109375 0 \r\nL 9.078125 0 \r\nL 9.078125 54.6875 \r\nL 18.109375 54.6875 \r\nL 18.109375 46.1875 \r\nQ 21.1875 51.21875 25.484375 53.609375 \r\nQ 29.78125 56 35.6875 56 \r\nQ 41.65625 56 45.828125 52.96875 \r\nQ 50 49.953125 52 44.1875 \r\nz\r\n\" id=\"DejaVuSans-109\"/>\r\n       <path d=\"M 18.109375 8.203125 \r\nL 18.109375 -20.796875 \r\nL 9.078125 -20.796875 \r\nL 9.078125 54.6875 \r\nL 18.109375 54.6875 \r\nL 18.109375 46.390625 \r\nQ 20.953125 51.265625 25.265625 53.625 \r\nQ 29.59375 56 35.59375 56 \r\nQ 45.5625 56 51.78125 48.09375 \r\nQ 58.015625 40.1875 58.015625 27.296875 \r\nQ 58.015625 14.40625 51.78125 6.484375 \r\nQ 45.5625 -1.421875 35.59375 -1.421875 \r\nQ 29.59375 -1.421875 25.265625 0.953125 \r\nQ 20.953125 3.328125 18.109375 8.203125 \r\nz\r\nM 48.6875 27.296875 \r\nQ 48.6875 37.203125 44.609375 42.84375 \r\nQ 40.53125 48.484375 33.40625 48.484375 \r\nQ 26.265625 48.484375 22.1875 42.84375 \r\nQ 18.109375 37.203125 18.109375 27.296875 \r\nQ 18.109375 17.390625 22.1875 11.75 \r\nQ 26.265625 6.109375 33.40625 6.109375 \r\nQ 40.53125 6.109375 44.609375 11.75 \r\nQ 48.6875 17.390625 48.6875 27.296875 \r\nz\r\n\" id=\"DejaVuSans-112\"/>\r\n       <path d=\"M 30.609375 48.390625 \r\nQ 23.390625 48.390625 19.1875 42.75 \r\nQ 14.984375 37.109375 14.984375 27.296875 \r\nQ 14.984375 17.484375 19.15625 11.84375 \r\nQ 23.34375 6.203125 30.609375 6.203125 \r\nQ 37.796875 6.203125 41.984375 11.859375 \r\nQ 46.1875 17.53125 46.1875 27.296875 \r\nQ 46.1875 37.015625 41.984375 42.703125 \r\nQ 37.796875 48.390625 30.609375 48.390625 \r\nz\r\nM 30.609375 56 \r\nQ 42.328125 56 49.015625 48.375 \r\nQ 55.71875 40.765625 55.71875 27.296875 \r\nQ 55.71875 13.875 49.015625 6.21875 \r\nQ 42.328125 -1.421875 30.609375 -1.421875 \r\nQ 18.84375 -1.421875 12.171875 6.21875 \r\nQ 5.515625 13.875 5.515625 27.296875 \r\nQ 5.515625 40.765625 12.171875 48.375 \r\nQ 18.84375 56 30.609375 56 \r\nz\r\n\" id=\"DejaVuSans-111\"/>\r\n      </defs>\r\n      <use xlink:href=\"#DejaVuSans-84\"/>\r\n      <use x=\"57.958984\" xlink:href=\"#DejaVuSans-105\"/>\r\n      <use x=\"85.742188\" xlink:href=\"#DejaVuSans-101\"/>\r\n      <use x=\"147.265625\" xlink:href=\"#DejaVuSans-109\"/>\r\n      <use x=\"244.677734\" xlink:href=\"#DejaVuSans-112\"/>\r\n      <use x=\"308.154297\" xlink:href=\"#DejaVuSans-111\"/>\r\n     </g>\r\n    </g>\r\n   </g>\r\n   <g id=\"matplotlib.axis_2\">\r\n    <g id=\"ytick_1\">\r\n     <g id=\"line2d_10\">\r\n      <defs>\r\n       <path d=\"M 0 0 \r\nL -3.5 0 \r\n\" id=\"mf4b673b885\" style=\"stroke:#000000;stroke-width:0.8;\"/>\r\n      </defs>\r\n      <g>\r\n       <use style=\"stroke:#000000;stroke-width:0.8;\" x=\"45.062344\" xlink:href=\"#mf4b673b885\" y=\"229.935906\"/>\r\n      </g>\r\n     </g>\r\n     <g id=\"text_11\">\r\n      <!-- −6 -->\r\n      <g transform=\"translate(21.845938 234.115047)scale(0.11 -0.11)\">\r\n       <defs>\r\n        <path d=\"M 10.59375 35.5 \r\nL 73.1875 35.5 \r\nL 73.1875 27.203125 \r\nL 10.59375 27.203125 \r\nz\r\n\" id=\"DejaVuSans-8722\"/>\r\n       </defs>\r\n       <use xlink:href=\"#DejaVuSans-8722\"/>\r\n       <use x=\"83.789062\" xlink:href=\"#DejaVuSans-54\"/>\r\n      </g>\r\n     </g>\r\n    </g>\r\n    <g id=\"ytick_2\">\r\n     <g id=\"line2d_11\">\r\n      <g>\r\n       <use style=\"stroke:#000000;stroke-width:0.8;\" x=\"45.062344\" xlink:href=\"#mf4b673b885\" y=\"196.953848\"/>\r\n      </g>\r\n     </g>\r\n     <g id=\"text_12\">\r\n      <!-- −5 -->\r\n      <g transform=\"translate(21.845938 201.132989)scale(0.11 -0.11)\">\r\n       <use xlink:href=\"#DejaVuSans-8722\"/>\r\n       <use x=\"83.789062\" xlink:href=\"#DejaVuSans-53\"/>\r\n      </g>\r\n     </g>\r\n    </g>\r\n    <g id=\"ytick_3\">\r\n     <g id=\"line2d_12\">\r\n      <g>\r\n       <use style=\"stroke:#000000;stroke-width:0.8;\" x=\"45.062344\" xlink:href=\"#mf4b673b885\" y=\"163.97179\"/>\r\n      </g>\r\n     </g>\r\n     <g id=\"text_13\">\r\n      <!-- −4 -->\r\n      <g transform=\"translate(21.845938 168.150931)scale(0.11 -0.11)\">\r\n       <use xlink:href=\"#DejaVuSans-8722\"/>\r\n       <use x=\"83.789062\" xlink:href=\"#DejaVuSans-52\"/>\r\n      </g>\r\n     </g>\r\n    </g>\r\n    <g id=\"ytick_4\">\r\n     <g id=\"line2d_13\">\r\n      <g>\r\n       <use style=\"stroke:#000000;stroke-width:0.8;\" x=\"45.062344\" xlink:href=\"#mf4b673b885\" y=\"130.989732\"/>\r\n      </g>\r\n     </g>\r\n     <g id=\"text_14\">\r\n      <!-- −3 -->\r\n      <g transform=\"translate(21.845938 135.168873)scale(0.11 -0.11)\">\r\n       <use xlink:href=\"#DejaVuSans-8722\"/>\r\n       <use x=\"83.789062\" xlink:href=\"#DejaVuSans-51\"/>\r\n      </g>\r\n     </g>\r\n    </g>\r\n    <g id=\"ytick_5\">\r\n     <g id=\"line2d_14\">\r\n      <g>\r\n       <use style=\"stroke:#000000;stroke-width:0.8;\" x=\"45.062344\" xlink:href=\"#mf4b673b885\" y=\"98.007674\"/>\r\n      </g>\r\n     </g>\r\n     <g id=\"text_15\">\r\n      <!-- −2 -->\r\n      <g transform=\"translate(21.845938 102.186815)scale(0.11 -0.11)\">\r\n       <use xlink:href=\"#DejaVuSans-8722\"/>\r\n       <use x=\"83.789062\" xlink:href=\"#DejaVuSans-50\"/>\r\n      </g>\r\n     </g>\r\n    </g>\r\n    <g id=\"ytick_6\">\r\n     <g id=\"line2d_15\">\r\n      <g>\r\n       <use style=\"stroke:#000000;stroke-width:0.8;\" x=\"45.062344\" xlink:href=\"#mf4b673b885\" y=\"65.025616\"/>\r\n      </g>\r\n     </g>\r\n     <g id=\"text_16\">\r\n      <!-- −1 -->\r\n      <g transform=\"translate(21.845938 69.204757)scale(0.11 -0.11)\">\r\n       <use xlink:href=\"#DejaVuSans-8722\"/>\r\n       <use x=\"83.789062\" xlink:href=\"#DejaVuSans-49\"/>\r\n      </g>\r\n     </g>\r\n    </g>\r\n    <g id=\"ytick_7\">\r\n     <g id=\"line2d_16\">\r\n      <g>\r\n       <use style=\"stroke:#000000;stroke-width:0.8;\" x=\"45.062344\" xlink:href=\"#mf4b673b885\" y=\"32.043558\"/>\r\n      </g>\r\n     </g>\r\n     <g id=\"text_17\">\r\n      <!-- 0 -->\r\n      <g transform=\"translate(31.063594 36.222699)scale(0.11 -0.11)\">\r\n       <use xlink:href=\"#DejaVuSans-48\"/>\r\n      </g>\r\n     </g>\r\n    </g>\r\n    <g id=\"text_18\">\r\n     <!-- Voltaje -->\r\n     <g transform=\"translate(15.558281 149.706328)rotate(-90)scale(0.11 -0.11)\">\r\n      <defs>\r\n       <path d=\"M 28.609375 0 \r\nL 0.78125 72.90625 \r\nL 11.078125 72.90625 \r\nL 34.1875 11.53125 \r\nL 57.328125 72.90625 \r\nL 67.578125 72.90625 \r\nL 39.796875 0 \r\nz\r\n\" id=\"DejaVuSans-86\"/>\r\n       <path d=\"M 9.421875 75.984375 \r\nL 18.40625 75.984375 \r\nL 18.40625 0 \r\nL 9.421875 0 \r\nz\r\n\" id=\"DejaVuSans-108\"/>\r\n       <path d=\"M 18.3125 70.21875 \r\nL 18.3125 54.6875 \r\nL 36.8125 54.6875 \r\nL 36.8125 47.703125 \r\nL 18.3125 47.703125 \r\nL 18.3125 18.015625 \r\nQ 18.3125 11.328125 20.140625 9.421875 \r\nQ 21.96875 7.515625 27.59375 7.515625 \r\nL 36.8125 7.515625 \r\nL 36.8125 0 \r\nL 27.59375 0 \r\nQ 17.1875 0 13.234375 3.875 \r\nQ 9.28125 7.765625 9.28125 18.015625 \r\nL 9.28125 47.703125 \r\nL 2.6875 47.703125 \r\nL 2.6875 54.6875 \r\nL 9.28125 54.6875 \r\nL 9.28125 70.21875 \r\nz\r\n\" id=\"DejaVuSans-116\"/>\r\n       <path d=\"M 34.28125 27.484375 \r\nQ 23.390625 27.484375 19.1875 25 \r\nQ 14.984375 22.515625 14.984375 16.5 \r\nQ 14.984375 11.71875 18.140625 8.90625 \r\nQ 21.296875 6.109375 26.703125 6.109375 \r\nQ 34.1875 6.109375 38.703125 11.40625 \r\nQ 43.21875 16.703125 43.21875 25.484375 \r\nL 43.21875 27.484375 \r\nz\r\nM 52.203125 31.203125 \r\nL 52.203125 0 \r\nL 43.21875 0 \r\nL 43.21875 8.296875 \r\nQ 40.140625 3.328125 35.546875 0.953125 \r\nQ 30.953125 -1.421875 24.3125 -1.421875 \r\nQ 15.921875 -1.421875 10.953125 3.296875 \r\nQ 6 8.015625 6 15.921875 \r\nQ 6 25.140625 12.171875 29.828125 \r\nQ 18.359375 34.515625 30.609375 34.515625 \r\nL 43.21875 34.515625 \r\nL 43.21875 35.40625 \r\nQ 43.21875 41.609375 39.140625 45 \r\nQ 35.0625 48.390625 27.6875 48.390625 \r\nQ 23 48.390625 18.546875 47.265625 \r\nQ 14.109375 46.140625 10.015625 43.890625 \r\nL 10.015625 52.203125 \r\nQ 14.9375 54.109375 19.578125 55.046875 \r\nQ 24.21875 56 28.609375 56 \r\nQ 40.484375 56 46.34375 49.84375 \r\nQ 52.203125 43.703125 52.203125 31.203125 \r\nz\r\n\" id=\"DejaVuSans-97\"/>\r\n       <path d=\"M 9.421875 54.6875 \r\nL 18.40625 54.6875 \r\nL 18.40625 -0.984375 \r\nQ 18.40625 -11.421875 14.421875 -16.109375 \r\nQ 10.453125 -20.796875 1.609375 -20.796875 \r\nL -1.8125 -20.796875 \r\nL -1.8125 -13.1875 \r\nL 0.59375 -13.1875 \r\nQ 5.71875 -13.1875 7.5625 -10.8125 \r\nQ 9.421875 -8.453125 9.421875 -0.984375 \r\nz\r\nM 9.421875 75.984375 \r\nL 18.40625 75.984375 \r\nL 18.40625 64.59375 \r\nL 9.421875 64.59375 \r\nz\r\n\" id=\"DejaVuSans-106\"/>\r\n      </defs>\r\n      <use xlink:href=\"#DejaVuSans-86\"/>\r\n      <use x=\"60.658203\" xlink:href=\"#DejaVuSans-111\"/>\r\n      <use x=\"121.839844\" xlink:href=\"#DejaVuSans-108\"/>\r\n      <use x=\"149.623047\" xlink:href=\"#DejaVuSans-116\"/>\r\n      <use x=\"188.832031\" xlink:href=\"#DejaVuSans-97\"/>\r\n      <use x=\"250.111328\" xlink:href=\"#DejaVuSans-106\"/>\r\n      <use x=\"277.894531\" xlink:href=\"#DejaVuSans-101\"/>\r\n     </g>\r\n    </g>\r\n   </g>\r\n   <g id=\"line2d_17\">\r\n    <path clip-path=\"url(#pa522f6c673)\" d=\"M 60.280526 32.201761 \r\nL 60.3107 32.359901 \r\nL 60.316984 32.392818 \r\nL 60.323238 32.425577 \r\nL 60.335747 32.491078 \r\nL 60.360766 32.622014 \r\nL 60.410803 32.883627 \r\nL 60.510876 33.405812 \r\nL 60.711024 34.446036 \r\nL 61.111319 36.510011 \r\nL 61.911909 40.572929 \r\nL 63.513089 48.445402 \r\nL 66.704427 63.179668 \r\nL 70.475816 79.061215 \r\nL 74.247205 93.430233 \r\nL 78.018594 106.430773 \r\nL 81.789983 118.193167 \r\nL 85.561372 128.835333 \r\nL 89.332761 138.463959 \r\nL 93.10415 147.175573 \r\nL 96.875539 155.057509 \r\nL 100.646928 162.188785 \r\nL 104.418317 168.640892 \r\nL 108.189706 174.478512 \r\nL 111.961095 179.760169 \r\nL 115.732484 184.538811 \r\nL 119.503873 188.862343 \r\nL 123.275262 192.774111 \r\nL 127.046652 196.31333 \r\nL 130.818041 199.51548 \r\nL 134.58943 202.412663 \r\nL 138.360819 205.033925 \r\nL 142.132208 207.405542 \r\nL 145.903597 209.551291 \r\nL 149.674986 211.492683 \r\nL 153.446375 213.24918 \r\nL 157.217764 214.838392 \r\nL 160.989153 216.276251 \r\nL 164.760542 217.57717 \r\nL 168.531931 218.754193 \r\nL 172.30332 219.819118 \r\nL 176.074709 220.782622 \r\nL 179.846098 221.654363 \r\nL 183.617487 222.443081 \r\nL 187.388876 223.156684 \r\nL 191.160265 223.802324 \r\nL 194.931655 224.386475 \r\nL 198.703044 224.914992 \r\nL 202.474433 225.393174 \r\nL 206.245822 225.825815 \r\nL 210.017211 226.217253 \r\nL 213.7886 226.57141 \r\nL 217.559989 226.891838 \r\nL 221.331378 227.181749 \r\nL 225.102767 227.44405 \r\nL 228.874156 227.68137 \r\nL 232.645545 227.896087 \r\nL 236.416934 228.090356 \r\nL 240.188323 228.266123 \r\nL 243.959712 228.42515 \r\nL 247.731101 228.569031 \r\nL 251.50249 228.69921 \r\nL 255.273879 228.81699 \r\nL 259.045268 228.923554 \r\nL 262.816657 229.019968 \r\nL 266.588047 229.1072 \r\nL 270.359436 229.186125 \r\nL 274.130825 229.257533 \r\nL 277.902214 229.32214 \r\nL 281.673603 229.380594 \r\nL 285.444992 229.43348 \r\nL 289.216381 229.481331 \r\nL 292.98777 229.524623 \r\nL 296.759159 229.563793 \r\nL 300.530548 229.599233 \r\nL 304.301937 229.631297 \r\nL 308.073326 229.660307 \r\nL 311.844715 229.686555 \r\nL 315.616104 229.710302 \r\nL 319.387493 229.731788 \r\nL 323.158882 229.751228 \r\nL 326.930271 229.768817 \r\nL 330.70166 229.78473 \r\nL 334.47305 229.799128 \r\nL 338.244439 229.812154 \r\nL 342.015828 229.82394 \r\nL 345.787217 229.834604 \r\nL 349.558606 229.844251 \r\nL 353.329995 229.85298 \r\nL 357.101384 229.860878 \r\nL 360.872773 229.868024 \r\nL 364.644162 229.874489 \r\n\" style=\"fill:none;stroke:#1f77b4;stroke-linecap:square;stroke-width:1.5;\"/>\r\n   </g>\r\n   <g id=\"patch_3\">\r\n    <path d=\"M 45.062344 239.758125 \r\nL 45.062344 22.318125 \r\n\" style=\"fill:none;stroke:#000000;stroke-linecap:square;stroke-linejoin:miter;stroke-width:0.8;\"/>\r\n   </g>\r\n   <g id=\"patch_4\">\r\n    <path d=\"M 379.862344 239.758125 \r\nL 379.862344 22.318125 \r\n\" style=\"fill:none;stroke:#000000;stroke-linecap:square;stroke-linejoin:miter;stroke-width:0.8;\"/>\r\n   </g>\r\n   <g id=\"patch_5\">\r\n    <path d=\"M 45.062344 239.758125 \r\nL 379.862344 239.758125 \r\n\" style=\"fill:none;stroke:#000000;stroke-linecap:square;stroke-linejoin:miter;stroke-width:0.8;\"/>\r\n   </g>\r\n   <g id=\"patch_6\">\r\n    <path d=\"M 45.062344 22.318125 \r\nL 379.862344 22.318125 \r\n\" style=\"fill:none;stroke:#000000;stroke-linecap:square;stroke-linejoin:miter;stroke-width:0.8;\"/>\r\n   </g>\r\n   <g id=\"text_19\">\r\n    <!-- Voltaje en borne V1 -->\r\n    <g transform=\"translate(153.623906 16.318125)scale(0.12 -0.12)\">\r\n     <defs>\r\n      <path id=\"DejaVuSans-32\"/>\r\n      <path d=\"M 54.890625 33.015625 \r\nL 54.890625 0 \r\nL 45.90625 0 \r\nL 45.90625 32.71875 \r\nQ 45.90625 40.484375 42.875 44.328125 \r\nQ 39.84375 48.1875 33.796875 48.1875 \r\nQ 26.515625 48.1875 22.3125 43.546875 \r\nQ 18.109375 38.921875 18.109375 30.90625 \r\nL 18.109375 0 \r\nL 9.078125 0 \r\nL 9.078125 54.6875 \r\nL 18.109375 54.6875 \r\nL 18.109375 46.1875 \r\nQ 21.34375 51.125 25.703125 53.5625 \r\nQ 30.078125 56 35.796875 56 \r\nQ 45.21875 56 50.046875 50.171875 \r\nQ 54.890625 44.34375 54.890625 33.015625 \r\nz\r\n\" id=\"DejaVuSans-110\"/>\r\n      <path d=\"M 48.6875 27.296875 \r\nQ 48.6875 37.203125 44.609375 42.84375 \r\nQ 40.53125 48.484375 33.40625 48.484375 \r\nQ 26.265625 48.484375 22.1875 42.84375 \r\nQ 18.109375 37.203125 18.109375 27.296875 \r\nQ 18.109375 17.390625 22.1875 11.75 \r\nQ 26.265625 6.109375 33.40625 6.109375 \r\nQ 40.53125 6.109375 44.609375 11.75 \r\nQ 48.6875 17.390625 48.6875 27.296875 \r\nz\r\nM 18.109375 46.390625 \r\nQ 20.953125 51.265625 25.265625 53.625 \r\nQ 29.59375 56 35.59375 56 \r\nQ 45.5625 56 51.78125 48.09375 \r\nQ 58.015625 40.1875 58.015625 27.296875 \r\nQ 58.015625 14.40625 51.78125 6.484375 \r\nQ 45.5625 -1.421875 35.59375 -1.421875 \r\nQ 29.59375 -1.421875 25.265625 0.953125 \r\nQ 20.953125 3.328125 18.109375 8.203125 \r\nL 18.109375 0 \r\nL 9.078125 0 \r\nL 9.078125 75.984375 \r\nL 18.109375 75.984375 \r\nz\r\n\" id=\"DejaVuSans-98\"/>\r\n      <path d=\"M 41.109375 46.296875 \r\nQ 39.59375 47.171875 37.8125 47.578125 \r\nQ 36.03125 48 33.890625 48 \r\nQ 26.265625 48 22.1875 43.046875 \r\nQ 18.109375 38.09375 18.109375 28.8125 \r\nL 18.109375 0 \r\nL 9.078125 0 \r\nL 9.078125 54.6875 \r\nL 18.109375 54.6875 \r\nL 18.109375 46.1875 \r\nQ 20.953125 51.171875 25.484375 53.578125 \r\nQ 30.03125 56 36.53125 56 \r\nQ 37.453125 56 38.578125 55.875 \r\nQ 39.703125 55.765625 41.0625 55.515625 \r\nz\r\n\" id=\"DejaVuSans-114\"/>\r\n     </defs>\r\n     <use xlink:href=\"#DejaVuSans-86\"/>\r\n     <use x=\"60.658203\" xlink:href=\"#DejaVuSans-111\"/>\r\n     <use x=\"121.839844\" xlink:href=\"#DejaVuSans-108\"/>\r\n     <use x=\"149.623047\" xlink:href=\"#DejaVuSans-116\"/>\r\n     <use x=\"188.832031\" xlink:href=\"#DejaVuSans-97\"/>\r\n     <use x=\"250.111328\" xlink:href=\"#DejaVuSans-106\"/>\r\n     <use x=\"277.894531\" xlink:href=\"#DejaVuSans-101\"/>\r\n     <use x=\"339.417969\" xlink:href=\"#DejaVuSans-32\"/>\r\n     <use x=\"371.205078\" xlink:href=\"#DejaVuSans-101\"/>\r\n     <use x=\"432.728516\" xlink:href=\"#DejaVuSans-110\"/>\r\n     <use x=\"496.107422\" xlink:href=\"#DejaVuSans-32\"/>\r\n     <use x=\"527.894531\" xlink:href=\"#DejaVuSans-98\"/>\r\n     <use x=\"591.371094\" xlink:href=\"#DejaVuSans-111\"/>\r\n     <use x=\"652.552734\" xlink:href=\"#DejaVuSans-114\"/>\r\n     <use x=\"691.916016\" xlink:href=\"#DejaVuSans-110\"/>\r\n     <use x=\"755.294922\" xlink:href=\"#DejaVuSans-101\"/>\r\n     <use x=\"816.818359\" xlink:href=\"#DejaVuSans-32\"/>\r\n     <use x=\"848.605469\" xlink:href=\"#DejaVuSans-86\"/>\r\n     <use x=\"917.013672\" xlink:href=\"#DejaVuSans-49\"/>\r\n    </g>\r\n   </g>\r\n  </g>\r\n </g>\r\n <defs>\r\n  <clipPath id=\"pa522f6c673\">\r\n   <rect height=\"217.44\" width=\"334.8\" x=\"45.062344\" y=\"22.318125\"/>\r\n  </clipPath>\r\n </defs>\r\n</svg>\r\n"
          },
          "metadata": {
            "needs_background": "light"
          }
        }
      ],
      "source": [
        "figura2 = plt.figure()\n",
        "plt.title(\"Voltaje en borne V1\")\n",
        "plt.xlabel(\"Tiempo (T)\")\n",
        "plt.ylabel(\"Voltaje (V)\")\n",
        "plt.plot(resultados['tran']['T'], resultados['tran']['V2'], label=\"Otra etiqueta\")"
      ]
    },
    {
      "cell_type": "markdown",
      "source": [
        "> **Pregunta:** Etiqueta los ejes convenientemente y comenta la gráfica. Dibuja otra gráfica con el voltaje en el borne `V1`. ¿Por qué son *opuestas*? ¿Qué le ocurre al voltaje a medida que evoluciona el circuito en el tiempo? Dibuja las gráficas en un formato estándar de representación vectorial (SVG, por ejemplo). Algo de ayuda [aquí](https://ipython.readthedocs.io/en/stable/api/generated/IPython.display.html#IPython.display.set_matplotlib_formats). ¿Qué valores devuelve el análisis de tipo `.op`? Justifícalo."
      ],
      "metadata": {}
    },
    {
      "source": [
        "En las gráficas anteriores a se observa como la intensidad de corriente que circula inicialmente por el circuito es muy alta, pero a media que la corriente llega al condensador, este se carga y aumenta la misma en su interior almacenándola, por lo que la corriente disminuye, reflejando así gráficamente la función una curva tan pronunciada. Por otro lado, en la segunda gráfica vemos cómo la función de la evolución del voltaje en el borne `V1` en el tiempo refleja una curva opuesta a la de la gráfica anterior, a medida que el circuito evoluciona en el tiempo el voltaje en el condensador se acumula y pasa de una carga inicial muy rápida y alta, a ritmos más lentos según nos acercamos a la acumulación total posible. "
      ],
      "cell_type": "markdown",
      "metadata": {}
    },
    {
      "cell_type": "markdown",
      "source": [
        "## Carrera de condensadores\n",
        "\n",
        "Ahora tenemos un circuito con dos condensadores en paralelo: \n",
        "\n",
        "![](https://raw.githubusercontent.com/pammacdotnet/spicelab/master/condensadores%20en%20paralelo.svg?sanitize=true)\n",
        "\n",
        "> **Pregunta:** Crea el netlist de este circuito e identifica qué condensador se satura primero. Dibuja la evolución de la intensidad en ambas ramas de manera simultánea. [Aquí](https://matplotlib.org/gallery/api/two_scales.html) tienes un ejemplo de cómo se hace esto en Matplotlib. Recuerda que para que Ahkab nos devuelva la corriente en una rama, debe de estar presente una pila. Si es necesario, inserta pilas virtuales de valor nulo (cero voltios), tal y como hemos comentado antes. Grafica también los voltajes (en otra gráfica, pero que aparezcan juntos). "
      ],
      "metadata": {}
    },
    {
      "cell_type": "code",
      "execution_count": 200,
      "metadata": {},
      "outputs": [
        {
          "output_type": "stream",
          "name": "stdout",
          "text": [
            "Overwriting carrera en condensadores.ckt\n"
          ]
        }
      ],
      "source": [
        "%%writefile \"carrera en condensadores.ckt\"\n",
        "* Carga condensador\n",
        "v0 0 1 type=vdc vdc=10\n",
        "r1 0 2 3k\n",
        "c1 2 3 47u ic=0\n",
        "v1dummy 3 1 type=vdc vdc=0\n",
        "c2 2 4 22u ic=0\n",
        "v2dummy 4 1 type=vdc vdc=0\n",
        ".tran tstep=0.01 tstart=6.5 tstop=7.5 uic=0\n",
        ".end"
      ]
    },
    {
      "cell_type": "code",
      "source": [
        "circuito_y_análisis = ahkab.netlist_parser.parse_circuit(\"carrera en condensadores.ckt\")\n",
        "circuito = circuito_y_análisis[0]       \n",
        "análisis_en_netlist = circuito_y_análisis[1]\n",
        "lista_de_análisis = ahkab.netlist_parser.parse_analysis(circuito, análisis_en_netlist)\n",
        "lista_de_análisis[0]['outfile'] = \"simulación tran carrera condensadores.tsv\"\n",
        "resultados = ahkab.run(circuito, lista_de_análisis)\n"
      ],
      "outputs": [
        {
          "output_type": "stream",
          "name": "stdout",
          "text": [
            "Starting transient analysis: \n",
            "Selected method: TRAP\n",
            "Solving...  done.\n",
            "Average time step: 0.00900901\n"
          ]
        }
      ],
      "execution_count": 201,
      "metadata": {
        "tags": []
      }
    },
    {
      "source": [
        "Procedemos a dibujar las gráficas de la evolución de la intensidad en ambas ramas y de los voltajes. Visualizándolas en formato estándar de representación vectorial (SVG) establecido previamente, formato que se mantendrá para las gráficas que restan por mostrarse en este documento."
      ],
      "cell_type": "markdown",
      "metadata": {}
    },
    {
      "cell_type": "code",
      "source": [
        "figura = plt.figure()\n",
        "plt.title(\"Carrera de condensadores\")\n",
        "plt.xlim(6.65, 7.5)\n",
        "plt.ylim(0.0, 0.0005)\n",
        "plt.grid()\n",
        "plt.xlabel(\"Tiempo (T)\")\n",
        "plt.ylabel(\"Intensidad (I)\")\n",
        "plt.plot(resultados['tran']['T'], resultados['tran']['I(V1DUMMY)'],label=\"Intensidad en C1\")\n",
        "plt.plot(resultados['tran']['T'], resultados['tran']['I(V2DUMMY)'],label=\"Intensidad en C2\")"
      ],
      "outputs": [
        {
          "output_type": "execute_result",
          "data": {
            "text/plain": [
              "[<matplotlib.lines.Line2D at 0x1fe0a17fcc8>]"
            ]
          },
          "metadata": {},
          "execution_count": 202
        },
        {
          "output_type": "display_data",
          "data": {
            "text/plain": "<Figure size 432x288 with 1 Axes>",
            "image/svg+xml": "<?xml version=\"1.0\" encoding=\"utf-8\" standalone=\"no\"?>\r\n<!DOCTYPE svg PUBLIC \"-//W3C//DTD SVG 1.1//EN\"\r\n  \"http://www.w3.org/Graphics/SVG/1.1/DTD/svg11.dtd\">\r\n<!-- Created with matplotlib (https://matplotlib.org/) -->\r\n<svg height=\"279.25pt\" version=\"1.1\" viewBox=\"0 0 418.082344 279.25\" width=\"418.082344pt\" xmlns=\"http://www.w3.org/2000/svg\" xmlns:xlink=\"http://www.w3.org/1999/xlink\">\r\n <metadata>\r\n  <rdf:RDF xmlns:cc=\"http://creativecommons.org/ns#\" xmlns:dc=\"http://purl.org/dc/elements/1.1/\" xmlns:rdf=\"http://www.w3.org/1999/02/22-rdf-syntax-ns#\">\r\n   <cc:Work>\r\n    <dc:type rdf:resource=\"http://purl.org/dc/dcmitype/StillImage\"/>\r\n    <dc:date>2021-01-06T21:30:50.530457</dc:date>\r\n    <dc:format>image/svg+xml</dc:format>\r\n    <dc:creator>\r\n     <cc:Agent>\r\n      <dc:title>Matplotlib v3.3.3, https://matplotlib.org/</dc:title>\r\n     </cc:Agent>\r\n    </dc:creator>\r\n   </cc:Work>\r\n  </rdf:RDF>\r\n </metadata>\r\n <defs>\r\n  <style type=\"text/css\">*{stroke-linecap:butt;stroke-linejoin:round;}</style>\r\n </defs>\r\n <g id=\"figure_1\">\r\n  <g id=\"patch_1\">\r\n   <path d=\"M 0 279.25 \r\nL 418.082344 279.25 \r\nL 418.082344 0 \r\nL 0 0 \r\nz\r\n\" style=\"fill:none;\"/>\r\n  </g>\r\n  <g id=\"axes_1\">\r\n   <g id=\"patch_2\">\r\n    <path d=\"M 67.335625 239.758125 \r\nL 402.135625 239.758125 \r\nL 402.135625 22.318125 \r\nL 67.335625 22.318125 \r\nz\r\n\" style=\"fill:#ffffff;\"/>\r\n   </g>\r\n   <g id=\"matplotlib.axis_1\">\r\n    <g id=\"xtick_1\">\r\n     <g id=\"line2d_1\">\r\n      <path clip-path=\"url(#pf5b2e1975e)\" d=\"M 87.029743 239.758125 \r\nL 87.029743 22.318125 \r\n\" style=\"fill:none;stroke:#b0b0b0;stroke-linecap:square;stroke-width:0.8;\"/>\r\n     </g>\r\n     <g id=\"line2d_2\">\r\n      <defs>\r\n       <path d=\"M 0 0 \r\nL 0 3.5 \r\n\" id=\"m3ff23b1c86\" style=\"stroke:#000000;stroke-width:0.8;\"/>\r\n      </defs>\r\n      <g>\r\n       <use style=\"stroke:#000000;stroke-width:0.8;\" x=\"87.029743\" xlink:href=\"#m3ff23b1c86\" y=\"239.758125\"/>\r\n      </g>\r\n     </g>\r\n     <g id=\"text_1\">\r\n      <!-- 6.7 -->\r\n      <g transform=\"translate(78.283024 255.116406)scale(0.11 -0.11)\">\r\n       <defs>\r\n        <path d=\"M 33.015625 40.375 \r\nQ 26.375 40.375 22.484375 35.828125 \r\nQ 18.609375 31.296875 18.609375 23.390625 \r\nQ 18.609375 15.53125 22.484375 10.953125 \r\nQ 26.375 6.390625 33.015625 6.390625 \r\nQ 39.65625 6.390625 43.53125 10.953125 \r\nQ 47.40625 15.53125 47.40625 23.390625 \r\nQ 47.40625 31.296875 43.53125 35.828125 \r\nQ 39.65625 40.375 33.015625 40.375 \r\nz\r\nM 52.59375 71.296875 \r\nL 52.59375 62.3125 \r\nQ 48.875 64.0625 45.09375 64.984375 \r\nQ 41.3125 65.921875 37.59375 65.921875 \r\nQ 27.828125 65.921875 22.671875 59.328125 \r\nQ 17.53125 52.734375 16.796875 39.40625 \r\nQ 19.671875 43.65625 24.015625 45.921875 \r\nQ 28.375 48.1875 33.59375 48.1875 \r\nQ 44.578125 48.1875 50.953125 41.515625 \r\nQ 57.328125 34.859375 57.328125 23.390625 \r\nQ 57.328125 12.15625 50.6875 5.359375 \r\nQ 44.046875 -1.421875 33.015625 -1.421875 \r\nQ 20.359375 -1.421875 13.671875 8.265625 \r\nQ 6.984375 17.96875 6.984375 36.375 \r\nQ 6.984375 53.65625 15.1875 63.9375 \r\nQ 23.390625 74.21875 37.203125 74.21875 \r\nQ 40.921875 74.21875 44.703125 73.484375 \r\nQ 48.484375 72.75 52.59375 71.296875 \r\nz\r\n\" id=\"DejaVuSans-54\"/>\r\n        <path d=\"M 10.6875 12.40625 \r\nL 21 12.40625 \r\nL 21 0 \r\nL 10.6875 0 \r\nz\r\n\" id=\"DejaVuSans-46\"/>\r\n        <path d=\"M 8.203125 72.90625 \r\nL 55.078125 72.90625 \r\nL 55.078125 68.703125 \r\nL 28.609375 0 \r\nL 18.3125 0 \r\nL 43.21875 64.59375 \r\nL 8.203125 64.59375 \r\nz\r\n\" id=\"DejaVuSans-55\"/>\r\n       </defs>\r\n       <use xlink:href=\"#DejaVuSans-54\"/>\r\n       <use x=\"63.623047\" xlink:href=\"#DejaVuSans-46\"/>\r\n       <use x=\"95.410156\" xlink:href=\"#DejaVuSans-55\"/>\r\n      </g>\r\n     </g>\r\n    </g>\r\n    <g id=\"xtick_2\">\r\n     <g id=\"line2d_3\">\r\n      <path clip-path=\"url(#pf5b2e1975e)\" d=\"M 126.417978 239.758125 \r\nL 126.417978 22.318125 \r\n\" style=\"fill:none;stroke:#b0b0b0;stroke-linecap:square;stroke-width:0.8;\"/>\r\n     </g>\r\n     <g id=\"line2d_4\">\r\n      <g>\r\n       <use style=\"stroke:#000000;stroke-width:0.8;\" x=\"126.417978\" xlink:href=\"#m3ff23b1c86\" y=\"239.758125\"/>\r\n      </g>\r\n     </g>\r\n     <g id=\"text_2\">\r\n      <!-- 6.8 -->\r\n      <g transform=\"translate(117.671259 255.116406)scale(0.11 -0.11)\">\r\n       <defs>\r\n        <path d=\"M 31.78125 34.625 \r\nQ 24.75 34.625 20.71875 30.859375 \r\nQ 16.703125 27.09375 16.703125 20.515625 \r\nQ 16.703125 13.921875 20.71875 10.15625 \r\nQ 24.75 6.390625 31.78125 6.390625 \r\nQ 38.8125 6.390625 42.859375 10.171875 \r\nQ 46.921875 13.96875 46.921875 20.515625 \r\nQ 46.921875 27.09375 42.890625 30.859375 \r\nQ 38.875 34.625 31.78125 34.625 \r\nz\r\nM 21.921875 38.8125 \r\nQ 15.578125 40.375 12.03125 44.71875 \r\nQ 8.5 49.078125 8.5 55.328125 \r\nQ 8.5 64.0625 14.71875 69.140625 \r\nQ 20.953125 74.21875 31.78125 74.21875 \r\nQ 42.671875 74.21875 48.875 69.140625 \r\nQ 55.078125 64.0625 55.078125 55.328125 \r\nQ 55.078125 49.078125 51.53125 44.71875 \r\nQ 48 40.375 41.703125 38.8125 \r\nQ 48.828125 37.15625 52.796875 32.3125 \r\nQ 56.78125 27.484375 56.78125 20.515625 \r\nQ 56.78125 9.90625 50.3125 4.234375 \r\nQ 43.84375 -1.421875 31.78125 -1.421875 \r\nQ 19.734375 -1.421875 13.25 4.234375 \r\nQ 6.78125 9.90625 6.78125 20.515625 \r\nQ 6.78125 27.484375 10.78125 32.3125 \r\nQ 14.796875 37.15625 21.921875 38.8125 \r\nz\r\nM 18.3125 54.390625 \r\nQ 18.3125 48.734375 21.84375 45.5625 \r\nQ 25.390625 42.390625 31.78125 42.390625 \r\nQ 38.140625 42.390625 41.71875 45.5625 \r\nQ 45.3125 48.734375 45.3125 54.390625 \r\nQ 45.3125 60.0625 41.71875 63.234375 \r\nQ 38.140625 66.40625 31.78125 66.40625 \r\nQ 25.390625 66.40625 21.84375 63.234375 \r\nQ 18.3125 60.0625 18.3125 54.390625 \r\nz\r\n\" id=\"DejaVuSans-56\"/>\r\n       </defs>\r\n       <use xlink:href=\"#DejaVuSans-54\"/>\r\n       <use x=\"63.623047\" xlink:href=\"#DejaVuSans-46\"/>\r\n       <use x=\"95.410156\" xlink:href=\"#DejaVuSans-56\"/>\r\n      </g>\r\n     </g>\r\n    </g>\r\n    <g id=\"xtick_3\">\r\n     <g id=\"line2d_5\">\r\n      <path clip-path=\"url(#pf5b2e1975e)\" d=\"M 165.806213 239.758125 \r\nL 165.806213 22.318125 \r\n\" style=\"fill:none;stroke:#b0b0b0;stroke-linecap:square;stroke-width:0.8;\"/>\r\n     </g>\r\n     <g id=\"line2d_6\">\r\n      <g>\r\n       <use style=\"stroke:#000000;stroke-width:0.8;\" x=\"165.806213\" xlink:href=\"#m3ff23b1c86\" y=\"239.758125\"/>\r\n      </g>\r\n     </g>\r\n     <g id=\"text_3\">\r\n      <!-- 6.9 -->\r\n      <g transform=\"translate(157.059494 255.116406)scale(0.11 -0.11)\">\r\n       <defs>\r\n        <path d=\"M 10.984375 1.515625 \r\nL 10.984375 10.5 \r\nQ 14.703125 8.734375 18.5 7.8125 \r\nQ 22.3125 6.890625 25.984375 6.890625 \r\nQ 35.75 6.890625 40.890625 13.453125 \r\nQ 46.046875 20.015625 46.78125 33.40625 \r\nQ 43.953125 29.203125 39.59375 26.953125 \r\nQ 35.25 24.703125 29.984375 24.703125 \r\nQ 19.046875 24.703125 12.671875 31.3125 \r\nQ 6.296875 37.9375 6.296875 49.421875 \r\nQ 6.296875 60.640625 12.9375 67.421875 \r\nQ 19.578125 74.21875 30.609375 74.21875 \r\nQ 43.265625 74.21875 49.921875 64.515625 \r\nQ 56.59375 54.828125 56.59375 36.375 \r\nQ 56.59375 19.140625 48.40625 8.859375 \r\nQ 40.234375 -1.421875 26.421875 -1.421875 \r\nQ 22.703125 -1.421875 18.890625 -0.6875 \r\nQ 15.09375 0.046875 10.984375 1.515625 \r\nz\r\nM 30.609375 32.421875 \r\nQ 37.25 32.421875 41.125 36.953125 \r\nQ 45.015625 41.5 45.015625 49.421875 \r\nQ 45.015625 57.28125 41.125 61.84375 \r\nQ 37.25 66.40625 30.609375 66.40625 \r\nQ 23.96875 66.40625 20.09375 61.84375 \r\nQ 16.21875 57.28125 16.21875 49.421875 \r\nQ 16.21875 41.5 20.09375 36.953125 \r\nQ 23.96875 32.421875 30.609375 32.421875 \r\nz\r\n\" id=\"DejaVuSans-57\"/>\r\n       </defs>\r\n       <use xlink:href=\"#DejaVuSans-54\"/>\r\n       <use x=\"63.623047\" xlink:href=\"#DejaVuSans-46\"/>\r\n       <use x=\"95.410156\" xlink:href=\"#DejaVuSans-57\"/>\r\n      </g>\r\n     </g>\r\n    </g>\r\n    <g id=\"xtick_4\">\r\n     <g id=\"line2d_7\">\r\n      <path clip-path=\"url(#pf5b2e1975e)\" d=\"M 205.194449 239.758125 \r\nL 205.194449 22.318125 \r\n\" style=\"fill:none;stroke:#b0b0b0;stroke-linecap:square;stroke-width:0.8;\"/>\r\n     </g>\r\n     <g id=\"line2d_8\">\r\n      <g>\r\n       <use style=\"stroke:#000000;stroke-width:0.8;\" x=\"205.194449\" xlink:href=\"#m3ff23b1c86\" y=\"239.758125\"/>\r\n      </g>\r\n     </g>\r\n     <g id=\"text_4\">\r\n      <!-- 7.0 -->\r\n      <g transform=\"translate(196.44773 255.116406)scale(0.11 -0.11)\">\r\n       <defs>\r\n        <path d=\"M 31.78125 66.40625 \r\nQ 24.171875 66.40625 20.328125 58.90625 \r\nQ 16.5 51.421875 16.5 36.375 \r\nQ 16.5 21.390625 20.328125 13.890625 \r\nQ 24.171875 6.390625 31.78125 6.390625 \r\nQ 39.453125 6.390625 43.28125 13.890625 \r\nQ 47.125 21.390625 47.125 36.375 \r\nQ 47.125 51.421875 43.28125 58.90625 \r\nQ 39.453125 66.40625 31.78125 66.40625 \r\nz\r\nM 31.78125 74.21875 \r\nQ 44.046875 74.21875 50.515625 64.515625 \r\nQ 56.984375 54.828125 56.984375 36.375 \r\nQ 56.984375 17.96875 50.515625 8.265625 \r\nQ 44.046875 -1.421875 31.78125 -1.421875 \r\nQ 19.53125 -1.421875 13.0625 8.265625 \r\nQ 6.59375 17.96875 6.59375 36.375 \r\nQ 6.59375 54.828125 13.0625 64.515625 \r\nQ 19.53125 74.21875 31.78125 74.21875 \r\nz\r\n\" id=\"DejaVuSans-48\"/>\r\n       </defs>\r\n       <use xlink:href=\"#DejaVuSans-55\"/>\r\n       <use x=\"63.623047\" xlink:href=\"#DejaVuSans-46\"/>\r\n       <use x=\"95.410156\" xlink:href=\"#DejaVuSans-48\"/>\r\n      </g>\r\n     </g>\r\n    </g>\r\n    <g id=\"xtick_5\">\r\n     <g id=\"line2d_9\">\r\n      <path clip-path=\"url(#pf5b2e1975e)\" d=\"M 244.582684 239.758125 \r\nL 244.582684 22.318125 \r\n\" style=\"fill:none;stroke:#b0b0b0;stroke-linecap:square;stroke-width:0.8;\"/>\r\n     </g>\r\n     <g id=\"line2d_10\">\r\n      <g>\r\n       <use style=\"stroke:#000000;stroke-width:0.8;\" x=\"244.582684\" xlink:href=\"#m3ff23b1c86\" y=\"239.758125\"/>\r\n      </g>\r\n     </g>\r\n     <g id=\"text_5\">\r\n      <!-- 7.1 -->\r\n      <g transform=\"translate(235.835965 255.116406)scale(0.11 -0.11)\">\r\n       <defs>\r\n        <path d=\"M 12.40625 8.296875 \r\nL 28.515625 8.296875 \r\nL 28.515625 63.921875 \r\nL 10.984375 60.40625 \r\nL 10.984375 69.390625 \r\nL 28.421875 72.90625 \r\nL 38.28125 72.90625 \r\nL 38.28125 8.296875 \r\nL 54.390625 8.296875 \r\nL 54.390625 0 \r\nL 12.40625 0 \r\nz\r\n\" id=\"DejaVuSans-49\"/>\r\n       </defs>\r\n       <use xlink:href=\"#DejaVuSans-55\"/>\r\n       <use x=\"63.623047\" xlink:href=\"#DejaVuSans-46\"/>\r\n       <use x=\"95.410156\" xlink:href=\"#DejaVuSans-49\"/>\r\n      </g>\r\n     </g>\r\n    </g>\r\n    <g id=\"xtick_6\">\r\n     <g id=\"line2d_11\">\r\n      <path clip-path=\"url(#pf5b2e1975e)\" d=\"M 283.970919 239.758125 \r\nL 283.970919 22.318125 \r\n\" style=\"fill:none;stroke:#b0b0b0;stroke-linecap:square;stroke-width:0.8;\"/>\r\n     </g>\r\n     <g id=\"line2d_12\">\r\n      <g>\r\n       <use style=\"stroke:#000000;stroke-width:0.8;\" x=\"283.970919\" xlink:href=\"#m3ff23b1c86\" y=\"239.758125\"/>\r\n      </g>\r\n     </g>\r\n     <g id=\"text_6\">\r\n      <!-- 7.2 -->\r\n      <g transform=\"translate(275.2242 255.116406)scale(0.11 -0.11)\">\r\n       <defs>\r\n        <path d=\"M 19.1875 8.296875 \r\nL 53.609375 8.296875 \r\nL 53.609375 0 \r\nL 7.328125 0 \r\nL 7.328125 8.296875 \r\nQ 12.9375 14.109375 22.625 23.890625 \r\nQ 32.328125 33.6875 34.8125 36.53125 \r\nQ 39.546875 41.84375 41.421875 45.53125 \r\nQ 43.3125 49.21875 43.3125 52.78125 \r\nQ 43.3125 58.59375 39.234375 62.25 \r\nQ 35.15625 65.921875 28.609375 65.921875 \r\nQ 23.96875 65.921875 18.8125 64.3125 \r\nQ 13.671875 62.703125 7.8125 59.421875 \r\nL 7.8125 69.390625 \r\nQ 13.765625 71.78125 18.9375 73 \r\nQ 24.125 74.21875 28.421875 74.21875 \r\nQ 39.75 74.21875 46.484375 68.546875 \r\nQ 53.21875 62.890625 53.21875 53.421875 \r\nQ 53.21875 48.921875 51.53125 44.890625 \r\nQ 49.859375 40.875 45.40625 35.40625 \r\nQ 44.1875 33.984375 37.640625 27.21875 \r\nQ 31.109375 20.453125 19.1875 8.296875 \r\nz\r\n\" id=\"DejaVuSans-50\"/>\r\n       </defs>\r\n       <use xlink:href=\"#DejaVuSans-55\"/>\r\n       <use x=\"63.623047\" xlink:href=\"#DejaVuSans-46\"/>\r\n       <use x=\"95.410156\" xlink:href=\"#DejaVuSans-50\"/>\r\n      </g>\r\n     </g>\r\n    </g>\r\n    <g id=\"xtick_7\">\r\n     <g id=\"line2d_13\">\r\n      <path clip-path=\"url(#pf5b2e1975e)\" d=\"M 323.359154 239.758125 \r\nL 323.359154 22.318125 \r\n\" style=\"fill:none;stroke:#b0b0b0;stroke-linecap:square;stroke-width:0.8;\"/>\r\n     </g>\r\n     <g id=\"line2d_14\">\r\n      <g>\r\n       <use style=\"stroke:#000000;stroke-width:0.8;\" x=\"323.359154\" xlink:href=\"#m3ff23b1c86\" y=\"239.758125\"/>\r\n      </g>\r\n     </g>\r\n     <g id=\"text_7\">\r\n      <!-- 7.3 -->\r\n      <g transform=\"translate(314.612436 255.116406)scale(0.11 -0.11)\">\r\n       <defs>\r\n        <path d=\"M 40.578125 39.3125 \r\nQ 47.65625 37.796875 51.625 33 \r\nQ 55.609375 28.21875 55.609375 21.1875 \r\nQ 55.609375 10.40625 48.1875 4.484375 \r\nQ 40.765625 -1.421875 27.09375 -1.421875 \r\nQ 22.515625 -1.421875 17.65625 -0.515625 \r\nQ 12.796875 0.390625 7.625 2.203125 \r\nL 7.625 11.71875 \r\nQ 11.71875 9.328125 16.59375 8.109375 \r\nQ 21.484375 6.890625 26.8125 6.890625 \r\nQ 36.078125 6.890625 40.9375 10.546875 \r\nQ 45.796875 14.203125 45.796875 21.1875 \r\nQ 45.796875 27.640625 41.28125 31.265625 \r\nQ 36.765625 34.90625 28.71875 34.90625 \r\nL 20.21875 34.90625 \r\nL 20.21875 43.015625 \r\nL 29.109375 43.015625 \r\nQ 36.375 43.015625 40.234375 45.921875 \r\nQ 44.09375 48.828125 44.09375 54.296875 \r\nQ 44.09375 59.90625 40.109375 62.90625 \r\nQ 36.140625 65.921875 28.71875 65.921875 \r\nQ 24.65625 65.921875 20.015625 65.03125 \r\nQ 15.375 64.15625 9.8125 62.3125 \r\nL 9.8125 71.09375 \r\nQ 15.4375 72.65625 20.34375 73.4375 \r\nQ 25.25 74.21875 29.59375 74.21875 \r\nQ 40.828125 74.21875 47.359375 69.109375 \r\nQ 53.90625 64.015625 53.90625 55.328125 \r\nQ 53.90625 49.265625 50.4375 45.09375 \r\nQ 46.96875 40.921875 40.578125 39.3125 \r\nz\r\n\" id=\"DejaVuSans-51\"/>\r\n       </defs>\r\n       <use xlink:href=\"#DejaVuSans-55\"/>\r\n       <use x=\"63.623047\" xlink:href=\"#DejaVuSans-46\"/>\r\n       <use x=\"95.410156\" xlink:href=\"#DejaVuSans-51\"/>\r\n      </g>\r\n     </g>\r\n    </g>\r\n    <g id=\"xtick_8\">\r\n     <g id=\"line2d_15\">\r\n      <path clip-path=\"url(#pf5b2e1975e)\" d=\"M 362.74739 239.758125 \r\nL 362.74739 22.318125 \r\n\" style=\"fill:none;stroke:#b0b0b0;stroke-linecap:square;stroke-width:0.8;\"/>\r\n     </g>\r\n     <g id=\"line2d_16\">\r\n      <g>\r\n       <use style=\"stroke:#000000;stroke-width:0.8;\" x=\"362.74739\" xlink:href=\"#m3ff23b1c86\" y=\"239.758125\"/>\r\n      </g>\r\n     </g>\r\n     <g id=\"text_8\">\r\n      <!-- 7.4 -->\r\n      <g transform=\"translate(354.000671 255.116406)scale(0.11 -0.11)\">\r\n       <defs>\r\n        <path d=\"M 37.796875 64.3125 \r\nL 12.890625 25.390625 \r\nL 37.796875 25.390625 \r\nz\r\nM 35.203125 72.90625 \r\nL 47.609375 72.90625 \r\nL 47.609375 25.390625 \r\nL 58.015625 25.390625 \r\nL 58.015625 17.1875 \r\nL 47.609375 17.1875 \r\nL 47.609375 0 \r\nL 37.796875 0 \r\nL 37.796875 17.1875 \r\nL 4.890625 17.1875 \r\nL 4.890625 26.703125 \r\nz\r\n\" id=\"DejaVuSans-52\"/>\r\n       </defs>\r\n       <use xlink:href=\"#DejaVuSans-55\"/>\r\n       <use x=\"63.623047\" xlink:href=\"#DejaVuSans-46\"/>\r\n       <use x=\"95.410156\" xlink:href=\"#DejaVuSans-52\"/>\r\n      </g>\r\n     </g>\r\n    </g>\r\n    <g id=\"xtick_9\">\r\n     <g id=\"line2d_17\">\r\n      <path clip-path=\"url(#pf5b2e1975e)\" d=\"M 402.135625 239.758125 \r\nL 402.135625 22.318125 \r\n\" style=\"fill:none;stroke:#b0b0b0;stroke-linecap:square;stroke-width:0.8;\"/>\r\n     </g>\r\n     <g id=\"line2d_18\">\r\n      <g>\r\n       <use style=\"stroke:#000000;stroke-width:0.8;\" x=\"402.135625\" xlink:href=\"#m3ff23b1c86\" y=\"239.758125\"/>\r\n      </g>\r\n     </g>\r\n     <g id=\"text_9\">\r\n      <!-- 7.5 -->\r\n      <g transform=\"translate(393.388906 255.116406)scale(0.11 -0.11)\">\r\n       <defs>\r\n        <path d=\"M 10.796875 72.90625 \r\nL 49.515625 72.90625 \r\nL 49.515625 64.59375 \r\nL 19.828125 64.59375 \r\nL 19.828125 46.734375 \r\nQ 21.96875 47.46875 24.109375 47.828125 \r\nQ 26.265625 48.1875 28.421875 48.1875 \r\nQ 40.625 48.1875 47.75 41.5 \r\nQ 54.890625 34.8125 54.890625 23.390625 \r\nQ 54.890625 11.625 47.5625 5.09375 \r\nQ 40.234375 -1.421875 26.90625 -1.421875 \r\nQ 22.3125 -1.421875 17.546875 -0.640625 \r\nQ 12.796875 0.140625 7.71875 1.703125 \r\nL 7.71875 11.625 \r\nQ 12.109375 9.234375 16.796875 8.0625 \r\nQ 21.484375 6.890625 26.703125 6.890625 \r\nQ 35.15625 6.890625 40.078125 11.328125 \r\nQ 45.015625 15.765625 45.015625 23.390625 \r\nQ 45.015625 31 40.078125 35.4375 \r\nQ 35.15625 39.890625 26.703125 39.890625 \r\nQ 22.75 39.890625 18.8125 39.015625 \r\nQ 14.890625 38.140625 10.796875 36.28125 \r\nz\r\n\" id=\"DejaVuSans-53\"/>\r\n       </defs>\r\n       <use xlink:href=\"#DejaVuSans-55\"/>\r\n       <use x=\"63.623047\" xlink:href=\"#DejaVuSans-46\"/>\r\n       <use x=\"95.410156\" xlink:href=\"#DejaVuSans-53\"/>\r\n      </g>\r\n     </g>\r\n    </g>\r\n    <g id=\"text_10\">\r\n     <!-- Tiempo (T) -->\r\n     <g transform=\"translate(205.022734 269.762344)scale(0.11 -0.11)\">\r\n      <defs>\r\n       <path d=\"M -0.296875 72.90625 \r\nL 61.375 72.90625 \r\nL 61.375 64.59375 \r\nL 35.5 64.59375 \r\nL 35.5 0 \r\nL 25.59375 0 \r\nL 25.59375 64.59375 \r\nL -0.296875 64.59375 \r\nz\r\n\" id=\"DejaVuSans-84\"/>\r\n       <path d=\"M 9.421875 54.6875 \r\nL 18.40625 54.6875 \r\nL 18.40625 0 \r\nL 9.421875 0 \r\nz\r\nM 9.421875 75.984375 \r\nL 18.40625 75.984375 \r\nL 18.40625 64.59375 \r\nL 9.421875 64.59375 \r\nz\r\n\" id=\"DejaVuSans-105\"/>\r\n       <path d=\"M 56.203125 29.59375 \r\nL 56.203125 25.203125 \r\nL 14.890625 25.203125 \r\nQ 15.484375 15.921875 20.484375 11.0625 \r\nQ 25.484375 6.203125 34.421875 6.203125 \r\nQ 39.59375 6.203125 44.453125 7.46875 \r\nQ 49.3125 8.734375 54.109375 11.28125 \r\nL 54.109375 2.78125 \r\nQ 49.265625 0.734375 44.1875 -0.34375 \r\nQ 39.109375 -1.421875 33.890625 -1.421875 \r\nQ 20.796875 -1.421875 13.15625 6.1875 \r\nQ 5.515625 13.8125 5.515625 26.8125 \r\nQ 5.515625 40.234375 12.765625 48.109375 \r\nQ 20.015625 56 32.328125 56 \r\nQ 43.359375 56 49.78125 48.890625 \r\nQ 56.203125 41.796875 56.203125 29.59375 \r\nz\r\nM 47.21875 32.234375 \r\nQ 47.125 39.59375 43.09375 43.984375 \r\nQ 39.0625 48.390625 32.421875 48.390625 \r\nQ 24.90625 48.390625 20.390625 44.140625 \r\nQ 15.875 39.890625 15.1875 32.171875 \r\nz\r\n\" id=\"DejaVuSans-101\"/>\r\n       <path d=\"M 52 44.1875 \r\nQ 55.375 50.25 60.0625 53.125 \r\nQ 64.75 56 71.09375 56 \r\nQ 79.640625 56 84.28125 50.015625 \r\nQ 88.921875 44.046875 88.921875 33.015625 \r\nL 88.921875 0 \r\nL 79.890625 0 \r\nL 79.890625 32.71875 \r\nQ 79.890625 40.578125 77.09375 44.375 \r\nQ 74.3125 48.1875 68.609375 48.1875 \r\nQ 61.625 48.1875 57.5625 43.546875 \r\nQ 53.515625 38.921875 53.515625 30.90625 \r\nL 53.515625 0 \r\nL 44.484375 0 \r\nL 44.484375 32.71875 \r\nQ 44.484375 40.625 41.703125 44.40625 \r\nQ 38.921875 48.1875 33.109375 48.1875 \r\nQ 26.21875 48.1875 22.15625 43.53125 \r\nQ 18.109375 38.875 18.109375 30.90625 \r\nL 18.109375 0 \r\nL 9.078125 0 \r\nL 9.078125 54.6875 \r\nL 18.109375 54.6875 \r\nL 18.109375 46.1875 \r\nQ 21.1875 51.21875 25.484375 53.609375 \r\nQ 29.78125 56 35.6875 56 \r\nQ 41.65625 56 45.828125 52.96875 \r\nQ 50 49.953125 52 44.1875 \r\nz\r\n\" id=\"DejaVuSans-109\"/>\r\n       <path d=\"M 18.109375 8.203125 \r\nL 18.109375 -20.796875 \r\nL 9.078125 -20.796875 \r\nL 9.078125 54.6875 \r\nL 18.109375 54.6875 \r\nL 18.109375 46.390625 \r\nQ 20.953125 51.265625 25.265625 53.625 \r\nQ 29.59375 56 35.59375 56 \r\nQ 45.5625 56 51.78125 48.09375 \r\nQ 58.015625 40.1875 58.015625 27.296875 \r\nQ 58.015625 14.40625 51.78125 6.484375 \r\nQ 45.5625 -1.421875 35.59375 -1.421875 \r\nQ 29.59375 -1.421875 25.265625 0.953125 \r\nQ 20.953125 3.328125 18.109375 8.203125 \r\nz\r\nM 48.6875 27.296875 \r\nQ 48.6875 37.203125 44.609375 42.84375 \r\nQ 40.53125 48.484375 33.40625 48.484375 \r\nQ 26.265625 48.484375 22.1875 42.84375 \r\nQ 18.109375 37.203125 18.109375 27.296875 \r\nQ 18.109375 17.390625 22.1875 11.75 \r\nQ 26.265625 6.109375 33.40625 6.109375 \r\nQ 40.53125 6.109375 44.609375 11.75 \r\nQ 48.6875 17.390625 48.6875 27.296875 \r\nz\r\n\" id=\"DejaVuSans-112\"/>\r\n       <path d=\"M 30.609375 48.390625 \r\nQ 23.390625 48.390625 19.1875 42.75 \r\nQ 14.984375 37.109375 14.984375 27.296875 \r\nQ 14.984375 17.484375 19.15625 11.84375 \r\nQ 23.34375 6.203125 30.609375 6.203125 \r\nQ 37.796875 6.203125 41.984375 11.859375 \r\nQ 46.1875 17.53125 46.1875 27.296875 \r\nQ 46.1875 37.015625 41.984375 42.703125 \r\nQ 37.796875 48.390625 30.609375 48.390625 \r\nz\r\nM 30.609375 56 \r\nQ 42.328125 56 49.015625 48.375 \r\nQ 55.71875 40.765625 55.71875 27.296875 \r\nQ 55.71875 13.875 49.015625 6.21875 \r\nQ 42.328125 -1.421875 30.609375 -1.421875 \r\nQ 18.84375 -1.421875 12.171875 6.21875 \r\nQ 5.515625 13.875 5.515625 27.296875 \r\nQ 5.515625 40.765625 12.171875 48.375 \r\nQ 18.84375 56 30.609375 56 \r\nz\r\n\" id=\"DejaVuSans-111\"/>\r\n       <path id=\"DejaVuSans-32\"/>\r\n       <path d=\"M 31 75.875 \r\nQ 24.46875 64.65625 21.28125 53.65625 \r\nQ 18.109375 42.671875 18.109375 31.390625 \r\nQ 18.109375 20.125 21.3125 9.0625 \r\nQ 24.515625 -2 31 -13.1875 \r\nL 23.1875 -13.1875 \r\nQ 15.875 -1.703125 12.234375 9.375 \r\nQ 8.59375 20.453125 8.59375 31.390625 \r\nQ 8.59375 42.28125 12.203125 53.3125 \r\nQ 15.828125 64.359375 23.1875 75.875 \r\nz\r\n\" id=\"DejaVuSans-40\"/>\r\n       <path d=\"M 8.015625 75.875 \r\nL 15.828125 75.875 \r\nQ 23.140625 64.359375 26.78125 53.3125 \r\nQ 30.421875 42.28125 30.421875 31.390625 \r\nQ 30.421875 20.453125 26.78125 9.375 \r\nQ 23.140625 -1.703125 15.828125 -13.1875 \r\nL 8.015625 -13.1875 \r\nQ 14.5 -2 17.703125 9.0625 \r\nQ 20.90625 20.125 20.90625 31.390625 \r\nQ 20.90625 42.671875 17.703125 53.65625 \r\nQ 14.5 64.65625 8.015625 75.875 \r\nz\r\n\" id=\"DejaVuSans-41\"/>\r\n      </defs>\r\n      <use xlink:href=\"#DejaVuSans-84\"/>\r\n      <use x=\"57.958984\" xlink:href=\"#DejaVuSans-105\"/>\r\n      <use x=\"85.742188\" xlink:href=\"#DejaVuSans-101\"/>\r\n      <use x=\"147.265625\" xlink:href=\"#DejaVuSans-109\"/>\r\n      <use x=\"244.677734\" xlink:href=\"#DejaVuSans-112\"/>\r\n      <use x=\"308.154297\" xlink:href=\"#DejaVuSans-111\"/>\r\n      <use x=\"369.335938\" xlink:href=\"#DejaVuSans-32\"/>\r\n      <use x=\"401.123047\" xlink:href=\"#DejaVuSans-40\"/>\r\n      <use x=\"440.136719\" xlink:href=\"#DejaVuSans-84\"/>\r\n      <use x=\"501.220703\" xlink:href=\"#DejaVuSans-41\"/>\r\n     </g>\r\n    </g>\r\n   </g>\r\n   <g id=\"matplotlib.axis_2\">\r\n    <g id=\"ytick_1\">\r\n     <g id=\"line2d_19\">\r\n      <path clip-path=\"url(#pf5b2e1975e)\" d=\"M 67.335625 239.758125 \r\nL 402.135625 239.758125 \r\n\" style=\"fill:none;stroke:#b0b0b0;stroke-linecap:square;stroke-width:0.8;\"/>\r\n     </g>\r\n     <g id=\"line2d_20\">\r\n      <defs>\r\n       <path d=\"M 0 0 \r\nL -3.5 0 \r\n\" id=\"m1e704fb850\" style=\"stroke:#000000;stroke-width:0.8;\"/>\r\n      </defs>\r\n      <g>\r\n       <use style=\"stroke:#000000;stroke-width:0.8;\" x=\"67.335625\" xlink:href=\"#m1e704fb850\" y=\"239.758125\"/>\r\n      </g>\r\n     </g>\r\n     <g id=\"text_11\">\r\n      <!-- 0.0000 -->\r\n      <g transform=\"translate(21.845938 243.937266)scale(0.11 -0.11)\">\r\n       <use xlink:href=\"#DejaVuSans-48\"/>\r\n       <use x=\"63.623047\" xlink:href=\"#DejaVuSans-46\"/>\r\n       <use x=\"95.410156\" xlink:href=\"#DejaVuSans-48\"/>\r\n       <use x=\"159.033203\" xlink:href=\"#DejaVuSans-48\"/>\r\n       <use x=\"222.65625\" xlink:href=\"#DejaVuSans-48\"/>\r\n       <use x=\"286.279297\" xlink:href=\"#DejaVuSans-48\"/>\r\n      </g>\r\n     </g>\r\n    </g>\r\n    <g id=\"ytick_2\">\r\n     <g id=\"line2d_21\">\r\n      <path clip-path=\"url(#pf5b2e1975e)\" d=\"M 67.335625 196.270125 \r\nL 402.135625 196.270125 \r\n\" style=\"fill:none;stroke:#b0b0b0;stroke-linecap:square;stroke-width:0.8;\"/>\r\n     </g>\r\n     <g id=\"line2d_22\">\r\n      <g>\r\n       <use style=\"stroke:#000000;stroke-width:0.8;\" x=\"67.335625\" xlink:href=\"#m1e704fb850\" y=\"196.270125\"/>\r\n      </g>\r\n     </g>\r\n     <g id=\"text_12\">\r\n      <!-- 0.0001 -->\r\n      <g transform=\"translate(21.845938 200.449266)scale(0.11 -0.11)\">\r\n       <use xlink:href=\"#DejaVuSans-48\"/>\r\n       <use x=\"63.623047\" xlink:href=\"#DejaVuSans-46\"/>\r\n       <use x=\"95.410156\" xlink:href=\"#DejaVuSans-48\"/>\r\n       <use x=\"159.033203\" xlink:href=\"#DejaVuSans-48\"/>\r\n       <use x=\"222.65625\" xlink:href=\"#DejaVuSans-48\"/>\r\n       <use x=\"286.279297\" xlink:href=\"#DejaVuSans-49\"/>\r\n      </g>\r\n     </g>\r\n    </g>\r\n    <g id=\"ytick_3\">\r\n     <g id=\"line2d_23\">\r\n      <path clip-path=\"url(#pf5b2e1975e)\" d=\"M 67.335625 152.782125 \r\nL 402.135625 152.782125 \r\n\" style=\"fill:none;stroke:#b0b0b0;stroke-linecap:square;stroke-width:0.8;\"/>\r\n     </g>\r\n     <g id=\"line2d_24\">\r\n      <g>\r\n       <use style=\"stroke:#000000;stroke-width:0.8;\" x=\"67.335625\" xlink:href=\"#m1e704fb850\" y=\"152.782125\"/>\r\n      </g>\r\n     </g>\r\n     <g id=\"text_13\">\r\n      <!-- 0.0002 -->\r\n      <g transform=\"translate(21.845938 156.961266)scale(0.11 -0.11)\">\r\n       <use xlink:href=\"#DejaVuSans-48\"/>\r\n       <use x=\"63.623047\" xlink:href=\"#DejaVuSans-46\"/>\r\n       <use x=\"95.410156\" xlink:href=\"#DejaVuSans-48\"/>\r\n       <use x=\"159.033203\" xlink:href=\"#DejaVuSans-48\"/>\r\n       <use x=\"222.65625\" xlink:href=\"#DejaVuSans-48\"/>\r\n       <use x=\"286.279297\" xlink:href=\"#DejaVuSans-50\"/>\r\n      </g>\r\n     </g>\r\n    </g>\r\n    <g id=\"ytick_4\">\r\n     <g id=\"line2d_25\">\r\n      <path clip-path=\"url(#pf5b2e1975e)\" d=\"M 67.335625 109.294125 \r\nL 402.135625 109.294125 \r\n\" style=\"fill:none;stroke:#b0b0b0;stroke-linecap:square;stroke-width:0.8;\"/>\r\n     </g>\r\n     <g id=\"line2d_26\">\r\n      <g>\r\n       <use style=\"stroke:#000000;stroke-width:0.8;\" x=\"67.335625\" xlink:href=\"#m1e704fb850\" y=\"109.294125\"/>\r\n      </g>\r\n     </g>\r\n     <g id=\"text_14\">\r\n      <!-- 0.0003 -->\r\n      <g transform=\"translate(21.845938 113.473266)scale(0.11 -0.11)\">\r\n       <use xlink:href=\"#DejaVuSans-48\"/>\r\n       <use x=\"63.623047\" xlink:href=\"#DejaVuSans-46\"/>\r\n       <use x=\"95.410156\" xlink:href=\"#DejaVuSans-48\"/>\r\n       <use x=\"159.033203\" xlink:href=\"#DejaVuSans-48\"/>\r\n       <use x=\"222.65625\" xlink:href=\"#DejaVuSans-48\"/>\r\n       <use x=\"286.279297\" xlink:href=\"#DejaVuSans-51\"/>\r\n      </g>\r\n     </g>\r\n    </g>\r\n    <g id=\"ytick_5\">\r\n     <g id=\"line2d_27\">\r\n      <path clip-path=\"url(#pf5b2e1975e)\" d=\"M 67.335625 65.806125 \r\nL 402.135625 65.806125 \r\n\" style=\"fill:none;stroke:#b0b0b0;stroke-linecap:square;stroke-width:0.8;\"/>\r\n     </g>\r\n     <g id=\"line2d_28\">\r\n      <g>\r\n       <use style=\"stroke:#000000;stroke-width:0.8;\" x=\"67.335625\" xlink:href=\"#m1e704fb850\" y=\"65.806125\"/>\r\n      </g>\r\n     </g>\r\n     <g id=\"text_15\">\r\n      <!-- 0.0004 -->\r\n      <g transform=\"translate(21.845938 69.985266)scale(0.11 -0.11)\">\r\n       <use xlink:href=\"#DejaVuSans-48\"/>\r\n       <use x=\"63.623047\" xlink:href=\"#DejaVuSans-46\"/>\r\n       <use x=\"95.410156\" xlink:href=\"#DejaVuSans-48\"/>\r\n       <use x=\"159.033203\" xlink:href=\"#DejaVuSans-48\"/>\r\n       <use x=\"222.65625\" xlink:href=\"#DejaVuSans-48\"/>\r\n       <use x=\"286.279297\" xlink:href=\"#DejaVuSans-52\"/>\r\n      </g>\r\n     </g>\r\n    </g>\r\n    <g id=\"ytick_6\">\r\n     <g id=\"line2d_29\">\r\n      <path clip-path=\"url(#pf5b2e1975e)\" d=\"M 67.335625 22.318125 \r\nL 402.135625 22.318125 \r\n\" style=\"fill:none;stroke:#b0b0b0;stroke-linecap:square;stroke-width:0.8;\"/>\r\n     </g>\r\n     <g id=\"line2d_30\">\r\n      <g>\r\n       <use style=\"stroke:#000000;stroke-width:0.8;\" x=\"67.335625\" xlink:href=\"#m1e704fb850\" y=\"22.318125\"/>\r\n      </g>\r\n     </g>\r\n     <g id=\"text_16\">\r\n      <!-- 0.0005 -->\r\n      <g transform=\"translate(21.845938 26.497266)scale(0.11 -0.11)\">\r\n       <use xlink:href=\"#DejaVuSans-48\"/>\r\n       <use x=\"63.623047\" xlink:href=\"#DejaVuSans-46\"/>\r\n       <use x=\"95.410156\" xlink:href=\"#DejaVuSans-48\"/>\r\n       <use x=\"159.033203\" xlink:href=\"#DejaVuSans-48\"/>\r\n       <use x=\"222.65625\" xlink:href=\"#DejaVuSans-48\"/>\r\n       <use x=\"286.279297\" xlink:href=\"#DejaVuSans-53\"/>\r\n      </g>\r\n     </g>\r\n    </g>\r\n    <g id=\"text_17\">\r\n     <!-- Intensidad (I) -->\r\n     <g transform=\"translate(15.558281 167.581328)rotate(-90)scale(0.11 -0.11)\">\r\n      <defs>\r\n       <path d=\"M 9.8125 72.90625 \r\nL 19.671875 72.90625 \r\nL 19.671875 0 \r\nL 9.8125 0 \r\nz\r\n\" id=\"DejaVuSans-73\"/>\r\n       <path d=\"M 54.890625 33.015625 \r\nL 54.890625 0 \r\nL 45.90625 0 \r\nL 45.90625 32.71875 \r\nQ 45.90625 40.484375 42.875 44.328125 \r\nQ 39.84375 48.1875 33.796875 48.1875 \r\nQ 26.515625 48.1875 22.3125 43.546875 \r\nQ 18.109375 38.921875 18.109375 30.90625 \r\nL 18.109375 0 \r\nL 9.078125 0 \r\nL 9.078125 54.6875 \r\nL 18.109375 54.6875 \r\nL 18.109375 46.1875 \r\nQ 21.34375 51.125 25.703125 53.5625 \r\nQ 30.078125 56 35.796875 56 \r\nQ 45.21875 56 50.046875 50.171875 \r\nQ 54.890625 44.34375 54.890625 33.015625 \r\nz\r\n\" id=\"DejaVuSans-110\"/>\r\n       <path d=\"M 18.3125 70.21875 \r\nL 18.3125 54.6875 \r\nL 36.8125 54.6875 \r\nL 36.8125 47.703125 \r\nL 18.3125 47.703125 \r\nL 18.3125 18.015625 \r\nQ 18.3125 11.328125 20.140625 9.421875 \r\nQ 21.96875 7.515625 27.59375 7.515625 \r\nL 36.8125 7.515625 \r\nL 36.8125 0 \r\nL 27.59375 0 \r\nQ 17.1875 0 13.234375 3.875 \r\nQ 9.28125 7.765625 9.28125 18.015625 \r\nL 9.28125 47.703125 \r\nL 2.6875 47.703125 \r\nL 2.6875 54.6875 \r\nL 9.28125 54.6875 \r\nL 9.28125 70.21875 \r\nz\r\n\" id=\"DejaVuSans-116\"/>\r\n       <path d=\"M 44.28125 53.078125 \r\nL 44.28125 44.578125 \r\nQ 40.484375 46.53125 36.375 47.5 \r\nQ 32.28125 48.484375 27.875 48.484375 \r\nQ 21.1875 48.484375 17.84375 46.4375 \r\nQ 14.5 44.390625 14.5 40.28125 \r\nQ 14.5 37.15625 16.890625 35.375 \r\nQ 19.28125 33.59375 26.515625 31.984375 \r\nL 29.59375 31.296875 \r\nQ 39.15625 29.25 43.1875 25.515625 \r\nQ 47.21875 21.78125 47.21875 15.09375 \r\nQ 47.21875 7.46875 41.1875 3.015625 \r\nQ 35.15625 -1.421875 24.609375 -1.421875 \r\nQ 20.21875 -1.421875 15.453125 -0.5625 \r\nQ 10.6875 0.296875 5.421875 2 \r\nL 5.421875 11.28125 \r\nQ 10.40625 8.6875 15.234375 7.390625 \r\nQ 20.0625 6.109375 24.8125 6.109375 \r\nQ 31.15625 6.109375 34.5625 8.28125 \r\nQ 37.984375 10.453125 37.984375 14.40625 \r\nQ 37.984375 18.0625 35.515625 20.015625 \r\nQ 33.0625 21.96875 24.703125 23.78125 \r\nL 21.578125 24.515625 \r\nQ 13.234375 26.265625 9.515625 29.90625 \r\nQ 5.8125 33.546875 5.8125 39.890625 \r\nQ 5.8125 47.609375 11.28125 51.796875 \r\nQ 16.75 56 26.8125 56 \r\nQ 31.78125 56 36.171875 55.265625 \r\nQ 40.578125 54.546875 44.28125 53.078125 \r\nz\r\n\" id=\"DejaVuSans-115\"/>\r\n       <path d=\"M 45.40625 46.390625 \r\nL 45.40625 75.984375 \r\nL 54.390625 75.984375 \r\nL 54.390625 0 \r\nL 45.40625 0 \r\nL 45.40625 8.203125 \r\nQ 42.578125 3.328125 38.25 0.953125 \r\nQ 33.9375 -1.421875 27.875 -1.421875 \r\nQ 17.96875 -1.421875 11.734375 6.484375 \r\nQ 5.515625 14.40625 5.515625 27.296875 \r\nQ 5.515625 40.1875 11.734375 48.09375 \r\nQ 17.96875 56 27.875 56 \r\nQ 33.9375 56 38.25 53.625 \r\nQ 42.578125 51.265625 45.40625 46.390625 \r\nz\r\nM 14.796875 27.296875 \r\nQ 14.796875 17.390625 18.875 11.75 \r\nQ 22.953125 6.109375 30.078125 6.109375 \r\nQ 37.203125 6.109375 41.296875 11.75 \r\nQ 45.40625 17.390625 45.40625 27.296875 \r\nQ 45.40625 37.203125 41.296875 42.84375 \r\nQ 37.203125 48.484375 30.078125 48.484375 \r\nQ 22.953125 48.484375 18.875 42.84375 \r\nQ 14.796875 37.203125 14.796875 27.296875 \r\nz\r\n\" id=\"DejaVuSans-100\"/>\r\n       <path d=\"M 34.28125 27.484375 \r\nQ 23.390625 27.484375 19.1875 25 \r\nQ 14.984375 22.515625 14.984375 16.5 \r\nQ 14.984375 11.71875 18.140625 8.90625 \r\nQ 21.296875 6.109375 26.703125 6.109375 \r\nQ 34.1875 6.109375 38.703125 11.40625 \r\nQ 43.21875 16.703125 43.21875 25.484375 \r\nL 43.21875 27.484375 \r\nz\r\nM 52.203125 31.203125 \r\nL 52.203125 0 \r\nL 43.21875 0 \r\nL 43.21875 8.296875 \r\nQ 40.140625 3.328125 35.546875 0.953125 \r\nQ 30.953125 -1.421875 24.3125 -1.421875 \r\nQ 15.921875 -1.421875 10.953125 3.296875 \r\nQ 6 8.015625 6 15.921875 \r\nQ 6 25.140625 12.171875 29.828125 \r\nQ 18.359375 34.515625 30.609375 34.515625 \r\nL 43.21875 34.515625 \r\nL 43.21875 35.40625 \r\nQ 43.21875 41.609375 39.140625 45 \r\nQ 35.0625 48.390625 27.6875 48.390625 \r\nQ 23 48.390625 18.546875 47.265625 \r\nQ 14.109375 46.140625 10.015625 43.890625 \r\nL 10.015625 52.203125 \r\nQ 14.9375 54.109375 19.578125 55.046875 \r\nQ 24.21875 56 28.609375 56 \r\nQ 40.484375 56 46.34375 49.84375 \r\nQ 52.203125 43.703125 52.203125 31.203125 \r\nz\r\n\" id=\"DejaVuSans-97\"/>\r\n      </defs>\r\n      <use xlink:href=\"#DejaVuSans-73\"/>\r\n      <use x=\"29.492188\" xlink:href=\"#DejaVuSans-110\"/>\r\n      <use x=\"92.871094\" xlink:href=\"#DejaVuSans-116\"/>\r\n      <use x=\"132.080078\" xlink:href=\"#DejaVuSans-101\"/>\r\n      <use x=\"193.603516\" xlink:href=\"#DejaVuSans-110\"/>\r\n      <use x=\"256.982422\" xlink:href=\"#DejaVuSans-115\"/>\r\n      <use x=\"309.082031\" xlink:href=\"#DejaVuSans-105\"/>\r\n      <use x=\"336.865234\" xlink:href=\"#DejaVuSans-100\"/>\r\n      <use x=\"400.341797\" xlink:href=\"#DejaVuSans-97\"/>\r\n      <use x=\"461.621094\" xlink:href=\"#DejaVuSans-100\"/>\r\n      <use x=\"525.097656\" xlink:href=\"#DejaVuSans-32\"/>\r\n      <use x=\"556.884766\" xlink:href=\"#DejaVuSans-40\"/>\r\n      <use x=\"595.898438\" xlink:href=\"#DejaVuSans-73\"/>\r\n      <use x=\"625.390625\" xlink:href=\"#DejaVuSans-41\"/>\r\n     </g>\r\n    </g>\r\n   </g>\r\n   <g id=\"line2d_31\">\r\n    <path clip-path=\"url(#pf5b2e1975e)\" d=\"M 123.309947 -1 \r\nL 126.737149 8.94231 \r\nL 130.675972 19.829848 \r\nL 134.614796 30.203823 \r\nL 138.553619 40.08846 \r\nL 142.492443 49.50684 \r\nL 146.431266 58.480957 \r\nL 150.37009 67.031767 \r\nL 154.308913 75.179236 \r\nL 158.247737 82.942391 \r\nL 162.18656 90.33936 \r\nL 166.125384 97.387414 \r\nL 170.064207 104.103014 \r\nL 174.003031 110.50184 \r\nL 177.941854 116.598834 \r\nL 181.880678 122.408234 \r\nL 185.819501 127.943606 \r\nL 189.758325 133.217876 \r\nL 193.697149 138.243359 \r\nL 197.635972 143.031791 \r\nL 201.574796 147.594354 \r\nL 205.513619 151.941701 \r\nL 209.452443 156.083986 \r\nL 213.391266 160.030879 \r\nL 217.33009 163.791598 \r\nL 221.268913 167.374924 \r\nL 225.207737 170.789226 \r\nL 229.14656 174.042476 \r\nL 233.085384 177.14227 \r\nL 237.024207 180.095848 \r\nL 240.963031 182.910106 \r\nL 244.901854 185.591616 \r\nL 248.840678 188.14664 \r\nL 252.779501 190.581144 \r\nL 256.718325 192.900813 \r\nL 260.657149 195.111063 \r\nL 264.595972 197.217056 \r\nL 268.534796 199.22371 \r\nL 272.473619 201.135711 \r\nL 276.412443 202.957523 \r\nL 280.351266 204.6934 \r\nL 284.29009 206.347396 \r\nL 288.228913 207.923374 \r\nL 292.167737 209.425013 \r\nL 296.10656 210.85582 \r\nL 300.045384 212.219136 \r\nL 303.984207 213.518145 \r\nL 307.923031 214.755879 \r\nL 311.861854 215.93523 \r\nL 315.800678 217.058951 \r\nL 319.739501 218.129667 \r\nL 323.678325 219.149877 \r\nL 327.617149 220.121964 \r\nL 331.555972 221.048198 \r\nL 335.494796 221.930741 \r\nL 339.433619 222.771655 \r\nL 343.372443 223.572904 \r\nL 347.311266 224.336357 \r\nL 351.25009 225.063799 \r\nL 355.188913 225.756927 \r\nL 359.127737 226.417361 \r\nL 363.06656 227.046642 \r\nL 367.005384 227.64624 \r\nL 370.944207 228.217555 \r\nL 374.883031 228.761922 \r\nL 378.821854 229.28061 \r\nL 382.760678 229.774833 \r\nL 386.699501 230.245742 \r\nL 390.638325 230.69444 \r\nL 394.577149 231.121972 \r\nL 398.515972 231.529337 \r\nL 402.454796 231.917487 \r\n\" style=\"fill:none;stroke:#1f77b4;stroke-linecap:square;stroke-width:1.5;\"/>\r\n   </g>\r\n   <g id=\"line2d_32\">\r\n    <path clip-path=\"url(#pf5b2e1975e)\" d=\"M 61.441908 -1 \r\nL 63.715972 5.690014 \r\nL 67.654796 16.730962 \r\nL 71.593619 27.251111 \r\nL 75.532443 37.275027 \r\nL 79.471266 46.826116 \r\nL 83.41009 55.926683 \r\nL 87.348913 64.597977 \r\nL 91.287737 72.860248 \r\nL 95.22656 80.732789 \r\nL 99.165384 88.233984 \r\nL 103.104207 95.381349 \r\nL 107.043031 102.191574 \r\nL 110.981854 108.680562 \r\nL 114.920678 114.863466 \r\nL 118.859501 120.754723 \r\nL 122.798325 126.368091 \r\nL 126.737149 131.716677 \r\nL 130.675972 136.812972 \r\nL 134.614796 141.668875 \r\nL 138.553619 146.295726 \r\nL 142.492443 150.70433 \r\nL 146.431266 154.90498 \r\nL 150.37009 158.907487 \r\nL 154.308913 162.721196 \r\nL 158.247737 166.355013 \r\nL 162.18656 169.817424 \r\nL 166.125384 173.116513 \r\nL 170.064207 176.259986 \r\nL 174.003031 179.255181 \r\nL 177.941854 182.109093 \r\nL 181.880678 184.828387 \r\nL 185.819501 187.419412 \r\nL 189.758325 189.888219 \r\nL 193.697149 192.240573 \r\nL 197.635972 194.481966 \r\nL 201.574796 196.617634 \r\nL 205.513619 198.652563 \r\nL 209.452443 200.591504 \r\nL 213.391266 202.438986 \r\nL 217.33009 204.199323 \r\nL 221.268913 205.876624 \r\nL 225.207737 207.474808 \r\nL 229.14656 208.997606 \r\nL 233.085384 210.448574 \r\nL 237.024207 211.831099 \r\nL 240.963031 213.148412 \r\nL 244.901854 214.403587 \r\nL 248.840678 215.599555 \r\nL 252.779501 216.73911 \r\nL 256.718325 217.824913 \r\nL 260.657149 218.859498 \r\nL 264.595972 219.845282 \r\nL 268.534796 220.784567 \r\nL 272.473619 221.679546 \r\nL 276.412443 222.532309 \r\nL 280.351266 223.344847 \r\nL 284.29009 224.119058 \r\nL 288.228913 224.85675 \r\nL 292.167737 225.559645 \r\nL 296.10656 226.229384 \r\nL 300.045384 226.867532 \r\nL 303.984207 227.475579 \r\nL 307.923031 228.054944 \r\nL 311.861854 228.606981 \r\nL 315.800678 229.132978 \r\nL 319.739501 229.634164 \r\nL 323.678325 230.111709 \r\nL 327.617149 230.566728 \r\nL 331.555972 231.000284 \r\nL 335.494796 231.41339 \r\nL 339.433619 231.807009 \r\nL 343.372443 232.182062 \r\nL 347.311266 232.539423 \r\nL 351.25009 232.879928 \r\nL 355.188913 233.204371 \r\nL 359.127737 233.51351 \r\nL 363.06656 233.808067 \r\nL 367.005384 234.08873 \r\nL 370.944207 234.356154 \r\nL 374.883031 234.610964 \r\nL 378.821854 234.853754 \r\nL 382.760678 235.085092 \r\nL 386.699501 235.305518 \r\nL 390.638325 235.515547 \r\nL 394.577149 235.715668 \r\nL 398.515972 235.90635 \r\nL 402.454796 236.088037 \r\n\" style=\"fill:none;stroke:#ff7f0e;stroke-linecap:square;stroke-width:1.5;\"/>\r\n   </g>\r\n   <g id=\"patch_3\">\r\n    <path d=\"M 67.335625 239.758125 \r\nL 67.335625 22.318125 \r\n\" style=\"fill:none;stroke:#000000;stroke-linecap:square;stroke-linejoin:miter;stroke-width:0.8;\"/>\r\n   </g>\r\n   <g id=\"patch_4\">\r\n    <path d=\"M 402.135625 239.758125 \r\nL 402.135625 22.318125 \r\n\" style=\"fill:none;stroke:#000000;stroke-linecap:square;stroke-linejoin:miter;stroke-width:0.8;\"/>\r\n   </g>\r\n   <g id=\"patch_5\">\r\n    <path d=\"M 67.335625 239.758125 \r\nL 402.135625 239.758125 \r\n\" style=\"fill:none;stroke:#000000;stroke-linecap:square;stroke-linejoin:miter;stroke-width:0.8;\"/>\r\n   </g>\r\n   <g id=\"patch_6\">\r\n    <path d=\"M 67.335625 22.318125 \r\nL 402.135625 22.318125 \r\n\" style=\"fill:none;stroke:#000000;stroke-linecap:square;stroke-linejoin:miter;stroke-width:0.8;\"/>\r\n   </g>\r\n   <g id=\"text_18\">\r\n    <!-- Carrera de condensadores -->\r\n    <g transform=\"translate(155.517813 16.318125)scale(0.12 -0.12)\">\r\n     <defs>\r\n      <path d=\"M 64.40625 67.28125 \r\nL 64.40625 56.890625 \r\nQ 59.421875 61.53125 53.78125 63.8125 \r\nQ 48.140625 66.109375 41.796875 66.109375 \r\nQ 29.296875 66.109375 22.65625 58.46875 \r\nQ 16.015625 50.828125 16.015625 36.375 \r\nQ 16.015625 21.96875 22.65625 14.328125 \r\nQ 29.296875 6.6875 41.796875 6.6875 \r\nQ 48.140625 6.6875 53.78125 8.984375 \r\nQ 59.421875 11.28125 64.40625 15.921875 \r\nL 64.40625 5.609375 \r\nQ 59.234375 2.09375 53.4375 0.328125 \r\nQ 47.65625 -1.421875 41.21875 -1.421875 \r\nQ 24.65625 -1.421875 15.125 8.703125 \r\nQ 5.609375 18.84375 5.609375 36.375 \r\nQ 5.609375 53.953125 15.125 64.078125 \r\nQ 24.65625 74.21875 41.21875 74.21875 \r\nQ 47.75 74.21875 53.53125 72.484375 \r\nQ 59.328125 70.75 64.40625 67.28125 \r\nz\r\n\" id=\"DejaVuSans-67\"/>\r\n      <path d=\"M 41.109375 46.296875 \r\nQ 39.59375 47.171875 37.8125 47.578125 \r\nQ 36.03125 48 33.890625 48 \r\nQ 26.265625 48 22.1875 43.046875 \r\nQ 18.109375 38.09375 18.109375 28.8125 \r\nL 18.109375 0 \r\nL 9.078125 0 \r\nL 9.078125 54.6875 \r\nL 18.109375 54.6875 \r\nL 18.109375 46.1875 \r\nQ 20.953125 51.171875 25.484375 53.578125 \r\nQ 30.03125 56 36.53125 56 \r\nQ 37.453125 56 38.578125 55.875 \r\nQ 39.703125 55.765625 41.0625 55.515625 \r\nz\r\n\" id=\"DejaVuSans-114\"/>\r\n      <path d=\"M 48.78125 52.59375 \r\nL 48.78125 44.1875 \r\nQ 44.96875 46.296875 41.140625 47.34375 \r\nQ 37.3125 48.390625 33.40625 48.390625 \r\nQ 24.65625 48.390625 19.8125 42.84375 \r\nQ 14.984375 37.3125 14.984375 27.296875 \r\nQ 14.984375 17.28125 19.8125 11.734375 \r\nQ 24.65625 6.203125 33.40625 6.203125 \r\nQ 37.3125 6.203125 41.140625 7.25 \r\nQ 44.96875 8.296875 48.78125 10.40625 \r\nL 48.78125 2.09375 \r\nQ 45.015625 0.34375 40.984375 -0.53125 \r\nQ 36.96875 -1.421875 32.421875 -1.421875 \r\nQ 20.0625 -1.421875 12.78125 6.34375 \r\nQ 5.515625 14.109375 5.515625 27.296875 \r\nQ 5.515625 40.671875 12.859375 48.328125 \r\nQ 20.21875 56 33.015625 56 \r\nQ 37.15625 56 41.109375 55.140625 \r\nQ 45.0625 54.296875 48.78125 52.59375 \r\nz\r\n\" id=\"DejaVuSans-99\"/>\r\n     </defs>\r\n     <use xlink:href=\"#DejaVuSans-67\"/>\r\n     <use x=\"69.824219\" xlink:href=\"#DejaVuSans-97\"/>\r\n     <use x=\"131.103516\" xlink:href=\"#DejaVuSans-114\"/>\r\n     <use x=\"170.466797\" xlink:href=\"#DejaVuSans-114\"/>\r\n     <use x=\"209.330078\" xlink:href=\"#DejaVuSans-101\"/>\r\n     <use x=\"270.853516\" xlink:href=\"#DejaVuSans-114\"/>\r\n     <use x=\"311.966797\" xlink:href=\"#DejaVuSans-97\"/>\r\n     <use x=\"373.246094\" xlink:href=\"#DejaVuSans-32\"/>\r\n     <use x=\"405.033203\" xlink:href=\"#DejaVuSans-100\"/>\r\n     <use x=\"468.509766\" xlink:href=\"#DejaVuSans-101\"/>\r\n     <use x=\"530.033203\" xlink:href=\"#DejaVuSans-32\"/>\r\n     <use x=\"561.820312\" xlink:href=\"#DejaVuSans-99\"/>\r\n     <use x=\"616.800781\" xlink:href=\"#DejaVuSans-111\"/>\r\n     <use x=\"677.982422\" xlink:href=\"#DejaVuSans-110\"/>\r\n     <use x=\"741.361328\" xlink:href=\"#DejaVuSans-100\"/>\r\n     <use x=\"804.837891\" xlink:href=\"#DejaVuSans-101\"/>\r\n     <use x=\"866.361328\" xlink:href=\"#DejaVuSans-110\"/>\r\n     <use x=\"929.740234\" xlink:href=\"#DejaVuSans-115\"/>\r\n     <use x=\"981.839844\" xlink:href=\"#DejaVuSans-97\"/>\r\n     <use x=\"1043.119141\" xlink:href=\"#DejaVuSans-100\"/>\r\n     <use x=\"1106.595703\" xlink:href=\"#DejaVuSans-111\"/>\r\n     <use x=\"1167.777344\" xlink:href=\"#DejaVuSans-114\"/>\r\n     <use x=\"1206.640625\" xlink:href=\"#DejaVuSans-101\"/>\r\n     <use x=\"1268.164062\" xlink:href=\"#DejaVuSans-115\"/>\r\n    </g>\r\n   </g>\r\n  </g>\r\n </g>\r\n <defs>\r\n  <clipPath id=\"pf5b2e1975e\">\r\n   <rect height=\"217.44\" width=\"334.8\" x=\"67.335625\" y=\"22.318125\"/>\r\n  </clipPath>\r\n </defs>\r\n</svg>\r\n"
          },
          "metadata": {
            "needs_background": "light"
          }
        }
      ],
      "execution_count": 202,
      "metadata": {}
    },
    {
      "source": [
        "En esta gráfica se puede ver la evolución de la intensidad de corriente en ambos ramales del circuito donde se encuentran cada uno de los condensadores, y en la que la línea azul representa la evolución en el tiempo del condensador `c1` y la línea naranja es el condensador `c2`. Tomando como referencia el eje de abscisas establecido con los valores del tiempo, se observa que el condensador `c1` en el tramo de tiempo comprendido entre 7.0 - 7.3 su intensidad en la gráfica va entre 0.0002 - 0.00005 amperios (este último dato estimado dado que se encuentra en un punto intermedio entre 0.0001 y 0.0000), por lo que a penas es 0.00015 la diferencia de intensidad en ese tramo del tiempo. Para un mismo rango de tiempo de 0.3s en el condensador `c2` entre los tiempos 6.7 - 7.0 la intensidad va entre 0.0004 - 0.0001 amperios, lo que hace una diferencia de intensidad de 0.0003 amperios y por lo tanto mayor rapidez en su evolución. Es por esto que en la carrera de condensadores \"gana\" el condensador `c2`"
      ],
      "cell_type": "markdown",
      "metadata": {}
    },
    {
      "source": [],
      "cell_type": "markdown",
      "metadata": {}
    },
    {
      "cell_type": "code",
      "execution_count": 203,
      "metadata": {},
      "outputs": [
        {
          "output_type": "execute_result",
          "data": {
            "text/plain": [
              "[<matplotlib.lines.Line2D at 0x1fe09a73ec8>]"
            ]
          },
          "metadata": {},
          "execution_count": 203
        },
        {
          "output_type": "display_data",
          "data": {
            "text/plain": "<Figure size 432x288 with 1 Axes>",
            "image/svg+xml": "<?xml version=\"1.0\" encoding=\"utf-8\" standalone=\"no\"?>\r\n<!DOCTYPE svg PUBLIC \"-//W3C//DTD SVG 1.1//EN\"\r\n  \"http://www.w3.org/Graphics/SVG/1.1/DTD/svg11.dtd\">\r\n<!-- Created with matplotlib (https://matplotlib.org/) -->\r\n<svg height=\"279.25pt\" version=\"1.1\" viewBox=\"0 0 394.061094 279.25\" width=\"394.061094pt\" xmlns=\"http://www.w3.org/2000/svg\" xmlns:xlink=\"http://www.w3.org/1999/xlink\">\r\n <metadata>\r\n  <rdf:RDF xmlns:cc=\"http://creativecommons.org/ns#\" xmlns:dc=\"http://purl.org/dc/elements/1.1/\" xmlns:rdf=\"http://www.w3.org/1999/02/22-rdf-syntax-ns#\">\r\n   <cc:Work>\r\n    <dc:type rdf:resource=\"http://purl.org/dc/dcmitype/StillImage\"/>\r\n    <dc:date>2021-01-06T21:30:56.468069</dc:date>\r\n    <dc:format>image/svg+xml</dc:format>\r\n    <dc:creator>\r\n     <cc:Agent>\r\n      <dc:title>Matplotlib v3.3.3, https://matplotlib.org/</dc:title>\r\n     </cc:Agent>\r\n    </dc:creator>\r\n   </cc:Work>\r\n  </rdf:RDF>\r\n </metadata>\r\n <defs>\r\n  <style type=\"text/css\">*{stroke-linecap:butt;stroke-linejoin:round;}</style>\r\n </defs>\r\n <g id=\"figure_1\">\r\n  <g id=\"patch_1\">\r\n   <path d=\"M 0 279.25 \r\nL 394.061094 279.25 \r\nL 394.061094 0 \r\nL 0 0 \r\nz\r\n\" style=\"fill:none;\"/>\r\n  </g>\r\n  <g id=\"axes_1\">\r\n   <g id=\"patch_2\">\r\n    <path d=\"M 52.061094 239.758125 \r\nL 386.861094 239.758125 \r\nL 386.861094 22.318125 \r\nL 52.061094 22.318125 \r\nz\r\n\" style=\"fill:#ffffff;\"/>\r\n   </g>\r\n   <g id=\"matplotlib.axis_1\">\r\n    <g id=\"xtick_1\">\r\n     <g id=\"line2d_1\">\r\n      <path clip-path=\"url(#p3d3f901f0d)\" d=\"M 97.663618 239.758125 \r\nL 97.663618 22.318125 \r\n\" style=\"fill:none;stroke:#b0b0b0;stroke-linecap:square;stroke-width:0.8;\"/>\r\n     </g>\r\n     <g id=\"line2d_2\">\r\n      <defs>\r\n       <path d=\"M 0 0 \r\nL 0 3.5 \r\n\" id=\"m257a0b9872\" style=\"stroke:#000000;stroke-width:0.8;\"/>\r\n      </defs>\r\n      <g>\r\n       <use style=\"stroke:#000000;stroke-width:0.8;\" x=\"97.663618\" xlink:href=\"#m257a0b9872\" y=\"239.758125\"/>\r\n      </g>\r\n     </g>\r\n     <g id=\"text_1\">\r\n      <!-- 6.6 -->\r\n      <g transform=\"translate(88.916899 255.116406)scale(0.11 -0.11)\">\r\n       <defs>\r\n        <path d=\"M 33.015625 40.375 \r\nQ 26.375 40.375 22.484375 35.828125 \r\nQ 18.609375 31.296875 18.609375 23.390625 \r\nQ 18.609375 15.53125 22.484375 10.953125 \r\nQ 26.375 6.390625 33.015625 6.390625 \r\nQ 39.65625 6.390625 43.53125 10.953125 \r\nQ 47.40625 15.53125 47.40625 23.390625 \r\nQ 47.40625 31.296875 43.53125 35.828125 \r\nQ 39.65625 40.375 33.015625 40.375 \r\nz\r\nM 52.59375 71.296875 \r\nL 52.59375 62.3125 \r\nQ 48.875 64.0625 45.09375 64.984375 \r\nQ 41.3125 65.921875 37.59375 65.921875 \r\nQ 27.828125 65.921875 22.671875 59.328125 \r\nQ 17.53125 52.734375 16.796875 39.40625 \r\nQ 19.671875 43.65625 24.015625 45.921875 \r\nQ 28.375 48.1875 33.59375 48.1875 \r\nQ 44.578125 48.1875 50.953125 41.515625 \r\nQ 57.328125 34.859375 57.328125 23.390625 \r\nQ 57.328125 12.15625 50.6875 5.359375 \r\nQ 44.046875 -1.421875 33.015625 -1.421875 \r\nQ 20.359375 -1.421875 13.671875 8.265625 \r\nQ 6.984375 17.96875 6.984375 36.375 \r\nQ 6.984375 53.65625 15.1875 63.9375 \r\nQ 23.390625 74.21875 37.203125 74.21875 \r\nQ 40.921875 74.21875 44.703125 73.484375 \r\nQ 48.484375 72.75 52.59375 71.296875 \r\nz\r\n\" id=\"DejaVuSans-54\"/>\r\n        <path d=\"M 10.6875 12.40625 \r\nL 21 12.40625 \r\nL 21 0 \r\nL 10.6875 0 \r\nz\r\n\" id=\"DejaVuSans-46\"/>\r\n       </defs>\r\n       <use xlink:href=\"#DejaVuSans-54\"/>\r\n       <use x=\"63.623047\" xlink:href=\"#DejaVuSans-46\"/>\r\n       <use x=\"95.410156\" xlink:href=\"#DejaVuSans-54\"/>\r\n      </g>\r\n     </g>\r\n    </g>\r\n    <g id=\"xtick_2\">\r\n     <g id=\"line2d_3\">\r\n      <path clip-path=\"url(#p3d3f901f0d)\" d=\"M 158.493137 239.758125 \r\nL 158.493137 22.318125 \r\n\" style=\"fill:none;stroke:#b0b0b0;stroke-linecap:square;stroke-width:0.8;\"/>\r\n     </g>\r\n     <g id=\"line2d_4\">\r\n      <g>\r\n       <use style=\"stroke:#000000;stroke-width:0.8;\" x=\"158.493137\" xlink:href=\"#m257a0b9872\" y=\"239.758125\"/>\r\n      </g>\r\n     </g>\r\n     <g id=\"text_2\">\r\n      <!-- 6.8 -->\r\n      <g transform=\"translate(149.746418 255.116406)scale(0.11 -0.11)\">\r\n       <defs>\r\n        <path d=\"M 31.78125 34.625 \r\nQ 24.75 34.625 20.71875 30.859375 \r\nQ 16.703125 27.09375 16.703125 20.515625 \r\nQ 16.703125 13.921875 20.71875 10.15625 \r\nQ 24.75 6.390625 31.78125 6.390625 \r\nQ 38.8125 6.390625 42.859375 10.171875 \r\nQ 46.921875 13.96875 46.921875 20.515625 \r\nQ 46.921875 27.09375 42.890625 30.859375 \r\nQ 38.875 34.625 31.78125 34.625 \r\nz\r\nM 21.921875 38.8125 \r\nQ 15.578125 40.375 12.03125 44.71875 \r\nQ 8.5 49.078125 8.5 55.328125 \r\nQ 8.5 64.0625 14.71875 69.140625 \r\nQ 20.953125 74.21875 31.78125 74.21875 \r\nQ 42.671875 74.21875 48.875 69.140625 \r\nQ 55.078125 64.0625 55.078125 55.328125 \r\nQ 55.078125 49.078125 51.53125 44.71875 \r\nQ 48 40.375 41.703125 38.8125 \r\nQ 48.828125 37.15625 52.796875 32.3125 \r\nQ 56.78125 27.484375 56.78125 20.515625 \r\nQ 56.78125 9.90625 50.3125 4.234375 \r\nQ 43.84375 -1.421875 31.78125 -1.421875 \r\nQ 19.734375 -1.421875 13.25 4.234375 \r\nQ 6.78125 9.90625 6.78125 20.515625 \r\nQ 6.78125 27.484375 10.78125 32.3125 \r\nQ 14.796875 37.15625 21.921875 38.8125 \r\nz\r\nM 18.3125 54.390625 \r\nQ 18.3125 48.734375 21.84375 45.5625 \r\nQ 25.390625 42.390625 31.78125 42.390625 \r\nQ 38.140625 42.390625 41.71875 45.5625 \r\nQ 45.3125 48.734375 45.3125 54.390625 \r\nQ 45.3125 60.0625 41.71875 63.234375 \r\nQ 38.140625 66.40625 31.78125 66.40625 \r\nQ 25.390625 66.40625 21.84375 63.234375 \r\nQ 18.3125 60.0625 18.3125 54.390625 \r\nz\r\n\" id=\"DejaVuSans-56\"/>\r\n       </defs>\r\n       <use xlink:href=\"#DejaVuSans-54\"/>\r\n       <use x=\"63.623047\" xlink:href=\"#DejaVuSans-46\"/>\r\n       <use x=\"95.410156\" xlink:href=\"#DejaVuSans-56\"/>\r\n      </g>\r\n     </g>\r\n    </g>\r\n    <g id=\"xtick_3\">\r\n     <g id=\"line2d_5\">\r\n      <path clip-path=\"url(#p3d3f901f0d)\" d=\"M 219.322656 239.758125 \r\nL 219.322656 22.318125 \r\n\" style=\"fill:none;stroke:#b0b0b0;stroke-linecap:square;stroke-width:0.8;\"/>\r\n     </g>\r\n     <g id=\"line2d_6\">\r\n      <g>\r\n       <use style=\"stroke:#000000;stroke-width:0.8;\" x=\"219.322656\" xlink:href=\"#m257a0b9872\" y=\"239.758125\"/>\r\n      </g>\r\n     </g>\r\n     <g id=\"text_3\">\r\n      <!-- 7.0 -->\r\n      <g transform=\"translate(210.575938 255.116406)scale(0.11 -0.11)\">\r\n       <defs>\r\n        <path d=\"M 8.203125 72.90625 \r\nL 55.078125 72.90625 \r\nL 55.078125 68.703125 \r\nL 28.609375 0 \r\nL 18.3125 0 \r\nL 43.21875 64.59375 \r\nL 8.203125 64.59375 \r\nz\r\n\" id=\"DejaVuSans-55\"/>\r\n        <path d=\"M 31.78125 66.40625 \r\nQ 24.171875 66.40625 20.328125 58.90625 \r\nQ 16.5 51.421875 16.5 36.375 \r\nQ 16.5 21.390625 20.328125 13.890625 \r\nQ 24.171875 6.390625 31.78125 6.390625 \r\nQ 39.453125 6.390625 43.28125 13.890625 \r\nQ 47.125 21.390625 47.125 36.375 \r\nQ 47.125 51.421875 43.28125 58.90625 \r\nQ 39.453125 66.40625 31.78125 66.40625 \r\nz\r\nM 31.78125 74.21875 \r\nQ 44.046875 74.21875 50.515625 64.515625 \r\nQ 56.984375 54.828125 56.984375 36.375 \r\nQ 56.984375 17.96875 50.515625 8.265625 \r\nQ 44.046875 -1.421875 31.78125 -1.421875 \r\nQ 19.53125 -1.421875 13.0625 8.265625 \r\nQ 6.59375 17.96875 6.59375 36.375 \r\nQ 6.59375 54.828125 13.0625 64.515625 \r\nQ 19.53125 74.21875 31.78125 74.21875 \r\nz\r\n\" id=\"DejaVuSans-48\"/>\r\n       </defs>\r\n       <use xlink:href=\"#DejaVuSans-55\"/>\r\n       <use x=\"63.623047\" xlink:href=\"#DejaVuSans-46\"/>\r\n       <use x=\"95.410156\" xlink:href=\"#DejaVuSans-48\"/>\r\n      </g>\r\n     </g>\r\n    </g>\r\n    <g id=\"xtick_4\">\r\n     <g id=\"line2d_7\">\r\n      <path clip-path=\"url(#p3d3f901f0d)\" d=\"M 280.152176 239.758125 \r\nL 280.152176 22.318125 \r\n\" style=\"fill:none;stroke:#b0b0b0;stroke-linecap:square;stroke-width:0.8;\"/>\r\n     </g>\r\n     <g id=\"line2d_8\">\r\n      <g>\r\n       <use style=\"stroke:#000000;stroke-width:0.8;\" x=\"280.152176\" xlink:href=\"#m257a0b9872\" y=\"239.758125\"/>\r\n      </g>\r\n     </g>\r\n     <g id=\"text_4\">\r\n      <!-- 7.2 -->\r\n      <g transform=\"translate(271.405457 255.116406)scale(0.11 -0.11)\">\r\n       <defs>\r\n        <path d=\"M 19.1875 8.296875 \r\nL 53.609375 8.296875 \r\nL 53.609375 0 \r\nL 7.328125 0 \r\nL 7.328125 8.296875 \r\nQ 12.9375 14.109375 22.625 23.890625 \r\nQ 32.328125 33.6875 34.8125 36.53125 \r\nQ 39.546875 41.84375 41.421875 45.53125 \r\nQ 43.3125 49.21875 43.3125 52.78125 \r\nQ 43.3125 58.59375 39.234375 62.25 \r\nQ 35.15625 65.921875 28.609375 65.921875 \r\nQ 23.96875 65.921875 18.8125 64.3125 \r\nQ 13.671875 62.703125 7.8125 59.421875 \r\nL 7.8125 69.390625 \r\nQ 13.765625 71.78125 18.9375 73 \r\nQ 24.125 74.21875 28.421875 74.21875 \r\nQ 39.75 74.21875 46.484375 68.546875 \r\nQ 53.21875 62.890625 53.21875 53.421875 \r\nQ 53.21875 48.921875 51.53125 44.890625 \r\nQ 49.859375 40.875 45.40625 35.40625 \r\nQ 44.1875 33.984375 37.640625 27.21875 \r\nQ 31.109375 20.453125 19.1875 8.296875 \r\nz\r\n\" id=\"DejaVuSans-50\"/>\r\n       </defs>\r\n       <use xlink:href=\"#DejaVuSans-55\"/>\r\n       <use x=\"63.623047\" xlink:href=\"#DejaVuSans-46\"/>\r\n       <use x=\"95.410156\" xlink:href=\"#DejaVuSans-50\"/>\r\n      </g>\r\n     </g>\r\n    </g>\r\n    <g id=\"xtick_5\">\r\n     <g id=\"line2d_9\">\r\n      <path clip-path=\"url(#p3d3f901f0d)\" d=\"M 340.981695 239.758125 \r\nL 340.981695 22.318125 \r\n\" style=\"fill:none;stroke:#b0b0b0;stroke-linecap:square;stroke-width:0.8;\"/>\r\n     </g>\r\n     <g id=\"line2d_10\">\r\n      <g>\r\n       <use style=\"stroke:#000000;stroke-width:0.8;\" x=\"340.981695\" xlink:href=\"#m257a0b9872\" y=\"239.758125\"/>\r\n      </g>\r\n     </g>\r\n     <g id=\"text_5\">\r\n      <!-- 7.4 -->\r\n      <g transform=\"translate(332.234977 255.116406)scale(0.11 -0.11)\">\r\n       <defs>\r\n        <path d=\"M 37.796875 64.3125 \r\nL 12.890625 25.390625 \r\nL 37.796875 25.390625 \r\nz\r\nM 35.203125 72.90625 \r\nL 47.609375 72.90625 \r\nL 47.609375 25.390625 \r\nL 58.015625 25.390625 \r\nL 58.015625 17.1875 \r\nL 47.609375 17.1875 \r\nL 47.609375 0 \r\nL 37.796875 0 \r\nL 37.796875 17.1875 \r\nL 4.890625 17.1875 \r\nL 4.890625 26.703125 \r\nz\r\n\" id=\"DejaVuSans-52\"/>\r\n       </defs>\r\n       <use xlink:href=\"#DejaVuSans-55\"/>\r\n       <use x=\"63.623047\" xlink:href=\"#DejaVuSans-46\"/>\r\n       <use x=\"95.410156\" xlink:href=\"#DejaVuSans-52\"/>\r\n      </g>\r\n     </g>\r\n    </g>\r\n    <g id=\"text_6\">\r\n     <!-- Tiempo (T) -->\r\n     <g transform=\"translate(189.748203 269.762344)scale(0.11 -0.11)\">\r\n      <defs>\r\n       <path d=\"M -0.296875 72.90625 \r\nL 61.375 72.90625 \r\nL 61.375 64.59375 \r\nL 35.5 64.59375 \r\nL 35.5 0 \r\nL 25.59375 0 \r\nL 25.59375 64.59375 \r\nL -0.296875 64.59375 \r\nz\r\n\" id=\"DejaVuSans-84\"/>\r\n       <path d=\"M 9.421875 54.6875 \r\nL 18.40625 54.6875 \r\nL 18.40625 0 \r\nL 9.421875 0 \r\nz\r\nM 9.421875 75.984375 \r\nL 18.40625 75.984375 \r\nL 18.40625 64.59375 \r\nL 9.421875 64.59375 \r\nz\r\n\" id=\"DejaVuSans-105\"/>\r\n       <path d=\"M 56.203125 29.59375 \r\nL 56.203125 25.203125 \r\nL 14.890625 25.203125 \r\nQ 15.484375 15.921875 20.484375 11.0625 \r\nQ 25.484375 6.203125 34.421875 6.203125 \r\nQ 39.59375 6.203125 44.453125 7.46875 \r\nQ 49.3125 8.734375 54.109375 11.28125 \r\nL 54.109375 2.78125 \r\nQ 49.265625 0.734375 44.1875 -0.34375 \r\nQ 39.109375 -1.421875 33.890625 -1.421875 \r\nQ 20.796875 -1.421875 13.15625 6.1875 \r\nQ 5.515625 13.8125 5.515625 26.8125 \r\nQ 5.515625 40.234375 12.765625 48.109375 \r\nQ 20.015625 56 32.328125 56 \r\nQ 43.359375 56 49.78125 48.890625 \r\nQ 56.203125 41.796875 56.203125 29.59375 \r\nz\r\nM 47.21875 32.234375 \r\nQ 47.125 39.59375 43.09375 43.984375 \r\nQ 39.0625 48.390625 32.421875 48.390625 \r\nQ 24.90625 48.390625 20.390625 44.140625 \r\nQ 15.875 39.890625 15.1875 32.171875 \r\nz\r\n\" id=\"DejaVuSans-101\"/>\r\n       <path d=\"M 52 44.1875 \r\nQ 55.375 50.25 60.0625 53.125 \r\nQ 64.75 56 71.09375 56 \r\nQ 79.640625 56 84.28125 50.015625 \r\nQ 88.921875 44.046875 88.921875 33.015625 \r\nL 88.921875 0 \r\nL 79.890625 0 \r\nL 79.890625 32.71875 \r\nQ 79.890625 40.578125 77.09375 44.375 \r\nQ 74.3125 48.1875 68.609375 48.1875 \r\nQ 61.625 48.1875 57.5625 43.546875 \r\nQ 53.515625 38.921875 53.515625 30.90625 \r\nL 53.515625 0 \r\nL 44.484375 0 \r\nL 44.484375 32.71875 \r\nQ 44.484375 40.625 41.703125 44.40625 \r\nQ 38.921875 48.1875 33.109375 48.1875 \r\nQ 26.21875 48.1875 22.15625 43.53125 \r\nQ 18.109375 38.875 18.109375 30.90625 \r\nL 18.109375 0 \r\nL 9.078125 0 \r\nL 9.078125 54.6875 \r\nL 18.109375 54.6875 \r\nL 18.109375 46.1875 \r\nQ 21.1875 51.21875 25.484375 53.609375 \r\nQ 29.78125 56 35.6875 56 \r\nQ 41.65625 56 45.828125 52.96875 \r\nQ 50 49.953125 52 44.1875 \r\nz\r\n\" id=\"DejaVuSans-109\"/>\r\n       <path d=\"M 18.109375 8.203125 \r\nL 18.109375 -20.796875 \r\nL 9.078125 -20.796875 \r\nL 9.078125 54.6875 \r\nL 18.109375 54.6875 \r\nL 18.109375 46.390625 \r\nQ 20.953125 51.265625 25.265625 53.625 \r\nQ 29.59375 56 35.59375 56 \r\nQ 45.5625 56 51.78125 48.09375 \r\nQ 58.015625 40.1875 58.015625 27.296875 \r\nQ 58.015625 14.40625 51.78125 6.484375 \r\nQ 45.5625 -1.421875 35.59375 -1.421875 \r\nQ 29.59375 -1.421875 25.265625 0.953125 \r\nQ 20.953125 3.328125 18.109375 8.203125 \r\nz\r\nM 48.6875 27.296875 \r\nQ 48.6875 37.203125 44.609375 42.84375 \r\nQ 40.53125 48.484375 33.40625 48.484375 \r\nQ 26.265625 48.484375 22.1875 42.84375 \r\nQ 18.109375 37.203125 18.109375 27.296875 \r\nQ 18.109375 17.390625 22.1875 11.75 \r\nQ 26.265625 6.109375 33.40625 6.109375 \r\nQ 40.53125 6.109375 44.609375 11.75 \r\nQ 48.6875 17.390625 48.6875 27.296875 \r\nz\r\n\" id=\"DejaVuSans-112\"/>\r\n       <path d=\"M 30.609375 48.390625 \r\nQ 23.390625 48.390625 19.1875 42.75 \r\nQ 14.984375 37.109375 14.984375 27.296875 \r\nQ 14.984375 17.484375 19.15625 11.84375 \r\nQ 23.34375 6.203125 30.609375 6.203125 \r\nQ 37.796875 6.203125 41.984375 11.859375 \r\nQ 46.1875 17.53125 46.1875 27.296875 \r\nQ 46.1875 37.015625 41.984375 42.703125 \r\nQ 37.796875 48.390625 30.609375 48.390625 \r\nz\r\nM 30.609375 56 \r\nQ 42.328125 56 49.015625 48.375 \r\nQ 55.71875 40.765625 55.71875 27.296875 \r\nQ 55.71875 13.875 49.015625 6.21875 \r\nQ 42.328125 -1.421875 30.609375 -1.421875 \r\nQ 18.84375 -1.421875 12.171875 6.21875 \r\nQ 5.515625 13.875 5.515625 27.296875 \r\nQ 5.515625 40.765625 12.171875 48.375 \r\nQ 18.84375 56 30.609375 56 \r\nz\r\n\" id=\"DejaVuSans-111\"/>\r\n       <path id=\"DejaVuSans-32\"/>\r\n       <path d=\"M 31 75.875 \r\nQ 24.46875 64.65625 21.28125 53.65625 \r\nQ 18.109375 42.671875 18.109375 31.390625 \r\nQ 18.109375 20.125 21.3125 9.0625 \r\nQ 24.515625 -2 31 -13.1875 \r\nL 23.1875 -13.1875 \r\nQ 15.875 -1.703125 12.234375 9.375 \r\nQ 8.59375 20.453125 8.59375 31.390625 \r\nQ 8.59375 42.28125 12.203125 53.3125 \r\nQ 15.828125 64.359375 23.1875 75.875 \r\nz\r\n\" id=\"DejaVuSans-40\"/>\r\n       <path d=\"M 8.015625 75.875 \r\nL 15.828125 75.875 \r\nQ 23.140625 64.359375 26.78125 53.3125 \r\nQ 30.421875 42.28125 30.421875 31.390625 \r\nQ 30.421875 20.453125 26.78125 9.375 \r\nQ 23.140625 -1.703125 15.828125 -13.1875 \r\nL 8.015625 -13.1875 \r\nQ 14.5 -2 17.703125 9.0625 \r\nQ 20.90625 20.125 20.90625 31.390625 \r\nQ 20.90625 42.671875 17.703125 53.65625 \r\nQ 14.5 64.65625 8.015625 75.875 \r\nz\r\n\" id=\"DejaVuSans-41\"/>\r\n      </defs>\r\n      <use xlink:href=\"#DejaVuSans-84\"/>\r\n      <use x=\"57.958984\" xlink:href=\"#DejaVuSans-105\"/>\r\n      <use x=\"85.742188\" xlink:href=\"#DejaVuSans-101\"/>\r\n      <use x=\"147.265625\" xlink:href=\"#DejaVuSans-109\"/>\r\n      <use x=\"244.677734\" xlink:href=\"#DejaVuSans-112\"/>\r\n      <use x=\"308.154297\" xlink:href=\"#DejaVuSans-111\"/>\r\n      <use x=\"369.335938\" xlink:href=\"#DejaVuSans-32\"/>\r\n      <use x=\"401.123047\" xlink:href=\"#DejaVuSans-40\"/>\r\n      <use x=\"440.136719\" xlink:href=\"#DejaVuSans-84\"/>\r\n      <use x=\"501.220703\" xlink:href=\"#DejaVuSans-41\"/>\r\n     </g>\r\n    </g>\r\n   </g>\r\n   <g id=\"matplotlib.axis_2\">\r\n    <g id=\"ytick_1\">\r\n     <g id=\"line2d_11\">\r\n      <path clip-path=\"url(#p3d3f901f0d)\" d=\"M 52.061094 229.874489 \r\nL 386.861094 229.874489 \r\n\" style=\"fill:none;stroke:#b0b0b0;stroke-linecap:square;stroke-width:0.8;\"/>\r\n     </g>\r\n     <g id=\"line2d_12\">\r\n      <defs>\r\n       <path d=\"M 0 0 \r\nL -3.5 0 \r\n\" id=\"medce82a3dc\" style=\"stroke:#000000;stroke-width:0.8;\"/>\r\n      </defs>\r\n      <g>\r\n       <use style=\"stroke:#000000;stroke-width:0.8;\" x=\"52.061094\" xlink:href=\"#medce82a3dc\" y=\"229.874489\"/>\r\n      </g>\r\n     </g>\r\n     <g id=\"text_7\">\r\n      <!-- −10 -->\r\n      <g transform=\"translate(21.845938 234.053629)scale(0.11 -0.11)\">\r\n       <defs>\r\n        <path d=\"M 10.59375 35.5 \r\nL 73.1875 35.5 \r\nL 73.1875 27.203125 \r\nL 10.59375 27.203125 \r\nz\r\n\" id=\"DejaVuSans-8722\"/>\r\n        <path d=\"M 12.40625 8.296875 \r\nL 28.515625 8.296875 \r\nL 28.515625 63.921875 \r\nL 10.984375 60.40625 \r\nL 10.984375 69.390625 \r\nL 28.421875 72.90625 \r\nL 38.28125 72.90625 \r\nL 38.28125 8.296875 \r\nL 54.390625 8.296875 \r\nL 54.390625 0 \r\nL 12.40625 0 \r\nz\r\n\" id=\"DejaVuSans-49\"/>\r\n       </defs>\r\n       <use xlink:href=\"#DejaVuSans-8722\"/>\r\n       <use x=\"83.789062\" xlink:href=\"#DejaVuSans-49\"/>\r\n       <use x=\"147.412109\" xlink:href=\"#DejaVuSans-48\"/>\r\n      </g>\r\n     </g>\r\n    </g>\r\n    <g id=\"ytick_2\">\r\n     <g id=\"line2d_13\">\r\n      <path clip-path=\"url(#p3d3f901f0d)\" d=\"M 52.061094 190.023502 \r\nL 386.861094 190.023502 \r\n\" style=\"fill:none;stroke:#b0b0b0;stroke-linecap:square;stroke-width:0.8;\"/>\r\n     </g>\r\n     <g id=\"line2d_14\">\r\n      <g>\r\n       <use style=\"stroke:#000000;stroke-width:0.8;\" x=\"52.061094\" xlink:href=\"#medce82a3dc\" y=\"190.023502\"/>\r\n      </g>\r\n     </g>\r\n     <g id=\"text_8\">\r\n      <!-- −8 -->\r\n      <g transform=\"translate(28.844688 194.202642)scale(0.11 -0.11)\">\r\n       <use xlink:href=\"#DejaVuSans-8722\"/>\r\n       <use x=\"83.789062\" xlink:href=\"#DejaVuSans-56\"/>\r\n      </g>\r\n     </g>\r\n    </g>\r\n    <g id=\"ytick_3\">\r\n     <g id=\"line2d_15\">\r\n      <path clip-path=\"url(#p3d3f901f0d)\" d=\"M 52.061094 150.172515 \r\nL 386.861094 150.172515 \r\n\" style=\"fill:none;stroke:#b0b0b0;stroke-linecap:square;stroke-width:0.8;\"/>\r\n     </g>\r\n     <g id=\"line2d_16\">\r\n      <g>\r\n       <use style=\"stroke:#000000;stroke-width:0.8;\" x=\"52.061094\" xlink:href=\"#medce82a3dc\" y=\"150.172515\"/>\r\n      </g>\r\n     </g>\r\n     <g id=\"text_9\">\r\n      <!-- −6 -->\r\n      <g transform=\"translate(28.844688 154.351656)scale(0.11 -0.11)\">\r\n       <use xlink:href=\"#DejaVuSans-8722\"/>\r\n       <use x=\"83.789062\" xlink:href=\"#DejaVuSans-54\"/>\r\n      </g>\r\n     </g>\r\n    </g>\r\n    <g id=\"ytick_4\">\r\n     <g id=\"line2d_17\">\r\n      <path clip-path=\"url(#p3d3f901f0d)\" d=\"M 52.061094 110.321528 \r\nL 386.861094 110.321528 \r\n\" style=\"fill:none;stroke:#b0b0b0;stroke-linecap:square;stroke-width:0.8;\"/>\r\n     </g>\r\n     <g id=\"line2d_18\">\r\n      <g>\r\n       <use style=\"stroke:#000000;stroke-width:0.8;\" x=\"52.061094\" xlink:href=\"#medce82a3dc\" y=\"110.321528\"/>\r\n      </g>\r\n     </g>\r\n     <g id=\"text_10\">\r\n      <!-- −4 -->\r\n      <g transform=\"translate(28.844688 114.500669)scale(0.11 -0.11)\">\r\n       <use xlink:href=\"#DejaVuSans-8722\"/>\r\n       <use x=\"83.789062\" xlink:href=\"#DejaVuSans-52\"/>\r\n      </g>\r\n     </g>\r\n    </g>\r\n    <g id=\"ytick_5\">\r\n     <g id=\"line2d_19\">\r\n      <path clip-path=\"url(#p3d3f901f0d)\" d=\"M 52.061094 70.470541 \r\nL 386.861094 70.470541 \r\n\" style=\"fill:none;stroke:#b0b0b0;stroke-linecap:square;stroke-width:0.8;\"/>\r\n     </g>\r\n     <g id=\"line2d_20\">\r\n      <g>\r\n       <use style=\"stroke:#000000;stroke-width:0.8;\" x=\"52.061094\" xlink:href=\"#medce82a3dc\" y=\"70.470541\"/>\r\n      </g>\r\n     </g>\r\n     <g id=\"text_11\">\r\n      <!-- −2 -->\r\n      <g transform=\"translate(28.844688 74.649682)scale(0.11 -0.11)\">\r\n       <use xlink:href=\"#DejaVuSans-8722\"/>\r\n       <use x=\"83.789062\" xlink:href=\"#DejaVuSans-50\"/>\r\n      </g>\r\n     </g>\r\n    </g>\r\n    <g id=\"ytick_6\">\r\n     <g id=\"line2d_21\">\r\n      <path clip-path=\"url(#p3d3f901f0d)\" d=\"M 52.061094 30.619554 \r\nL 386.861094 30.619554 \r\n\" style=\"fill:none;stroke:#b0b0b0;stroke-linecap:square;stroke-width:0.8;\"/>\r\n     </g>\r\n     <g id=\"line2d_22\">\r\n      <g>\r\n       <use style=\"stroke:#000000;stroke-width:0.8;\" x=\"52.061094\" xlink:href=\"#medce82a3dc\" y=\"30.619554\"/>\r\n      </g>\r\n     </g>\r\n     <g id=\"text_12\">\r\n      <!-- 0 -->\r\n      <g transform=\"translate(38.062344 34.798695)scale(0.11 -0.11)\">\r\n       <use xlink:href=\"#DejaVuSans-48\"/>\r\n      </g>\r\n     </g>\r\n    </g>\r\n    <g id=\"text_13\">\r\n     <!-- Voltaje (V) -->\r\n     <g transform=\"translate(15.558281 159.508359)rotate(-90)scale(0.11 -0.11)\">\r\n      <defs>\r\n       <path d=\"M 28.609375 0 \r\nL 0.78125 72.90625 \r\nL 11.078125 72.90625 \r\nL 34.1875 11.53125 \r\nL 57.328125 72.90625 \r\nL 67.578125 72.90625 \r\nL 39.796875 0 \r\nz\r\n\" id=\"DejaVuSans-86\"/>\r\n       <path d=\"M 9.421875 75.984375 \r\nL 18.40625 75.984375 \r\nL 18.40625 0 \r\nL 9.421875 0 \r\nz\r\n\" id=\"DejaVuSans-108\"/>\r\n       <path d=\"M 18.3125 70.21875 \r\nL 18.3125 54.6875 \r\nL 36.8125 54.6875 \r\nL 36.8125 47.703125 \r\nL 18.3125 47.703125 \r\nL 18.3125 18.015625 \r\nQ 18.3125 11.328125 20.140625 9.421875 \r\nQ 21.96875 7.515625 27.59375 7.515625 \r\nL 36.8125 7.515625 \r\nL 36.8125 0 \r\nL 27.59375 0 \r\nQ 17.1875 0 13.234375 3.875 \r\nQ 9.28125 7.765625 9.28125 18.015625 \r\nL 9.28125 47.703125 \r\nL 2.6875 47.703125 \r\nL 2.6875 54.6875 \r\nL 9.28125 54.6875 \r\nL 9.28125 70.21875 \r\nz\r\n\" id=\"DejaVuSans-116\"/>\r\n       <path d=\"M 34.28125 27.484375 \r\nQ 23.390625 27.484375 19.1875 25 \r\nQ 14.984375 22.515625 14.984375 16.5 \r\nQ 14.984375 11.71875 18.140625 8.90625 \r\nQ 21.296875 6.109375 26.703125 6.109375 \r\nQ 34.1875 6.109375 38.703125 11.40625 \r\nQ 43.21875 16.703125 43.21875 25.484375 \r\nL 43.21875 27.484375 \r\nz\r\nM 52.203125 31.203125 \r\nL 52.203125 0 \r\nL 43.21875 0 \r\nL 43.21875 8.296875 \r\nQ 40.140625 3.328125 35.546875 0.953125 \r\nQ 30.953125 -1.421875 24.3125 -1.421875 \r\nQ 15.921875 -1.421875 10.953125 3.296875 \r\nQ 6 8.015625 6 15.921875 \r\nQ 6 25.140625 12.171875 29.828125 \r\nQ 18.359375 34.515625 30.609375 34.515625 \r\nL 43.21875 34.515625 \r\nL 43.21875 35.40625 \r\nQ 43.21875 41.609375 39.140625 45 \r\nQ 35.0625 48.390625 27.6875 48.390625 \r\nQ 23 48.390625 18.546875 47.265625 \r\nQ 14.109375 46.140625 10.015625 43.890625 \r\nL 10.015625 52.203125 \r\nQ 14.9375 54.109375 19.578125 55.046875 \r\nQ 24.21875 56 28.609375 56 \r\nQ 40.484375 56 46.34375 49.84375 \r\nQ 52.203125 43.703125 52.203125 31.203125 \r\nz\r\n\" id=\"DejaVuSans-97\"/>\r\n       <path d=\"M 9.421875 54.6875 \r\nL 18.40625 54.6875 \r\nL 18.40625 -0.984375 \r\nQ 18.40625 -11.421875 14.421875 -16.109375 \r\nQ 10.453125 -20.796875 1.609375 -20.796875 \r\nL -1.8125 -20.796875 \r\nL -1.8125 -13.1875 \r\nL 0.59375 -13.1875 \r\nQ 5.71875 -13.1875 7.5625 -10.8125 \r\nQ 9.421875 -8.453125 9.421875 -0.984375 \r\nz\r\nM 9.421875 75.984375 \r\nL 18.40625 75.984375 \r\nL 18.40625 64.59375 \r\nL 9.421875 64.59375 \r\nz\r\n\" id=\"DejaVuSans-106\"/>\r\n      </defs>\r\n      <use xlink:href=\"#DejaVuSans-86\"/>\r\n      <use x=\"60.658203\" xlink:href=\"#DejaVuSans-111\"/>\r\n      <use x=\"121.839844\" xlink:href=\"#DejaVuSans-108\"/>\r\n      <use x=\"149.623047\" xlink:href=\"#DejaVuSans-116\"/>\r\n      <use x=\"188.832031\" xlink:href=\"#DejaVuSans-97\"/>\r\n      <use x=\"250.111328\" xlink:href=\"#DejaVuSans-106\"/>\r\n      <use x=\"277.894531\" xlink:href=\"#DejaVuSans-101\"/>\r\n      <use x=\"339.417969\" xlink:href=\"#DejaVuSans-32\"/>\r\n      <use x=\"371.205078\" xlink:href=\"#DejaVuSans-40\"/>\r\n      <use x=\"410.21875\" xlink:href=\"#DejaVuSans-86\"/>\r\n      <use x=\"478.626953\" xlink:href=\"#DejaVuSans-41\"/>\r\n     </g>\r\n    </g>\r\n   </g>\r\n   <g id=\"line2d_23\">\r\n    <path clip-path=\"url(#p3d3f901f0d)\" d=\"M 67.279276 229.874489 \r\nL 67.309693 229.874489 \r\nL 67.316026 229.874489 \r\nL 67.322329 229.874489 \r\nL 67.334934 229.874489 \r\nL 67.360146 229.874489 \r\nL 67.410569 229.874489 \r\nL 67.511415 229.874489 \r\nL 67.713106 229.874489 \r\nL 68.11649 229.874489 \r\nL 68.923257 229.874489 \r\nL 70.53679 229.874489 \r\nL 73.578266 229.874489 \r\nL 76.619742 229.874489 \r\nL 79.661218 229.874489 \r\nL 82.702694 229.874489 \r\nL 85.74417 229.874489 \r\nL 88.785646 229.874489 \r\nL 91.827122 229.874489 \r\nL 94.868598 229.874489 \r\nL 97.910074 229.874489 \r\nL 100.95155 229.874489 \r\nL 103.993026 229.874489 \r\nL 107.034502 229.874489 \r\nL 110.075978 229.874489 \r\nL 113.117454 229.874489 \r\nL 116.15893 229.874489 \r\nL 119.200406 229.874489 \r\nL 122.241882 229.874489 \r\nL 125.283358 229.874489 \r\nL 128.324834 229.874489 \r\nL 131.36631 229.874489 \r\nL 134.407786 229.874489 \r\nL 137.449262 229.874489 \r\nL 140.490738 229.874489 \r\nL 143.532214 229.874489 \r\nL 146.57369 229.874489 \r\nL 149.615166 229.874489 \r\nL 152.656642 229.874489 \r\nL 155.698118 229.874489 \r\nL 158.739594 229.874489 \r\nL 161.78107 229.874489 \r\nL 164.822546 229.874489 \r\nL 167.864022 229.874489 \r\nL 170.905498 229.874489 \r\nL 173.946974 229.874489 \r\nL 176.98845 229.874489 \r\nL 180.029926 229.874489 \r\nL 183.071402 229.874489 \r\nL 186.112878 229.874489 \r\nL 189.154353 229.874489 \r\nL 192.195829 229.874489 \r\nL 195.237305 229.874489 \r\nL 198.278781 229.874489 \r\nL 201.320257 229.874489 \r\nL 204.361733 229.874489 \r\nL 207.403209 229.874489 \r\nL 210.444685 229.874489 \r\nL 213.486161 229.874489 \r\nL 216.527637 229.874489 \r\nL 219.569113 229.874489 \r\nL 222.610589 229.874489 \r\nL 225.652065 229.874489 \r\nL 228.693541 229.874489 \r\nL 231.735017 229.874489 \r\nL 234.776493 229.874489 \r\nL 237.817969 229.874489 \r\nL 240.859445 229.874489 \r\nL 243.900921 229.874489 \r\nL 246.942397 229.874489 \r\nL 249.983873 229.874489 \r\nL 253.025349 229.874489 \r\nL 256.066825 229.874489 \r\nL 259.108301 229.874489 \r\nL 262.149777 229.874489 \r\nL 265.191253 229.874489 \r\nL 268.232729 229.874489 \r\nL 271.274205 229.874489 \r\nL 274.315681 229.874489 \r\nL 277.357157 229.874489 \r\nL 280.398633 229.874489 \r\nL 283.440109 229.874489 \r\nL 286.481585 229.874489 \r\nL 289.523061 229.874489 \r\nL 292.564537 229.874489 \r\nL 295.606013 229.874489 \r\nL 298.647489 229.874489 \r\nL 301.688965 229.874489 \r\nL 304.730441 229.874489 \r\nL 307.771916 229.874489 \r\nL 310.813392 229.874489 \r\nL 313.854868 229.874489 \r\nL 316.896344 229.874489 \r\nL 319.93782 229.874489 \r\nL 322.979296 229.874489 \r\nL 326.020772 229.874489 \r\nL 329.062248 229.874489 \r\nL 332.103724 229.874489 \r\nL 335.1452 229.874489 \r\nL 338.186676 229.874489 \r\nL 341.228152 229.874489 \r\nL 344.269628 229.874489 \r\nL 347.311104 229.874489 \r\nL 350.35258 229.874489 \r\nL 353.394056 229.874489 \r\nL 356.435532 229.874489 \r\nL 359.477008 229.874489 \r\nL 362.518484 229.874489 \r\nL 365.55996 229.874489 \r\nL 368.601436 229.874489 \r\nL 371.642912 229.874489 \r\n\" style=\"fill:none;stroke:#1f77b4;stroke-linecap:square;stroke-width:1.5;\"/>\r\n   </g>\r\n   <g id=\"line2d_24\">\r\n    <path clip-path=\"url(#p3d3f901f0d)\" d=\"M 67.279276 229.778267 \r\nL 67.309693 229.682069 \r\nL 67.316026 229.662048 \r\nL 67.322329 229.642123 \r\nL 67.334934 229.602278 \r\nL 67.360146 229.522612 \r\nL 67.410569 229.363376 \r\nL 67.511415 229.045287 \r\nL 67.713106 228.410634 \r\nL 68.11649 227.147408 \r\nL 68.923257 224.645083 \r\nL 70.53679 219.735412 \r\nL 73.578266 210.814852 \r\nL 76.619742 202.315074 \r\nL 79.661218 194.216229 \r\nL 82.702694 186.499405 \r\nL 85.74417 179.146581 \r\nL 88.785646 172.14059 \r\nL 91.827122 165.465069 \r\nL 94.868598 159.104431 \r\nL 97.910074 153.043824 \r\nL 100.95155 147.269094 \r\nL 103.993026 141.766758 \r\nL 107.034502 136.523965 \r\nL 110.075978 131.528474 \r\nL 113.117454 126.768619 \r\nL 116.15893 122.233286 \r\nL 119.200406 117.911883 \r\nL 122.241882 113.794321 \r\nL 125.283358 109.870983 \r\nL 128.324834 106.132708 \r\nL 131.36631 102.570767 \r\nL 134.407786 99.176841 \r\nL 137.449262 95.943007 \r\nL 140.490738 92.861712 \r\nL 143.532214 89.925761 \r\nL 146.57369 87.128299 \r\nL 149.615166 84.462792 \r\nL 152.656642 81.923017 \r\nL 155.698118 79.503042 \r\nL 158.739594 77.197217 \r\nL 161.78107 75.000157 \r\nL 164.822546 72.906733 \r\nL 167.864022 70.912055 \r\nL 170.905498 69.011465 \r\nL 173.946974 67.200526 \r\nL 176.98845 65.475008 \r\nL 180.029926 63.830883 \r\nL 183.071402 62.264311 \r\nL 186.112878 60.771634 \r\nL 189.154353 59.349366 \r\nL 192.195829 57.994186 \r\nL 195.237305 56.70293 \r\nL 198.278781 55.472582 \r\nL 201.320257 54.300269 \r\nL 204.361733 53.183254 \r\nL 207.403209 52.118929 \r\nL 210.444685 51.104808 \r\nL 213.486161 50.138522 \r\nL 216.527637 49.217816 \r\nL 219.569113 48.34054 \r\nL 222.610589 47.504644 \r\nL 225.652065 46.708177 \r\nL 228.693541 45.94928 \r\nL 231.735017 45.22618 \r\nL 234.776493 44.537188 \r\nL 237.817969 43.880696 \r\nL 240.859445 43.25517 \r\nL 243.900921 42.659151 \r\nL 246.942397 42.091245 \r\nL 249.983873 41.550128 \r\nL 253.025349 41.034535 \r\nL 256.066825 40.543262 \r\nL 259.108301 40.075163 \r\nL 262.149777 39.629143 \r\nL 265.191253 39.204163 \r\nL 268.232729 38.799228 \r\nL 271.274205 38.413395 \r\nL 274.315681 38.045761 \r\nL 277.357157 37.695468 \r\nL 280.398633 37.361699 \r\nL 283.440109 37.043673 \r\nL 286.481585 36.740648 \r\nL 289.523061 36.451918 \r\nL 292.564537 36.176806 \r\nL 295.606013 35.914672 \r\nL 298.647489 35.664902 \r\nL 301.688965 35.426914 \r\nL 304.730441 35.200152 \r\nL 307.771916 34.984086 \r\nL 310.813392 34.778212 \r\nL 313.854868 34.582048 \r\nL 316.896344 34.395138 \r\nL 319.93782 34.217045 \r\nL 322.979296 34.047352 \r\nL 326.020772 33.885663 \r\nL 329.062248 33.731602 \r\nL 332.103724 33.584807 \r\nL 335.1452 33.444936 \r\nL 338.186676 33.311664 \r\nL 341.228152 33.184677 \r\nL 344.269628 33.063681 \r\nL 347.311104 32.948392 \r\nL 350.35258 32.838541 \r\nL 353.394056 32.733872 \r\nL 356.435532 32.63414 \r\nL 359.477008 32.539112 \r\nL 362.518484 32.448567 \r\nL 365.55996 32.362293 \r\nL 368.601436 32.280088 \r\nL 371.642912 32.201761 \r\n\" style=\"fill:none;stroke:#ff7f0e;stroke-linecap:square;stroke-width:1.5;\"/>\r\n   </g>\r\n   <g id=\"line2d_25\">\r\n    <path clip-path=\"url(#p3d3f901f0d)\" d=\"M 67.279276 229.874489 \r\nL 67.309693 229.874489 \r\nL 67.316026 229.874489 \r\nL 67.322329 229.874489 \r\nL 67.334934 229.874489 \r\nL 67.360146 229.874489 \r\nL 67.410569 229.874489 \r\nL 67.511415 229.874489 \r\nL 67.713106 229.874489 \r\nL 68.11649 229.874489 \r\nL 68.923257 229.874489 \r\nL 70.53679 229.874489 \r\nL 73.578266 229.874489 \r\nL 76.619742 229.874489 \r\nL 79.661218 229.874489 \r\nL 82.702694 229.874489 \r\nL 85.74417 229.874489 \r\nL 88.785646 229.874489 \r\nL 91.827122 229.874489 \r\nL 94.868598 229.874489 \r\nL 97.910074 229.874489 \r\nL 100.95155 229.874489 \r\nL 103.993026 229.874489 \r\nL 107.034502 229.874489 \r\nL 110.075978 229.874489 \r\nL 113.117454 229.874489 \r\nL 116.15893 229.874489 \r\nL 119.200406 229.874489 \r\nL 122.241882 229.874489 \r\nL 125.283358 229.874489 \r\nL 128.324834 229.874489 \r\nL 131.36631 229.874489 \r\nL 134.407786 229.874489 \r\nL 137.449262 229.874489 \r\nL 140.490738 229.874489 \r\nL 143.532214 229.874489 \r\nL 146.57369 229.874489 \r\nL 149.615166 229.874489 \r\nL 152.656642 229.874489 \r\nL 155.698118 229.874489 \r\nL 158.739594 229.874489 \r\nL 161.78107 229.874489 \r\nL 164.822546 229.874489 \r\nL 167.864022 229.874489 \r\nL 170.905498 229.874489 \r\nL 173.946974 229.874489 \r\nL 176.98845 229.874489 \r\nL 180.029926 229.874489 \r\nL 183.071402 229.874489 \r\nL 186.112878 229.874489 \r\nL 189.154353 229.874489 \r\nL 192.195829 229.874489 \r\nL 195.237305 229.874489 \r\nL 198.278781 229.874489 \r\nL 201.320257 229.874489 \r\nL 204.361733 229.874489 \r\nL 207.403209 229.874489 \r\nL 210.444685 229.874489 \r\nL 213.486161 229.874489 \r\nL 216.527637 229.874489 \r\nL 219.569113 229.874489 \r\nL 222.610589 229.874489 \r\nL 225.652065 229.874489 \r\nL 228.693541 229.874489 \r\nL 231.735017 229.874489 \r\nL 234.776493 229.874489 \r\nL 237.817969 229.874489 \r\nL 240.859445 229.874489 \r\nL 243.900921 229.874489 \r\nL 246.942397 229.874489 \r\nL 249.983873 229.874489 \r\nL 253.025349 229.874489 \r\nL 256.066825 229.874489 \r\nL 259.108301 229.874489 \r\nL 262.149777 229.874489 \r\nL 265.191253 229.874489 \r\nL 268.232729 229.874489 \r\nL 271.274205 229.874489 \r\nL 274.315681 229.874489 \r\nL 277.357157 229.874489 \r\nL 280.398633 229.874489 \r\nL 283.440109 229.874489 \r\nL 286.481585 229.874489 \r\nL 289.523061 229.874489 \r\nL 292.564537 229.874489 \r\nL 295.606013 229.874489 \r\nL 298.647489 229.874489 \r\nL 301.688965 229.874489 \r\nL 304.730441 229.874489 \r\nL 307.771916 229.874489 \r\nL 310.813392 229.874489 \r\nL 313.854868 229.874489 \r\nL 316.896344 229.874489 \r\nL 319.93782 229.874489 \r\nL 322.979296 229.874489 \r\nL 326.020772 229.874489 \r\nL 329.062248 229.874489 \r\nL 332.103724 229.874489 \r\nL 335.1452 229.874489 \r\nL 338.186676 229.874489 \r\nL 341.228152 229.874489 \r\nL 344.269628 229.874489 \r\nL 347.311104 229.874489 \r\nL 350.35258 229.874489 \r\nL 353.394056 229.874489 \r\nL 356.435532 229.874489 \r\nL 359.477008 229.874489 \r\nL 362.518484 229.874489 \r\nL 365.55996 229.874489 \r\nL 368.601436 229.874489 \r\nL 371.642912 229.874489 \r\n\" style=\"fill:none;stroke:#2ca02c;stroke-linecap:square;stroke-width:1.5;\"/>\r\n   </g>\r\n   <g id=\"line2d_26\">\r\n    <path clip-path=\"url(#p3d3f901f0d)\" d=\"M 67.279276 229.874489 \r\nL 67.309693 229.874489 \r\nL 67.316026 229.874489 \r\nL 67.322329 229.874489 \r\nL 67.334934 229.874489 \r\nL 67.360146 229.874489 \r\nL 67.410569 229.874489 \r\nL 67.511415 229.874489 \r\nL 67.713106 229.874489 \r\nL 68.11649 229.874489 \r\nL 68.923257 229.874489 \r\nL 70.53679 229.874489 \r\nL 73.578266 229.874489 \r\nL 76.619742 229.874489 \r\nL 79.661218 229.874489 \r\nL 82.702694 229.874489 \r\nL 85.74417 229.874489 \r\nL 88.785646 229.874489 \r\nL 91.827122 229.874489 \r\nL 94.868598 229.874489 \r\nL 97.910074 229.874489 \r\nL 100.95155 229.874489 \r\nL 103.993026 229.874489 \r\nL 107.034502 229.874489 \r\nL 110.075978 229.874489 \r\nL 113.117454 229.874489 \r\nL 116.15893 229.874489 \r\nL 119.200406 229.874489 \r\nL 122.241882 229.874489 \r\nL 125.283358 229.874489 \r\nL 128.324834 229.874489 \r\nL 131.36631 229.874489 \r\nL 134.407786 229.874489 \r\nL 137.449262 229.874489 \r\nL 140.490738 229.874489 \r\nL 143.532214 229.874489 \r\nL 146.57369 229.874489 \r\nL 149.615166 229.874489 \r\nL 152.656642 229.874489 \r\nL 155.698118 229.874489 \r\nL 158.739594 229.874489 \r\nL 161.78107 229.874489 \r\nL 164.822546 229.874489 \r\nL 167.864022 229.874489 \r\nL 170.905498 229.874489 \r\nL 173.946974 229.874489 \r\nL 176.98845 229.874489 \r\nL 180.029926 229.874489 \r\nL 183.071402 229.874489 \r\nL 186.112878 229.874489 \r\nL 189.154353 229.874489 \r\nL 192.195829 229.874489 \r\nL 195.237305 229.874489 \r\nL 198.278781 229.874489 \r\nL 201.320257 229.874489 \r\nL 204.361733 229.874489 \r\nL 207.403209 229.874489 \r\nL 210.444685 229.874489 \r\nL 213.486161 229.874489 \r\nL 216.527637 229.874489 \r\nL 219.569113 229.874489 \r\nL 222.610589 229.874489 \r\nL 225.652065 229.874489 \r\nL 228.693541 229.874489 \r\nL 231.735017 229.874489 \r\nL 234.776493 229.874489 \r\nL 237.817969 229.874489 \r\nL 240.859445 229.874489 \r\nL 243.900921 229.874489 \r\nL 246.942397 229.874489 \r\nL 249.983873 229.874489 \r\nL 253.025349 229.874489 \r\nL 256.066825 229.874489 \r\nL 259.108301 229.874489 \r\nL 262.149777 229.874489 \r\nL 265.191253 229.874489 \r\nL 268.232729 229.874489 \r\nL 271.274205 229.874489 \r\nL 274.315681 229.874489 \r\nL 277.357157 229.874489 \r\nL 280.398633 229.874489 \r\nL 283.440109 229.874489 \r\nL 286.481585 229.874489 \r\nL 289.523061 229.874489 \r\nL 292.564537 229.874489 \r\nL 295.606013 229.874489 \r\nL 298.647489 229.874489 \r\nL 301.688965 229.874489 \r\nL 304.730441 229.874489 \r\nL 307.771916 229.874489 \r\nL 310.813392 229.874489 \r\nL 313.854868 229.874489 \r\nL 316.896344 229.874489 \r\nL 319.93782 229.874489 \r\nL 322.979296 229.874489 \r\nL 326.020772 229.874489 \r\nL 329.062248 229.874489 \r\nL 332.103724 229.874489 \r\nL 335.1452 229.874489 \r\nL 338.186676 229.874489 \r\nL 341.228152 229.874489 \r\nL 344.269628 229.874489 \r\nL 347.311104 229.874489 \r\nL 350.35258 229.874489 \r\nL 353.394056 229.874489 \r\nL 356.435532 229.874489 \r\nL 359.477008 229.874489 \r\nL 362.518484 229.874489 \r\nL 365.55996 229.874489 \r\nL 368.601436 229.874489 \r\nL 371.642912 229.874489 \r\n\" style=\"fill:none;stroke:#d62728;stroke-linecap:square;stroke-width:1.5;\"/>\r\n   </g>\r\n   <g id=\"patch_3\">\r\n    <path d=\"M 52.061094 239.758125 \r\nL 52.061094 22.318125 \r\n\" style=\"fill:none;stroke:#000000;stroke-linecap:square;stroke-linejoin:miter;stroke-width:0.8;\"/>\r\n   </g>\r\n   <g id=\"patch_4\">\r\n    <path d=\"M 386.861094 239.758125 \r\nL 386.861094 22.318125 \r\n\" style=\"fill:none;stroke:#000000;stroke-linecap:square;stroke-linejoin:miter;stroke-width:0.8;\"/>\r\n   </g>\r\n   <g id=\"patch_5\">\r\n    <path d=\"M 52.061094 239.758125 \r\nL 386.861094 239.758125 \r\n\" style=\"fill:none;stroke:#000000;stroke-linecap:square;stroke-linejoin:miter;stroke-width:0.8;\"/>\r\n   </g>\r\n   <g id=\"patch_6\">\r\n    <path d=\"M 52.061094 22.318125 \r\nL 386.861094 22.318125 \r\n\" style=\"fill:none;stroke:#000000;stroke-linecap:square;stroke-linejoin:miter;stroke-width:0.8;\"/>\r\n   </g>\r\n   <g id=\"text_14\">\r\n    <!-- Carrera de condensadores -->\r\n    <g transform=\"translate(140.243281 16.318125)scale(0.12 -0.12)\">\r\n     <defs>\r\n      <path d=\"M 64.40625 67.28125 \r\nL 64.40625 56.890625 \r\nQ 59.421875 61.53125 53.78125 63.8125 \r\nQ 48.140625 66.109375 41.796875 66.109375 \r\nQ 29.296875 66.109375 22.65625 58.46875 \r\nQ 16.015625 50.828125 16.015625 36.375 \r\nQ 16.015625 21.96875 22.65625 14.328125 \r\nQ 29.296875 6.6875 41.796875 6.6875 \r\nQ 48.140625 6.6875 53.78125 8.984375 \r\nQ 59.421875 11.28125 64.40625 15.921875 \r\nL 64.40625 5.609375 \r\nQ 59.234375 2.09375 53.4375 0.328125 \r\nQ 47.65625 -1.421875 41.21875 -1.421875 \r\nQ 24.65625 -1.421875 15.125 8.703125 \r\nQ 5.609375 18.84375 5.609375 36.375 \r\nQ 5.609375 53.953125 15.125 64.078125 \r\nQ 24.65625 74.21875 41.21875 74.21875 \r\nQ 47.75 74.21875 53.53125 72.484375 \r\nQ 59.328125 70.75 64.40625 67.28125 \r\nz\r\n\" id=\"DejaVuSans-67\"/>\r\n      <path d=\"M 41.109375 46.296875 \r\nQ 39.59375 47.171875 37.8125 47.578125 \r\nQ 36.03125 48 33.890625 48 \r\nQ 26.265625 48 22.1875 43.046875 \r\nQ 18.109375 38.09375 18.109375 28.8125 \r\nL 18.109375 0 \r\nL 9.078125 0 \r\nL 9.078125 54.6875 \r\nL 18.109375 54.6875 \r\nL 18.109375 46.1875 \r\nQ 20.953125 51.171875 25.484375 53.578125 \r\nQ 30.03125 56 36.53125 56 \r\nQ 37.453125 56 38.578125 55.875 \r\nQ 39.703125 55.765625 41.0625 55.515625 \r\nz\r\n\" id=\"DejaVuSans-114\"/>\r\n      <path d=\"M 45.40625 46.390625 \r\nL 45.40625 75.984375 \r\nL 54.390625 75.984375 \r\nL 54.390625 0 \r\nL 45.40625 0 \r\nL 45.40625 8.203125 \r\nQ 42.578125 3.328125 38.25 0.953125 \r\nQ 33.9375 -1.421875 27.875 -1.421875 \r\nQ 17.96875 -1.421875 11.734375 6.484375 \r\nQ 5.515625 14.40625 5.515625 27.296875 \r\nQ 5.515625 40.1875 11.734375 48.09375 \r\nQ 17.96875 56 27.875 56 \r\nQ 33.9375 56 38.25 53.625 \r\nQ 42.578125 51.265625 45.40625 46.390625 \r\nz\r\nM 14.796875 27.296875 \r\nQ 14.796875 17.390625 18.875 11.75 \r\nQ 22.953125 6.109375 30.078125 6.109375 \r\nQ 37.203125 6.109375 41.296875 11.75 \r\nQ 45.40625 17.390625 45.40625 27.296875 \r\nQ 45.40625 37.203125 41.296875 42.84375 \r\nQ 37.203125 48.484375 30.078125 48.484375 \r\nQ 22.953125 48.484375 18.875 42.84375 \r\nQ 14.796875 37.203125 14.796875 27.296875 \r\nz\r\n\" id=\"DejaVuSans-100\"/>\r\n      <path d=\"M 48.78125 52.59375 \r\nL 48.78125 44.1875 \r\nQ 44.96875 46.296875 41.140625 47.34375 \r\nQ 37.3125 48.390625 33.40625 48.390625 \r\nQ 24.65625 48.390625 19.8125 42.84375 \r\nQ 14.984375 37.3125 14.984375 27.296875 \r\nQ 14.984375 17.28125 19.8125 11.734375 \r\nQ 24.65625 6.203125 33.40625 6.203125 \r\nQ 37.3125 6.203125 41.140625 7.25 \r\nQ 44.96875 8.296875 48.78125 10.40625 \r\nL 48.78125 2.09375 \r\nQ 45.015625 0.34375 40.984375 -0.53125 \r\nQ 36.96875 -1.421875 32.421875 -1.421875 \r\nQ 20.0625 -1.421875 12.78125 6.34375 \r\nQ 5.515625 14.109375 5.515625 27.296875 \r\nQ 5.515625 40.671875 12.859375 48.328125 \r\nQ 20.21875 56 33.015625 56 \r\nQ 37.15625 56 41.109375 55.140625 \r\nQ 45.0625 54.296875 48.78125 52.59375 \r\nz\r\n\" id=\"DejaVuSans-99\"/>\r\n      <path d=\"M 54.890625 33.015625 \r\nL 54.890625 0 \r\nL 45.90625 0 \r\nL 45.90625 32.71875 \r\nQ 45.90625 40.484375 42.875 44.328125 \r\nQ 39.84375 48.1875 33.796875 48.1875 \r\nQ 26.515625 48.1875 22.3125 43.546875 \r\nQ 18.109375 38.921875 18.109375 30.90625 \r\nL 18.109375 0 \r\nL 9.078125 0 \r\nL 9.078125 54.6875 \r\nL 18.109375 54.6875 \r\nL 18.109375 46.1875 \r\nQ 21.34375 51.125 25.703125 53.5625 \r\nQ 30.078125 56 35.796875 56 \r\nQ 45.21875 56 50.046875 50.171875 \r\nQ 54.890625 44.34375 54.890625 33.015625 \r\nz\r\n\" id=\"DejaVuSans-110\"/>\r\n      <path d=\"M 44.28125 53.078125 \r\nL 44.28125 44.578125 \r\nQ 40.484375 46.53125 36.375 47.5 \r\nQ 32.28125 48.484375 27.875 48.484375 \r\nQ 21.1875 48.484375 17.84375 46.4375 \r\nQ 14.5 44.390625 14.5 40.28125 \r\nQ 14.5 37.15625 16.890625 35.375 \r\nQ 19.28125 33.59375 26.515625 31.984375 \r\nL 29.59375 31.296875 \r\nQ 39.15625 29.25 43.1875 25.515625 \r\nQ 47.21875 21.78125 47.21875 15.09375 \r\nQ 47.21875 7.46875 41.1875 3.015625 \r\nQ 35.15625 -1.421875 24.609375 -1.421875 \r\nQ 20.21875 -1.421875 15.453125 -0.5625 \r\nQ 10.6875 0.296875 5.421875 2 \r\nL 5.421875 11.28125 \r\nQ 10.40625 8.6875 15.234375 7.390625 \r\nQ 20.0625 6.109375 24.8125 6.109375 \r\nQ 31.15625 6.109375 34.5625 8.28125 \r\nQ 37.984375 10.453125 37.984375 14.40625 \r\nQ 37.984375 18.0625 35.515625 20.015625 \r\nQ 33.0625 21.96875 24.703125 23.78125 \r\nL 21.578125 24.515625 \r\nQ 13.234375 26.265625 9.515625 29.90625 \r\nQ 5.8125 33.546875 5.8125 39.890625 \r\nQ 5.8125 47.609375 11.28125 51.796875 \r\nQ 16.75 56 26.8125 56 \r\nQ 31.78125 56 36.171875 55.265625 \r\nQ 40.578125 54.546875 44.28125 53.078125 \r\nz\r\n\" id=\"DejaVuSans-115\"/>\r\n     </defs>\r\n     <use xlink:href=\"#DejaVuSans-67\"/>\r\n     <use x=\"69.824219\" xlink:href=\"#DejaVuSans-97\"/>\r\n     <use x=\"131.103516\" xlink:href=\"#DejaVuSans-114\"/>\r\n     <use x=\"170.466797\" xlink:href=\"#DejaVuSans-114\"/>\r\n     <use x=\"209.330078\" xlink:href=\"#DejaVuSans-101\"/>\r\n     <use x=\"270.853516\" xlink:href=\"#DejaVuSans-114\"/>\r\n     <use x=\"311.966797\" xlink:href=\"#DejaVuSans-97\"/>\r\n     <use x=\"373.246094\" xlink:href=\"#DejaVuSans-32\"/>\r\n     <use x=\"405.033203\" xlink:href=\"#DejaVuSans-100\"/>\r\n     <use x=\"468.509766\" xlink:href=\"#DejaVuSans-101\"/>\r\n     <use x=\"530.033203\" xlink:href=\"#DejaVuSans-32\"/>\r\n     <use x=\"561.820312\" xlink:href=\"#DejaVuSans-99\"/>\r\n     <use x=\"616.800781\" xlink:href=\"#DejaVuSans-111\"/>\r\n     <use x=\"677.982422\" xlink:href=\"#DejaVuSans-110\"/>\r\n     <use x=\"741.361328\" xlink:href=\"#DejaVuSans-100\"/>\r\n     <use x=\"804.837891\" xlink:href=\"#DejaVuSans-101\"/>\r\n     <use x=\"866.361328\" xlink:href=\"#DejaVuSans-110\"/>\r\n     <use x=\"929.740234\" xlink:href=\"#DejaVuSans-115\"/>\r\n     <use x=\"981.839844\" xlink:href=\"#DejaVuSans-97\"/>\r\n     <use x=\"1043.119141\" xlink:href=\"#DejaVuSans-100\"/>\r\n     <use x=\"1106.595703\" xlink:href=\"#DejaVuSans-111\"/>\r\n     <use x=\"1167.777344\" xlink:href=\"#DejaVuSans-114\"/>\r\n     <use x=\"1206.640625\" xlink:href=\"#DejaVuSans-101\"/>\r\n     <use x=\"1268.164062\" xlink:href=\"#DejaVuSans-115\"/>\r\n    </g>\r\n   </g>\r\n  </g>\r\n </g>\r\n <defs>\r\n  <clipPath id=\"p3d3f901f0d\">\r\n   <rect height=\"217.44\" width=\"334.8\" x=\"52.061094\" y=\"22.318125\"/>\r\n  </clipPath>\r\n </defs>\r\n</svg>\r\n"
          },
          "metadata": {
            "needs_background": "light"
          }
        }
      ],
      "source": [
        "figura = plt.figure()\n",
        "plt.title(\"Carrera de condensadores\")\n",
        "plt.grid()\n",
        "plt.xlabel(\"Tiempo (T)\")\n",
        "plt.ylabel(\"Voltaje (V)\")\n",
        "plt.plot(resultados['tran']['T'], resultados['tran']['V1'],label=\"Intensidad en V1\")\n",
        "plt.plot(resultados['tran']['T'], resultados['tran']['V2'],label=\"Intensidad en V2\")\n",
        "plt.plot(resultados['tran']['T'], resultados['tran']['V3'],label=\"Intensidad en V3\")\n",
        "plt.plot(resultados['tran']['T'], resultados['tran']['V4'],label=\"Intensidad en V4\")"
      ]
    },
    {
      "cell_type": "code",
      "execution_count": null,
      "metadata": {},
      "outputs": [],
      "source": []
    },
    {
      "source": [
        "## Circuitos en corriente alterna\n",
        "\n",
        "** Ejercicio **: Simula este circuito con LTspice y representa el voltaje y la intensidad en función del tiempo. Traduce este ejercicio a la versión Spice de Akhab y haz la misma representación."
      ],
      "cell_type": "markdown",
      "metadata": {}
    },
    {
      "source": [
        "### Versión LTspice"
      ],
      "cell_type": "markdown",
      "metadata": {}
    },
    {
      "cell_type": "code",
      "execution_count": null,
      "metadata": {},
      "outputs": [],
      "source": [
        "%%writefile \"corriente alterna.net\"\n",
        "* Circuito en corriente alterna\n",
        "v1 1 0 sin(0 120 60 0 0)\n",
        "r1 0 1 10k\n",
        ".tran 1\n",
        ".end"
      ]
    },
    {
      "cell_type": "code",
      "execution_count": 130,
      "metadata": {},
      "outputs": [],
      "source": [
        "lts \"corriente alterna.net\""
      ]
    },
    {
      "cell_type": "code",
      "execution_count": 131,
      "metadata": {},
      "outputs": [
        {
          "output_type": "stream",
          "text": [
            "\u001b[0mCircuit\u001b[0m\u001b[1;33m:\u001b[0m \u001b[1;33m*\u001b[0m \u001b[0mEste\u001b[0m \u001b[0mes\u001b[0m \u001b[0mun\u001b[0m \u001b[0mcircuito\u001b[0m \u001b[0msencillo\u001b[0m \u001b[0madaptado\u001b[0m \u001b[0mpara\u001b[0m \u001b[0mLTspice\u001b[0m\u001b[1;33m\n",
            "\u001b[0m\u001b[1;33m\n",
            "\u001b[0m\u001b[1;33m\n",
            "\u001b[0m\u001b[0mDate\u001b[0m\u001b[1;33m:\u001b[0m \u001b[0mTue\u001b[0m \u001b[0mDec\u001b[0m \u001b[1;36m29\u001b[0m \u001b[1;36m11\u001b[0m\u001b[1;33m:\u001b[0m\u001b[1;36m22\u001b[0m\u001b[1;33m:\u001b[0m\u001b[1;36m0\u001b[0m\u001b[1;36m3\u001b[0m \u001b[1;36m2020\u001b[0m\u001b[1;33m\n",
            "\u001b[0m\u001b[0mTotal\u001b[0m \u001b[0melapsed\u001b[0m \u001b[0mtime\u001b[0m\u001b[1;33m:\u001b[0m \u001b[1;36m0.010\u001b[0m \u001b[0mseconds\u001b[0m\u001b[1;33m.\u001b[0m\u001b[1;33m\n",
            "\u001b[0m\u001b[1;33m\n",
            "\u001b[0m\u001b[0mtnom\u001b[0m \u001b[1;33m=\u001b[0m \u001b[1;36m27\u001b[0m\u001b[1;33m\n",
            "\u001b[0m\u001b[0mtemp\u001b[0m \u001b[1;33m=\u001b[0m \u001b[1;36m27\u001b[0m\u001b[1;33m\n",
            "\u001b[0m\u001b[0mmethod\u001b[0m \u001b[1;33m=\u001b[0m \u001b[0mtrap\u001b[0m\u001b[1;33m\n",
            "\u001b[0m\u001b[0mtotiter\u001b[0m \u001b[1;33m=\u001b[0m \u001b[1;36m2003\u001b[0m\u001b[1;33m\n",
            "\u001b[0m\u001b[0mtraniter\u001b[0m \u001b[1;33m=\u001b[0m \u001b[1;36m0\u001b[0m\u001b[1;33m\n",
            "\u001b[0m\u001b[0mtranpoints\u001b[0m \u001b[1;33m=\u001b[0m \u001b[1;36m0\u001b[0m\u001b[1;33m\n",
            "\u001b[0m\u001b[0maccept\u001b[0m \u001b[1;33m=\u001b[0m \u001b[1;36m0\u001b[0m\u001b[1;33m\n",
            "\u001b[0m\u001b[0mrejected\u001b[0m \u001b[1;33m=\u001b[0m \u001b[1;36m0\u001b[0m\u001b[1;33m\n",
            "\u001b[0m\u001b[0mmatrix\u001b[0m \u001b[0msize\u001b[0m \u001b[1;33m=\u001b[0m \u001b[1;36m2\u001b[0m\u001b[1;33m\n",
            "\u001b[0m\u001b[0mfillins\u001b[0m \u001b[1;33m=\u001b[0m \u001b[1;36m0\u001b[0m\u001b[1;33m\n",
            "\u001b[0m\u001b[0msolver\u001b[0m \u001b[1;33m=\u001b[0m \u001b[0mNormal\u001b[0m\u001b[1;33m\n",
            "\u001b[0m\u001b[0mMatrix\u001b[0m \u001b[0mCompiler1\u001b[0m\u001b[1;33m:\u001b[0m       \u001b[1;36m2\u001b[0m \u001b[0mopcodes\u001b[0m  \u001b[1;36m0.0\u001b[0m\u001b[1;33m/\u001b[0m\u001b[1;33m[\u001b[0m\u001b[1;36m0.0\u001b[0m\u001b[1;33m]\u001b[0m\u001b[1;33m/\u001b[0m\u001b[1;36m0.0\u001b[0m\u001b[1;33m\n",
            "\u001b[0m\u001b[0mMatrix\u001b[0m \u001b[0mCompiler2\u001b[0m\u001b[1;33m:\u001b[0m \u001b[0moff\u001b[0m  \u001b[1;33m[\u001b[0m\u001b[1;36m0.0\u001b[0m\u001b[1;33m]\u001b[0m\u001b[1;33m/\u001b[0m\u001b[1;36m0.0\u001b[0m\u001b[1;33m/\u001b[0m\u001b[1;36m0.0\u001b[0m\u001b[1;33m\u001b[0m\u001b[1;33m\u001b[0m\u001b[0m\n"
          ],
          "name": "stdout"
        }
      ],
      "source": [
        "%pycat circuito sencillo.log"
      ]
    },
    {
      "cell_type": "code",
      "execution_count": 204,
      "metadata": {},
      "outputs": [
        {
          "output_type": "execute_result",
          "data": {
            "text/plain": [
              "Text(0, 0.5, 'Voltaje (V)')"
            ]
          },
          "metadata": {},
          "execution_count": 204
        },
        {
          "output_type": "display_data",
          "data": {
            "text/plain": "<Figure size 432x288 with 1 Axes>",
            "image/svg+xml": "<?xml version=\"1.0\" encoding=\"utf-8\" standalone=\"no\"?>\r\n<!DOCTYPE svg PUBLIC \"-//W3C//DTD SVG 1.1//EN\"\r\n  \"http://www.w3.org/Graphics/SVG/1.1/DTD/svg11.dtd\">\r\n<!-- Created with matplotlib (https://matplotlib.org/) -->\r\n<svg height=\"264.131875pt\" version=\"1.1\" viewBox=\"0 0 401.059844 264.131875\" width=\"401.059844pt\" xmlns=\"http://www.w3.org/2000/svg\" xmlns:xlink=\"http://www.w3.org/1999/xlink\">\r\n <metadata>\r\n  <rdf:RDF xmlns:cc=\"http://creativecommons.org/ns#\" xmlns:dc=\"http://purl.org/dc/elements/1.1/\" xmlns:rdf=\"http://www.w3.org/1999/02/22-rdf-syntax-ns#\">\r\n   <cc:Work>\r\n    <dc:type rdf:resource=\"http://purl.org/dc/dcmitype/StillImage\"/>\r\n    <dc:date>2021-01-06T21:31:08.811591</dc:date>\r\n    <dc:format>image/svg+xml</dc:format>\r\n    <dc:creator>\r\n     <cc:Agent>\r\n      <dc:title>Matplotlib v3.3.3, https://matplotlib.org/</dc:title>\r\n     </cc:Agent>\r\n    </dc:creator>\r\n   </cc:Work>\r\n  </rdf:RDF>\r\n </metadata>\r\n <defs>\r\n  <style type=\"text/css\">*{stroke-linecap:butt;stroke-linejoin:round;}</style>\r\n </defs>\r\n <g id=\"figure_1\">\r\n  <g id=\"patch_1\">\r\n   <path d=\"M 0 264.131875 \r\nL 401.059844 264.131875 \r\nL 401.059844 0 \r\nL 0 0 \r\nz\r\n\" style=\"fill:none;\"/>\r\n  </g>\r\n  <g id=\"axes_1\">\r\n   <g id=\"patch_2\">\r\n    <path d=\"M 59.059844 224.64 \r\nL 393.859844 224.64 \r\nL 393.859844 7.2 \r\nL 59.059844 7.2 \r\nz\r\n\" style=\"fill:#ffffff;\"/>\r\n   </g>\r\n   <g id=\"matplotlib.axis_1\">\r\n    <g id=\"xtick_1\">\r\n     <g id=\"line2d_1\">\r\n      <defs>\r\n       <path d=\"M 0 0 \r\nL 0 3.5 \r\n\" id=\"mafa8e92d6e\" style=\"stroke:#000000;stroke-width:0.8;\"/>\r\n      </defs>\r\n      <g>\r\n       <use style=\"stroke:#000000;stroke-width:0.8;\" x=\"74.278026\" xlink:href=\"#mafa8e92d6e\" y=\"224.64\"/>\r\n      </g>\r\n     </g>\r\n     <g id=\"text_1\">\r\n      <!-- 0.0 -->\r\n      <g transform=\"translate(65.531307 239.998281)scale(0.11 -0.11)\">\r\n       <defs>\r\n        <path d=\"M 31.78125 66.40625 \r\nQ 24.171875 66.40625 20.328125 58.90625 \r\nQ 16.5 51.421875 16.5 36.375 \r\nQ 16.5 21.390625 20.328125 13.890625 \r\nQ 24.171875 6.390625 31.78125 6.390625 \r\nQ 39.453125 6.390625 43.28125 13.890625 \r\nQ 47.125 21.390625 47.125 36.375 \r\nQ 47.125 51.421875 43.28125 58.90625 \r\nQ 39.453125 66.40625 31.78125 66.40625 \r\nz\r\nM 31.78125 74.21875 \r\nQ 44.046875 74.21875 50.515625 64.515625 \r\nQ 56.984375 54.828125 56.984375 36.375 \r\nQ 56.984375 17.96875 50.515625 8.265625 \r\nQ 44.046875 -1.421875 31.78125 -1.421875 \r\nQ 19.53125 -1.421875 13.0625 8.265625 \r\nQ 6.59375 17.96875 6.59375 36.375 \r\nQ 6.59375 54.828125 13.0625 64.515625 \r\nQ 19.53125 74.21875 31.78125 74.21875 \r\nz\r\n\" id=\"DejaVuSans-48\"/>\r\n        <path d=\"M 10.6875 12.40625 \r\nL 21 12.40625 \r\nL 21 0 \r\nL 10.6875 0 \r\nz\r\n\" id=\"DejaVuSans-46\"/>\r\n       </defs>\r\n       <use xlink:href=\"#DejaVuSans-48\"/>\r\n       <use x=\"63.623047\" xlink:href=\"#DejaVuSans-46\"/>\r\n       <use x=\"95.410156\" xlink:href=\"#DejaVuSans-48\"/>\r\n      </g>\r\n     </g>\r\n    </g>\r\n    <g id=\"xtick_2\">\r\n     <g id=\"line2d_2\">\r\n      <g>\r\n       <use style=\"stroke:#000000;stroke-width:0.8;\" x=\"135.150753\" xlink:href=\"#mafa8e92d6e\" y=\"224.64\"/>\r\n      </g>\r\n     </g>\r\n     <g id=\"text_2\">\r\n      <!-- 0.2 -->\r\n      <g transform=\"translate(126.404034 239.998281)scale(0.11 -0.11)\">\r\n       <defs>\r\n        <path d=\"M 19.1875 8.296875 \r\nL 53.609375 8.296875 \r\nL 53.609375 0 \r\nL 7.328125 0 \r\nL 7.328125 8.296875 \r\nQ 12.9375 14.109375 22.625 23.890625 \r\nQ 32.328125 33.6875 34.8125 36.53125 \r\nQ 39.546875 41.84375 41.421875 45.53125 \r\nQ 43.3125 49.21875 43.3125 52.78125 \r\nQ 43.3125 58.59375 39.234375 62.25 \r\nQ 35.15625 65.921875 28.609375 65.921875 \r\nQ 23.96875 65.921875 18.8125 64.3125 \r\nQ 13.671875 62.703125 7.8125 59.421875 \r\nL 7.8125 69.390625 \r\nQ 13.765625 71.78125 18.9375 73 \r\nQ 24.125 74.21875 28.421875 74.21875 \r\nQ 39.75 74.21875 46.484375 68.546875 \r\nQ 53.21875 62.890625 53.21875 53.421875 \r\nQ 53.21875 48.921875 51.53125 44.890625 \r\nQ 49.859375 40.875 45.40625 35.40625 \r\nQ 44.1875 33.984375 37.640625 27.21875 \r\nQ 31.109375 20.453125 19.1875 8.296875 \r\nz\r\n\" id=\"DejaVuSans-50\"/>\r\n       </defs>\r\n       <use xlink:href=\"#DejaVuSans-48\"/>\r\n       <use x=\"63.623047\" xlink:href=\"#DejaVuSans-46\"/>\r\n       <use x=\"95.410156\" xlink:href=\"#DejaVuSans-50\"/>\r\n      </g>\r\n     </g>\r\n    </g>\r\n    <g id=\"xtick_3\">\r\n     <g id=\"line2d_3\">\r\n      <g>\r\n       <use style=\"stroke:#000000;stroke-width:0.8;\" x=\"196.02348\" xlink:href=\"#mafa8e92d6e\" y=\"224.64\"/>\r\n      </g>\r\n     </g>\r\n     <g id=\"text_3\">\r\n      <!-- 0.4 -->\r\n      <g transform=\"translate(187.276761 239.998281)scale(0.11 -0.11)\">\r\n       <defs>\r\n        <path d=\"M 37.796875 64.3125 \r\nL 12.890625 25.390625 \r\nL 37.796875 25.390625 \r\nz\r\nM 35.203125 72.90625 \r\nL 47.609375 72.90625 \r\nL 47.609375 25.390625 \r\nL 58.015625 25.390625 \r\nL 58.015625 17.1875 \r\nL 47.609375 17.1875 \r\nL 47.609375 0 \r\nL 37.796875 0 \r\nL 37.796875 17.1875 \r\nL 4.890625 17.1875 \r\nL 4.890625 26.703125 \r\nz\r\n\" id=\"DejaVuSans-52\"/>\r\n       </defs>\r\n       <use xlink:href=\"#DejaVuSans-48\"/>\r\n       <use x=\"63.623047\" xlink:href=\"#DejaVuSans-46\"/>\r\n       <use x=\"95.410156\" xlink:href=\"#DejaVuSans-52\"/>\r\n      </g>\r\n     </g>\r\n    </g>\r\n    <g id=\"xtick_4\">\r\n     <g id=\"line2d_4\">\r\n      <g>\r\n       <use style=\"stroke:#000000;stroke-width:0.8;\" x=\"256.896207\" xlink:href=\"#mafa8e92d6e\" y=\"224.64\"/>\r\n      </g>\r\n     </g>\r\n     <g id=\"text_4\">\r\n      <!-- 0.6 -->\r\n      <g transform=\"translate(248.149489 239.998281)scale(0.11 -0.11)\">\r\n       <defs>\r\n        <path d=\"M 33.015625 40.375 \r\nQ 26.375 40.375 22.484375 35.828125 \r\nQ 18.609375 31.296875 18.609375 23.390625 \r\nQ 18.609375 15.53125 22.484375 10.953125 \r\nQ 26.375 6.390625 33.015625 6.390625 \r\nQ 39.65625 6.390625 43.53125 10.953125 \r\nQ 47.40625 15.53125 47.40625 23.390625 \r\nQ 47.40625 31.296875 43.53125 35.828125 \r\nQ 39.65625 40.375 33.015625 40.375 \r\nz\r\nM 52.59375 71.296875 \r\nL 52.59375 62.3125 \r\nQ 48.875 64.0625 45.09375 64.984375 \r\nQ 41.3125 65.921875 37.59375 65.921875 \r\nQ 27.828125 65.921875 22.671875 59.328125 \r\nQ 17.53125 52.734375 16.796875 39.40625 \r\nQ 19.671875 43.65625 24.015625 45.921875 \r\nQ 28.375 48.1875 33.59375 48.1875 \r\nQ 44.578125 48.1875 50.953125 41.515625 \r\nQ 57.328125 34.859375 57.328125 23.390625 \r\nQ 57.328125 12.15625 50.6875 5.359375 \r\nQ 44.046875 -1.421875 33.015625 -1.421875 \r\nQ 20.359375 -1.421875 13.671875 8.265625 \r\nQ 6.984375 17.96875 6.984375 36.375 \r\nQ 6.984375 53.65625 15.1875 63.9375 \r\nQ 23.390625 74.21875 37.203125 74.21875 \r\nQ 40.921875 74.21875 44.703125 73.484375 \r\nQ 48.484375 72.75 52.59375 71.296875 \r\nz\r\n\" id=\"DejaVuSans-54\"/>\r\n       </defs>\r\n       <use xlink:href=\"#DejaVuSans-48\"/>\r\n       <use x=\"63.623047\" xlink:href=\"#DejaVuSans-46\"/>\r\n       <use x=\"95.410156\" xlink:href=\"#DejaVuSans-54\"/>\r\n      </g>\r\n     </g>\r\n    </g>\r\n    <g id=\"xtick_5\">\r\n     <g id=\"line2d_5\">\r\n      <g>\r\n       <use style=\"stroke:#000000;stroke-width:0.8;\" x=\"317.768935\" xlink:href=\"#mafa8e92d6e\" y=\"224.64\"/>\r\n      </g>\r\n     </g>\r\n     <g id=\"text_5\">\r\n      <!-- 0.8 -->\r\n      <g transform=\"translate(309.022216 239.998281)scale(0.11 -0.11)\">\r\n       <defs>\r\n        <path d=\"M 31.78125 34.625 \r\nQ 24.75 34.625 20.71875 30.859375 \r\nQ 16.703125 27.09375 16.703125 20.515625 \r\nQ 16.703125 13.921875 20.71875 10.15625 \r\nQ 24.75 6.390625 31.78125 6.390625 \r\nQ 38.8125 6.390625 42.859375 10.171875 \r\nQ 46.921875 13.96875 46.921875 20.515625 \r\nQ 46.921875 27.09375 42.890625 30.859375 \r\nQ 38.875 34.625 31.78125 34.625 \r\nz\r\nM 21.921875 38.8125 \r\nQ 15.578125 40.375 12.03125 44.71875 \r\nQ 8.5 49.078125 8.5 55.328125 \r\nQ 8.5 64.0625 14.71875 69.140625 \r\nQ 20.953125 74.21875 31.78125 74.21875 \r\nQ 42.671875 74.21875 48.875 69.140625 \r\nQ 55.078125 64.0625 55.078125 55.328125 \r\nQ 55.078125 49.078125 51.53125 44.71875 \r\nQ 48 40.375 41.703125 38.8125 \r\nQ 48.828125 37.15625 52.796875 32.3125 \r\nQ 56.78125 27.484375 56.78125 20.515625 \r\nQ 56.78125 9.90625 50.3125 4.234375 \r\nQ 43.84375 -1.421875 31.78125 -1.421875 \r\nQ 19.734375 -1.421875 13.25 4.234375 \r\nQ 6.78125 9.90625 6.78125 20.515625 \r\nQ 6.78125 27.484375 10.78125 32.3125 \r\nQ 14.796875 37.15625 21.921875 38.8125 \r\nz\r\nM 18.3125 54.390625 \r\nQ 18.3125 48.734375 21.84375 45.5625 \r\nQ 25.390625 42.390625 31.78125 42.390625 \r\nQ 38.140625 42.390625 41.71875 45.5625 \r\nQ 45.3125 48.734375 45.3125 54.390625 \r\nQ 45.3125 60.0625 41.71875 63.234375 \r\nQ 38.140625 66.40625 31.78125 66.40625 \r\nQ 25.390625 66.40625 21.84375 63.234375 \r\nQ 18.3125 60.0625 18.3125 54.390625 \r\nz\r\n\" id=\"DejaVuSans-56\"/>\r\n       </defs>\r\n       <use xlink:href=\"#DejaVuSans-48\"/>\r\n       <use x=\"63.623047\" xlink:href=\"#DejaVuSans-46\"/>\r\n       <use x=\"95.410156\" xlink:href=\"#DejaVuSans-56\"/>\r\n      </g>\r\n     </g>\r\n    </g>\r\n    <g id=\"xtick_6\">\r\n     <g id=\"line2d_6\">\r\n      <g>\r\n       <use style=\"stroke:#000000;stroke-width:0.8;\" x=\"378.641662\" xlink:href=\"#mafa8e92d6e\" y=\"224.64\"/>\r\n      </g>\r\n     </g>\r\n     <g id=\"text_6\">\r\n      <!-- 1.0 -->\r\n      <g transform=\"translate(369.894943 239.998281)scale(0.11 -0.11)\">\r\n       <defs>\r\n        <path d=\"M 12.40625 8.296875 \r\nL 28.515625 8.296875 \r\nL 28.515625 63.921875 \r\nL 10.984375 60.40625 \r\nL 10.984375 69.390625 \r\nL 28.421875 72.90625 \r\nL 38.28125 72.90625 \r\nL 38.28125 8.296875 \r\nL 54.390625 8.296875 \r\nL 54.390625 0 \r\nL 12.40625 0 \r\nz\r\n\" id=\"DejaVuSans-49\"/>\r\n       </defs>\r\n       <use xlink:href=\"#DejaVuSans-49\"/>\r\n       <use x=\"63.623047\" xlink:href=\"#DejaVuSans-46\"/>\r\n       <use x=\"95.410156\" xlink:href=\"#DejaVuSans-48\"/>\r\n      </g>\r\n     </g>\r\n    </g>\r\n    <g id=\"text_7\">\r\n     <!-- Tiempo (T) -->\r\n     <g transform=\"translate(196.746953 254.644219)scale(0.11 -0.11)\">\r\n      <defs>\r\n       <path d=\"M -0.296875 72.90625 \r\nL 61.375 72.90625 \r\nL 61.375 64.59375 \r\nL 35.5 64.59375 \r\nL 35.5 0 \r\nL 25.59375 0 \r\nL 25.59375 64.59375 \r\nL -0.296875 64.59375 \r\nz\r\n\" id=\"DejaVuSans-84\"/>\r\n       <path d=\"M 9.421875 54.6875 \r\nL 18.40625 54.6875 \r\nL 18.40625 0 \r\nL 9.421875 0 \r\nz\r\nM 9.421875 75.984375 \r\nL 18.40625 75.984375 \r\nL 18.40625 64.59375 \r\nL 9.421875 64.59375 \r\nz\r\n\" id=\"DejaVuSans-105\"/>\r\n       <path d=\"M 56.203125 29.59375 \r\nL 56.203125 25.203125 \r\nL 14.890625 25.203125 \r\nQ 15.484375 15.921875 20.484375 11.0625 \r\nQ 25.484375 6.203125 34.421875 6.203125 \r\nQ 39.59375 6.203125 44.453125 7.46875 \r\nQ 49.3125 8.734375 54.109375 11.28125 \r\nL 54.109375 2.78125 \r\nQ 49.265625 0.734375 44.1875 -0.34375 \r\nQ 39.109375 -1.421875 33.890625 -1.421875 \r\nQ 20.796875 -1.421875 13.15625 6.1875 \r\nQ 5.515625 13.8125 5.515625 26.8125 \r\nQ 5.515625 40.234375 12.765625 48.109375 \r\nQ 20.015625 56 32.328125 56 \r\nQ 43.359375 56 49.78125 48.890625 \r\nQ 56.203125 41.796875 56.203125 29.59375 \r\nz\r\nM 47.21875 32.234375 \r\nQ 47.125 39.59375 43.09375 43.984375 \r\nQ 39.0625 48.390625 32.421875 48.390625 \r\nQ 24.90625 48.390625 20.390625 44.140625 \r\nQ 15.875 39.890625 15.1875 32.171875 \r\nz\r\n\" id=\"DejaVuSans-101\"/>\r\n       <path d=\"M 52 44.1875 \r\nQ 55.375 50.25 60.0625 53.125 \r\nQ 64.75 56 71.09375 56 \r\nQ 79.640625 56 84.28125 50.015625 \r\nQ 88.921875 44.046875 88.921875 33.015625 \r\nL 88.921875 0 \r\nL 79.890625 0 \r\nL 79.890625 32.71875 \r\nQ 79.890625 40.578125 77.09375 44.375 \r\nQ 74.3125 48.1875 68.609375 48.1875 \r\nQ 61.625 48.1875 57.5625 43.546875 \r\nQ 53.515625 38.921875 53.515625 30.90625 \r\nL 53.515625 0 \r\nL 44.484375 0 \r\nL 44.484375 32.71875 \r\nQ 44.484375 40.625 41.703125 44.40625 \r\nQ 38.921875 48.1875 33.109375 48.1875 \r\nQ 26.21875 48.1875 22.15625 43.53125 \r\nQ 18.109375 38.875 18.109375 30.90625 \r\nL 18.109375 0 \r\nL 9.078125 0 \r\nL 9.078125 54.6875 \r\nL 18.109375 54.6875 \r\nL 18.109375 46.1875 \r\nQ 21.1875 51.21875 25.484375 53.609375 \r\nQ 29.78125 56 35.6875 56 \r\nQ 41.65625 56 45.828125 52.96875 \r\nQ 50 49.953125 52 44.1875 \r\nz\r\n\" id=\"DejaVuSans-109\"/>\r\n       <path d=\"M 18.109375 8.203125 \r\nL 18.109375 -20.796875 \r\nL 9.078125 -20.796875 \r\nL 9.078125 54.6875 \r\nL 18.109375 54.6875 \r\nL 18.109375 46.390625 \r\nQ 20.953125 51.265625 25.265625 53.625 \r\nQ 29.59375 56 35.59375 56 \r\nQ 45.5625 56 51.78125 48.09375 \r\nQ 58.015625 40.1875 58.015625 27.296875 \r\nQ 58.015625 14.40625 51.78125 6.484375 \r\nQ 45.5625 -1.421875 35.59375 -1.421875 \r\nQ 29.59375 -1.421875 25.265625 0.953125 \r\nQ 20.953125 3.328125 18.109375 8.203125 \r\nz\r\nM 48.6875 27.296875 \r\nQ 48.6875 37.203125 44.609375 42.84375 \r\nQ 40.53125 48.484375 33.40625 48.484375 \r\nQ 26.265625 48.484375 22.1875 42.84375 \r\nQ 18.109375 37.203125 18.109375 27.296875 \r\nQ 18.109375 17.390625 22.1875 11.75 \r\nQ 26.265625 6.109375 33.40625 6.109375 \r\nQ 40.53125 6.109375 44.609375 11.75 \r\nQ 48.6875 17.390625 48.6875 27.296875 \r\nz\r\n\" id=\"DejaVuSans-112\"/>\r\n       <path d=\"M 30.609375 48.390625 \r\nQ 23.390625 48.390625 19.1875 42.75 \r\nQ 14.984375 37.109375 14.984375 27.296875 \r\nQ 14.984375 17.484375 19.15625 11.84375 \r\nQ 23.34375 6.203125 30.609375 6.203125 \r\nQ 37.796875 6.203125 41.984375 11.859375 \r\nQ 46.1875 17.53125 46.1875 27.296875 \r\nQ 46.1875 37.015625 41.984375 42.703125 \r\nQ 37.796875 48.390625 30.609375 48.390625 \r\nz\r\nM 30.609375 56 \r\nQ 42.328125 56 49.015625 48.375 \r\nQ 55.71875 40.765625 55.71875 27.296875 \r\nQ 55.71875 13.875 49.015625 6.21875 \r\nQ 42.328125 -1.421875 30.609375 -1.421875 \r\nQ 18.84375 -1.421875 12.171875 6.21875 \r\nQ 5.515625 13.875 5.515625 27.296875 \r\nQ 5.515625 40.765625 12.171875 48.375 \r\nQ 18.84375 56 30.609375 56 \r\nz\r\n\" id=\"DejaVuSans-111\"/>\r\n       <path id=\"DejaVuSans-32\"/>\r\n       <path d=\"M 31 75.875 \r\nQ 24.46875 64.65625 21.28125 53.65625 \r\nQ 18.109375 42.671875 18.109375 31.390625 \r\nQ 18.109375 20.125 21.3125 9.0625 \r\nQ 24.515625 -2 31 -13.1875 \r\nL 23.1875 -13.1875 \r\nQ 15.875 -1.703125 12.234375 9.375 \r\nQ 8.59375 20.453125 8.59375 31.390625 \r\nQ 8.59375 42.28125 12.203125 53.3125 \r\nQ 15.828125 64.359375 23.1875 75.875 \r\nz\r\n\" id=\"DejaVuSans-40\"/>\r\n       <path d=\"M 8.015625 75.875 \r\nL 15.828125 75.875 \r\nQ 23.140625 64.359375 26.78125 53.3125 \r\nQ 30.421875 42.28125 30.421875 31.390625 \r\nQ 30.421875 20.453125 26.78125 9.375 \r\nQ 23.140625 -1.703125 15.828125 -13.1875 \r\nL 8.015625 -13.1875 \r\nQ 14.5 -2 17.703125 9.0625 \r\nQ 20.90625 20.125 20.90625 31.390625 \r\nQ 20.90625 42.671875 17.703125 53.65625 \r\nQ 14.5 64.65625 8.015625 75.875 \r\nz\r\n\" id=\"DejaVuSans-41\"/>\r\n      </defs>\r\n      <use xlink:href=\"#DejaVuSans-84\"/>\r\n      <use x=\"57.958984\" xlink:href=\"#DejaVuSans-105\"/>\r\n      <use x=\"85.742188\" xlink:href=\"#DejaVuSans-101\"/>\r\n      <use x=\"147.265625\" xlink:href=\"#DejaVuSans-109\"/>\r\n      <use x=\"244.677734\" xlink:href=\"#DejaVuSans-112\"/>\r\n      <use x=\"308.154297\" xlink:href=\"#DejaVuSans-111\"/>\r\n      <use x=\"369.335938\" xlink:href=\"#DejaVuSans-32\"/>\r\n      <use x=\"401.123047\" xlink:href=\"#DejaVuSans-40\"/>\r\n      <use x=\"440.136719\" xlink:href=\"#DejaVuSans-84\"/>\r\n      <use x=\"501.220703\" xlink:href=\"#DejaVuSans-41\"/>\r\n     </g>\r\n    </g>\r\n   </g>\r\n   <g id=\"matplotlib.axis_2\">\r\n    <g id=\"ytick_1\">\r\n     <g id=\"line2d_7\">\r\n      <defs>\r\n       <path d=\"M 0 0 \r\nL -3.5 0 \r\n\" id=\"m4ae5147634\" style=\"stroke:#000000;stroke-width:0.8;\"/>\r\n      </defs>\r\n      <g>\r\n       <use style=\"stroke:#000000;stroke-width:0.8;\" x=\"59.059844\" xlink:href=\"#m4ae5147634\" y=\"198.283665\"/>\r\n      </g>\r\n     </g>\r\n     <g id=\"text_8\">\r\n      <!-- −100 -->\r\n      <g transform=\"translate(21.845938 202.462805)scale(0.11 -0.11)\">\r\n       <defs>\r\n        <path d=\"M 10.59375 35.5 \r\nL 73.1875 35.5 \r\nL 73.1875 27.203125 \r\nL 10.59375 27.203125 \r\nz\r\n\" id=\"DejaVuSans-8722\"/>\r\n       </defs>\r\n       <use xlink:href=\"#DejaVuSans-8722\"/>\r\n       <use x=\"83.789062\" xlink:href=\"#DejaVuSans-49\"/>\r\n       <use x=\"147.412109\" xlink:href=\"#DejaVuSans-48\"/>\r\n       <use x=\"211.035156\" xlink:href=\"#DejaVuSans-48\"/>\r\n      </g>\r\n     </g>\r\n    </g>\r\n    <g id=\"ytick_2\">\r\n     <g id=\"line2d_8\">\r\n      <g>\r\n       <use style=\"stroke:#000000;stroke-width:0.8;\" x=\"59.059844\" xlink:href=\"#m4ae5147634\" y=\"157.100982\"/>\r\n      </g>\r\n     </g>\r\n     <g id=\"text_9\">\r\n      <!-- −50 -->\r\n      <g transform=\"translate(28.844688 161.280122)scale(0.11 -0.11)\">\r\n       <defs>\r\n        <path d=\"M 10.796875 72.90625 \r\nL 49.515625 72.90625 \r\nL 49.515625 64.59375 \r\nL 19.828125 64.59375 \r\nL 19.828125 46.734375 \r\nQ 21.96875 47.46875 24.109375 47.828125 \r\nQ 26.265625 48.1875 28.421875 48.1875 \r\nQ 40.625 48.1875 47.75 41.5 \r\nQ 54.890625 34.8125 54.890625 23.390625 \r\nQ 54.890625 11.625 47.5625 5.09375 \r\nQ 40.234375 -1.421875 26.90625 -1.421875 \r\nQ 22.3125 -1.421875 17.546875 -0.640625 \r\nQ 12.796875 0.140625 7.71875 1.703125 \r\nL 7.71875 11.625 \r\nQ 12.109375 9.234375 16.796875 8.0625 \r\nQ 21.484375 6.890625 26.703125 6.890625 \r\nQ 35.15625 6.890625 40.078125 11.328125 \r\nQ 45.015625 15.765625 45.015625 23.390625 \r\nQ 45.015625 31 40.078125 35.4375 \r\nQ 35.15625 39.890625 26.703125 39.890625 \r\nQ 22.75 39.890625 18.8125 39.015625 \r\nQ 14.890625 38.140625 10.796875 36.28125 \r\nz\r\n\" id=\"DejaVuSans-53\"/>\r\n       </defs>\r\n       <use xlink:href=\"#DejaVuSans-8722\"/>\r\n       <use x=\"83.789062\" xlink:href=\"#DejaVuSans-53\"/>\r\n       <use x=\"147.412109\" xlink:href=\"#DejaVuSans-48\"/>\r\n      </g>\r\n     </g>\r\n    </g>\r\n    <g id=\"ytick_3\">\r\n     <g id=\"line2d_9\">\r\n      <g>\r\n       <use style=\"stroke:#000000;stroke-width:0.8;\" x=\"59.059844\" xlink:href=\"#m4ae5147634\" y=\"115.918299\"/>\r\n      </g>\r\n     </g>\r\n     <g id=\"text_10\">\r\n      <!-- 0 -->\r\n      <g transform=\"translate(45.061094 120.097439)scale(0.11 -0.11)\">\r\n       <use xlink:href=\"#DejaVuSans-48\"/>\r\n      </g>\r\n     </g>\r\n    </g>\r\n    <g id=\"ytick_4\">\r\n     <g id=\"line2d_10\">\r\n      <g>\r\n       <use style=\"stroke:#000000;stroke-width:0.8;\" x=\"59.059844\" xlink:href=\"#m4ae5147634\" y=\"74.735616\"/>\r\n      </g>\r\n     </g>\r\n     <g id=\"text_11\">\r\n      <!-- 50 -->\r\n      <g transform=\"translate(38.062344 78.914756)scale(0.11 -0.11)\">\r\n       <use xlink:href=\"#DejaVuSans-53\"/>\r\n       <use x=\"63.623047\" xlink:href=\"#DejaVuSans-48\"/>\r\n      </g>\r\n     </g>\r\n    </g>\r\n    <g id=\"ytick_5\">\r\n     <g id=\"line2d_11\">\r\n      <g>\r\n       <use style=\"stroke:#000000;stroke-width:0.8;\" x=\"59.059844\" xlink:href=\"#m4ae5147634\" y=\"33.552933\"/>\r\n      </g>\r\n     </g>\r\n     <g id=\"text_12\">\r\n      <!-- 100 -->\r\n      <g transform=\"translate(31.063594 37.732073)scale(0.11 -0.11)\">\r\n       <use xlink:href=\"#DejaVuSans-49\"/>\r\n       <use x=\"63.623047\" xlink:href=\"#DejaVuSans-48\"/>\r\n       <use x=\"127.246094\" xlink:href=\"#DejaVuSans-48\"/>\r\n      </g>\r\n     </g>\r\n    </g>\r\n    <g id=\"text_13\">\r\n     <!-- Voltaje (V) -->\r\n     <g transform=\"translate(15.558281 144.390234)rotate(-90)scale(0.11 -0.11)\">\r\n      <defs>\r\n       <path d=\"M 28.609375 0 \r\nL 0.78125 72.90625 \r\nL 11.078125 72.90625 \r\nL 34.1875 11.53125 \r\nL 57.328125 72.90625 \r\nL 67.578125 72.90625 \r\nL 39.796875 0 \r\nz\r\n\" id=\"DejaVuSans-86\"/>\r\n       <path d=\"M 9.421875 75.984375 \r\nL 18.40625 75.984375 \r\nL 18.40625 0 \r\nL 9.421875 0 \r\nz\r\n\" id=\"DejaVuSans-108\"/>\r\n       <path d=\"M 18.3125 70.21875 \r\nL 18.3125 54.6875 \r\nL 36.8125 54.6875 \r\nL 36.8125 47.703125 \r\nL 18.3125 47.703125 \r\nL 18.3125 18.015625 \r\nQ 18.3125 11.328125 20.140625 9.421875 \r\nQ 21.96875 7.515625 27.59375 7.515625 \r\nL 36.8125 7.515625 \r\nL 36.8125 0 \r\nL 27.59375 0 \r\nQ 17.1875 0 13.234375 3.875 \r\nQ 9.28125 7.765625 9.28125 18.015625 \r\nL 9.28125 47.703125 \r\nL 2.6875 47.703125 \r\nL 2.6875 54.6875 \r\nL 9.28125 54.6875 \r\nL 9.28125 70.21875 \r\nz\r\n\" id=\"DejaVuSans-116\"/>\r\n       <path d=\"M 34.28125 27.484375 \r\nQ 23.390625 27.484375 19.1875 25 \r\nQ 14.984375 22.515625 14.984375 16.5 \r\nQ 14.984375 11.71875 18.140625 8.90625 \r\nQ 21.296875 6.109375 26.703125 6.109375 \r\nQ 34.1875 6.109375 38.703125 11.40625 \r\nQ 43.21875 16.703125 43.21875 25.484375 \r\nL 43.21875 27.484375 \r\nz\r\nM 52.203125 31.203125 \r\nL 52.203125 0 \r\nL 43.21875 0 \r\nL 43.21875 8.296875 \r\nQ 40.140625 3.328125 35.546875 0.953125 \r\nQ 30.953125 -1.421875 24.3125 -1.421875 \r\nQ 15.921875 -1.421875 10.953125 3.296875 \r\nQ 6 8.015625 6 15.921875 \r\nQ 6 25.140625 12.171875 29.828125 \r\nQ 18.359375 34.515625 30.609375 34.515625 \r\nL 43.21875 34.515625 \r\nL 43.21875 35.40625 \r\nQ 43.21875 41.609375 39.140625 45 \r\nQ 35.0625 48.390625 27.6875 48.390625 \r\nQ 23 48.390625 18.546875 47.265625 \r\nQ 14.109375 46.140625 10.015625 43.890625 \r\nL 10.015625 52.203125 \r\nQ 14.9375 54.109375 19.578125 55.046875 \r\nQ 24.21875 56 28.609375 56 \r\nQ 40.484375 56 46.34375 49.84375 \r\nQ 52.203125 43.703125 52.203125 31.203125 \r\nz\r\n\" id=\"DejaVuSans-97\"/>\r\n       <path d=\"M 9.421875 54.6875 \r\nL 18.40625 54.6875 \r\nL 18.40625 -0.984375 \r\nQ 18.40625 -11.421875 14.421875 -16.109375 \r\nQ 10.453125 -20.796875 1.609375 -20.796875 \r\nL -1.8125 -20.796875 \r\nL -1.8125 -13.1875 \r\nL 0.59375 -13.1875 \r\nQ 5.71875 -13.1875 7.5625 -10.8125 \r\nQ 9.421875 -8.453125 9.421875 -0.984375 \r\nz\r\nM 9.421875 75.984375 \r\nL 18.40625 75.984375 \r\nL 18.40625 64.59375 \r\nL 9.421875 64.59375 \r\nz\r\n\" id=\"DejaVuSans-106\"/>\r\n      </defs>\r\n      <use xlink:href=\"#DejaVuSans-86\"/>\r\n      <use x=\"60.658203\" xlink:href=\"#DejaVuSans-111\"/>\r\n      <use x=\"121.839844\" xlink:href=\"#DejaVuSans-108\"/>\r\n      <use x=\"149.623047\" xlink:href=\"#DejaVuSans-116\"/>\r\n      <use x=\"188.832031\" xlink:href=\"#DejaVuSans-97\"/>\r\n      <use x=\"250.111328\" xlink:href=\"#DejaVuSans-106\"/>\r\n      <use x=\"277.894531\" xlink:href=\"#DejaVuSans-101\"/>\r\n      <use x=\"339.417969\" xlink:href=\"#DejaVuSans-32\"/>\r\n      <use x=\"371.205078\" xlink:href=\"#DejaVuSans-40\"/>\r\n      <use x=\"410.21875\" xlink:href=\"#DejaVuSans-86\"/>\r\n      <use x=\"478.626953\" xlink:href=\"#DejaVuSans-41\"/>\r\n     </g>\r\n    </g>\r\n   </g>\r\n   <g id=\"line2d_12\">\r\n    <path clip-path=\"url(#pe30c5b78ed)\" d=\"M 74.278026 115.918299 \r\nL 74.894404 47.578962 \r\nL 75.392623 18.862881 \r\nL 75.597508 17.279327 \r\nL 75.70581 19.004899 \r\nL 75.881531 25.483128 \r\nL 76.162306 44.488939 \r\nL 76.756766 108.869911 \r\nL 77.351227 176.902637 \r\nL 77.810143 209.182939 \r\nL 78.064519 214.732032 \r\nL 78.151951 214.392001 \r\nL 78.271582 212.060483 \r\nL 78.46535 203.854454 \r\nL 78.76258 181.721819 \r\nL 80.37061 21.71845 \r\nL 80.544005 17.505229 \r\nL 80.650346 17.154659 \r\nL 80.746169 18.304704 \r\nL 80.901873 23.087531 \r\nL 81.152122 37.861995 \r\nL 81.746583 98.800416 \r\nL 82.638273 195.172669 \r\nL 83.029347 213.556421 \r\nL 83.122257 214.673975 \r\nL 83.219102 214.448245 \r\nL 83.335241 212.311942 \r\nL 83.52346 204.657009 \r\nL 83.82069 183.046227 \r\nL 85.437859 21.923674 \r\nL 85.611801 17.563016 \r\nL 85.703799 17.091028 \r\nL 85.787516 17.775657 \r\nL 85.923692 21.13374 \r\nL 86.143574 32.163649 \r\nL 86.738034 89.1039 \r\nL 87.629724 188.836116 \r\nL 88.083867 213.185299 \r\nL 88.283585 214.522789 \r\nL 88.394558 212.661524 \r\nL 88.574543 205.791816 \r\nL 88.861734 185.840688 \r\nL 89.456195 120.814778 \r\nL 90.050655 53.252012 \r\nL 90.590869 19.353911 \r\nL 90.757331 17.083636 \r\nL 90.837857 17.488803 \r\nL 90.960045 19.968084 \r\nL 91.15787 28.588026 \r\nL 91.4551 51.098145 \r\nL 93.058088 210.325624 \r\nL 93.230932 214.387354 \r\nL 93.338472 214.648891 \r\nL 93.438253 213.326754 \r\nL 93.600321 208.030439 \r\nL 93.860347 191.950068 \r\nL 94.454807 129.843662 \r\nL 95.346498 34.775025 \r\nL 95.720166 18.115033 \r\nL 95.816588 17.111808 \r\nL 95.905576 17.434983 \r\nL 96.02463 19.733753 \r\nL 96.217482 27.847676 \r\nL 96.514712 49.894667 \r\nL 98.124252 210.084612 \r\nL 98.297737 214.322084 \r\nL 98.392928 214.728063 \r\nL 98.481237 213.877671 \r\nL 98.624834 210.005231 \r\nL 98.856315 197.601859 \r\nL 99.450776 139.070109 \r\nL 100.342466 40.498888 \r\nL 100.772694 18.50257 \r\nL 100.863179 17.244911 \r\nL 100.968574 17.34126 \r\nL 101.081534 19.306375 \r\nL 101.26469 26.473833 \r\nL 101.556627 47.136318 \r\nL 102.448318 148.393672 \r\nL 103.042778 202.671584 \r\nL 103.360064 214.194643 \r\nL 103.43677 214.749985 \r\nL 103.51879 214.357574 \r\nL 103.640425 211.910601 \r\nL 103.837373 203.38093 \r\nL 104.134603 180.95213 \r\nL 105.73822 21.572314 \r\nL 105.911226 17.465529 \r\nL 106.018409 17.17722 \r\nL 106.11701 18.447016 \r\nL 106.277181 23.587805 \r\nL 106.5343 39.274946 \r\nL 107.128761 101.040376 \r\nL 108.020451 196.507975 \r\nL 108.399154 213.670937 \r\nL 108.494903 214.712954 \r\nL 108.586091 214.414995 \r\nL 108.704329 212.162218 \r\nL 108.895886 204.177878 \r\nL 109.193116 182.25243 \r\nL 110.804791 21.799673 \r\nL 110.978403 17.527824 \r\nL 111.072701 17.102821 \r\nL 111.159726 17.905514 \r\nL 111.301248 21.630827 \r\nL 111.529494 33.643939 \r\nL 112.123955 91.739615 \r\nL 113.015645 190.649817 \r\nL 113.452565 213.293442 \r\nL 113.542634 214.574544 \r\nL 113.649511 214.50312 \r\nL 113.761918 212.567111 \r\nL 113.944194 205.482945 \r\nL 114.234815 185.018795 \r\nL 115.126505 83.863075 \r\nL 115.720965 29.378877 \r\nL 116.040655 17.658064 \r\nL 116.117499 17.08826 \r\nL 116.200204 17.474586 \r\nL 116.321585 19.906831 \r\nL 116.518132 28.395308 \r\nL 116.815362 50.786817 \r\nL 118.419266 210.236075 \r\nL 118.592348 214.363503 \r\nL 118.699367 214.663995 \r\nL 118.797428 213.417851 \r\nL 118.956731 208.347525 \r\nL 119.212518 192.839194 \r\nL 119.806979 131.231812 \r\nL 120.698669 35.584599 \r\nL 121.079673 18.189295 \r\nL 121.175113 17.129697 \r\nL 121.267311 17.415545 \r\nL 121.385175 19.647346 \r\nL 121.576136 27.572493 \r\nL 121.873366 49.442008 \r\nL 123.486022 210.014939 \r\nL 123.659692 214.302594 \r\nL 123.75358 214.736187 \r\nL 123.840015 213.95505 \r\nL 123.980585 210.296451 \r\nL 124.207343 198.460979 \r\nL 124.801803 140.567916 \r\nL 125.693493 41.505745 \r\nL 126.133486 18.562052 \r\nL 126.223363 17.270235 \r\nL 126.330923 17.32993 \r\nL 126.443076 19.25259 \r\nL 126.624945 26.298512 \r\nL 126.914959 46.671424 \r\nL 127.806649 147.779598 \r\nL 128.401109 202.358531 \r\nL 128.721896 214.17088 \r\nL 128.80762 214.756363 \r\nL 128.885108 214.327561 \r\nL 129.00842 211.782069 \r\nL 129.208027 202.977523 \r\nL 129.505257 180.302806 \r\nL 131.106972 21.387534 \r\nL 131.279487 17.417177 \r\nL 131.397452 17.278891 \r\nL 131.505719 19.002707 \r\nL 131.681383 25.47585 \r\nL 131.962074 44.469304 \r\nL 132.556534 108.841571 \r\nL 133.150995 176.880275 \r\nL 133.610055 209.179357 \r\nL 133.864374 214.731633 \r\nL 133.951897 214.392568 \r\nL 134.071494 212.062976 \r\nL 134.265208 203.862361 \r\nL 134.562438 181.734743 \r\nL 136.170557 21.720413 \r\nL 136.343957 17.505771 \r\nL 136.450287 17.154379 \r\nL 136.546073 18.302862 \r\nL 136.701717 23.080998 \r\nL 136.951875 37.843432 \r\nL 137.546335 98.770608 \r\nL 138.438026 195.154581 \r\nL 138.829293 213.555386 \r\nL 138.92219 214.673643 \r\nL 139.019078 214.448484 \r\nL 139.135201 212.313028 \r\nL 139.323395 204.660498 \r\nL 139.620625 183.052042 \r\nL 141.237834 21.924594 \r\nL 141.411779 17.56328 \r\nL 141.50376 17.090957 \r\nL 141.587453 17.774742 \r\nL 141.72359 21.130182 \r\nL 141.943409 32.152969 \r\nL 142.537869 89.084538 \r\nL 143.42956 188.822534 \r\nL 143.88383 213.184482 \r\nL 144.083568 214.522932 \r\nL 144.19453 212.662217 \r\nL 144.374499 205.794088 \r\nL 144.661664 185.846751 \r\nL 145.256125 120.823346 \r\nL 145.850585 53.258647 \r\nL 146.390849 19.354427 \r\nL 146.557287 17.083683 \r\nL 146.63784 17.488622 \r\nL 146.760019 19.967309 \r\nL 146.957828 28.585592 \r\nL 147.255058 51.094221 \r\nL 148.858057 210.324502 \r\nL 149.030904 214.387059 \r\nL 149.138437 214.649088 \r\nL 149.238197 213.32792 \r\nL 149.40023 208.034477 \r\nL 149.660203 191.961351 \r\nL 150.254663 129.861147 \r\nL 151.146353 34.78511 \r\nL 151.520115 18.11595 \r\nL 151.616524 17.112008 \r\nL 151.705552 17.434736 \r\nL 151.824591 19.73266 \r\nL 152.01742 27.844203 \r\nL 152.31465 49.888972 \r\nL 153.924229 210.083742 \r\nL 154.097716 214.321842 \r\nL 154.192891 214.728173 \r\nL 154.281177 213.878664 \r\nL 154.424735 210.008939 \r\nL 154.656157 197.612753 \r\nL 155.250618 139.088921 \r\nL 156.142308 40.511396 \r\nL 156.572659 18.503306 \r\nL 156.663136 17.245217 \r\nL 156.768558 17.341117 \r\nL 156.881508 19.305698 \r\nL 157.064647 26.471632 \r\nL 157.356561 47.13049 \r\nL 158.248251 148.386007 \r\nL 158.842712 202.667695 \r\nL 159.160041 214.194351 \r\nL 159.236723 214.749917 \r\nL 159.318773 214.357768 \r\nL 159.440397 211.911436 \r\nL 159.637327 203.383559 \r\nL 159.934557 180.956381 \r\nL 161.538186 21.573539 \r\nL 161.711196 17.465856 \r\nL 161.818371 17.177017 \r\nL 161.916949 18.445779 \r\nL 162.077083 23.583493 \r\nL 162.334144 39.262837 \r\nL 162.928604 101.021415 \r\nL 163.820294 196.49687 \r\nL 164.199097 213.669914 \r\nL 164.294833 214.712699 \r\nL 164.386065 214.41526 \r\nL 164.504287 212.163396 \r\nL 164.695818 204.181634 \r\nL 164.993048 182.258616 \r\nL 166.604766 21.800628 \r\nL 166.77838 17.528092 \r\nL 166.87266 17.102713 \r\nL 166.95966 17.904465 \r\nL 167.10114 21.626867 \r\nL 167.329322 33.632235 \r\nL 167.923782 91.719134 \r\nL 168.815472 190.635991 \r\nL 169.252526 213.292624 \r\nL 169.342586 214.574193 \r\nL 169.449493 214.503274 \r\nL 169.56189 212.567846 \r\nL 169.744147 205.485342 \r\nL 170.034742 185.025157 \r\nL 170.926432 83.871493 \r\nL 171.520893 29.383176 \r\nL 171.84063 17.658389 \r\nL 171.917502 17.088256 \r\nL 172.000205 17.474597 \r\nL 172.121587 19.906881 \r\nL 172.318134 28.395466 \r\nL 172.615365 50.787072 \r\nL 174.219268 210.236149 \r\nL 174.392349 214.363523 \r\nL 174.499369 214.663983 \r\nL 174.597431 213.417777 \r\nL 174.756737 208.347268 \r\nL 175.012528 192.83847 \r\nL 175.606988 131.230673 \r\nL 176.498678 35.583927 \r\nL 176.879676 18.189233 \r\nL 176.975117 17.129681 \r\nL 177.067313 17.415561 \r\nL 177.185177 19.647417 \r\nL 177.37614 27.572719 \r\nL 177.67337 49.44238 \r\nL 179.286024 210.014996 \r\nL 179.459694 214.30261 \r\nL 179.553583 214.736181 \r\nL 179.640019 213.954987 \r\nL 179.780591 210.296214 \r\nL 180.007353 198.460279 \r\nL 180.601813 140.566683 \r\nL 181.493504 41.504907 \r\nL 181.933488 18.562002 \r\nL 182.023366 17.270213 \r\nL 182.130924 17.32994 \r\nL 182.243078 19.252634 \r\nL 182.424948 26.298657 \r\nL 182.714963 46.671808 \r\nL 183.606654 147.780107 \r\nL 184.201114 202.358792 \r\nL 184.521898 214.1709 \r\nL 184.607623 214.756364 \r\nL 184.685109 214.32755 \r\nL 184.808422 211.78202 \r\nL 185.008029 202.977369 \r\nL 185.305259 180.30256 \r\nL 186.906974 21.387465 \r\nL 187.079489 17.41716 \r\nL 187.197453 17.278896 \r\nL 187.30572 19.002732 \r\nL 187.481385 25.475936 \r\nL 187.762077 44.469533 \r\nL 188.356537 108.841903 \r\nL 188.950997 176.880536 \r\nL 189.410056 209.179399 \r\nL 189.664376 214.731638 \r\nL 189.751898 214.392562 \r\nL 189.871495 212.062947 \r\nL 190.06521 203.862269 \r\nL 190.36244 181.734592 \r\nL 191.970558 21.72039 \r\nL 192.143958 17.505765 \r\nL 192.250288 17.154382 \r\nL 192.346074 18.302883 \r\nL 192.501719 23.081074 \r\nL 192.751878 37.843648 \r\nL 193.346338 98.770956 \r\nL 194.238029 195.154792 \r\nL 194.629293 213.555398 \r\nL 194.722191 214.673647 \r\nL 194.819078 214.448481 \r\nL 194.935201 212.313015 \r\nL 195.123396 204.660457 \r\nL 195.420626 183.051974 \r\nL 197.037835 21.924583 \r\nL 197.211779 17.563277 \r\nL 197.303761 17.090958 \r\nL 197.387454 17.774752 \r\nL 197.523591 21.130224 \r\nL 197.743411 32.153093 \r\nL 198.337871 89.084764 \r\nL 199.229562 188.822692 \r\nL 199.68383 213.184492 \r\nL 199.883568 214.522931 \r\nL 199.99453 212.662209 \r\nL 200.174499 205.794061 \r\nL 200.461665 185.84668 \r\nL 201.056125 120.823246 \r\nL 201.650586 53.258569 \r\nL 202.190849 19.354421 \r\nL 202.357288 17.083683 \r\nL 202.437841 17.488624 \r\nL 202.560019 19.967318 \r\nL 202.757828 28.585621 \r\nL 203.055058 51.094267 \r\nL 204.658058 210.324515 \r\nL 204.830904 214.387062 \r\nL 204.938437 214.649086 \r\nL 205.038198 213.327907 \r\nL 205.200231 208.03443 \r\nL 205.460205 191.961219 \r\nL 206.054665 129.860942 \r\nL 206.946355 34.784993 \r\nL 207.320115 18.115939 \r\nL 207.416525 17.112006 \r\nL 207.505552 17.434739 \r\nL 207.624591 19.732673 \r\nL 207.817421 27.844243 \r\nL 208.114651 49.889039 \r\nL 209.724229 210.083752 \r\nL 209.897716 214.321845 \r\nL 209.992891 214.728172 \r\nL 210.081177 213.878652 \r\nL 210.224736 210.008896 \r\nL 210.456159 197.612625 \r\nL 211.050619 139.088701 \r\nL 211.94231 40.51125 \r\nL 212.372659 18.503297 \r\nL 212.463137 17.245213 \r\nL 212.568558 17.341118 \r\nL 212.681508 19.305706 \r\nL 212.864648 26.471657 \r\nL 213.156562 47.130558 \r\nL 214.048252 148.386097 \r\nL 214.642712 202.66774 \r\nL 214.960041 214.194355 \r\nL 215.036723 214.749918 \r\nL 215.118773 214.357765 \r\nL 215.240397 211.911426 \r\nL 215.437328 203.383529 \r\nL 215.734558 180.956331 \r\nL 217.338187 21.573525 \r\nL 217.511196 17.465853 \r\nL 217.618372 17.177019 \r\nL 217.71695 18.445794 \r\nL 217.877084 23.583543 \r\nL 218.134146 39.262979 \r\nL 218.728606 101.021637 \r\nL 219.620296 196.497 \r\nL 219.999098 213.669926 \r\nL 220.094834 214.712702 \r\nL 220.186065 214.415257 \r\nL 220.304287 212.163382 \r\nL 220.495818 204.18159 \r\nL 220.793049 182.258543 \r\nL 222.404766 21.800617 \r\nL 222.57838 17.528089 \r\nL 222.672661 17.102715 \r\nL 222.75966 17.904477 \r\nL 222.901141 21.626913 \r\nL 223.129324 33.632372 \r\nL 223.723784 91.719373 \r\nL 224.615474 190.636153 \r\nL 225.052527 213.292634 \r\nL 225.142587 214.574197 \r\nL 225.249494 214.503273 \r\nL 225.36189 212.567837 \r\nL 225.544148 205.485314 \r\nL 225.834743 185.025083 \r\nL 226.726433 83.871394 \r\nL 227.320893 29.383126 \r\nL 227.64063 17.658386 \r\nL 227.717502 17.088256 \r\nL 227.800205 17.474597 \r\nL 227.921587 19.90688 \r\nL 228.118134 28.395464 \r\nL 228.415365 50.787069 \r\nL 230.019268 210.236148 \r\nL 230.192349 214.363522 \r\nL 230.299369 214.663983 \r\nL 230.397431 213.417778 \r\nL 230.556737 208.347271 \r\nL 230.812528 192.838479 \r\nL 231.406988 131.230686 \r\nL 232.298678 35.583935 \r\nL 232.679676 18.189234 \r\nL 232.775117 17.129681 \r\nL 232.867313 17.415561 \r\nL 232.985177 19.647416 \r\nL 233.17614 27.572716 \r\nL 233.47337 49.442375 \r\nL 235.086024 210.014996 \r\nL 235.259694 214.30261 \r\nL 235.353583 214.736181 \r\nL 235.440019 213.954988 \r\nL 235.580591 210.296217 \r\nL 235.807353 198.460287 \r\nL 236.401813 140.566697 \r\nL 237.293504 41.504917 \r\nL 237.733488 18.562003 \r\nL 237.823366 17.270213 \r\nL 237.930924 17.329939 \r\nL 238.043078 19.252633 \r\nL 238.224948 26.298655 \r\nL 238.514963 46.671803 \r\nL 239.406654 147.780101 \r\nL 240.001114 202.358789 \r\nL 240.321898 214.1709 \r\nL 240.407622 214.756364 \r\nL 240.485109 214.32755 \r\nL 240.608422 211.782021 \r\nL 240.808029 202.977371 \r\nL 241.105259 180.302563 \r\nL 242.706974 21.387466 \r\nL 242.879489 17.41716 \r\nL 242.997453 17.278896 \r\nL 243.10572 19.002732 \r\nL 243.281385 25.475935 \r\nL 243.562077 44.469531 \r\nL 244.156537 108.841899 \r\nL 244.750997 176.880533 \r\nL 245.210056 209.179399 \r\nL 245.464376 214.731637 \r\nL 245.551898 214.392562 \r\nL 245.671495 212.062948 \r\nL 245.86521 203.86227 \r\nL 246.16244 181.734594 \r\nL 247.770558 21.72039 \r\nL 247.943958 17.505765 \r\nL 248.050288 17.154382 \r\nL 248.146074 18.302883 \r\nL 248.301719 23.081073 \r\nL 248.551878 37.843646 \r\nL 249.146338 98.770952 \r\nL 250.038029 195.15479 \r\nL 250.429293 213.555397 \r\nL 250.522191 214.673647 \r\nL 250.619078 214.448481 \r\nL 250.735201 212.313015 \r\nL 250.923396 204.660457 \r\nL 251.220626 183.051975 \r\nL 252.837835 21.924583 \r\nL 253.011779 17.563277 \r\nL 253.103761 17.090958 \r\nL 253.187454 17.774752 \r\nL 253.323591 21.130223 \r\nL 253.543411 32.153092 \r\nL 254.137871 89.084761 \r\nL 255.029562 188.82269 \r\nL 255.48383 213.184492 \r\nL 255.683568 214.522931 \r\nL 255.79453 212.662209 \r\nL 255.974499 205.794061 \r\nL 256.261665 185.846681 \r\nL 256.856125 120.823247 \r\nL 257.450586 53.25857 \r\nL 257.990849 19.354421 \r\nL 258.157288 17.083683 \r\nL 258.237841 17.488624 \r\nL 258.360019 19.967318 \r\nL 258.557828 28.58562 \r\nL 258.855058 51.094266 \r\nL 260.458058 210.324515 \r\nL 260.630904 214.387062 \r\nL 260.738437 214.649086 \r\nL 260.838198 213.327907 \r\nL 261.000231 208.034431 \r\nL 261.260205 191.961221 \r\nL 261.854665 129.860945 \r\nL 262.746355 34.784994 \r\nL 263.120115 18.115939 \r\nL 263.216525 17.112006 \r\nL 263.305552 17.434739 \r\nL 263.424591 19.732673 \r\nL 263.617421 27.844243 \r\nL 263.914651 49.889038 \r\nL 265.524229 210.083752 \r\nL 265.697716 214.321845 \r\nL 265.792891 214.728172 \r\nL 265.881177 213.878652 \r\nL 266.024736 210.008896 \r\nL 266.256159 197.612627 \r\nL 266.850619 139.088704 \r\nL 267.74231 40.511252 \r\nL 268.172659 18.503298 \r\nL 268.263137 17.245213 \r\nL 268.368558 17.341118 \r\nL 268.481508 19.305706 \r\nL 268.664648 26.471657 \r\nL 268.956562 47.130558 \r\nL 269.848252 148.386096 \r\nL 270.442712 202.66774 \r\nL 270.760041 214.194355 \r\nL 270.836723 214.749918 \r\nL 270.918773 214.357765 \r\nL 271.040397 211.911427 \r\nL 271.237328 203.383529 \r\nL 271.534558 180.956332 \r\nL 273.138187 21.573525 \r\nL 273.311196 17.465853 \r\nL 273.418372 17.177019 \r\nL 273.51695 18.445794 \r\nL 273.677084 23.583542 \r\nL 273.934146 39.262977 \r\nL 274.528606 101.021634 \r\nL 275.420296 196.496998 \r\nL 275.799098 213.669926 \r\nL 275.894834 214.712702 \r\nL 275.986065 214.415257 \r\nL 276.104287 212.163382 \r\nL 276.295818 204.181591 \r\nL 276.593049 182.258544 \r\nL 278.204766 21.800617 \r\nL 278.37838 17.528089 \r\nL 278.472661 17.102715 \r\nL 278.55966 17.904477 \r\nL 278.701141 21.626913 \r\nL 278.929324 33.632371 \r\nL 279.523784 91.719371 \r\nL 280.415474 190.636151 \r\nL 280.852527 213.292634 \r\nL 280.942587 214.574197 \r\nL 281.049494 214.503273 \r\nL 281.16189 212.567837 \r\nL 281.344148 205.485315 \r\nL 281.634743 185.025084 \r\nL 282.526433 83.871395 \r\nL 283.120893 29.383126 \r\nL 283.44063 17.658386 \r\nL 283.517502 17.088256 \r\nL 283.600205 17.474597 \r\nL 283.721587 19.90688 \r\nL 283.918134 28.395464 \r\nL 284.215365 50.787069 \r\nL 285.819268 210.236148 \r\nL 285.992349 214.363522 \r\nL 286.099369 214.663983 \r\nL 286.197431 213.417778 \r\nL 286.356737 208.34727 \r\nL 286.612528 192.838479 \r\nL 287.206988 131.230686 \r\nL 288.098678 35.583935 \r\nL 288.479676 18.189234 \r\nL 288.575117 17.129681 \r\nL 288.667313 17.415561 \r\nL 288.785177 19.647416 \r\nL 288.97614 27.572716 \r\nL 289.27337 49.442375 \r\nL 290.886024 210.014996 \r\nL 291.059694 214.30261 \r\nL 291.153583 214.736181 \r\nL 291.240019 213.954988 \r\nL 291.380591 210.296217 \r\nL 291.607353 198.460287 \r\nL 292.201813 140.566697 \r\nL 293.093504 41.504917 \r\nL 293.533488 18.562003 \r\nL 293.623366 17.270213 \r\nL 293.730924 17.329939 \r\nL 293.843078 19.252633 \r\nL 294.024948 26.298655 \r\nL 294.314963 46.671803 \r\nL 295.206654 147.780101 \r\nL 295.801114 202.358789 \r\nL 296.121898 214.1709 \r\nL 296.207622 214.756364 \r\nL 296.285109 214.32755 \r\nL 296.408422 211.782021 \r\nL 296.608029 202.977371 \r\nL 296.905259 180.302563 \r\nL 298.506974 21.387466 \r\nL 298.679489 17.41716 \r\nL 298.797453 17.278896 \r\nL 298.90572 19.002732 \r\nL 299.081385 25.475935 \r\nL 299.362077 44.469531 \r\nL 299.956537 108.841899 \r\nL 300.550997 176.880533 \r\nL 301.010056 209.179399 \r\nL 301.264376 214.731637 \r\nL 301.351898 214.392562 \r\nL 301.471495 212.062948 \r\nL 301.66521 203.86227 \r\nL 301.96244 181.734594 \r\nL 303.570558 21.72039 \r\nL 303.743958 17.505765 \r\nL 303.850288 17.154382 \r\nL 303.946074 18.302883 \r\nL 304.101719 23.081073 \r\nL 304.351878 37.843646 \r\nL 304.946338 98.770952 \r\nL 305.838029 195.15479 \r\nL 306.229293 213.555398 \r\nL 306.322191 214.673647 \r\nL 306.419078 214.448481 \r\nL 306.535201 212.313015 \r\nL 306.723396 204.660457 \r\nL 307.020626 183.051975 \r\nL 308.637835 21.924583 \r\nL 308.811779 17.563277 \r\nL 308.903761 17.090958 \r\nL 308.987454 17.774752 \r\nL 309.123591 21.130223 \r\nL 309.343411 32.153092 \r\nL 309.937871 89.084761 \r\nL 310.829562 188.822691 \r\nL 311.28383 213.184492 \r\nL 311.483568 214.522931 \r\nL 311.59453 212.662209 \r\nL 311.774499 205.794061 \r\nL 312.061665 185.846681 \r\nL 312.656125 120.823247 \r\nL 313.250586 53.25857 \r\nL 313.790849 19.354421 \r\nL 313.957288 17.083683 \r\nL 314.037841 17.488624 \r\nL 314.160019 19.967318 \r\nL 314.357828 28.58562 \r\nL 314.655058 51.094266 \r\nL 316.258058 210.324515 \r\nL 316.430904 214.387062 \r\nL 316.538437 214.649086 \r\nL 316.638198 213.327907 \r\nL 316.800231 208.034431 \r\nL 317.060205 191.961221 \r\nL 317.654665 129.860945 \r\nL 318.546355 34.784994 \r\nL 318.920115 18.115939 \r\nL 319.016525 17.112006 \r\nL 319.105552 17.434739 \r\nL 319.224591 19.732673 \r\nL 319.417421 27.844243 \r\nL 319.714651 49.889038 \r\nL 321.324229 210.083752 \r\nL 321.497716 214.321845 \r\nL 321.592891 214.728172 \r\nL 321.681177 213.878652 \r\nL 321.824736 210.008896 \r\nL 322.056159 197.612627 \r\nL 322.650619 139.088704 \r\nL 323.54231 40.511252 \r\nL 323.972659 18.503298 \r\nL 324.063137 17.245213 \r\nL 324.168558 17.341118 \r\nL 324.281508 19.305706 \r\nL 324.464648 26.471657 \r\nL 324.756562 47.130558 \r\nL 325.648252 148.386096 \r\nL 326.242712 202.66774 \r\nL 326.560041 214.194355 \r\nL 326.636723 214.749918 \r\nL 326.718773 214.357765 \r\nL 326.840397 211.911427 \r\nL 327.037328 203.383529 \r\nL 327.334558 180.956332 \r\nL 328.938187 21.573525 \r\nL 329.111196 17.465853 \r\nL 329.218372 17.177019 \r\nL 329.31695 18.445794 \r\nL 329.477084 23.583542 \r\nL 329.734146 39.262977 \r\nL 330.328606 101.021635 \r\nL 331.220296 196.496998 \r\nL 331.599098 213.669926 \r\nL 331.694834 214.712702 \r\nL 331.786065 214.415257 \r\nL 331.904287 212.163382 \r\nL 332.095818 204.181591 \r\nL 332.393049 182.258544 \r\nL 334.004766 21.800617 \r\nL 334.17838 17.528089 \r\nL 334.272661 17.102715 \r\nL 334.35966 17.904477 \r\nL 334.501141 21.626913 \r\nL 334.729324 33.632371 \r\nL 335.323784 91.719371 \r\nL 336.215474 190.636151 \r\nL 336.652527 213.292634 \r\nL 336.742587 214.574197 \r\nL 336.849494 214.503273 \r\nL 336.96189 212.567837 \r\nL 337.144148 205.485315 \r\nL 337.434743 185.025084 \r\nL 338.326433 83.871395 \r\nL 338.920893 29.383126 \r\nL 339.24063 17.658386 \r\nL 339.317502 17.088256 \r\nL 339.400205 17.474597 \r\nL 339.521587 19.90688 \r\nL 339.718134 28.395464 \r\nL 340.015365 50.787069 \r\nL 341.619268 210.236148 \r\nL 341.792349 214.363522 \r\nL 341.899369 214.663983 \r\nL 341.997431 213.417778 \r\nL 342.156737 208.34727 \r\nL 342.412528 192.838479 \r\nL 343.006988 131.230686 \r\nL 343.898678 35.583935 \r\nL 344.279676 18.189234 \r\nL 344.375117 17.129681 \r\nL 344.467313 17.415561 \r\nL 344.585177 19.647416 \r\nL 344.77614 27.572716 \r\nL 345.07337 49.442375 \r\nL 346.686024 210.014996 \r\nL 346.859694 214.30261 \r\nL 346.953583 214.736181 \r\nL 347.040019 213.954988 \r\nL 347.180591 210.296217 \r\nL 347.407353 198.460287 \r\nL 348.001813 140.566697 \r\nL 348.893504 41.504917 \r\nL 349.333488 18.562003 \r\nL 349.423366 17.270213 \r\nL 349.530924 17.329939 \r\nL 349.643078 19.252633 \r\nL 349.824948 26.298655 \r\nL 350.114963 46.671803 \r\nL 351.006654 147.780101 \r\nL 351.601114 202.358789 \r\nL 351.921898 214.1709 \r\nL 352.007622 214.756364 \r\nL 352.085109 214.32755 \r\nL 352.208422 211.782021 \r\nL 352.408029 202.977371 \r\nL 352.705259 180.302563 \r\nL 354.306974 21.387466 \r\nL 354.479489 17.41716 \r\nL 354.597453 17.278896 \r\nL 354.70572 19.002732 \r\nL 354.881385 25.475935 \r\nL 355.162077 44.469531 \r\nL 355.756537 108.841899 \r\nL 356.350997 176.880533 \r\nL 356.810056 209.179399 \r\nL 357.064376 214.731637 \r\nL 357.151898 214.392562 \r\nL 357.271495 212.062948 \r\nL 357.46521 203.86227 \r\nL 357.76244 181.734594 \r\nL 359.370558 21.72039 \r\nL 359.543958 17.505765 \r\nL 359.650288 17.154382 \r\nL 359.746074 18.302883 \r\nL 359.901719 23.081073 \r\nL 360.151878 37.843646 \r\nL 360.746338 98.770952 \r\nL 361.638029 195.15479 \r\nL 362.029293 213.555398 \r\nL 362.122191 214.673647 \r\nL 362.219078 214.448481 \r\nL 362.335201 212.313015 \r\nL 362.523396 204.660457 \r\nL 362.820626 183.051975 \r\nL 364.437835 21.924583 \r\nL 364.611779 17.563277 \r\nL 364.703761 17.090958 \r\nL 364.787454 17.774752 \r\nL 364.923591 21.130223 \r\nL 365.143411 32.153092 \r\nL 365.737871 89.084761 \r\nL 366.629562 188.822691 \r\nL 367.08383 213.184492 \r\nL 367.283568 214.522931 \r\nL 367.39453 212.662209 \r\nL 367.574499 205.794061 \r\nL 367.861665 185.846681 \r\nL 368.456125 120.823247 \r\nL 369.050586 53.25857 \r\nL 369.590849 19.354421 \r\nL 369.757288 17.083683 \r\nL 369.837841 17.488624 \r\nL 369.960019 19.967318 \r\nL 370.157828 28.58562 \r\nL 370.455058 51.094266 \r\nL 372.058058 210.324515 \r\nL 372.230904 214.387062 \r\nL 372.338437 214.649086 \r\nL 372.438198 213.327907 \r\nL 372.600231 208.034431 \r\nL 372.860205 191.961221 \r\nL 373.454665 129.860945 \r\nL 374.346355 34.784994 \r\nL 374.720115 18.115939 \r\nL 374.816525 17.112006 \r\nL 374.905552 17.434739 \r\nL 375.024591 19.732673 \r\nL 375.217421 27.844243 \r\nL 375.514651 49.889038 \r\nL 377.124229 210.083752 \r\nL 377.297716 214.321845 \r\nL 377.392891 214.728172 \r\nL 377.481177 213.878652 \r\nL 377.624736 210.008896 \r\nL 377.856159 197.612627 \r\nL 378.450619 139.088704 \r\nL 378.641662 115.918299 \r\nL 378.641662 115.918299 \r\n\" style=\"fill:none;stroke:#1f77b4;stroke-linecap:square;stroke-width:1.5;\"/>\r\n   </g>\r\n   <g id=\"patch_3\">\r\n    <path d=\"M 59.059844 224.64 \r\nL 59.059844 7.2 \r\n\" style=\"fill:none;stroke:#000000;stroke-linecap:square;stroke-linejoin:miter;stroke-width:0.8;\"/>\r\n   </g>\r\n   <g id=\"patch_4\">\r\n    <path d=\"M 393.859844 224.64 \r\nL 393.859844 7.2 \r\n\" style=\"fill:none;stroke:#000000;stroke-linecap:square;stroke-linejoin:miter;stroke-width:0.8;\"/>\r\n   </g>\r\n   <g id=\"patch_5\">\r\n    <path d=\"M 59.059844 224.64 \r\nL 393.859844 224.64 \r\n\" style=\"fill:none;stroke:#000000;stroke-linecap:square;stroke-linejoin:miter;stroke-width:0.8;\"/>\r\n   </g>\r\n   <g id=\"patch_6\">\r\n    <path d=\"M 59.059844 7.2 \r\nL 393.859844 7.2 \r\n\" style=\"fill:none;stroke:#000000;stroke-linecap:square;stroke-linejoin:miter;stroke-width:0.8;\"/>\r\n   </g>\r\n  </g>\r\n </g>\r\n <defs>\r\n  <clipPath id=\"pe30c5b78ed\">\r\n   <rect height=\"217.44\" width=\"334.8\" x=\"59.059844\" y=\"7.2\"/>\r\n  </clipPath>\r\n </defs>\r\n</svg>\r\n"
          },
          "metadata": {
            "needs_background": "light"
          }
        }
      ],
      "source": [
        "import ltspice\n",
        "l = ltspice.Ltspice(\"corriente alterna.raw\")\n",
        "l.parse()\n",
        "time = l.get_time()\n",
        "V1 = l.get_data('V(1)')\n",
        "plt.plot(time, V1)\n",
        "plt.xlabel(\"Tiempo (T)\")\n",
        "plt.ylabel(\"Voltaje (V)\")"
      ]
    },
    {
      "cell_type": "code",
      "execution_count": 205,
      "metadata": {},
      "outputs": [
        {
          "output_type": "execute_result",
          "data": {
            "text/plain": [
              "Text(0, 0.5, 'Intensidad (I)')"
            ]
          },
          "metadata": {},
          "execution_count": 205
        },
        {
          "output_type": "display_data",
          "data": {
            "text/plain": "<Figure size 432x288 with 1 Axes>",
            "image/svg+xml": "<?xml version=\"1.0\" encoding=\"utf-8\" standalone=\"no\"?>\r\n<!DOCTYPE svg PUBLIC \"-//W3C//DTD SVG 1.1//EN\"\r\n  \"http://www.w3.org/Graphics/SVG/1.1/DTD/svg11.dtd\">\r\n<!-- Created with matplotlib (https://matplotlib.org/) -->\r\n<svg height=\"264.131875pt\" version=\"1.1\" viewBox=\"0 0 411.554531 264.131875\" width=\"411.554531pt\" xmlns=\"http://www.w3.org/2000/svg\" xmlns:xlink=\"http://www.w3.org/1999/xlink\">\r\n <metadata>\r\n  <rdf:RDF xmlns:cc=\"http://creativecommons.org/ns#\" xmlns:dc=\"http://purl.org/dc/elements/1.1/\" xmlns:rdf=\"http://www.w3.org/1999/02/22-rdf-syntax-ns#\">\r\n   <cc:Work>\r\n    <dc:type rdf:resource=\"http://purl.org/dc/dcmitype/StillImage\"/>\r\n    <dc:date>2021-01-06T21:31:12.735560</dc:date>\r\n    <dc:format>image/svg+xml</dc:format>\r\n    <dc:creator>\r\n     <cc:Agent>\r\n      <dc:title>Matplotlib v3.3.3, https://matplotlib.org/</dc:title>\r\n     </cc:Agent>\r\n    </dc:creator>\r\n   </cc:Work>\r\n  </rdf:RDF>\r\n </metadata>\r\n <defs>\r\n  <style type=\"text/css\">*{stroke-linecap:butt;stroke-linejoin:round;}</style>\r\n </defs>\r\n <g id=\"figure_1\">\r\n  <g id=\"patch_1\">\r\n   <path d=\"M 0 264.131875 \r\nL 411.554531 264.131875 \r\nL 411.554531 0 \r\nL 0 0 \r\nz\r\n\" style=\"fill:none;\"/>\r\n  </g>\r\n  <g id=\"axes_1\">\r\n   <g id=\"patch_2\">\r\n    <path d=\"M 69.554531 224.64 \r\nL 404.354531 224.64 \r\nL 404.354531 7.2 \r\nL 69.554531 7.2 \r\nz\r\n\" style=\"fill:#ffffff;\"/>\r\n   </g>\r\n   <g id=\"matplotlib.axis_1\">\r\n    <g id=\"xtick_1\">\r\n     <g id=\"line2d_1\">\r\n      <defs>\r\n       <path d=\"M 0 0 \r\nL 0 3.5 \r\n\" id=\"m44f7de263d\" style=\"stroke:#000000;stroke-width:0.8;\"/>\r\n      </defs>\r\n      <g>\r\n       <use style=\"stroke:#000000;stroke-width:0.8;\" x=\"84.772713\" xlink:href=\"#m44f7de263d\" y=\"224.64\"/>\r\n      </g>\r\n     </g>\r\n     <g id=\"text_1\">\r\n      <!-- 0.0 -->\r\n      <g transform=\"translate(76.025994 239.998281)scale(0.11 -0.11)\">\r\n       <defs>\r\n        <path d=\"M 31.78125 66.40625 \r\nQ 24.171875 66.40625 20.328125 58.90625 \r\nQ 16.5 51.421875 16.5 36.375 \r\nQ 16.5 21.390625 20.328125 13.890625 \r\nQ 24.171875 6.390625 31.78125 6.390625 \r\nQ 39.453125 6.390625 43.28125 13.890625 \r\nQ 47.125 21.390625 47.125 36.375 \r\nQ 47.125 51.421875 43.28125 58.90625 \r\nQ 39.453125 66.40625 31.78125 66.40625 \r\nz\r\nM 31.78125 74.21875 \r\nQ 44.046875 74.21875 50.515625 64.515625 \r\nQ 56.984375 54.828125 56.984375 36.375 \r\nQ 56.984375 17.96875 50.515625 8.265625 \r\nQ 44.046875 -1.421875 31.78125 -1.421875 \r\nQ 19.53125 -1.421875 13.0625 8.265625 \r\nQ 6.59375 17.96875 6.59375 36.375 \r\nQ 6.59375 54.828125 13.0625 64.515625 \r\nQ 19.53125 74.21875 31.78125 74.21875 \r\nz\r\n\" id=\"DejaVuSans-48\"/>\r\n        <path d=\"M 10.6875 12.40625 \r\nL 21 12.40625 \r\nL 21 0 \r\nL 10.6875 0 \r\nz\r\n\" id=\"DejaVuSans-46\"/>\r\n       </defs>\r\n       <use xlink:href=\"#DejaVuSans-48\"/>\r\n       <use x=\"63.623047\" xlink:href=\"#DejaVuSans-46\"/>\r\n       <use x=\"95.410156\" xlink:href=\"#DejaVuSans-48\"/>\r\n      </g>\r\n     </g>\r\n    </g>\r\n    <g id=\"xtick_2\">\r\n     <g id=\"line2d_2\">\r\n      <g>\r\n       <use style=\"stroke:#000000;stroke-width:0.8;\" x=\"145.64544\" xlink:href=\"#m44f7de263d\" y=\"224.64\"/>\r\n      </g>\r\n     </g>\r\n     <g id=\"text_2\">\r\n      <!-- 0.2 -->\r\n      <g transform=\"translate(136.898722 239.998281)scale(0.11 -0.11)\">\r\n       <defs>\r\n        <path d=\"M 19.1875 8.296875 \r\nL 53.609375 8.296875 \r\nL 53.609375 0 \r\nL 7.328125 0 \r\nL 7.328125 8.296875 \r\nQ 12.9375 14.109375 22.625 23.890625 \r\nQ 32.328125 33.6875 34.8125 36.53125 \r\nQ 39.546875 41.84375 41.421875 45.53125 \r\nQ 43.3125 49.21875 43.3125 52.78125 \r\nQ 43.3125 58.59375 39.234375 62.25 \r\nQ 35.15625 65.921875 28.609375 65.921875 \r\nQ 23.96875 65.921875 18.8125 64.3125 \r\nQ 13.671875 62.703125 7.8125 59.421875 \r\nL 7.8125 69.390625 \r\nQ 13.765625 71.78125 18.9375 73 \r\nQ 24.125 74.21875 28.421875 74.21875 \r\nQ 39.75 74.21875 46.484375 68.546875 \r\nQ 53.21875 62.890625 53.21875 53.421875 \r\nQ 53.21875 48.921875 51.53125 44.890625 \r\nQ 49.859375 40.875 45.40625 35.40625 \r\nQ 44.1875 33.984375 37.640625 27.21875 \r\nQ 31.109375 20.453125 19.1875 8.296875 \r\nz\r\n\" id=\"DejaVuSans-50\"/>\r\n       </defs>\r\n       <use xlink:href=\"#DejaVuSans-48\"/>\r\n       <use x=\"63.623047\" xlink:href=\"#DejaVuSans-46\"/>\r\n       <use x=\"95.410156\" xlink:href=\"#DejaVuSans-50\"/>\r\n      </g>\r\n     </g>\r\n    </g>\r\n    <g id=\"xtick_3\">\r\n     <g id=\"line2d_3\">\r\n      <g>\r\n       <use style=\"stroke:#000000;stroke-width:0.8;\" x=\"206.518168\" xlink:href=\"#m44f7de263d\" y=\"224.64\"/>\r\n      </g>\r\n     </g>\r\n     <g id=\"text_3\">\r\n      <!-- 0.4 -->\r\n      <g transform=\"translate(197.771449 239.998281)scale(0.11 -0.11)\">\r\n       <defs>\r\n        <path d=\"M 37.796875 64.3125 \r\nL 12.890625 25.390625 \r\nL 37.796875 25.390625 \r\nz\r\nM 35.203125 72.90625 \r\nL 47.609375 72.90625 \r\nL 47.609375 25.390625 \r\nL 58.015625 25.390625 \r\nL 58.015625 17.1875 \r\nL 47.609375 17.1875 \r\nL 47.609375 0 \r\nL 37.796875 0 \r\nL 37.796875 17.1875 \r\nL 4.890625 17.1875 \r\nL 4.890625 26.703125 \r\nz\r\n\" id=\"DejaVuSans-52\"/>\r\n       </defs>\r\n       <use xlink:href=\"#DejaVuSans-48\"/>\r\n       <use x=\"63.623047\" xlink:href=\"#DejaVuSans-46\"/>\r\n       <use x=\"95.410156\" xlink:href=\"#DejaVuSans-52\"/>\r\n      </g>\r\n     </g>\r\n    </g>\r\n    <g id=\"xtick_4\">\r\n     <g id=\"line2d_4\">\r\n      <g>\r\n       <use style=\"stroke:#000000;stroke-width:0.8;\" x=\"267.390895\" xlink:href=\"#m44f7de263d\" y=\"224.64\"/>\r\n      </g>\r\n     </g>\r\n     <g id=\"text_4\">\r\n      <!-- 0.6 -->\r\n      <g transform=\"translate(258.644176 239.998281)scale(0.11 -0.11)\">\r\n       <defs>\r\n        <path d=\"M 33.015625 40.375 \r\nQ 26.375 40.375 22.484375 35.828125 \r\nQ 18.609375 31.296875 18.609375 23.390625 \r\nQ 18.609375 15.53125 22.484375 10.953125 \r\nQ 26.375 6.390625 33.015625 6.390625 \r\nQ 39.65625 6.390625 43.53125 10.953125 \r\nQ 47.40625 15.53125 47.40625 23.390625 \r\nQ 47.40625 31.296875 43.53125 35.828125 \r\nQ 39.65625 40.375 33.015625 40.375 \r\nz\r\nM 52.59375 71.296875 \r\nL 52.59375 62.3125 \r\nQ 48.875 64.0625 45.09375 64.984375 \r\nQ 41.3125 65.921875 37.59375 65.921875 \r\nQ 27.828125 65.921875 22.671875 59.328125 \r\nQ 17.53125 52.734375 16.796875 39.40625 \r\nQ 19.671875 43.65625 24.015625 45.921875 \r\nQ 28.375 48.1875 33.59375 48.1875 \r\nQ 44.578125 48.1875 50.953125 41.515625 \r\nQ 57.328125 34.859375 57.328125 23.390625 \r\nQ 57.328125 12.15625 50.6875 5.359375 \r\nQ 44.046875 -1.421875 33.015625 -1.421875 \r\nQ 20.359375 -1.421875 13.671875 8.265625 \r\nQ 6.984375 17.96875 6.984375 36.375 \r\nQ 6.984375 53.65625 15.1875 63.9375 \r\nQ 23.390625 74.21875 37.203125 74.21875 \r\nQ 40.921875 74.21875 44.703125 73.484375 \r\nQ 48.484375 72.75 52.59375 71.296875 \r\nz\r\n\" id=\"DejaVuSans-54\"/>\r\n       </defs>\r\n       <use xlink:href=\"#DejaVuSans-48\"/>\r\n       <use x=\"63.623047\" xlink:href=\"#DejaVuSans-46\"/>\r\n       <use x=\"95.410156\" xlink:href=\"#DejaVuSans-54\"/>\r\n      </g>\r\n     </g>\r\n    </g>\r\n    <g id=\"xtick_5\">\r\n     <g id=\"line2d_5\">\r\n      <g>\r\n       <use style=\"stroke:#000000;stroke-width:0.8;\" x=\"328.263622\" xlink:href=\"#m44f7de263d\" y=\"224.64\"/>\r\n      </g>\r\n     </g>\r\n     <g id=\"text_5\">\r\n      <!-- 0.8 -->\r\n      <g transform=\"translate(319.516903 239.998281)scale(0.11 -0.11)\">\r\n       <defs>\r\n        <path d=\"M 31.78125 34.625 \r\nQ 24.75 34.625 20.71875 30.859375 \r\nQ 16.703125 27.09375 16.703125 20.515625 \r\nQ 16.703125 13.921875 20.71875 10.15625 \r\nQ 24.75 6.390625 31.78125 6.390625 \r\nQ 38.8125 6.390625 42.859375 10.171875 \r\nQ 46.921875 13.96875 46.921875 20.515625 \r\nQ 46.921875 27.09375 42.890625 30.859375 \r\nQ 38.875 34.625 31.78125 34.625 \r\nz\r\nM 21.921875 38.8125 \r\nQ 15.578125 40.375 12.03125 44.71875 \r\nQ 8.5 49.078125 8.5 55.328125 \r\nQ 8.5 64.0625 14.71875 69.140625 \r\nQ 20.953125 74.21875 31.78125 74.21875 \r\nQ 42.671875 74.21875 48.875 69.140625 \r\nQ 55.078125 64.0625 55.078125 55.328125 \r\nQ 55.078125 49.078125 51.53125 44.71875 \r\nQ 48 40.375 41.703125 38.8125 \r\nQ 48.828125 37.15625 52.796875 32.3125 \r\nQ 56.78125 27.484375 56.78125 20.515625 \r\nQ 56.78125 9.90625 50.3125 4.234375 \r\nQ 43.84375 -1.421875 31.78125 -1.421875 \r\nQ 19.734375 -1.421875 13.25 4.234375 \r\nQ 6.78125 9.90625 6.78125 20.515625 \r\nQ 6.78125 27.484375 10.78125 32.3125 \r\nQ 14.796875 37.15625 21.921875 38.8125 \r\nz\r\nM 18.3125 54.390625 \r\nQ 18.3125 48.734375 21.84375 45.5625 \r\nQ 25.390625 42.390625 31.78125 42.390625 \r\nQ 38.140625 42.390625 41.71875 45.5625 \r\nQ 45.3125 48.734375 45.3125 54.390625 \r\nQ 45.3125 60.0625 41.71875 63.234375 \r\nQ 38.140625 66.40625 31.78125 66.40625 \r\nQ 25.390625 66.40625 21.84375 63.234375 \r\nQ 18.3125 60.0625 18.3125 54.390625 \r\nz\r\n\" id=\"DejaVuSans-56\"/>\r\n       </defs>\r\n       <use xlink:href=\"#DejaVuSans-48\"/>\r\n       <use x=\"63.623047\" xlink:href=\"#DejaVuSans-46\"/>\r\n       <use x=\"95.410156\" xlink:href=\"#DejaVuSans-56\"/>\r\n      </g>\r\n     </g>\r\n    </g>\r\n    <g id=\"xtick_6\">\r\n     <g id=\"line2d_6\">\r\n      <g>\r\n       <use style=\"stroke:#000000;stroke-width:0.8;\" x=\"389.136349\" xlink:href=\"#m44f7de263d\" y=\"224.64\"/>\r\n      </g>\r\n     </g>\r\n     <g id=\"text_6\">\r\n      <!-- 1.0 -->\r\n      <g transform=\"translate(380.389631 239.998281)scale(0.11 -0.11)\">\r\n       <defs>\r\n        <path d=\"M 12.40625 8.296875 \r\nL 28.515625 8.296875 \r\nL 28.515625 63.921875 \r\nL 10.984375 60.40625 \r\nL 10.984375 69.390625 \r\nL 28.421875 72.90625 \r\nL 38.28125 72.90625 \r\nL 38.28125 8.296875 \r\nL 54.390625 8.296875 \r\nL 54.390625 0 \r\nL 12.40625 0 \r\nz\r\n\" id=\"DejaVuSans-49\"/>\r\n       </defs>\r\n       <use xlink:href=\"#DejaVuSans-49\"/>\r\n       <use x=\"63.623047\" xlink:href=\"#DejaVuSans-46\"/>\r\n       <use x=\"95.410156\" xlink:href=\"#DejaVuSans-48\"/>\r\n      </g>\r\n     </g>\r\n    </g>\r\n    <g id=\"text_7\">\r\n     <!-- Tiempo (T) -->\r\n     <g transform=\"translate(207.241641 254.644219)scale(0.11 -0.11)\">\r\n      <defs>\r\n       <path d=\"M -0.296875 72.90625 \r\nL 61.375 72.90625 \r\nL 61.375 64.59375 \r\nL 35.5 64.59375 \r\nL 35.5 0 \r\nL 25.59375 0 \r\nL 25.59375 64.59375 \r\nL -0.296875 64.59375 \r\nz\r\n\" id=\"DejaVuSans-84\"/>\r\n       <path d=\"M 9.421875 54.6875 \r\nL 18.40625 54.6875 \r\nL 18.40625 0 \r\nL 9.421875 0 \r\nz\r\nM 9.421875 75.984375 \r\nL 18.40625 75.984375 \r\nL 18.40625 64.59375 \r\nL 9.421875 64.59375 \r\nz\r\n\" id=\"DejaVuSans-105\"/>\r\n       <path d=\"M 56.203125 29.59375 \r\nL 56.203125 25.203125 \r\nL 14.890625 25.203125 \r\nQ 15.484375 15.921875 20.484375 11.0625 \r\nQ 25.484375 6.203125 34.421875 6.203125 \r\nQ 39.59375 6.203125 44.453125 7.46875 \r\nQ 49.3125 8.734375 54.109375 11.28125 \r\nL 54.109375 2.78125 \r\nQ 49.265625 0.734375 44.1875 -0.34375 \r\nQ 39.109375 -1.421875 33.890625 -1.421875 \r\nQ 20.796875 -1.421875 13.15625 6.1875 \r\nQ 5.515625 13.8125 5.515625 26.8125 \r\nQ 5.515625 40.234375 12.765625 48.109375 \r\nQ 20.015625 56 32.328125 56 \r\nQ 43.359375 56 49.78125 48.890625 \r\nQ 56.203125 41.796875 56.203125 29.59375 \r\nz\r\nM 47.21875 32.234375 \r\nQ 47.125 39.59375 43.09375 43.984375 \r\nQ 39.0625 48.390625 32.421875 48.390625 \r\nQ 24.90625 48.390625 20.390625 44.140625 \r\nQ 15.875 39.890625 15.1875 32.171875 \r\nz\r\n\" id=\"DejaVuSans-101\"/>\r\n       <path d=\"M 52 44.1875 \r\nQ 55.375 50.25 60.0625 53.125 \r\nQ 64.75 56 71.09375 56 \r\nQ 79.640625 56 84.28125 50.015625 \r\nQ 88.921875 44.046875 88.921875 33.015625 \r\nL 88.921875 0 \r\nL 79.890625 0 \r\nL 79.890625 32.71875 \r\nQ 79.890625 40.578125 77.09375 44.375 \r\nQ 74.3125 48.1875 68.609375 48.1875 \r\nQ 61.625 48.1875 57.5625 43.546875 \r\nQ 53.515625 38.921875 53.515625 30.90625 \r\nL 53.515625 0 \r\nL 44.484375 0 \r\nL 44.484375 32.71875 \r\nQ 44.484375 40.625 41.703125 44.40625 \r\nQ 38.921875 48.1875 33.109375 48.1875 \r\nQ 26.21875 48.1875 22.15625 43.53125 \r\nQ 18.109375 38.875 18.109375 30.90625 \r\nL 18.109375 0 \r\nL 9.078125 0 \r\nL 9.078125 54.6875 \r\nL 18.109375 54.6875 \r\nL 18.109375 46.1875 \r\nQ 21.1875 51.21875 25.484375 53.609375 \r\nQ 29.78125 56 35.6875 56 \r\nQ 41.65625 56 45.828125 52.96875 \r\nQ 50 49.953125 52 44.1875 \r\nz\r\n\" id=\"DejaVuSans-109\"/>\r\n       <path d=\"M 18.109375 8.203125 \r\nL 18.109375 -20.796875 \r\nL 9.078125 -20.796875 \r\nL 9.078125 54.6875 \r\nL 18.109375 54.6875 \r\nL 18.109375 46.390625 \r\nQ 20.953125 51.265625 25.265625 53.625 \r\nQ 29.59375 56 35.59375 56 \r\nQ 45.5625 56 51.78125 48.09375 \r\nQ 58.015625 40.1875 58.015625 27.296875 \r\nQ 58.015625 14.40625 51.78125 6.484375 \r\nQ 45.5625 -1.421875 35.59375 -1.421875 \r\nQ 29.59375 -1.421875 25.265625 0.953125 \r\nQ 20.953125 3.328125 18.109375 8.203125 \r\nz\r\nM 48.6875 27.296875 \r\nQ 48.6875 37.203125 44.609375 42.84375 \r\nQ 40.53125 48.484375 33.40625 48.484375 \r\nQ 26.265625 48.484375 22.1875 42.84375 \r\nQ 18.109375 37.203125 18.109375 27.296875 \r\nQ 18.109375 17.390625 22.1875 11.75 \r\nQ 26.265625 6.109375 33.40625 6.109375 \r\nQ 40.53125 6.109375 44.609375 11.75 \r\nQ 48.6875 17.390625 48.6875 27.296875 \r\nz\r\n\" id=\"DejaVuSans-112\"/>\r\n       <path d=\"M 30.609375 48.390625 \r\nQ 23.390625 48.390625 19.1875 42.75 \r\nQ 14.984375 37.109375 14.984375 27.296875 \r\nQ 14.984375 17.484375 19.15625 11.84375 \r\nQ 23.34375 6.203125 30.609375 6.203125 \r\nQ 37.796875 6.203125 41.984375 11.859375 \r\nQ 46.1875 17.53125 46.1875 27.296875 \r\nQ 46.1875 37.015625 41.984375 42.703125 \r\nQ 37.796875 48.390625 30.609375 48.390625 \r\nz\r\nM 30.609375 56 \r\nQ 42.328125 56 49.015625 48.375 \r\nQ 55.71875 40.765625 55.71875 27.296875 \r\nQ 55.71875 13.875 49.015625 6.21875 \r\nQ 42.328125 -1.421875 30.609375 -1.421875 \r\nQ 18.84375 -1.421875 12.171875 6.21875 \r\nQ 5.515625 13.875 5.515625 27.296875 \r\nQ 5.515625 40.765625 12.171875 48.375 \r\nQ 18.84375 56 30.609375 56 \r\nz\r\n\" id=\"DejaVuSans-111\"/>\r\n       <path id=\"DejaVuSans-32\"/>\r\n       <path d=\"M 31 75.875 \r\nQ 24.46875 64.65625 21.28125 53.65625 \r\nQ 18.109375 42.671875 18.109375 31.390625 \r\nQ 18.109375 20.125 21.3125 9.0625 \r\nQ 24.515625 -2 31 -13.1875 \r\nL 23.1875 -13.1875 \r\nQ 15.875 -1.703125 12.234375 9.375 \r\nQ 8.59375 20.453125 8.59375 31.390625 \r\nQ 8.59375 42.28125 12.203125 53.3125 \r\nQ 15.828125 64.359375 23.1875 75.875 \r\nz\r\n\" id=\"DejaVuSans-40\"/>\r\n       <path d=\"M 8.015625 75.875 \r\nL 15.828125 75.875 \r\nQ 23.140625 64.359375 26.78125 53.3125 \r\nQ 30.421875 42.28125 30.421875 31.390625 \r\nQ 30.421875 20.453125 26.78125 9.375 \r\nQ 23.140625 -1.703125 15.828125 -13.1875 \r\nL 8.015625 -13.1875 \r\nQ 14.5 -2 17.703125 9.0625 \r\nQ 20.90625 20.125 20.90625 31.390625 \r\nQ 20.90625 42.671875 17.703125 53.65625 \r\nQ 14.5 64.65625 8.015625 75.875 \r\nz\r\n\" id=\"DejaVuSans-41\"/>\r\n      </defs>\r\n      <use xlink:href=\"#DejaVuSans-84\"/>\r\n      <use x=\"57.958984\" xlink:href=\"#DejaVuSans-105\"/>\r\n      <use x=\"85.742188\" xlink:href=\"#DejaVuSans-101\"/>\r\n      <use x=\"147.265625\" xlink:href=\"#DejaVuSans-109\"/>\r\n      <use x=\"244.677734\" xlink:href=\"#DejaVuSans-112\"/>\r\n      <use x=\"308.154297\" xlink:href=\"#DejaVuSans-111\"/>\r\n      <use x=\"369.335938\" xlink:href=\"#DejaVuSans-32\"/>\r\n      <use x=\"401.123047\" xlink:href=\"#DejaVuSans-40\"/>\r\n      <use x=\"440.136719\" xlink:href=\"#DejaVuSans-84\"/>\r\n      <use x=\"501.220703\" xlink:href=\"#DejaVuSans-41\"/>\r\n     </g>\r\n    </g>\r\n   </g>\r\n   <g id=\"matplotlib.axis_2\">\r\n    <g id=\"ytick_1\">\r\n     <g id=\"line2d_7\">\r\n      <defs>\r\n       <path d=\"M 0 0 \r\nL -3.5 0 \r\n\" id=\"mf2974f5c94\" style=\"stroke:#000000;stroke-width:0.8;\"/>\r\n      </defs>\r\n      <g>\r\n       <use style=\"stroke:#000000;stroke-width:0.8;\" x=\"69.554531\" xlink:href=\"#mf2974f5c94\" y=\"198.287067\"/>\r\n      </g>\r\n     </g>\r\n     <g id=\"text_8\">\r\n      <!-- −0.010 -->\r\n      <g transform=\"translate(21.845937 202.466208)scale(0.11 -0.11)\">\r\n       <defs>\r\n        <path d=\"M 10.59375 35.5 \r\nL 73.1875 35.5 \r\nL 73.1875 27.203125 \r\nL 10.59375 27.203125 \r\nz\r\n\" id=\"DejaVuSans-8722\"/>\r\n       </defs>\r\n       <use xlink:href=\"#DejaVuSans-8722\"/>\r\n       <use x=\"83.789062\" xlink:href=\"#DejaVuSans-48\"/>\r\n       <use x=\"147.412109\" xlink:href=\"#DejaVuSans-46\"/>\r\n       <use x=\"179.199219\" xlink:href=\"#DejaVuSans-48\"/>\r\n       <use x=\"242.822266\" xlink:href=\"#DejaVuSans-49\"/>\r\n       <use x=\"306.445312\" xlink:href=\"#DejaVuSans-48\"/>\r\n      </g>\r\n     </g>\r\n    </g>\r\n    <g id=\"ytick_2\">\r\n     <g id=\"line2d_8\">\r\n      <g>\r\n       <use style=\"stroke:#000000;stroke-width:0.8;\" x=\"69.554531\" xlink:href=\"#mf2974f5c94\" y=\"157.104384\"/>\r\n      </g>\r\n     </g>\r\n     <g id=\"text_9\">\r\n      <!-- −0.005 -->\r\n      <g transform=\"translate(21.845937 161.283525)scale(0.11 -0.11)\">\r\n       <defs>\r\n        <path d=\"M 10.796875 72.90625 \r\nL 49.515625 72.90625 \r\nL 49.515625 64.59375 \r\nL 19.828125 64.59375 \r\nL 19.828125 46.734375 \r\nQ 21.96875 47.46875 24.109375 47.828125 \r\nQ 26.265625 48.1875 28.421875 48.1875 \r\nQ 40.625 48.1875 47.75 41.5 \r\nQ 54.890625 34.8125 54.890625 23.390625 \r\nQ 54.890625 11.625 47.5625 5.09375 \r\nQ 40.234375 -1.421875 26.90625 -1.421875 \r\nQ 22.3125 -1.421875 17.546875 -0.640625 \r\nQ 12.796875 0.140625 7.71875 1.703125 \r\nL 7.71875 11.625 \r\nQ 12.109375 9.234375 16.796875 8.0625 \r\nQ 21.484375 6.890625 26.703125 6.890625 \r\nQ 35.15625 6.890625 40.078125 11.328125 \r\nQ 45.015625 15.765625 45.015625 23.390625 \r\nQ 45.015625 31 40.078125 35.4375 \r\nQ 35.15625 39.890625 26.703125 39.890625 \r\nQ 22.75 39.890625 18.8125 39.015625 \r\nQ 14.890625 38.140625 10.796875 36.28125 \r\nz\r\n\" id=\"DejaVuSans-53\"/>\r\n       </defs>\r\n       <use xlink:href=\"#DejaVuSans-8722\"/>\r\n       <use x=\"83.789062\" xlink:href=\"#DejaVuSans-48\"/>\r\n       <use x=\"147.412109\" xlink:href=\"#DejaVuSans-46\"/>\r\n       <use x=\"179.199219\" xlink:href=\"#DejaVuSans-48\"/>\r\n       <use x=\"242.822266\" xlink:href=\"#DejaVuSans-48\"/>\r\n       <use x=\"306.445312\" xlink:href=\"#DejaVuSans-53\"/>\r\n      </g>\r\n     </g>\r\n    </g>\r\n    <g id=\"ytick_3\">\r\n     <g id=\"line2d_9\">\r\n      <g>\r\n       <use style=\"stroke:#000000;stroke-width:0.8;\" x=\"69.554531\" xlink:href=\"#mf2974f5c94\" y=\"115.921701\"/>\r\n      </g>\r\n     </g>\r\n     <g id=\"text_10\">\r\n      <!-- 0.000 -->\r\n      <g transform=\"translate(31.063594 120.100842)scale(0.11 -0.11)\">\r\n       <use xlink:href=\"#DejaVuSans-48\"/>\r\n       <use x=\"63.623047\" xlink:href=\"#DejaVuSans-46\"/>\r\n       <use x=\"95.410156\" xlink:href=\"#DejaVuSans-48\"/>\r\n       <use x=\"159.033203\" xlink:href=\"#DejaVuSans-48\"/>\r\n       <use x=\"222.65625\" xlink:href=\"#DejaVuSans-48\"/>\r\n      </g>\r\n     </g>\r\n    </g>\r\n    <g id=\"ytick_4\">\r\n     <g id=\"line2d_10\">\r\n      <g>\r\n       <use style=\"stroke:#000000;stroke-width:0.8;\" x=\"69.554531\" xlink:href=\"#mf2974f5c94\" y=\"74.739018\"/>\r\n      </g>\r\n     </g>\r\n     <g id=\"text_11\">\r\n      <!-- 0.005 -->\r\n      <g transform=\"translate(31.063594 78.918159)scale(0.11 -0.11)\">\r\n       <use xlink:href=\"#DejaVuSans-48\"/>\r\n       <use x=\"63.623047\" xlink:href=\"#DejaVuSans-46\"/>\r\n       <use x=\"95.410156\" xlink:href=\"#DejaVuSans-48\"/>\r\n       <use x=\"159.033203\" xlink:href=\"#DejaVuSans-48\"/>\r\n       <use x=\"222.65625\" xlink:href=\"#DejaVuSans-53\"/>\r\n      </g>\r\n     </g>\r\n    </g>\r\n    <g id=\"ytick_5\">\r\n     <g id=\"line2d_11\">\r\n      <g>\r\n       <use style=\"stroke:#000000;stroke-width:0.8;\" x=\"69.554531\" xlink:href=\"#mf2974f5c94\" y=\"33.556335\"/>\r\n      </g>\r\n     </g>\r\n     <g id=\"text_12\">\r\n      <!-- 0.010 -->\r\n      <g transform=\"translate(31.063594 37.735476)scale(0.11 -0.11)\">\r\n       <use xlink:href=\"#DejaVuSans-48\"/>\r\n       <use x=\"63.623047\" xlink:href=\"#DejaVuSans-46\"/>\r\n       <use x=\"95.410156\" xlink:href=\"#DejaVuSans-48\"/>\r\n       <use x=\"159.033203\" xlink:href=\"#DejaVuSans-49\"/>\r\n       <use x=\"222.65625\" xlink:href=\"#DejaVuSans-48\"/>\r\n      </g>\r\n     </g>\r\n    </g>\r\n    <g id=\"text_13\">\r\n     <!-- Intensidad (I) -->\r\n     <g transform=\"translate(15.558281 152.463203)rotate(-90)scale(0.11 -0.11)\">\r\n      <defs>\r\n       <path d=\"M 9.8125 72.90625 \r\nL 19.671875 72.90625 \r\nL 19.671875 0 \r\nL 9.8125 0 \r\nz\r\n\" id=\"DejaVuSans-73\"/>\r\n       <path d=\"M 54.890625 33.015625 \r\nL 54.890625 0 \r\nL 45.90625 0 \r\nL 45.90625 32.71875 \r\nQ 45.90625 40.484375 42.875 44.328125 \r\nQ 39.84375 48.1875 33.796875 48.1875 \r\nQ 26.515625 48.1875 22.3125 43.546875 \r\nQ 18.109375 38.921875 18.109375 30.90625 \r\nL 18.109375 0 \r\nL 9.078125 0 \r\nL 9.078125 54.6875 \r\nL 18.109375 54.6875 \r\nL 18.109375 46.1875 \r\nQ 21.34375 51.125 25.703125 53.5625 \r\nQ 30.078125 56 35.796875 56 \r\nQ 45.21875 56 50.046875 50.171875 \r\nQ 54.890625 44.34375 54.890625 33.015625 \r\nz\r\n\" id=\"DejaVuSans-110\"/>\r\n       <path d=\"M 18.3125 70.21875 \r\nL 18.3125 54.6875 \r\nL 36.8125 54.6875 \r\nL 36.8125 47.703125 \r\nL 18.3125 47.703125 \r\nL 18.3125 18.015625 \r\nQ 18.3125 11.328125 20.140625 9.421875 \r\nQ 21.96875 7.515625 27.59375 7.515625 \r\nL 36.8125 7.515625 \r\nL 36.8125 0 \r\nL 27.59375 0 \r\nQ 17.1875 0 13.234375 3.875 \r\nQ 9.28125 7.765625 9.28125 18.015625 \r\nL 9.28125 47.703125 \r\nL 2.6875 47.703125 \r\nL 2.6875 54.6875 \r\nL 9.28125 54.6875 \r\nL 9.28125 70.21875 \r\nz\r\n\" id=\"DejaVuSans-116\"/>\r\n       <path d=\"M 44.28125 53.078125 \r\nL 44.28125 44.578125 \r\nQ 40.484375 46.53125 36.375 47.5 \r\nQ 32.28125 48.484375 27.875 48.484375 \r\nQ 21.1875 48.484375 17.84375 46.4375 \r\nQ 14.5 44.390625 14.5 40.28125 \r\nQ 14.5 37.15625 16.890625 35.375 \r\nQ 19.28125 33.59375 26.515625 31.984375 \r\nL 29.59375 31.296875 \r\nQ 39.15625 29.25 43.1875 25.515625 \r\nQ 47.21875 21.78125 47.21875 15.09375 \r\nQ 47.21875 7.46875 41.1875 3.015625 \r\nQ 35.15625 -1.421875 24.609375 -1.421875 \r\nQ 20.21875 -1.421875 15.453125 -0.5625 \r\nQ 10.6875 0.296875 5.421875 2 \r\nL 5.421875 11.28125 \r\nQ 10.40625 8.6875 15.234375 7.390625 \r\nQ 20.0625 6.109375 24.8125 6.109375 \r\nQ 31.15625 6.109375 34.5625 8.28125 \r\nQ 37.984375 10.453125 37.984375 14.40625 \r\nQ 37.984375 18.0625 35.515625 20.015625 \r\nQ 33.0625 21.96875 24.703125 23.78125 \r\nL 21.578125 24.515625 \r\nQ 13.234375 26.265625 9.515625 29.90625 \r\nQ 5.8125 33.546875 5.8125 39.890625 \r\nQ 5.8125 47.609375 11.28125 51.796875 \r\nQ 16.75 56 26.8125 56 \r\nQ 31.78125 56 36.171875 55.265625 \r\nQ 40.578125 54.546875 44.28125 53.078125 \r\nz\r\n\" id=\"DejaVuSans-115\"/>\r\n       <path d=\"M 45.40625 46.390625 \r\nL 45.40625 75.984375 \r\nL 54.390625 75.984375 \r\nL 54.390625 0 \r\nL 45.40625 0 \r\nL 45.40625 8.203125 \r\nQ 42.578125 3.328125 38.25 0.953125 \r\nQ 33.9375 -1.421875 27.875 -1.421875 \r\nQ 17.96875 -1.421875 11.734375 6.484375 \r\nQ 5.515625 14.40625 5.515625 27.296875 \r\nQ 5.515625 40.1875 11.734375 48.09375 \r\nQ 17.96875 56 27.875 56 \r\nQ 33.9375 56 38.25 53.625 \r\nQ 42.578125 51.265625 45.40625 46.390625 \r\nz\r\nM 14.796875 27.296875 \r\nQ 14.796875 17.390625 18.875 11.75 \r\nQ 22.953125 6.109375 30.078125 6.109375 \r\nQ 37.203125 6.109375 41.296875 11.75 \r\nQ 45.40625 17.390625 45.40625 27.296875 \r\nQ 45.40625 37.203125 41.296875 42.84375 \r\nQ 37.203125 48.484375 30.078125 48.484375 \r\nQ 22.953125 48.484375 18.875 42.84375 \r\nQ 14.796875 37.203125 14.796875 27.296875 \r\nz\r\n\" id=\"DejaVuSans-100\"/>\r\n       <path d=\"M 34.28125 27.484375 \r\nQ 23.390625 27.484375 19.1875 25 \r\nQ 14.984375 22.515625 14.984375 16.5 \r\nQ 14.984375 11.71875 18.140625 8.90625 \r\nQ 21.296875 6.109375 26.703125 6.109375 \r\nQ 34.1875 6.109375 38.703125 11.40625 \r\nQ 43.21875 16.703125 43.21875 25.484375 \r\nL 43.21875 27.484375 \r\nz\r\nM 52.203125 31.203125 \r\nL 52.203125 0 \r\nL 43.21875 0 \r\nL 43.21875 8.296875 \r\nQ 40.140625 3.328125 35.546875 0.953125 \r\nQ 30.953125 -1.421875 24.3125 -1.421875 \r\nQ 15.921875 -1.421875 10.953125 3.296875 \r\nQ 6 8.015625 6 15.921875 \r\nQ 6 25.140625 12.171875 29.828125 \r\nQ 18.359375 34.515625 30.609375 34.515625 \r\nL 43.21875 34.515625 \r\nL 43.21875 35.40625 \r\nQ 43.21875 41.609375 39.140625 45 \r\nQ 35.0625 48.390625 27.6875 48.390625 \r\nQ 23 48.390625 18.546875 47.265625 \r\nQ 14.109375 46.140625 10.015625 43.890625 \r\nL 10.015625 52.203125 \r\nQ 14.9375 54.109375 19.578125 55.046875 \r\nQ 24.21875 56 28.609375 56 \r\nQ 40.484375 56 46.34375 49.84375 \r\nQ 52.203125 43.703125 52.203125 31.203125 \r\nz\r\n\" id=\"DejaVuSans-97\"/>\r\n      </defs>\r\n      <use xlink:href=\"#DejaVuSans-73\"/>\r\n      <use x=\"29.492188\" xlink:href=\"#DejaVuSans-110\"/>\r\n      <use x=\"92.871094\" xlink:href=\"#DejaVuSans-116\"/>\r\n      <use x=\"132.080078\" xlink:href=\"#DejaVuSans-101\"/>\r\n      <use x=\"193.603516\" xlink:href=\"#DejaVuSans-110\"/>\r\n      <use x=\"256.982422\" xlink:href=\"#DejaVuSans-115\"/>\r\n      <use x=\"309.082031\" xlink:href=\"#DejaVuSans-105\"/>\r\n      <use x=\"336.865234\" xlink:href=\"#DejaVuSans-100\"/>\r\n      <use x=\"400.341797\" xlink:href=\"#DejaVuSans-97\"/>\r\n      <use x=\"461.621094\" xlink:href=\"#DejaVuSans-100\"/>\r\n      <use x=\"525.097656\" xlink:href=\"#DejaVuSans-32\"/>\r\n      <use x=\"556.884766\" xlink:href=\"#DejaVuSans-40\"/>\r\n      <use x=\"595.898438\" xlink:href=\"#DejaVuSans-73\"/>\r\n      <use x=\"625.390625\" xlink:href=\"#DejaVuSans-41\"/>\r\n     </g>\r\n    </g>\r\n   </g>\r\n   <g id=\"line2d_12\">\r\n    <path clip-path=\"url(#p3787797917)\" d=\"M 84.772713 115.921701 \r\nL 85.389092 184.261038 \r\nL 85.887311 212.977119 \r\nL 86.092195 214.560673 \r\nL 86.200498 212.835101 \r\nL 86.376218 206.356872 \r\nL 86.656994 187.351061 \r\nL 87.251454 122.970089 \r\nL 87.845914 54.937363 \r\nL 88.304831 22.657061 \r\nL 88.559207 17.107968 \r\nL 88.646639 17.447999 \r\nL 88.766269 19.779517 \r\nL 88.960037 27.985546 \r\nL 89.257267 50.118181 \r\nL 90.865297 210.12155 \r\nL 91.038693 214.334771 \r\nL 91.145034 214.685341 \r\nL 91.240856 213.535296 \r\nL 91.39656 208.752469 \r\nL 91.64681 193.978005 \r\nL 92.24127 133.039584 \r\nL 93.13296 36.667331 \r\nL 93.524035 18.283579 \r\nL 93.616944 17.166025 \r\nL 93.71379 17.391755 \r\nL 93.829929 19.528058 \r\nL 94.018147 27.182991 \r\nL 94.315377 48.793773 \r\nL 95.932546 209.916326 \r\nL 96.106488 214.276984 \r\nL 96.198487 214.748972 \r\nL 96.282203 214.064343 \r\nL 96.41838 210.70626 \r\nL 96.638261 199.676351 \r\nL 97.232721 142.7361 \r\nL 98.124412 43.003884 \r\nL 98.578555 18.654701 \r\nL 98.778273 17.317211 \r\nL 98.889245 19.178476 \r\nL 99.069231 26.048184 \r\nL 99.356422 45.999312 \r\nL 99.950882 111.025222 \r\nL 100.545342 178.587988 \r\nL 101.085556 212.486089 \r\nL 101.252019 214.756364 \r\nL 101.332544 214.351197 \r\nL 101.454732 211.871916 \r\nL 101.652558 203.251974 \r\nL 101.949788 180.741855 \r\nL 103.552776 21.514376 \r\nL 103.725619 17.452646 \r\nL 103.833159 17.191109 \r\nL 103.932941 18.513246 \r\nL 104.095009 23.809561 \r\nL 104.355035 39.889932 \r\nL 104.949495 101.996338 \r\nL 105.841185 197.064975 \r\nL 106.214854 213.724967 \r\nL 106.311276 214.728192 \r\nL 106.400263 214.405017 \r\nL 106.519317 212.106247 \r\nL 106.71217 203.992324 \r\nL 107.0094 181.945333 \r\nL 108.61894 21.755388 \r\nL 108.792424 17.517916 \r\nL 108.887616 17.111937 \r\nL 108.975925 17.962329 \r\nL 109.119521 21.834769 \r\nL 109.351003 34.238141 \r\nL 109.945463 92.769891 \r\nL 110.837154 191.341112 \r\nL 111.267382 213.33743 \r\nL 111.357867 214.595089 \r\nL 111.463262 214.49874 \r\nL 111.576221 212.533625 \r\nL 111.759377 205.366167 \r\nL 112.051315 184.703682 \r\nL 112.943005 83.446328 \r\nL 113.537465 29.168416 \r\nL 113.854751 17.645357 \r\nL 113.931458 17.090015 \r\nL 114.013478 17.482426 \r\nL 114.135113 19.929399 \r\nL 114.332061 28.45907 \r\nL 114.629291 50.88787 \r\nL 116.232907 210.267686 \r\nL 116.405914 214.374471 \r\nL 116.513096 214.66278 \r\nL 116.611697 213.392984 \r\nL 116.771869 208.252195 \r\nL 117.028988 192.565054 \r\nL 117.623448 130.799624 \r\nL 118.515139 35.332025 \r\nL 118.893841 18.169063 \r\nL 118.98959 17.127046 \r\nL 119.080779 17.425005 \r\nL 119.199017 19.677782 \r\nL 119.390573 27.662122 \r\nL 119.687803 49.58757 \r\nL 121.299479 210.040327 \r\nL 121.47309 214.312176 \r\nL 121.567389 214.737179 \r\nL 121.654414 213.934486 \r\nL 121.795935 210.209173 \r\nL 122.024182 198.196061 \r\nL 122.618642 140.100385 \r\nL 123.510332 41.190183 \r\nL 123.947253 18.546558 \r\nL 124.037321 17.265456 \r\nL 124.144199 17.33688 \r\nL 124.256606 19.272889 \r\nL 124.438881 26.357055 \r\nL 124.729502 46.821205 \r\nL 125.621192 147.976925 \r\nL 126.215653 202.461123 \r\nL 126.535342 214.181936 \r\nL 126.612187 214.75174 \r\nL 126.694891 214.365414 \r\nL 126.816273 211.933169 \r\nL 127.012819 203.444692 \r\nL 127.310049 181.053183 \r\nL 128.913954 21.603925 \r\nL 129.087035 17.476497 \r\nL 129.194054 17.176005 \r\nL 129.292115 18.422149 \r\nL 129.451419 23.492475 \r\nL 129.707206 39.000806 \r\nL 130.301666 100.608188 \r\nL 131.193356 196.255401 \r\nL 131.57436 213.650705 \r\nL 131.669801 214.710303 \r\nL 131.761999 214.424455 \r\nL 131.879862 212.192654 \r\nL 132.070824 204.267507 \r\nL 132.368054 182.397992 \r\nL 133.98071 21.825061 \r\nL 134.15438 17.537406 \r\nL 134.248268 17.103813 \r\nL 134.334703 17.88495 \r\nL 134.475272 21.543549 \r\nL 134.70203 33.379021 \r\nL 135.296491 91.272084 \r\nL 136.188181 190.334255 \r\nL 136.628173 213.277948 \r\nL 136.71805 214.569765 \r\nL 136.825611 214.51007 \r\nL 136.937764 212.58741 \r\nL 137.119633 205.541488 \r\nL 137.409646 185.168576 \r\nL 138.301337 84.060402 \r\nL 138.895797 29.481469 \r\nL 139.216584 17.66912 \r\nL 139.302307 17.083637 \r\nL 139.379796 17.512439 \r\nL 139.503108 20.057931 \r\nL 139.702714 28.862477 \r\nL 139.999944 51.537194 \r\nL 141.60166 210.452466 \r\nL 141.774175 214.422823 \r\nL 141.892139 214.561109 \r\nL 142.000407 212.837293 \r\nL 142.176071 206.36415 \r\nL 142.456762 187.370696 \r\nL 143.051222 122.998429 \r\nL 143.645682 54.959725 \r\nL 144.104742 22.660643 \r\nL 144.359061 17.108367 \r\nL 144.446585 17.447432 \r\nL 144.566181 19.777024 \r\nL 144.759896 27.977639 \r\nL 145.057126 50.105257 \r\nL 146.665244 210.119587 \r\nL 146.838645 214.334229 \r\nL 146.944975 214.685621 \r\nL 147.04076 213.537138 \r\nL 147.196405 208.759002 \r\nL 147.446563 193.996568 \r\nL 148.041023 133.069392 \r\nL 148.932713 36.685419 \r\nL 149.32398 18.284614 \r\nL 149.416878 17.166357 \r\nL 149.513765 17.391516 \r\nL 149.629888 19.526972 \r\nL 149.818082 27.179502 \r\nL 150.115312 48.787958 \r\nL 151.732522 209.915406 \r\nL 151.906467 214.27672 \r\nL 151.998448 214.749043 \r\nL 152.08214 214.065258 \r\nL 152.218277 210.709818 \r\nL 152.438097 199.687031 \r\nL 153.032557 142.755462 \r\nL 153.924247 43.017466 \r\nL 154.378517 18.655518 \r\nL 154.578256 17.317068 \r\nL 154.689218 19.177783 \r\nL 154.869186 26.045912 \r\nL 155.156352 45.993249 \r\nL 155.750812 111.016654 \r\nL 156.345272 178.581353 \r\nL 156.885537 212.485573 \r\nL 157.051975 214.756317 \r\nL 157.132528 214.351378 \r\nL 157.254706 211.872691 \r\nL 157.452515 203.254408 \r\nL 157.749745 180.745779 \r\nL 159.352745 21.515498 \r\nL 159.525591 17.452941 \r\nL 159.633125 17.190912 \r\nL 159.732885 18.51208 \r\nL 159.894918 23.805523 \r\nL 160.15489 39.878649 \r\nL 160.749351 101.978853 \r\nL 161.641041 197.05489 \r\nL 162.014802 213.72405 \r\nL 162.111212 214.727992 \r\nL 162.20024 214.405264 \r\nL 162.319278 212.10734 \r\nL 162.512107 203.995797 \r\nL 162.809337 181.951028 \r\nL 164.418916 21.756258 \r\nL 164.592403 17.518158 \r\nL 164.687578 17.111827 \r\nL 164.775864 17.961336 \r\nL 164.919422 21.831061 \r\nL 165.150845 34.227247 \r\nL 165.745305 92.751079 \r\nL 166.636995 191.328604 \r\nL 167.067346 213.336694 \r\nL 167.157824 214.594783 \r\nL 167.263246 214.498883 \r\nL 167.376195 212.534302 \r\nL 167.559335 205.368368 \r\nL 167.851249 184.70951 \r\nL 168.742939 83.453993 \r\nL 169.337399 29.172305 \r\nL 169.654729 17.645649 \r\nL 169.73141 17.090083 \r\nL 169.81346 17.482232 \r\nL 169.935084 19.928564 \r\nL 170.132015 28.456441 \r\nL 170.429245 50.883619 \r\nL 172.032874 210.266461 \r\nL 172.205883 214.374144 \r\nL 172.313059 214.662983 \r\nL 172.411636 213.394221 \r\nL 172.57177 208.256507 \r\nL 172.828831 192.577163 \r\nL 173.423292 130.818585 \r\nL 174.314982 35.34313 \r\nL 174.693785 18.170086 \r\nL 174.789521 17.127301 \r\nL 174.880753 17.42474 \r\nL 174.998974 19.676604 \r\nL 175.190505 27.658366 \r\nL 175.487735 49.581384 \r\nL 177.099453 210.039372 \r\nL 177.273067 214.311908 \r\nL 177.367348 214.737287 \r\nL 177.454347 213.935535 \r\nL 177.595828 210.213133 \r\nL 177.824009 198.207765 \r\nL 178.41847 140.120866 \r\nL 179.31016 41.204009 \r\nL 179.747214 18.547376 \r\nL 179.837274 17.265807 \r\nL 179.944181 17.336726 \r\nL 180.056577 19.272154 \r\nL 180.238835 26.354658 \r\nL 180.529429 46.814843 \r\nL 181.42112 147.968507 \r\nL 182.01558 202.456824 \r\nL 182.335318 214.181611 \r\nL 182.41219 214.751744 \r\nL 182.494892 214.365403 \r\nL 182.616275 211.933119 \r\nL 182.812822 203.444534 \r\nL 183.110052 181.052928 \r\nL 184.713956 21.603851 \r\nL 184.887037 17.476477 \r\nL 184.994056 17.176017 \r\nL 185.092119 18.422223 \r\nL 185.251425 23.492732 \r\nL 185.507215 39.00153 \r\nL 186.101675 100.609327 \r\nL 186.993366 196.256073 \r\nL 187.374364 213.650767 \r\nL 187.469805 214.710319 \r\nL 187.562 214.424439 \r\nL 187.679865 212.192583 \r\nL 187.870828 204.267281 \r\nL 188.168058 182.39762 \r\nL 189.780711 21.825004 \r\nL 189.954381 17.53739 \r\nL 190.04827 17.103819 \r\nL 190.134707 17.885013 \r\nL 190.275279 21.543786 \r\nL 190.502041 33.379721 \r\nL 191.096501 91.273317 \r\nL 191.988191 190.335093 \r\nL 192.428176 213.277998 \r\nL 192.518053 214.569787 \r\nL 192.625612 214.51006 \r\nL 192.737765 212.587366 \r\nL 192.919636 205.541343 \r\nL 193.209651 185.168192 \r\nL 194.101341 84.059893 \r\nL 194.695801 29.481208 \r\nL 195.016585 17.6691 \r\nL 195.10231 17.083636 \r\nL 195.179797 17.51245 \r\nL 195.30311 20.05798 \r\nL 195.502717 28.862631 \r\nL 195.799947 51.53744 \r\nL 197.401662 210.452535 \r\nL 197.574176 214.42284 \r\nL 197.69214 214.561104 \r\nL 197.800408 212.837268 \r\nL 197.976073 206.364064 \r\nL 198.256764 187.370467 \r\nL 198.851225 122.998097 \r\nL 199.445685 54.959464 \r\nL 199.904743 22.660601 \r\nL 200.159063 17.108362 \r\nL 200.246586 17.447438 \r\nL 200.366182 19.777053 \r\nL 200.559897 27.977731 \r\nL 200.857127 50.105408 \r\nL 202.465245 210.11961 \r\nL 202.638645 214.334235 \r\nL 202.744976 214.685618 \r\nL 202.840762 213.537117 \r\nL 202.996407 208.758926 \r\nL 203.246565 193.996352 \r\nL 203.841026 133.069044 \r\nL 204.732716 36.685208 \r\nL 205.123981 18.284602 \r\nL 205.216879 17.166353 \r\nL 205.313766 17.391519 \r\nL 205.429889 19.526985 \r\nL 205.618083 27.179543 \r\nL 205.915313 48.788026 \r\nL 207.532522 209.915417 \r\nL 207.706467 214.276723 \r\nL 207.798448 214.749042 \r\nL 207.882141 214.065248 \r\nL 208.018278 210.709776 \r\nL 208.238099 199.686907 \r\nL 208.832559 142.755236 \r\nL 209.724249 43.017308 \r\nL 210.178518 18.655508 \r\nL 210.378256 17.317069 \r\nL 210.489218 19.177791 \r\nL 210.669187 26.045939 \r\nL 210.956353 45.99332 \r\nL 211.550813 111.016754 \r\nL 212.145273 178.581431 \r\nL 212.685537 212.485579 \r\nL 212.851975 214.756317 \r\nL 212.932528 214.351376 \r\nL 213.054706 211.872682 \r\nL 213.252516 203.254379 \r\nL 213.549746 180.745733 \r\nL 215.152745 21.515485 \r\nL 215.325591 17.452938 \r\nL 215.433125 17.190914 \r\nL 215.532885 18.512093 \r\nL 215.694919 23.80557 \r\nL 215.954892 39.878781 \r\nL 216.549352 101.979058 \r\nL 217.441043 197.055007 \r\nL 217.814803 213.724061 \r\nL 217.911212 214.727994 \r\nL 218.00024 214.405261 \r\nL 218.119279 212.107327 \r\nL 218.312108 203.995757 \r\nL 218.609338 181.950961 \r\nL 220.218917 21.756248 \r\nL 220.392403 17.518155 \r\nL 220.487579 17.111828 \r\nL 220.575865 17.961348 \r\nL 220.719423 21.831104 \r\nL 220.950847 34.227375 \r\nL 221.545307 92.751299 \r\nL 222.436997 191.32875 \r\nL 222.867347 213.336703 \r\nL 222.957824 214.594787 \r\nL 223.063246 214.498882 \r\nL 223.176195 212.534294 \r\nL 223.359335 205.368343 \r\nL 223.651249 184.709442 \r\nL 224.54294 83.453903 \r\nL 225.1374 29.17226 \r\nL 225.454729 17.645645 \r\nL 225.531411 17.090082 \r\nL 225.613461 17.482235 \r\nL 225.735084 19.928574 \r\nL 225.932015 28.456471 \r\nL 226.229245 50.883669 \r\nL 227.832874 210.266475 \r\nL 228.005884 214.374147 \r\nL 228.113059 214.662981 \r\nL 228.211637 213.394206 \r\nL 228.371771 208.256457 \r\nL 228.628833 192.577021 \r\nL 229.223293 130.818363 \r\nL 230.114984 35.343 \r\nL 230.493786 18.170074 \r\nL 230.589521 17.127298 \r\nL 230.680753 17.424743 \r\nL 230.798975 19.676618 \r\nL 230.990506 27.65841 \r\nL 231.287736 49.581457 \r\nL 232.899454 210.039383 \r\nL 233.073068 214.311911 \r\nL 233.167348 214.737285 \r\nL 233.254348 213.935523 \r\nL 233.395829 210.213087 \r\nL 233.624011 198.207628 \r\nL 234.218472 140.120627 \r\nL 235.110162 41.203847 \r\nL 235.547214 18.547366 \r\nL 235.637274 17.265803 \r\nL 235.744181 17.336727 \r\nL 235.856578 19.272163 \r\nL 236.038835 26.354686 \r\nL 236.32943 46.814917 \r\nL 237.221121 147.968606 \r\nL 237.815581 202.456874 \r\nL 238.135318 214.181614 \r\nL 238.21219 214.751744 \r\nL 238.294892 214.365403 \r\nL 238.416275 211.93312 \r\nL 238.612822 203.444536 \r\nL 238.910052 181.052931 \r\nL 240.513956 21.603852 \r\nL 240.687037 17.476478 \r\nL 240.794056 17.176017 \r\nL 240.892119 18.422222 \r\nL 241.051425 23.492729 \r\nL 241.307215 39.001521 \r\nL 241.901675 100.609314 \r\nL 242.793366 196.256065 \r\nL 243.174364 213.650766 \r\nL 243.269805 214.710319 \r\nL 243.362 214.424439 \r\nL 243.479865 212.192584 \r\nL 243.670828 204.267284 \r\nL 243.968058 182.397625 \r\nL 245.580711 21.825004 \r\nL 245.754381 17.53739 \r\nL 245.84827 17.103819 \r\nL 245.934707 17.885012 \r\nL 246.075278 21.543783 \r\nL 246.302041 33.379713 \r\nL 246.896501 91.273303 \r\nL 247.788191 190.335083 \r\nL 248.228176 213.277997 \r\nL 248.318053 214.569787 \r\nL 248.425612 214.510061 \r\nL 248.537765 212.587367 \r\nL 248.719636 205.541345 \r\nL 249.009651 185.168197 \r\nL 249.901341 84.059899 \r\nL 250.495801 29.481211 \r\nL 250.816585 17.6691 \r\nL 250.90231 17.083636 \r\nL 250.979797 17.51245 \r\nL 251.10311 20.057979 \r\nL 251.302717 28.862629 \r\nL 251.599947 51.537437 \r\nL 253.201662 210.452534 \r\nL 253.374176 214.42284 \r\nL 253.49214 214.561104 \r\nL 253.600408 212.837268 \r\nL 253.776073 206.364065 \r\nL 254.056764 187.370469 \r\nL 254.651225 122.998101 \r\nL 255.245685 54.959467 \r\nL 255.704743 22.660601 \r\nL 255.959063 17.108363 \r\nL 256.046586 17.447438 \r\nL 256.166182 19.777052 \r\nL 256.359897 27.97773 \r\nL 256.657127 50.105406 \r\nL 258.265245 210.11961 \r\nL 258.438645 214.334235 \r\nL 258.544976 214.685618 \r\nL 258.640761 213.537117 \r\nL 258.796407 208.758927 \r\nL 259.046565 193.996354 \r\nL 259.641026 133.069048 \r\nL 260.532716 36.68521 \r\nL 260.923981 18.284603 \r\nL 261.016879 17.166353 \r\nL 261.113766 17.391519 \r\nL 261.229889 19.526985 \r\nL 261.418083 27.179543 \r\nL 261.715313 48.788025 \r\nL 263.332522 209.915417 \r\nL 263.506467 214.276723 \r\nL 263.598448 214.749042 \r\nL 263.682141 214.065248 \r\nL 263.818278 210.709777 \r\nL 264.038099 199.686908 \r\nL 264.632559 142.755239 \r\nL 265.524249 43.01731 \r\nL 265.978518 18.655508 \r\nL 266.178256 17.317069 \r\nL 266.289218 19.177791 \r\nL 266.469187 26.045939 \r\nL 266.756353 45.993319 \r\nL 267.350813 111.016753 \r\nL 267.945273 178.58143 \r\nL 268.485537 212.485579 \r\nL 268.651975 214.756317 \r\nL 268.732528 214.351376 \r\nL 268.854706 211.872682 \r\nL 269.052516 203.25438 \r\nL 269.349746 180.745734 \r\nL 270.952745 21.515485 \r\nL 271.125591 17.452938 \r\nL 271.233125 17.190914 \r\nL 271.332885 18.512093 \r\nL 271.494919 23.805569 \r\nL 271.754892 39.878779 \r\nL 272.349352 101.979055 \r\nL 273.241043 197.055006 \r\nL 273.614803 213.724061 \r\nL 273.711212 214.727994 \r\nL 273.80024 214.405261 \r\nL 273.919279 212.107327 \r\nL 274.112108 203.995757 \r\nL 274.409338 181.950962 \r\nL 276.018917 21.756248 \r\nL 276.192403 17.518155 \r\nL 276.287579 17.111828 \r\nL 276.375865 17.961348 \r\nL 276.519423 21.831104 \r\nL 276.750847 34.227373 \r\nL 277.345307 92.751296 \r\nL 278.236997 191.328748 \r\nL 278.667347 213.336702 \r\nL 278.757824 214.594787 \r\nL 278.863246 214.498882 \r\nL 278.976195 212.534294 \r\nL 279.159335 205.368343 \r\nL 279.451249 184.709442 \r\nL 280.34294 83.453904 \r\nL 280.9374 29.17226 \r\nL 281.254729 17.645645 \r\nL 281.331411 17.090082 \r\nL 281.413461 17.482235 \r\nL 281.535084 19.928573 \r\nL 281.732015 28.456471 \r\nL 282.029245 50.883668 \r\nL 283.632874 210.266475 \r\nL 283.805884 214.374147 \r\nL 283.913059 214.662981 \r\nL 284.011637 213.394206 \r\nL 284.171771 208.256458 \r\nL 284.428833 192.577023 \r\nL 285.023293 130.818366 \r\nL 285.914984 35.343002 \r\nL 286.293786 18.170074 \r\nL 286.389521 17.127298 \r\nL 286.480753 17.424743 \r\nL 286.598975 19.676618 \r\nL 286.790506 27.658409 \r\nL 287.087736 49.581456 \r\nL 288.699454 210.039383 \r\nL 288.873068 214.311911 \r\nL 288.967348 214.737285 \r\nL 289.054348 213.935523 \r\nL 289.195829 210.213087 \r\nL 289.424011 198.207629 \r\nL 290.018472 140.120629 \r\nL 290.910162 41.203849 \r\nL 291.347214 18.547366 \r\nL 291.437274 17.265803 \r\nL 291.544181 17.336727 \r\nL 291.656578 19.272163 \r\nL 291.838835 26.354685 \r\nL 292.12943 46.814916 \r\nL 293.021121 147.968605 \r\nL 293.615581 202.456874 \r\nL 293.935318 214.181614 \r\nL 294.01219 214.751744 \r\nL 294.094892 214.365403 \r\nL 294.216275 211.93312 \r\nL 294.412822 203.444536 \r\nL 294.710052 181.052931 \r\nL 296.313956 21.603852 \r\nL 296.487037 17.476478 \r\nL 296.594056 17.176017 \r\nL 296.692119 18.422222 \r\nL 296.851425 23.49273 \r\nL 297.107215 39.001521 \r\nL 297.701675 100.609314 \r\nL 298.593366 196.256065 \r\nL 298.974364 213.650766 \r\nL 299.069805 214.710319 \r\nL 299.162 214.424439 \r\nL 299.279865 212.192584 \r\nL 299.470828 204.267284 \r\nL 299.768058 182.397625 \r\nL 301.380711 21.825004 \r\nL 301.554381 17.53739 \r\nL 301.64827 17.103819 \r\nL 301.734707 17.885012 \r\nL 301.875278 21.543783 \r\nL 302.102041 33.379713 \r\nL 302.696501 91.273303 \r\nL 303.588191 190.335083 \r\nL 304.028176 213.277997 \r\nL 304.118053 214.569787 \r\nL 304.225612 214.510061 \r\nL 304.337765 212.587367 \r\nL 304.519636 205.541345 \r\nL 304.809651 185.168197 \r\nL 305.701341 84.059899 \r\nL 306.295801 29.481211 \r\nL 306.616585 17.6691 \r\nL 306.70231 17.083636 \r\nL 306.779797 17.51245 \r\nL 306.90311 20.057979 \r\nL 307.102717 28.862629 \r\nL 307.399947 51.537437 \r\nL 309.001662 210.452534 \r\nL 309.174176 214.42284 \r\nL 309.29214 214.561104 \r\nL 309.400408 212.837268 \r\nL 309.576073 206.364065 \r\nL 309.856764 187.370469 \r\nL 310.451225 122.998101 \r\nL 311.045685 54.959467 \r\nL 311.504743 22.660601 \r\nL 311.759063 17.108363 \r\nL 311.846586 17.447438 \r\nL 311.966182 19.777052 \r\nL 312.159897 27.97773 \r\nL 312.457127 50.105406 \r\nL 314.065245 210.11961 \r\nL 314.238645 214.334235 \r\nL 314.344976 214.685618 \r\nL 314.440761 213.537117 \r\nL 314.596407 208.758927 \r\nL 314.846565 193.996354 \r\nL 315.441026 133.069048 \r\nL 316.332716 36.68521 \r\nL 316.723981 18.284602 \r\nL 316.816879 17.166353 \r\nL 316.913766 17.391519 \r\nL 317.029889 19.526985 \r\nL 317.218083 27.179543 \r\nL 317.515313 48.788025 \r\nL 319.132522 209.915417 \r\nL 319.306467 214.276723 \r\nL 319.398448 214.749042 \r\nL 319.482141 214.065248 \r\nL 319.618278 210.709777 \r\nL 319.838099 199.686908 \r\nL 320.432559 142.755239 \r\nL 321.324249 43.017309 \r\nL 321.778518 18.655508 \r\nL 321.978256 17.317069 \r\nL 322.089218 19.177791 \r\nL 322.269187 26.045939 \r\nL 322.556353 45.993319 \r\nL 323.150813 111.016753 \r\nL 323.745273 178.58143 \r\nL 324.285537 212.485579 \r\nL 324.451975 214.756317 \r\nL 324.532528 214.351376 \r\nL 324.654706 211.872682 \r\nL 324.852516 203.25438 \r\nL 325.149746 180.745734 \r\nL 326.752745 21.515485 \r\nL 326.925591 17.452938 \r\nL 327.033125 17.190914 \r\nL 327.132885 18.512093 \r\nL 327.294919 23.805569 \r\nL 327.554892 39.878779 \r\nL 328.149352 101.979055 \r\nL 329.041043 197.055006 \r\nL 329.414803 213.724061 \r\nL 329.511212 214.727994 \r\nL 329.60024 214.405261 \r\nL 329.719279 212.107327 \r\nL 329.912108 203.995757 \r\nL 330.209338 181.950962 \r\nL 331.818917 21.756248 \r\nL 331.992403 17.518155 \r\nL 332.087579 17.111828 \r\nL 332.175865 17.961348 \r\nL 332.319423 21.831104 \r\nL 332.550847 34.227373 \r\nL 333.145307 92.751296 \r\nL 334.036997 191.328748 \r\nL 334.467347 213.336702 \r\nL 334.557824 214.594787 \r\nL 334.663246 214.498882 \r\nL 334.776195 212.534294 \r\nL 334.959335 205.368343 \r\nL 335.251249 184.709442 \r\nL 336.14294 83.453904 \r\nL 336.7374 29.17226 \r\nL 337.054729 17.645645 \r\nL 337.131411 17.090082 \r\nL 337.213461 17.482235 \r\nL 337.335084 19.928573 \r\nL 337.532015 28.456471 \r\nL 337.829245 50.883668 \r\nL 339.432874 210.266475 \r\nL 339.605884 214.374147 \r\nL 339.713059 214.662981 \r\nL 339.811637 213.394206 \r\nL 339.971771 208.256458 \r\nL 340.228833 192.577023 \r\nL 340.823293 130.818365 \r\nL 341.714984 35.343002 \r\nL 342.093786 18.170074 \r\nL 342.189521 17.127298 \r\nL 342.280753 17.424743 \r\nL 342.398975 19.676618 \r\nL 342.590506 27.658409 \r\nL 342.887736 49.581456 \r\nL 344.499454 210.039383 \r\nL 344.673068 214.311911 \r\nL 344.767348 214.737285 \r\nL 344.854348 213.935523 \r\nL 344.995829 210.213087 \r\nL 345.224011 198.207629 \r\nL 345.818472 140.120629 \r\nL 346.710162 41.203849 \r\nL 347.147214 18.547366 \r\nL 347.237274 17.265803 \r\nL 347.344181 17.336727 \r\nL 347.456578 19.272163 \r\nL 347.638835 26.354685 \r\nL 347.92943 46.814916 \r\nL 348.821121 147.968605 \r\nL 349.415581 202.456874 \r\nL 349.735318 214.181614 \r\nL 349.81219 214.751744 \r\nL 349.894892 214.365403 \r\nL 350.016275 211.93312 \r\nL 350.212822 203.444536 \r\nL 350.510052 181.052931 \r\nL 352.113956 21.603852 \r\nL 352.287037 17.476478 \r\nL 352.394056 17.176017 \r\nL 352.492119 18.422222 \r\nL 352.651425 23.49273 \r\nL 352.907215 39.001521 \r\nL 353.501675 100.609314 \r\nL 354.393366 196.256065 \r\nL 354.774364 213.650766 \r\nL 354.869805 214.710319 \r\nL 354.962 214.424439 \r\nL 355.079865 212.192584 \r\nL 355.270828 204.267284 \r\nL 355.568058 182.397625 \r\nL 357.180711 21.825004 \r\nL 357.354381 17.53739 \r\nL 357.44827 17.103819 \r\nL 357.534707 17.885012 \r\nL 357.675278 21.543783 \r\nL 357.902041 33.379713 \r\nL 358.496501 91.273303 \r\nL 359.388191 190.335083 \r\nL 359.828176 213.277997 \r\nL 359.918053 214.569787 \r\nL 360.025612 214.510061 \r\nL 360.137765 212.587367 \r\nL 360.319636 205.541345 \r\nL 360.609651 185.168197 \r\nL 361.501341 84.059899 \r\nL 362.095801 29.481211 \r\nL 362.416585 17.6691 \r\nL 362.50231 17.083636 \r\nL 362.579797 17.51245 \r\nL 362.70311 20.057979 \r\nL 362.902717 28.862629 \r\nL 363.199947 51.537437 \r\nL 364.801662 210.452534 \r\nL 364.974176 214.42284 \r\nL 365.09214 214.561104 \r\nL 365.200408 212.837268 \r\nL 365.376073 206.364065 \r\nL 365.656764 187.370469 \r\nL 366.251225 122.998101 \r\nL 366.845685 54.959467 \r\nL 367.304743 22.660601 \r\nL 367.559063 17.108363 \r\nL 367.646586 17.447438 \r\nL 367.766182 19.777052 \r\nL 367.959897 27.97773 \r\nL 368.257127 50.105406 \r\nL 369.865245 210.11961 \r\nL 370.038645 214.334235 \r\nL 370.144976 214.685618 \r\nL 370.240761 213.537117 \r\nL 370.396407 208.758927 \r\nL 370.646565 193.996354 \r\nL 371.241026 133.069048 \r\nL 372.132716 36.68521 \r\nL 372.523981 18.284602 \r\nL 372.616879 17.166353 \r\nL 372.713766 17.391519 \r\nL 372.829889 19.526985 \r\nL 373.018083 27.179543 \r\nL 373.315313 48.788025 \r\nL 374.932522 209.915417 \r\nL 375.106467 214.276723 \r\nL 375.198448 214.749042 \r\nL 375.282141 214.065248 \r\nL 375.418278 210.709777 \r\nL 375.638099 199.686908 \r\nL 376.232559 142.755239 \r\nL 377.124249 43.017309 \r\nL 377.578518 18.655508 \r\nL 377.778256 17.317069 \r\nL 377.889218 19.177791 \r\nL 378.069187 26.045939 \r\nL 378.356353 45.993319 \r\nL 378.950813 111.016753 \r\nL 379.545273 178.58143 \r\nL 380.085537 212.485579 \r\nL 380.251975 214.756317 \r\nL 380.332528 214.351376 \r\nL 380.454706 211.872682 \r\nL 380.652516 203.25438 \r\nL 380.949746 180.745734 \r\nL 382.552745 21.515485 \r\nL 382.725591 17.452938 \r\nL 382.833125 17.190914 \r\nL 382.932885 18.512093 \r\nL 383.094919 23.805569 \r\nL 383.354892 39.878779 \r\nL 383.949352 101.979055 \r\nL 384.841043 197.055006 \r\nL 385.214803 213.724061 \r\nL 385.311212 214.727994 \r\nL 385.40024 214.405261 \r\nL 385.519279 212.107327 \r\nL 385.712108 203.995757 \r\nL 386.009338 181.950962 \r\nL 387.618917 21.756248 \r\nL 387.792403 17.518155 \r\nL 387.887579 17.111828 \r\nL 387.975865 17.961348 \r\nL 388.119423 21.831104 \r\nL 388.350847 34.227373 \r\nL 388.945307 92.751296 \r\nL 389.136349 115.921701 \r\nL 389.136349 115.921701 \r\n\" style=\"fill:none;stroke:#1f77b4;stroke-linecap:square;stroke-width:1.5;\"/>\r\n   </g>\r\n   <g id=\"patch_3\">\r\n    <path d=\"M 69.554531 224.64 \r\nL 69.554531 7.2 \r\n\" style=\"fill:none;stroke:#000000;stroke-linecap:square;stroke-linejoin:miter;stroke-width:0.8;\"/>\r\n   </g>\r\n   <g id=\"patch_4\">\r\n    <path d=\"M 404.354531 224.64 \r\nL 404.354531 7.2 \r\n\" style=\"fill:none;stroke:#000000;stroke-linecap:square;stroke-linejoin:miter;stroke-width:0.8;\"/>\r\n   </g>\r\n   <g id=\"patch_5\">\r\n    <path d=\"M 69.554531 224.64 \r\nL 404.354531 224.64 \r\n\" style=\"fill:none;stroke:#000000;stroke-linecap:square;stroke-linejoin:miter;stroke-width:0.8;\"/>\r\n   </g>\r\n   <g id=\"patch_6\">\r\n    <path d=\"M 69.554531 7.2 \r\nL 404.354531 7.2 \r\n\" style=\"fill:none;stroke:#000000;stroke-linecap:square;stroke-linejoin:miter;stroke-width:0.8;\"/>\r\n   </g>\r\n  </g>\r\n </g>\r\n <defs>\r\n  <clipPath id=\"p3787797917\">\r\n   <rect height=\"217.44\" width=\"334.8\" x=\"69.554531\" y=\"7.2\"/>\r\n  </clipPath>\r\n </defs>\r\n</svg>\r\n"
          },
          "metadata": {
            "needs_background": "light"
          }
        }
      ],
      "source": [
        "import ltspice\n",
        "l = ltspice.Ltspice(\"corriente alterna.raw\")\n",
        "l.parse()\n",
        "time = l.get_time()\n",
        "V1 = l.get_data('I(V1)')\n",
        "plt.plot(time, V1)\n",
        "plt.xlabel(\"Tiempo (T)\")\n",
        "plt.ylabel(\"Intensidad (I)\")"
      ]
    },
    {
      "source": [
        "### Versión Ahkab"
      ],
      "cell_type": "markdown",
      "metadata": {}
    },
    {
      "cell_type": "code",
      "execution_count": 80,
      "metadata": {},
      "outputs": [
        {
          "output_type": "stream",
          "name": "stdout",
          "text": [
            "Overwriting corriente alterna ahkab.ckt\n"
          ]
        }
      ],
      "source": [
        "%%writefile \"corriente alterna ahkab.ckt\"\n",
        "* Circuito en corriente alterna\n",
        "v1 1 0 vdc=0 type=sin VO=0 VA=120 FREQ=60 TD=0 THETA=0\n",
        "r1 0 1 10k\n",
        ".tran  tstep=0.01 tstop=1 \n",
        ".end"
      ]
    },
    {
      "cell_type": "code",
      "execution_count": 81,
      "metadata": {
        "tags": []
      },
      "outputs": [
        {
          "output_type": "stream",
          "name": "stdout",
          "text": [
            "Starting transient analysis: \n",
            "Selected method: TRAP\n",
            "Solving...  done.\n",
            "Average time step: 0.00049975\n"
          ]
        }
      ],
      "source": [
        "circuito_y_análisis = ahkab.netlist_parser.parse_circuit(\"corriente alterna ahkab.ckt\")\n",
        "circuito = circuito_y_análisis[0]       \n",
        "análisis_en_netlist = circuito_y_análisis[1]\n",
        "lista_de_análisis = ahkab.netlist_parser.parse_analysis(circuito, análisis_en_netlist)\n",
        "lista_de_análisis[0]['outfile'] = \"simulación tran corriente alterna.tsv\"\n",
        "resultados = ahkab.run(circuito, lista_de_análisis)"
      ]
    },
    {
      "cell_type": "code",
      "execution_count": 82,
      "metadata": {},
      "outputs": [
        {
          "output_type": "execute_result",
          "data": {
            "text/plain": [
              "[<matplotlib.lines.Line2D at 0x1fe074ee5c8>]"
            ]
          },
          "metadata": {},
          "execution_count": 82
        },
        {
          "output_type": "display_data",
          "data": {
            "text/plain": "<Figure size 432x288 with 1 Axes>",
            "image/svg+xml": "<?xml version=\"1.0\" encoding=\"utf-8\" standalone=\"no\"?>\r\n<!DOCTYPE svg PUBLIC \"-//W3C//DTD SVG 1.1//EN\"\r\n  \"http://www.w3.org/Graphics/SVG/1.1/DTD/svg11.dtd\">\r\n<!-- Created with matplotlib (https://matplotlib.org/) -->\r\n<svg height=\"279.25pt\" version=\"1.1\" viewBox=\"0 0 401.059844 279.25\" width=\"401.059844pt\" xmlns=\"http://www.w3.org/2000/svg\" xmlns:xlink=\"http://www.w3.org/1999/xlink\">\r\n <metadata>\r\n  <rdf:RDF xmlns:cc=\"http://creativecommons.org/ns#\" xmlns:dc=\"http://purl.org/dc/elements/1.1/\" xmlns:rdf=\"http://www.w3.org/1999/02/22-rdf-syntax-ns#\">\r\n   <cc:Work>\r\n    <dc:type rdf:resource=\"http://purl.org/dc/dcmitype/StillImage\"/>\r\n    <dc:date>2021-01-06T13:46:58.531661</dc:date>\r\n    <dc:format>image/svg+xml</dc:format>\r\n    <dc:creator>\r\n     <cc:Agent>\r\n      <dc:title>Matplotlib v3.3.3, https://matplotlib.org/</dc:title>\r\n     </cc:Agent>\r\n    </dc:creator>\r\n   </cc:Work>\r\n  </rdf:RDF>\r\n </metadata>\r\n <defs>\r\n  <style type=\"text/css\">*{stroke-linecap:butt;stroke-linejoin:round;}</style>\r\n </defs>\r\n <g id=\"figure_1\">\r\n  <g id=\"patch_1\">\r\n   <path d=\"M 0 279.25 \r\nL 401.059844 279.25 \r\nL 401.059844 0 \r\nL 0 0 \r\nz\r\n\" style=\"fill:none;\"/>\r\n  </g>\r\n  <g id=\"axes_1\">\r\n   <g id=\"patch_2\">\r\n    <path d=\"M 59.059844 239.758125 \r\nL 393.859844 239.758125 \r\nL 393.859844 22.318125 \r\nL 59.059844 22.318125 \r\nz\r\n\" style=\"fill:#ffffff;\"/>\r\n   </g>\r\n   <g id=\"matplotlib.axis_1\">\r\n    <g id=\"xtick_1\">\r\n     <g id=\"line2d_1\">\r\n      <path clip-path=\"url(#pf8eeabe917)\" d=\"M 74.247583 239.758125 \r\nL 74.247583 22.318125 \r\n\" style=\"fill:none;stroke:#b0b0b0;stroke-linecap:square;stroke-width:0.8;\"/>\r\n     </g>\r\n     <g id=\"line2d_2\">\r\n      <defs>\r\n       <path d=\"M 0 0 \r\nL 0 3.5 \r\n\" id=\"m409a66e207\" style=\"stroke:#000000;stroke-width:0.8;\"/>\r\n      </defs>\r\n      <g>\r\n       <use style=\"stroke:#000000;stroke-width:0.8;\" x=\"74.247583\" xlink:href=\"#m409a66e207\" y=\"239.758125\"/>\r\n      </g>\r\n     </g>\r\n     <g id=\"text_1\">\r\n      <!-- 0.0 -->\r\n      <g transform=\"translate(65.500864 255.116406)scale(0.11 -0.11)\">\r\n       <defs>\r\n        <path d=\"M 31.78125 66.40625 \r\nQ 24.171875 66.40625 20.328125 58.90625 \r\nQ 16.5 51.421875 16.5 36.375 \r\nQ 16.5 21.390625 20.328125 13.890625 \r\nQ 24.171875 6.390625 31.78125 6.390625 \r\nQ 39.453125 6.390625 43.28125 13.890625 \r\nQ 47.125 21.390625 47.125 36.375 \r\nQ 47.125 51.421875 43.28125 58.90625 \r\nQ 39.453125 66.40625 31.78125 66.40625 \r\nz\r\nM 31.78125 74.21875 \r\nQ 44.046875 74.21875 50.515625 64.515625 \r\nQ 56.984375 54.828125 56.984375 36.375 \r\nQ 56.984375 17.96875 50.515625 8.265625 \r\nQ 44.046875 -1.421875 31.78125 -1.421875 \r\nQ 19.53125 -1.421875 13.0625 8.265625 \r\nQ 6.59375 17.96875 6.59375 36.375 \r\nQ 6.59375 54.828125 13.0625 64.515625 \r\nQ 19.53125 74.21875 31.78125 74.21875 \r\nz\r\n\" id=\"DejaVuSans-48\"/>\r\n        <path d=\"M 10.6875 12.40625 \r\nL 21 12.40625 \r\nL 21 0 \r\nL 10.6875 0 \r\nz\r\n\" id=\"DejaVuSans-46\"/>\r\n       </defs>\r\n       <use xlink:href=\"#DejaVuSans-48\"/>\r\n       <use x=\"63.623047\" xlink:href=\"#DejaVuSans-46\"/>\r\n       <use x=\"95.410156\" xlink:href=\"#DejaVuSans-48\"/>\r\n      </g>\r\n     </g>\r\n    </g>\r\n    <g id=\"xtick_2\">\r\n     <g id=\"line2d_3\">\r\n      <path clip-path=\"url(#pf8eeabe917)\" d=\"M 135.126399 239.758125 \r\nL 135.126399 22.318125 \r\n\" style=\"fill:none;stroke:#b0b0b0;stroke-linecap:square;stroke-width:0.8;\"/>\r\n     </g>\r\n     <g id=\"line2d_4\">\r\n      <g>\r\n       <use style=\"stroke:#000000;stroke-width:0.8;\" x=\"135.126399\" xlink:href=\"#m409a66e207\" y=\"239.758125\"/>\r\n      </g>\r\n     </g>\r\n     <g id=\"text_2\">\r\n      <!-- 0.2 -->\r\n      <g transform=\"translate(126.37968 255.116406)scale(0.11 -0.11)\">\r\n       <defs>\r\n        <path d=\"M 19.1875 8.296875 \r\nL 53.609375 8.296875 \r\nL 53.609375 0 \r\nL 7.328125 0 \r\nL 7.328125 8.296875 \r\nQ 12.9375 14.109375 22.625 23.890625 \r\nQ 32.328125 33.6875 34.8125 36.53125 \r\nQ 39.546875 41.84375 41.421875 45.53125 \r\nQ 43.3125 49.21875 43.3125 52.78125 \r\nQ 43.3125 58.59375 39.234375 62.25 \r\nQ 35.15625 65.921875 28.609375 65.921875 \r\nQ 23.96875 65.921875 18.8125 64.3125 \r\nQ 13.671875 62.703125 7.8125 59.421875 \r\nL 7.8125 69.390625 \r\nQ 13.765625 71.78125 18.9375 73 \r\nQ 24.125 74.21875 28.421875 74.21875 \r\nQ 39.75 74.21875 46.484375 68.546875 \r\nQ 53.21875 62.890625 53.21875 53.421875 \r\nQ 53.21875 48.921875 51.53125 44.890625 \r\nQ 49.859375 40.875 45.40625 35.40625 \r\nQ 44.1875 33.984375 37.640625 27.21875 \r\nQ 31.109375 20.453125 19.1875 8.296875 \r\nz\r\n\" id=\"DejaVuSans-50\"/>\r\n       </defs>\r\n       <use xlink:href=\"#DejaVuSans-48\"/>\r\n       <use x=\"63.623047\" xlink:href=\"#DejaVuSans-46\"/>\r\n       <use x=\"95.410156\" xlink:href=\"#DejaVuSans-50\"/>\r\n      </g>\r\n     </g>\r\n    </g>\r\n    <g id=\"xtick_3\">\r\n     <g id=\"line2d_5\">\r\n      <path clip-path=\"url(#pf8eeabe917)\" d=\"M 196.005215 239.758125 \r\nL 196.005215 22.318125 \r\n\" style=\"fill:none;stroke:#b0b0b0;stroke-linecap:square;stroke-width:0.8;\"/>\r\n     </g>\r\n     <g id=\"line2d_6\">\r\n      <g>\r\n       <use style=\"stroke:#000000;stroke-width:0.8;\" x=\"196.005215\" xlink:href=\"#m409a66e207\" y=\"239.758125\"/>\r\n      </g>\r\n     </g>\r\n     <g id=\"text_3\">\r\n      <!-- 0.4 -->\r\n      <g transform=\"translate(187.258496 255.116406)scale(0.11 -0.11)\">\r\n       <defs>\r\n        <path d=\"M 37.796875 64.3125 \r\nL 12.890625 25.390625 \r\nL 37.796875 25.390625 \r\nz\r\nM 35.203125 72.90625 \r\nL 47.609375 72.90625 \r\nL 47.609375 25.390625 \r\nL 58.015625 25.390625 \r\nL 58.015625 17.1875 \r\nL 47.609375 17.1875 \r\nL 47.609375 0 \r\nL 37.796875 0 \r\nL 37.796875 17.1875 \r\nL 4.890625 17.1875 \r\nL 4.890625 26.703125 \r\nz\r\n\" id=\"DejaVuSans-52\"/>\r\n       </defs>\r\n       <use xlink:href=\"#DejaVuSans-48\"/>\r\n       <use x=\"63.623047\" xlink:href=\"#DejaVuSans-46\"/>\r\n       <use x=\"95.410156\" xlink:href=\"#DejaVuSans-52\"/>\r\n      </g>\r\n     </g>\r\n    </g>\r\n    <g id=\"xtick_4\">\r\n     <g id=\"line2d_7\">\r\n      <path clip-path=\"url(#pf8eeabe917)\" d=\"M 256.88403 239.758125 \r\nL 256.88403 22.318125 \r\n\" style=\"fill:none;stroke:#b0b0b0;stroke-linecap:square;stroke-width:0.8;\"/>\r\n     </g>\r\n     <g id=\"line2d_8\">\r\n      <g>\r\n       <use style=\"stroke:#000000;stroke-width:0.8;\" x=\"256.88403\" xlink:href=\"#m409a66e207\" y=\"239.758125\"/>\r\n      </g>\r\n     </g>\r\n     <g id=\"text_4\">\r\n      <!-- 0.6 -->\r\n      <g transform=\"translate(248.137312 255.116406)scale(0.11 -0.11)\">\r\n       <defs>\r\n        <path d=\"M 33.015625 40.375 \r\nQ 26.375 40.375 22.484375 35.828125 \r\nQ 18.609375 31.296875 18.609375 23.390625 \r\nQ 18.609375 15.53125 22.484375 10.953125 \r\nQ 26.375 6.390625 33.015625 6.390625 \r\nQ 39.65625 6.390625 43.53125 10.953125 \r\nQ 47.40625 15.53125 47.40625 23.390625 \r\nQ 47.40625 31.296875 43.53125 35.828125 \r\nQ 39.65625 40.375 33.015625 40.375 \r\nz\r\nM 52.59375 71.296875 \r\nL 52.59375 62.3125 \r\nQ 48.875 64.0625 45.09375 64.984375 \r\nQ 41.3125 65.921875 37.59375 65.921875 \r\nQ 27.828125 65.921875 22.671875 59.328125 \r\nQ 17.53125 52.734375 16.796875 39.40625 \r\nQ 19.671875 43.65625 24.015625 45.921875 \r\nQ 28.375 48.1875 33.59375 48.1875 \r\nQ 44.578125 48.1875 50.953125 41.515625 \r\nQ 57.328125 34.859375 57.328125 23.390625 \r\nQ 57.328125 12.15625 50.6875 5.359375 \r\nQ 44.046875 -1.421875 33.015625 -1.421875 \r\nQ 20.359375 -1.421875 13.671875 8.265625 \r\nQ 6.984375 17.96875 6.984375 36.375 \r\nQ 6.984375 53.65625 15.1875 63.9375 \r\nQ 23.390625 74.21875 37.203125 74.21875 \r\nQ 40.921875 74.21875 44.703125 73.484375 \r\nQ 48.484375 72.75 52.59375 71.296875 \r\nz\r\n\" id=\"DejaVuSans-54\"/>\r\n       </defs>\r\n       <use xlink:href=\"#DejaVuSans-48\"/>\r\n       <use x=\"63.623047\" xlink:href=\"#DejaVuSans-46\"/>\r\n       <use x=\"95.410156\" xlink:href=\"#DejaVuSans-54\"/>\r\n      </g>\r\n     </g>\r\n    </g>\r\n    <g id=\"xtick_5\">\r\n     <g id=\"line2d_9\">\r\n      <path clip-path=\"url(#pf8eeabe917)\" d=\"M 317.762846 239.758125 \r\nL 317.762846 22.318125 \r\n\" style=\"fill:none;stroke:#b0b0b0;stroke-linecap:square;stroke-width:0.8;\"/>\r\n     </g>\r\n     <g id=\"line2d_10\">\r\n      <g>\r\n       <use style=\"stroke:#000000;stroke-width:0.8;\" x=\"317.762846\" xlink:href=\"#m409a66e207\" y=\"239.758125\"/>\r\n      </g>\r\n     </g>\r\n     <g id=\"text_5\">\r\n      <!-- 0.8 -->\r\n      <g transform=\"translate(309.016127 255.116406)scale(0.11 -0.11)\">\r\n       <defs>\r\n        <path d=\"M 31.78125 34.625 \r\nQ 24.75 34.625 20.71875 30.859375 \r\nQ 16.703125 27.09375 16.703125 20.515625 \r\nQ 16.703125 13.921875 20.71875 10.15625 \r\nQ 24.75 6.390625 31.78125 6.390625 \r\nQ 38.8125 6.390625 42.859375 10.171875 \r\nQ 46.921875 13.96875 46.921875 20.515625 \r\nQ 46.921875 27.09375 42.890625 30.859375 \r\nQ 38.875 34.625 31.78125 34.625 \r\nz\r\nM 21.921875 38.8125 \r\nQ 15.578125 40.375 12.03125 44.71875 \r\nQ 8.5 49.078125 8.5 55.328125 \r\nQ 8.5 64.0625 14.71875 69.140625 \r\nQ 20.953125 74.21875 31.78125 74.21875 \r\nQ 42.671875 74.21875 48.875 69.140625 \r\nQ 55.078125 64.0625 55.078125 55.328125 \r\nQ 55.078125 49.078125 51.53125 44.71875 \r\nQ 48 40.375 41.703125 38.8125 \r\nQ 48.828125 37.15625 52.796875 32.3125 \r\nQ 56.78125 27.484375 56.78125 20.515625 \r\nQ 56.78125 9.90625 50.3125 4.234375 \r\nQ 43.84375 -1.421875 31.78125 -1.421875 \r\nQ 19.734375 -1.421875 13.25 4.234375 \r\nQ 6.78125 9.90625 6.78125 20.515625 \r\nQ 6.78125 27.484375 10.78125 32.3125 \r\nQ 14.796875 37.15625 21.921875 38.8125 \r\nz\r\nM 18.3125 54.390625 \r\nQ 18.3125 48.734375 21.84375 45.5625 \r\nQ 25.390625 42.390625 31.78125 42.390625 \r\nQ 38.140625 42.390625 41.71875 45.5625 \r\nQ 45.3125 48.734375 45.3125 54.390625 \r\nQ 45.3125 60.0625 41.71875 63.234375 \r\nQ 38.140625 66.40625 31.78125 66.40625 \r\nQ 25.390625 66.40625 21.84375 63.234375 \r\nQ 18.3125 60.0625 18.3125 54.390625 \r\nz\r\n\" id=\"DejaVuSans-56\"/>\r\n       </defs>\r\n       <use xlink:href=\"#DejaVuSans-48\"/>\r\n       <use x=\"63.623047\" xlink:href=\"#DejaVuSans-46\"/>\r\n       <use x=\"95.410156\" xlink:href=\"#DejaVuSans-56\"/>\r\n      </g>\r\n     </g>\r\n    </g>\r\n    <g id=\"xtick_6\">\r\n     <g id=\"line2d_11\">\r\n      <path clip-path=\"url(#pf8eeabe917)\" d=\"M 378.641662 239.758125 \r\nL 378.641662 22.318125 \r\n\" style=\"fill:none;stroke:#b0b0b0;stroke-linecap:square;stroke-width:0.8;\"/>\r\n     </g>\r\n     <g id=\"line2d_12\">\r\n      <g>\r\n       <use style=\"stroke:#000000;stroke-width:0.8;\" x=\"378.641662\" xlink:href=\"#m409a66e207\" y=\"239.758125\"/>\r\n      </g>\r\n     </g>\r\n     <g id=\"text_6\">\r\n      <!-- 1.0 -->\r\n      <g transform=\"translate(369.894943 255.116406)scale(0.11 -0.11)\">\r\n       <defs>\r\n        <path d=\"M 12.40625 8.296875 \r\nL 28.515625 8.296875 \r\nL 28.515625 63.921875 \r\nL 10.984375 60.40625 \r\nL 10.984375 69.390625 \r\nL 28.421875 72.90625 \r\nL 38.28125 72.90625 \r\nL 38.28125 8.296875 \r\nL 54.390625 8.296875 \r\nL 54.390625 0 \r\nL 12.40625 0 \r\nz\r\n\" id=\"DejaVuSans-49\"/>\r\n       </defs>\r\n       <use xlink:href=\"#DejaVuSans-49\"/>\r\n       <use x=\"63.623047\" xlink:href=\"#DejaVuSans-46\"/>\r\n       <use x=\"95.410156\" xlink:href=\"#DejaVuSans-48\"/>\r\n      </g>\r\n     </g>\r\n    </g>\r\n    <g id=\"text_7\">\r\n     <!-- Tiempo (T) -->\r\n     <g transform=\"translate(196.746953 269.762344)scale(0.11 -0.11)\">\r\n      <defs>\r\n       <path d=\"M -0.296875 72.90625 \r\nL 61.375 72.90625 \r\nL 61.375 64.59375 \r\nL 35.5 64.59375 \r\nL 35.5 0 \r\nL 25.59375 0 \r\nL 25.59375 64.59375 \r\nL -0.296875 64.59375 \r\nz\r\n\" id=\"DejaVuSans-84\"/>\r\n       <path d=\"M 9.421875 54.6875 \r\nL 18.40625 54.6875 \r\nL 18.40625 0 \r\nL 9.421875 0 \r\nz\r\nM 9.421875 75.984375 \r\nL 18.40625 75.984375 \r\nL 18.40625 64.59375 \r\nL 9.421875 64.59375 \r\nz\r\n\" id=\"DejaVuSans-105\"/>\r\n       <path d=\"M 56.203125 29.59375 \r\nL 56.203125 25.203125 \r\nL 14.890625 25.203125 \r\nQ 15.484375 15.921875 20.484375 11.0625 \r\nQ 25.484375 6.203125 34.421875 6.203125 \r\nQ 39.59375 6.203125 44.453125 7.46875 \r\nQ 49.3125 8.734375 54.109375 11.28125 \r\nL 54.109375 2.78125 \r\nQ 49.265625 0.734375 44.1875 -0.34375 \r\nQ 39.109375 -1.421875 33.890625 -1.421875 \r\nQ 20.796875 -1.421875 13.15625 6.1875 \r\nQ 5.515625 13.8125 5.515625 26.8125 \r\nQ 5.515625 40.234375 12.765625 48.109375 \r\nQ 20.015625 56 32.328125 56 \r\nQ 43.359375 56 49.78125 48.890625 \r\nQ 56.203125 41.796875 56.203125 29.59375 \r\nz\r\nM 47.21875 32.234375 \r\nQ 47.125 39.59375 43.09375 43.984375 \r\nQ 39.0625 48.390625 32.421875 48.390625 \r\nQ 24.90625 48.390625 20.390625 44.140625 \r\nQ 15.875 39.890625 15.1875 32.171875 \r\nz\r\n\" id=\"DejaVuSans-101\"/>\r\n       <path d=\"M 52 44.1875 \r\nQ 55.375 50.25 60.0625 53.125 \r\nQ 64.75 56 71.09375 56 \r\nQ 79.640625 56 84.28125 50.015625 \r\nQ 88.921875 44.046875 88.921875 33.015625 \r\nL 88.921875 0 \r\nL 79.890625 0 \r\nL 79.890625 32.71875 \r\nQ 79.890625 40.578125 77.09375 44.375 \r\nQ 74.3125 48.1875 68.609375 48.1875 \r\nQ 61.625 48.1875 57.5625 43.546875 \r\nQ 53.515625 38.921875 53.515625 30.90625 \r\nL 53.515625 0 \r\nL 44.484375 0 \r\nL 44.484375 32.71875 \r\nQ 44.484375 40.625 41.703125 44.40625 \r\nQ 38.921875 48.1875 33.109375 48.1875 \r\nQ 26.21875 48.1875 22.15625 43.53125 \r\nQ 18.109375 38.875 18.109375 30.90625 \r\nL 18.109375 0 \r\nL 9.078125 0 \r\nL 9.078125 54.6875 \r\nL 18.109375 54.6875 \r\nL 18.109375 46.1875 \r\nQ 21.1875 51.21875 25.484375 53.609375 \r\nQ 29.78125 56 35.6875 56 \r\nQ 41.65625 56 45.828125 52.96875 \r\nQ 50 49.953125 52 44.1875 \r\nz\r\n\" id=\"DejaVuSans-109\"/>\r\n       <path d=\"M 18.109375 8.203125 \r\nL 18.109375 -20.796875 \r\nL 9.078125 -20.796875 \r\nL 9.078125 54.6875 \r\nL 18.109375 54.6875 \r\nL 18.109375 46.390625 \r\nQ 20.953125 51.265625 25.265625 53.625 \r\nQ 29.59375 56 35.59375 56 \r\nQ 45.5625 56 51.78125 48.09375 \r\nQ 58.015625 40.1875 58.015625 27.296875 \r\nQ 58.015625 14.40625 51.78125 6.484375 \r\nQ 45.5625 -1.421875 35.59375 -1.421875 \r\nQ 29.59375 -1.421875 25.265625 0.953125 \r\nQ 20.953125 3.328125 18.109375 8.203125 \r\nz\r\nM 48.6875 27.296875 \r\nQ 48.6875 37.203125 44.609375 42.84375 \r\nQ 40.53125 48.484375 33.40625 48.484375 \r\nQ 26.265625 48.484375 22.1875 42.84375 \r\nQ 18.109375 37.203125 18.109375 27.296875 \r\nQ 18.109375 17.390625 22.1875 11.75 \r\nQ 26.265625 6.109375 33.40625 6.109375 \r\nQ 40.53125 6.109375 44.609375 11.75 \r\nQ 48.6875 17.390625 48.6875 27.296875 \r\nz\r\n\" id=\"DejaVuSans-112\"/>\r\n       <path d=\"M 30.609375 48.390625 \r\nQ 23.390625 48.390625 19.1875 42.75 \r\nQ 14.984375 37.109375 14.984375 27.296875 \r\nQ 14.984375 17.484375 19.15625 11.84375 \r\nQ 23.34375 6.203125 30.609375 6.203125 \r\nQ 37.796875 6.203125 41.984375 11.859375 \r\nQ 46.1875 17.53125 46.1875 27.296875 \r\nQ 46.1875 37.015625 41.984375 42.703125 \r\nQ 37.796875 48.390625 30.609375 48.390625 \r\nz\r\nM 30.609375 56 \r\nQ 42.328125 56 49.015625 48.375 \r\nQ 55.71875 40.765625 55.71875 27.296875 \r\nQ 55.71875 13.875 49.015625 6.21875 \r\nQ 42.328125 -1.421875 30.609375 -1.421875 \r\nQ 18.84375 -1.421875 12.171875 6.21875 \r\nQ 5.515625 13.875 5.515625 27.296875 \r\nQ 5.515625 40.765625 12.171875 48.375 \r\nQ 18.84375 56 30.609375 56 \r\nz\r\n\" id=\"DejaVuSans-111\"/>\r\n       <path id=\"DejaVuSans-32\"/>\r\n       <path d=\"M 31 75.875 \r\nQ 24.46875 64.65625 21.28125 53.65625 \r\nQ 18.109375 42.671875 18.109375 31.390625 \r\nQ 18.109375 20.125 21.3125 9.0625 \r\nQ 24.515625 -2 31 -13.1875 \r\nL 23.1875 -13.1875 \r\nQ 15.875 -1.703125 12.234375 9.375 \r\nQ 8.59375 20.453125 8.59375 31.390625 \r\nQ 8.59375 42.28125 12.203125 53.3125 \r\nQ 15.828125 64.359375 23.1875 75.875 \r\nz\r\n\" id=\"DejaVuSans-40\"/>\r\n       <path d=\"M 8.015625 75.875 \r\nL 15.828125 75.875 \r\nQ 23.140625 64.359375 26.78125 53.3125 \r\nQ 30.421875 42.28125 30.421875 31.390625 \r\nQ 30.421875 20.453125 26.78125 9.375 \r\nQ 23.140625 -1.703125 15.828125 -13.1875 \r\nL 8.015625 -13.1875 \r\nQ 14.5 -2 17.703125 9.0625 \r\nQ 20.90625 20.125 20.90625 31.390625 \r\nQ 20.90625 42.671875 17.703125 53.65625 \r\nQ 14.5 64.65625 8.015625 75.875 \r\nz\r\n\" id=\"DejaVuSans-41\"/>\r\n      </defs>\r\n      <use xlink:href=\"#DejaVuSans-84\"/>\r\n      <use x=\"57.958984\" xlink:href=\"#DejaVuSans-105\"/>\r\n      <use x=\"85.742188\" xlink:href=\"#DejaVuSans-101\"/>\r\n      <use x=\"147.265625\" xlink:href=\"#DejaVuSans-109\"/>\r\n      <use x=\"244.677734\" xlink:href=\"#DejaVuSans-112\"/>\r\n      <use x=\"308.154297\" xlink:href=\"#DejaVuSans-111\"/>\r\n      <use x=\"369.335938\" xlink:href=\"#DejaVuSans-32\"/>\r\n      <use x=\"401.123047\" xlink:href=\"#DejaVuSans-40\"/>\r\n      <use x=\"440.136719\" xlink:href=\"#DejaVuSans-84\"/>\r\n      <use x=\"501.220703\" xlink:href=\"#DejaVuSans-41\"/>\r\n     </g>\r\n    </g>\r\n   </g>\r\n   <g id=\"matplotlib.axis_2\">\r\n    <g id=\"ytick_1\">\r\n     <g id=\"line2d_13\">\r\n      <path clip-path=\"url(#pf8eeabe917)\" d=\"M 59.059844 213.401671 \r\nL 393.859844 213.401671 \r\n\" style=\"fill:none;stroke:#b0b0b0;stroke-linecap:square;stroke-width:0.8;\"/>\r\n     </g>\r\n     <g id=\"line2d_14\">\r\n      <defs>\r\n       <path d=\"M 0 0 \r\nL -3.5 0 \r\n\" id=\"m0d4fcb235c\" style=\"stroke:#000000;stroke-width:0.8;\"/>\r\n      </defs>\r\n      <g>\r\n       <use style=\"stroke:#000000;stroke-width:0.8;\" x=\"59.059844\" xlink:href=\"#m0d4fcb235c\" y=\"213.401671\"/>\r\n      </g>\r\n     </g>\r\n     <g id=\"text_8\">\r\n      <!-- −100 -->\r\n      <g transform=\"translate(21.845938 217.580812)scale(0.11 -0.11)\">\r\n       <defs>\r\n        <path d=\"M 10.59375 35.5 \r\nL 73.1875 35.5 \r\nL 73.1875 27.203125 \r\nL 10.59375 27.203125 \r\nz\r\n\" id=\"DejaVuSans-8722\"/>\r\n       </defs>\r\n       <use xlink:href=\"#DejaVuSans-8722\"/>\r\n       <use x=\"83.789062\" xlink:href=\"#DejaVuSans-49\"/>\r\n       <use x=\"147.412109\" xlink:href=\"#DejaVuSans-48\"/>\r\n       <use x=\"211.035156\" xlink:href=\"#DejaVuSans-48\"/>\r\n      </g>\r\n     </g>\r\n    </g>\r\n    <g id=\"ytick_2\">\r\n     <g id=\"line2d_15\">\r\n      <path clip-path=\"url(#pf8eeabe917)\" d=\"M 59.059844 172.219375 \r\nL 393.859844 172.219375 \r\n\" style=\"fill:none;stroke:#b0b0b0;stroke-linecap:square;stroke-width:0.8;\"/>\r\n     </g>\r\n     <g id=\"line2d_16\">\r\n      <g>\r\n       <use style=\"stroke:#000000;stroke-width:0.8;\" x=\"59.059844\" xlink:href=\"#m0d4fcb235c\" y=\"172.219375\"/>\r\n      </g>\r\n     </g>\r\n     <g id=\"text_9\">\r\n      <!-- −50 -->\r\n      <g transform=\"translate(28.844688 176.398516)scale(0.11 -0.11)\">\r\n       <defs>\r\n        <path d=\"M 10.796875 72.90625 \r\nL 49.515625 72.90625 \r\nL 49.515625 64.59375 \r\nL 19.828125 64.59375 \r\nL 19.828125 46.734375 \r\nQ 21.96875 47.46875 24.109375 47.828125 \r\nQ 26.265625 48.1875 28.421875 48.1875 \r\nQ 40.625 48.1875 47.75 41.5 \r\nQ 54.890625 34.8125 54.890625 23.390625 \r\nQ 54.890625 11.625 47.5625 5.09375 \r\nQ 40.234375 -1.421875 26.90625 -1.421875 \r\nQ 22.3125 -1.421875 17.546875 -0.640625 \r\nQ 12.796875 0.140625 7.71875 1.703125 \r\nL 7.71875 11.625 \r\nQ 12.109375 9.234375 16.796875 8.0625 \r\nQ 21.484375 6.890625 26.703125 6.890625 \r\nQ 35.15625 6.890625 40.078125 11.328125 \r\nQ 45.015625 15.765625 45.015625 23.390625 \r\nQ 45.015625 31 40.078125 35.4375 \r\nQ 35.15625 39.890625 26.703125 39.890625 \r\nQ 22.75 39.890625 18.8125 39.015625 \r\nQ 14.890625 38.140625 10.796875 36.28125 \r\nz\r\n\" id=\"DejaVuSans-53\"/>\r\n       </defs>\r\n       <use xlink:href=\"#DejaVuSans-8722\"/>\r\n       <use x=\"83.789062\" xlink:href=\"#DejaVuSans-53\"/>\r\n       <use x=\"147.412109\" xlink:href=\"#DejaVuSans-48\"/>\r\n      </g>\r\n     </g>\r\n    </g>\r\n    <g id=\"ytick_3\">\r\n     <g id=\"line2d_17\">\r\n      <path clip-path=\"url(#pf8eeabe917)\" d=\"M 59.059844 131.037079 \r\nL 393.859844 131.037079 \r\n\" style=\"fill:none;stroke:#b0b0b0;stroke-linecap:square;stroke-width:0.8;\"/>\r\n     </g>\r\n     <g id=\"line2d_18\">\r\n      <g>\r\n       <use style=\"stroke:#000000;stroke-width:0.8;\" x=\"59.059844\" xlink:href=\"#m0d4fcb235c\" y=\"131.037079\"/>\r\n      </g>\r\n     </g>\r\n     <g id=\"text_10\">\r\n      <!-- 0 -->\r\n      <g transform=\"translate(45.061094 135.21622)scale(0.11 -0.11)\">\r\n       <use xlink:href=\"#DejaVuSans-48\"/>\r\n      </g>\r\n     </g>\r\n    </g>\r\n    <g id=\"ytick_4\">\r\n     <g id=\"line2d_19\">\r\n      <path clip-path=\"url(#pf8eeabe917)\" d=\"M 59.059844 89.854784 \r\nL 393.859844 89.854784 \r\n\" style=\"fill:none;stroke:#b0b0b0;stroke-linecap:square;stroke-width:0.8;\"/>\r\n     </g>\r\n     <g id=\"line2d_20\">\r\n      <g>\r\n       <use style=\"stroke:#000000;stroke-width:0.8;\" x=\"59.059844\" xlink:href=\"#m0d4fcb235c\" y=\"89.854784\"/>\r\n      </g>\r\n     </g>\r\n     <g id=\"text_11\">\r\n      <!-- 50 -->\r\n      <g transform=\"translate(38.062344 94.033924)scale(0.11 -0.11)\">\r\n       <use xlink:href=\"#DejaVuSans-53\"/>\r\n       <use x=\"63.623047\" xlink:href=\"#DejaVuSans-48\"/>\r\n      </g>\r\n     </g>\r\n    </g>\r\n    <g id=\"ytick_5\">\r\n     <g id=\"line2d_21\">\r\n      <path clip-path=\"url(#pf8eeabe917)\" d=\"M 59.059844 48.672488 \r\nL 393.859844 48.672488 \r\n\" style=\"fill:none;stroke:#b0b0b0;stroke-linecap:square;stroke-width:0.8;\"/>\r\n     </g>\r\n     <g id=\"line2d_22\">\r\n      <g>\r\n       <use style=\"stroke:#000000;stroke-width:0.8;\" x=\"59.059844\" xlink:href=\"#m0d4fcb235c\" y=\"48.672488\"/>\r\n      </g>\r\n     </g>\r\n     <g id=\"text_12\">\r\n      <!-- 100 -->\r\n      <g transform=\"translate(31.063594 52.851628)scale(0.11 -0.11)\">\r\n       <use xlink:href=\"#DejaVuSans-49\"/>\r\n       <use x=\"63.623047\" xlink:href=\"#DejaVuSans-48\"/>\r\n       <use x=\"127.246094\" xlink:href=\"#DejaVuSans-48\"/>\r\n      </g>\r\n     </g>\r\n    </g>\r\n    <g id=\"text_13\">\r\n     <!-- Voltaje (V) -->\r\n     <g transform=\"translate(15.558281 159.508359)rotate(-90)scale(0.11 -0.11)\">\r\n      <defs>\r\n       <path d=\"M 28.609375 0 \r\nL 0.78125 72.90625 \r\nL 11.078125 72.90625 \r\nL 34.1875 11.53125 \r\nL 57.328125 72.90625 \r\nL 67.578125 72.90625 \r\nL 39.796875 0 \r\nz\r\n\" id=\"DejaVuSans-86\"/>\r\n       <path d=\"M 9.421875 75.984375 \r\nL 18.40625 75.984375 \r\nL 18.40625 0 \r\nL 9.421875 0 \r\nz\r\n\" id=\"DejaVuSans-108\"/>\r\n       <path d=\"M 18.3125 70.21875 \r\nL 18.3125 54.6875 \r\nL 36.8125 54.6875 \r\nL 36.8125 47.703125 \r\nL 18.3125 47.703125 \r\nL 18.3125 18.015625 \r\nQ 18.3125 11.328125 20.140625 9.421875 \r\nQ 21.96875 7.515625 27.59375 7.515625 \r\nL 36.8125 7.515625 \r\nL 36.8125 0 \r\nL 27.59375 0 \r\nQ 17.1875 0 13.234375 3.875 \r\nQ 9.28125 7.765625 9.28125 18.015625 \r\nL 9.28125 47.703125 \r\nL 2.6875 47.703125 \r\nL 2.6875 54.6875 \r\nL 9.28125 54.6875 \r\nL 9.28125 70.21875 \r\nz\r\n\" id=\"DejaVuSans-116\"/>\r\n       <path d=\"M 34.28125 27.484375 \r\nQ 23.390625 27.484375 19.1875 25 \r\nQ 14.984375 22.515625 14.984375 16.5 \r\nQ 14.984375 11.71875 18.140625 8.90625 \r\nQ 21.296875 6.109375 26.703125 6.109375 \r\nQ 34.1875 6.109375 38.703125 11.40625 \r\nQ 43.21875 16.703125 43.21875 25.484375 \r\nL 43.21875 27.484375 \r\nz\r\nM 52.203125 31.203125 \r\nL 52.203125 0 \r\nL 43.21875 0 \r\nL 43.21875 8.296875 \r\nQ 40.140625 3.328125 35.546875 0.953125 \r\nQ 30.953125 -1.421875 24.3125 -1.421875 \r\nQ 15.921875 -1.421875 10.953125 3.296875 \r\nQ 6 8.015625 6 15.921875 \r\nQ 6 25.140625 12.171875 29.828125 \r\nQ 18.359375 34.515625 30.609375 34.515625 \r\nL 43.21875 34.515625 \r\nL 43.21875 35.40625 \r\nQ 43.21875 41.609375 39.140625 45 \r\nQ 35.0625 48.390625 27.6875 48.390625 \r\nQ 23 48.390625 18.546875 47.265625 \r\nQ 14.109375 46.140625 10.015625 43.890625 \r\nL 10.015625 52.203125 \r\nQ 14.9375 54.109375 19.578125 55.046875 \r\nQ 24.21875 56 28.609375 56 \r\nQ 40.484375 56 46.34375 49.84375 \r\nQ 52.203125 43.703125 52.203125 31.203125 \r\nz\r\n\" id=\"DejaVuSans-97\"/>\r\n       <path d=\"M 9.421875 54.6875 \r\nL 18.40625 54.6875 \r\nL 18.40625 -0.984375 \r\nQ 18.40625 -11.421875 14.421875 -16.109375 \r\nQ 10.453125 -20.796875 1.609375 -20.796875 \r\nL -1.8125 -20.796875 \r\nL -1.8125 -13.1875 \r\nL 0.59375 -13.1875 \r\nQ 5.71875 -13.1875 7.5625 -10.8125 \r\nQ 9.421875 -8.453125 9.421875 -0.984375 \r\nz\r\nM 9.421875 75.984375 \r\nL 18.40625 75.984375 \r\nL 18.40625 64.59375 \r\nL 9.421875 64.59375 \r\nz\r\n\" id=\"DejaVuSans-106\"/>\r\n      </defs>\r\n      <use xlink:href=\"#DejaVuSans-86\"/>\r\n      <use x=\"60.658203\" xlink:href=\"#DejaVuSans-111\"/>\r\n      <use x=\"121.839844\" xlink:href=\"#DejaVuSans-108\"/>\r\n      <use x=\"149.623047\" xlink:href=\"#DejaVuSans-116\"/>\r\n      <use x=\"188.832031\" xlink:href=\"#DejaVuSans-97\"/>\r\n      <use x=\"250.111328\" xlink:href=\"#DejaVuSans-106\"/>\r\n      <use x=\"277.894531\" xlink:href=\"#DejaVuSans-101\"/>\r\n      <use x=\"339.417969\" xlink:href=\"#DejaVuSans-32\"/>\r\n      <use x=\"371.205078\" xlink:href=\"#DejaVuSans-40\"/>\r\n      <use x=\"410.21875\" xlink:href=\"#DejaVuSans-86\"/>\r\n      <use x=\"478.626953\" xlink:href=\"#DejaVuSans-41\"/>\r\n     </g>\r\n    </g>\r\n   </g>\r\n   <g id=\"line2d_23\">\r\n    <path clip-path=\"url(#pf8eeabe917)\" d=\"M 74.278026 127.311503 \r\nL 74.883375 61.006789 \r\nL 75.236401 38.061959 \r\nL 75.447694 32.551907 \r\nL 75.695352 34.630807 \r\nL 76.025248 51.222341 \r\nL 76.590677 107.573997 \r\nL 77.474141 205.583859 \r\nL 77.841333 226.513383 \r\nL 78.062963 229.866305 \r\nL 78.329152 224.129872 \r\nL 78.853705 185.079794 \r\nL 80.301483 38.405292 \r\nL 80.511602 32.654788 \r\nL 80.75731 34.335956 \r\nL 81.081122 49.987448 \r\nL 81.654591 106.467264 \r\nL 82.503428 201.942942 \r\nL 82.859106 224.534176 \r\nL 83.072269 229.657909 \r\nL 83.323099 226.936842 \r\nL 83.66359 208.745547 \r\nL 84.215827 152.676865 \r\nL 85.135376 52.514093 \r\nL 85.516319 33.811896 \r\nL 85.748898 32.766685 \r\nL 86.038081 42.708525 \r\nL 86.502502 81.047193 \r\nL 87.74352 214.562533 \r\nL 87.931446 224.498625 \r\nL 88.144479 229.649529 \r\nL 88.395084 226.973728 \r\nL 88.734795 208.898853 \r\nL 89.287971 152.807205 \r\nL 90.205486 52.746929 \r\nL 90.585581 33.900543 \r\nL 90.817455 32.707085 \r\nL 91.105025 42.36568 \r\nL 91.572284 80.683053 \r\nL 92.818308 214.664055 \r\nL 93.006428 224.567966 \r\nL 93.219717 229.665766 \r\nL 93.470762 226.901362 \r\nL 93.812007 208.598028 \r\nL 94.363344 152.55177 \r\nL 95.28478 52.296412 \r\nL 95.666522 33.73072 \r\nL 95.899769 32.82578 \r\nL 96.190499 43.037654 \r\nL 96.652275 81.396408 \r\nL 97.888211 214.44595 \r\nL 98.075916 224.418726 \r\nL 98.288656 229.630207 \r\nL 98.538761 227.055367 \r\nL 98.876749 209.238065 \r\nL 99.432013 153.096844 \r\nL 100.344759 53.28771 \r\nL 100.722907 34.113518 \r\nL 100.953178 32.58266 \r\nL 101.237156 41.604374 \r\nL 101.711048 79.873768 \r\nL 102.967251 214.825075 \r\nL 103.155679 224.677488 \r\nL 103.369378 229.690379 \r\nL 103.621129 226.784118 \r\nL 103.964874 208.11014 \r\nL 104.513256 152.140249 \r\nL 105.440493 51.617729 \r\nL 105.82476 33.488474 \r\nL 106.060145 33.031652 \r\nL 106.355958 44.120258 \r\nL 106.809521 82.54153 \r\nL 108.026498 213.904319 \r\nL 108.42459 229.531187 \r\nL 108.672433 227.414781 \r\nL 109.002921 210.732636 \r\nL 109.567586 154.394966 \r\nL 110.453687 56.208058 \r\nL 110.821809 35.421353 \r\nL 111.04415 32.218052 \r\nL 111.311712 38.216047 \r\nL 111.831461 77.171868 \r\nL 113.279733 223.763512 \r\nL 113.490172 229.448736 \r\nL 113.736407 227.659751 \r\nL 114.061835 211.75688 \r\nL 114.633135 155.3081 \r\nL 115.492846 58.998923 \r\nL 115.852016 36.890276 \r\nL 116.067687 32.287607 \r\nL 116.322885 35.882602 \r\nL 116.679646 56.450868 \r\nL 117.324646 125.478689 \r\nL 117.996363 200.241303 \r\nL 118.346915 223.504421 \r\nL 118.556488 229.366598 \r\nL 118.801297 227.869631 \r\nL 119.122399 212.64197 \r\nL 119.699555 156.115837 \r\nL 120.690127 49.491867 \r\nL 121.082702 32.844663 \r\nL 121.325408 33.909379 \r\nL 121.640403 48.168485 \r\nL 122.071818 87.150019 \r\nL 123.339658 219.571031 \r\nL 123.538239 227.604618 \r\nL 123.766069 229.649953 \r\nL 124.044766 221.580296 \r\nL 124.530841 183.219222 \r\nL 125.798255 47.155217 \r\nL 125.986863 37.333092 \r\nL 126.200803 32.370085 \r\nL 126.452969 35.359803 \r\nL 126.798213 54.25474 \r\nL 127.344849 110.177554 \r\nL 128.275241 210.833111 \r\nL 128.660934 228.712818 \r\nL 128.897544 228.913566 \r\nL 129.196367 217.313603 \r\nL 129.645382 178.858613 \r\nL 130.849108 48.636262 \r\nL 131.245219 32.640003 \r\nL 131.49119 34.374941 \r\nL 131.815805 50.151486 \r\nL 132.388193 106.616178 \r\nL 133.242628 202.524836 \r\nL 133.600091 224.871724 \r\nL 133.814531 229.730795 \r\nL 134.067565 226.567014 \r\nL 134.416001 207.204004 \r\nL 134.958978 151.384578 \r\nL 135.895378 50.504642 \r\nL 136.283914 33.128598 \r\nL 136.523004 33.444642 \r\nL 136.828153 46.102138 \r\nL 137.269731 84.776241 \r\nL 138.432928 211.635676 \r\nL 138.821725 228.965434 \r\nL 139.061043 228.601822 \r\nL 139.366792 215.845141 \r\nL 139.807784 177.142578 \r\nL 140.965773 50.706605 \r\nL 141.353524 33.190276 \r\nL 141.591922 33.362432 \r\nL 141.895274 45.721856 \r\nL 142.338544 84.29863 \r\nL 143.516113 212.334571 \r\nL 143.907686 229.164076 \r\nL 144.149484 228.286789 \r\nL 144.461931 214.437154 \r\nL 144.896024 175.510034 \r\nL 146.114642 45.672658 \r\nL 146.306197 36.355583 \r\nL 146.52411 32.221648 \r\nL 146.783338 36.611529 \r\nL 147.116994 56.28566 \r\nL 147.762443 125.281897 \r\nL 148.432091 199.918984 \r\nL 148.781689 223.302541 \r\nL 148.990604 229.298886 \r\nL 149.234336 228.022841 \r\nL 149.552275 213.294583 \r\nL 150.133816 156.724776 \r\nL 151.06586 54.145199 \r\nL 151.440985 34.470711 \r\nL 151.668807 32.423774 \r\nL 151.947488 40.490499 \r\nL 152.433607 78.852416 \r\nL 153.701047 214.91904 \r\nL 153.889655 224.741133 \r\nL 154.103595 229.704088 \r\nL 154.355762 226.714282 \r\nL 154.701007 207.819111 \r\nL 155.247641 151.896347 \r\nL 156.178037 51.24066 \r\nL 156.563732 33.361212 \r\nL 156.800342 33.160731 \r\nL 157.099169 44.761231 \r\nL 157.548179 83.216255 \r\nL 158.75189 213.437333 \r\nL 159.147999 229.434032 \r\nL 159.393968 227.699548 \r\nL 159.718576 211.92406 \r\nL 160.290973 155.459237 \r\nL 161.145363 59.554083 \r\nL 161.502811 37.205164 \r\nL 161.71724 32.343902 \r\nL 161.970256 35.504008 \r\nL 162.318623 54.85703 \r\nL 162.861677 110.678714 \r\nL 163.797958 211.554621 \r\nL 164.186436 228.941066 \r\nL 164.425475 228.635697 \r\nL 164.730489 216.000414 \r\nL 165.172198 177.332931 \r\nL 166.336528 50.381147 \r\nL 166.72555 33.091663 \r\nL 166.965067 33.49661 \r\nL 167.271341 46.339747 \r\nL 167.711813 85.065731 \r\nL 168.865049 211.116141 \r\nL 169.251828 228.80481 \r\nL 169.489377 228.80948 \r\nL 169.790559 216.81246 \r\nL 170.236157 178.333057 \r\nL 171.428098 49.104845 \r\nL 171.822256 32.74794 \r\nL 172.066413 34.111258 \r\nL 172.385591 49.035673 \r\nL 172.965405 105.589845 \r\nL 173.924896 210.144583 \r\nL 174.307998 228.476492 \r\nL 174.54239 229.141202 \r\nL 174.835817 218.462087 \r\nL 175.293147 180.069392 \r\nL 176.519493 47.882333 \r\nL 176.70672 37.830584 \r\nL 176.918827 32.488538 \r\nL 177.167858 34.846148 \r\nL 177.502229 52.11876 \r\nL 178.061964 108.358927 \r\nL 178.963219 207.509534 \r\nL 179.336888 227.420251 \r\nL 179.563551 229.711792 \r\nL 179.8398 222.090305 \r\nL 180.332702 183.605403 \r\nL 181.60396 47.147146 \r\nL 181.792584 37.327638 \r\nL 182.006545 32.36893 \r\nL 182.258747 35.365849 \r\nL 182.604121 54.279952 \r\nL 183.150606 110.19863 \r\nL 184.081262 210.864867 \r\nL 184.467076 228.723291 \r\nL 184.70379 228.902201 \r\nL 185.002874 217.258259 \r\nL 185.451506 178.800485 \r\nL 186.653998 48.683037 \r\nL 187.049912 32.650314 \r\nL 187.295699 34.347645 \r\nL 187.619751 50.036662 \r\nL 188.192896 106.512007 \r\nL 189.043455 202.121739 \r\nL 189.39968 224.638705 \r\nL 189.613232 229.681803 \r\nL 189.864731 226.826098 \r\nL 190.207578 208.284923 \r\nL 190.757015 152.28729 \r\nL 191.682249 51.853887 \r\nL 192.065631 33.570874 \r\nL 192.300263 32.956228 \r\nL 192.59426 43.73352 \r\nL 193.050676 82.133179 \r\nL 194.274864 214.128906 \r\nL 194.461973 224.200002 \r\nL 194.673925 229.574066 \r\nL 194.922693 227.269651 \r\nL 195.256196 210.128517 \r\nL 195.817022 153.865726 \r\nL 196.715175 54.904318 \r\nL 197.087678 34.806124 \r\nL 197.31342 32.320203 \r\nL 197.587767 39.590971 \r\nL 198.086135 78.169692 \r\nL 199.360233 214.923872 \r\nL 199.548851 224.744393 \r\nL 199.762803 229.704779 \r\nL 200.014991 226.710666 \r\nL 200.360315 207.804033 \r\nL 200.906859 151.883742 \r\nL 201.837412 51.221652 \r\nL 202.223179 33.35494 \r\nL 202.459853 33.167524 \r\nL 202.758834 44.794332 \r\nL 203.207615 83.251025 \r\nL 204.41059 213.409485 \r\nL 204.806582 229.427905 \r\nL 205.052441 227.715824 \r\nL 205.376713 211.992512 \r\nL 205.949561 155.521304 \r\nL 206.801662 59.792219 \r\nL 207.158378 37.342406 \r\nL 207.372281 32.372071 \r\nL 207.624386 35.349452 \r\nL 207.969407 54.211577 \r\nL 208.516301 110.141453 \r\nL 209.446238 210.778414 \r\nL 209.831724 228.69469 \r\nL 210.068154 228.93296 \r\nL 210.366531 217.408423 \r\nL 210.816206 178.958253 \r\nL 212.022011 48.558715 \r\nL 212.418449 32.623139 \r\nL 212.664726 34.420681 \r\nL 212.990284 50.343609 \r\nL 213.561411 106.789805 \r\nL 214.421928 203.159489 \r\nL 214.78136 225.231043 \r\nL 214.997222 229.79393 \r\nL 215.252758 226.13181 \r\nL 215.610873 205.369598 \r\nL 216.253998 136.439382 \r\nL 216.927253 61.587243 \r\nL 217.278537 38.417338 \r\nL 217.488616 32.658579 \r\nL 217.734257 34.32612 \r\nL 218.057865 49.94602 \r\nL 218.631608 106.429555 \r\nL 219.478966 201.789448 \r\nL 219.834176 224.443873 \r\nL 220.047006 229.636352 \r\nL 220.297268 227.029906 \r\nL 220.635792 209.132291 \r\nL 221.190403 153.006342 \r\nL 222.104678 53.115142 \r\nL 222.483444 34.044495 \r\nL 222.714222 32.620274 \r\nL 222.999323 41.842148 \r\nL 223.471092 80.126562 \r\nL 224.724246 214.783689 \r\nL 224.912594 224.649392 \r\nL 225.126188 229.684188 \r\nL 225.377756 226.814544 \r\nL 225.72085 208.236828 \r\nL 226.269997 152.246786 \r\nL 227.19579 51.788151 \r\nL 227.579418 33.547732 \r\nL 227.814257 32.976811 \r\nL 228.108756 43.840067 \r\nL 228.564377 82.245767 \r\nL 229.786631 214.070816 \r\nL 229.973632 224.159702 \r\nL 230.185441 229.56322 \r\nL 230.433968 227.307711 \r\nL 230.766679 210.286821 \r\nL 231.328505 154.003788 \r\nL 232.223693 55.227276 \r\nL 232.595097 34.954002 \r\nL 232.819977 32.286216 \r\nL 233.092571 39.231211 \r\nL 233.596151 77.898329 \r\nL 234.872727 214.914229 \r\nL 235.061326 224.737867 \r\nL 235.275254 229.703397 \r\nL 235.527399 226.71789 \r\nL 235.872567 207.834156 \r\nL 236.419291 151.908928 \r\nL 237.349528 51.259676 \r\nL 237.73515 33.367502 \r\nL 237.971699 33.153962 \r\nL 238.270369 44.728191 \r\nL 238.719609 83.181543 \r\nL 239.92405 213.464729 \r\nL 240.320274 229.440024 \r\nL 240.566351 227.68346 \r\nL 240.89129 211.856445 \r\nL 241.463243 155.398035 \r\nL 242.319829 59.325203 \r\nL 242.677985 37.074479 \r\nL 242.892923 32.319089 \r\nL 243.146829 35.656955 \r\nL 243.498551 55.498384 \r\nL 244.037841 111.207222 \r\nL 244.979517 212.244733 \r\nL 245.370728 229.139681 \r\nL 245.6122 228.329691 \r\nL 245.923746 214.625624 \r\nL 246.358785 175.721035 \r\nL 247.610513 43.813155 \r\nL 247.806047 35.210856 \r\nL 248.0295 32.241892 \r\nL 248.29924 38.652125 \r\nL 248.811738 77.474094 \r\nL 250.260758 223.918848 \r\nL 250.471726 229.495283 \r\nL 250.718844 227.526375 \r\nL 251.047024 211.198327 \r\nL 251.614686 154.807524 \r\nL 252.48991 57.367172 \r\nL 252.854249 36.007434 \r\nL 253.073727 32.201761 \r\nL 253.33584 37.153981 \r\nL 253.65829 56.55606 \r\nL 254.301312 125.396966 \r\nL 254.972188 200.109202 \r\nL 255.322349 223.421939 \r\nL 255.531651 229.339315 \r\nL 255.776016 227.933289 \r\nL 256.095806 212.912348 \r\nL 256.674772 156.366609 \r\nL 257.64566 51.02951 \r\nL 258.032165 33.292269 \r\nL 258.269475 33.237819 \r\nL 258.570053 45.133558 \r\nL 259.016514 83.606892 \r\nL 260.211606 213.099312 \r\nL 260.606303 229.357188 \r\nL 260.850957 227.891899 \r\nL 261.1716 212.736431 \r\nL 261.749387 156.203217 \r\nL 262.734504 49.922641 \r\nL 263.125344 32.960107 \r\nL 263.36648 33.700784 \r\nL 263.677107 47.255685 \r\nL 264.11311 86.135224 \r\nL 265.390959 219.610783 \r\nL 265.589636 227.626138 \r\nL 265.817606 229.641903 \r\nL 266.096601 221.518097 \r\nL 266.581858 183.17269 \r\nL 267.848795 47.157143 \r\nL 268.037399 37.334395 \r\nL 268.251334 32.370361 \r\nL 268.503492 35.358361 \r\nL 268.848705 54.248726 \r\nL 269.395377 110.172525 \r\nL 270.325706 210.825515 \r\nL 270.71137 228.710307 \r\nL 270.947955 228.916274 \r\nL 271.246716 217.32681 \r\nL 271.695823 178.872487 \r\nL 272.899841 48.625267 \r\nL 273.295998 32.637594 \r\nL 273.542012 34.381389 \r\nL 273.86676 50.178593 \r\nL 274.43897 106.640726 \r\nL 275.294293 202.617279 \r\nL 275.652041 224.924642 \r\nL 275.866686 229.741067 \r\nL 276.120078 226.505727 \r\nL 276.469853 206.947339 \r\nL 277.011318 151.172489 \r\nL 277.949973 50.219976 \r\nL 278.339629 33.044445 \r\nL 278.579709 33.566298 \r\nL 278.88748 46.655325 \r\nL 279.32644 85.441628 \r\nL 280.464807 210.289889 \r\nL 280.84845 228.527815 \r\nL 281.083303 229.096101 \r\nL 281.377831 218.22766 \r\nL 281.833404 179.821597 \r\nL 283.05554 48.006938 \r\nL 283.242535 37.916953 \r\nL 283.454335 32.511616 \r\nL 283.702847 34.764104 \r\nL 284.035509 51.777586 \r\nL 284.597397 108.061852 \r\nL 285.492398 206.826584 \r\nL 285.863734 227.110761 \r\nL 286.08856 229.789884 \r\nL 286.361046 222.865122 \r\nL 286.864954 184.19241 \r\nL 288.141678 47.160723 \r\nL 288.330276 37.336828 \r\nL 288.544201 32.370876 \r\nL 288.796343 35.355675 \r\nL 289.141498 54.237527 \r\nL 289.688237 110.16316 \r\nL 290.618448 210.811348 \r\nL 291.004059 228.705619 \r\nL 291.240597 228.92131 \r\nL 291.539242 217.351406 \r\nL 291.98852 178.89833 \r\nL 293.19308 48.604959 \r\nL 293.589323 32.633161 \r\nL 293.835417 34.393331 \r\nL 294.160411 50.228775 \r\nL 294.732291 106.686126 \r\nL 295.589231 202.785823 \r\nL 295.947501 225.020617 \r\nL 296.162521 229.758857 \r\nL 296.416572 226.392159 \r\nL 296.768848 206.470456 \r\nL 297.307525 150.780643 \r\nL 298.250006 49.723158 \r\nL 298.641644 32.905678 \r\nL 298.883501 33.795263 \r\nL 299.196113 47.671582 \r\nL 299.630033 86.602637 \r\nL 300.841458 215.976389 \r\nL 301.03215 225.443705 \r\nL 301.248888 229.823567 \r\nL 301.505989 225.851853 \r\nL 301.87057 204.170745 \r\nL 302.504917 135.714519 \r\nL 303.193402 59.768337 \r\nL 303.550187 37.328762 \r\nL 303.764143 32.369167 \r\nL 304.016338 35.364604 \r\nL 304.361685 54.274762 \r\nL 304.908201 110.194292 \r\nL 305.838803 210.858342 \r\nL 306.224593 228.721142 \r\nL 306.461285 228.904543 \r\nL 306.760315 217.269649 \r\nL 307.209025 178.812445 \r\nL 308.411773 48.673318 \r\nL 308.807728 32.648163 \r\nL 309.053553 34.353298 \r\nL 309.377722 50.060457 \r\nL 309.950709 106.533619 \r\nL 310.802088 202.206853 \r\nL 311.158573 224.688213 \r\nL 311.372312 229.692713 \r\nL 311.624132 226.772486 \r\nL 311.968127 208.061694 \r\nL 312.516217 152.099568 \r\nL 313.443994 51.553587 \r\nL 313.828503 33.46645 \r\nL 314.064094 33.052852 \r\nL 314.360411 44.227221 \r\nL 314.813198 82.654311 \r\nL 316.028083 213.835166 \r\nL 316.425879 229.517474 \r\nL 316.673439 227.458383 \r\nL 317.003025 210.91444 \r\nL 317.568857 154.555533 \r\nL 318.450898 56.64234 \r\nL 318.817591 35.63677 \r\nL 319.038842 32.204049 \r\nL 319.304304 37.801486 \r\nL 319.831481 76.905252 \r\nL 321.278997 223.620461 \r\nL 321.488955 229.404065 \r\nL 321.734396 227.777525 \r\nL 322.057397 212.252455 \r\nL 322.631962 155.758006 \r\nL 323.474702 60.762812 \r\nL 323.828462 37.914877 \r\nL 324.040269 32.511059 \r\nL 324.288793 34.766024 \r\nL 324.621496 51.785572 \r\nL 325.183333 108.068829 \r\nL 326.078487 206.843211 \r\nL 326.449879 227.118458 \r\nL 326.67475 229.788296 \r\nL 326.947324 222.846962 \r\nL 327.450963 184.178833 \r\nL 328.727566 47.160072 \r\nL 328.916164 37.336388 \r\nL 329.130092 32.370782 \r\nL 329.382236 35.356162 \r\nL 329.727402 54.239559 \r\nL 330.274129 110.16486 \r\nL 331.204361 210.813922 \r\nL 331.589981 228.706471 \r\nL 331.826528 228.920396 \r\nL 332.125194 217.346941 \r\nL 332.574441 178.893639 \r\nL 333.778903 48.608629 \r\nL 334.17513 32.633961 \r\nL 334.42121 34.39117 \r\nL 334.746159 50.219694 \r\nL 335.318099 106.677915 \r\nL 336.174749 202.75557 \r\nL 336.532925 225.003439 \r\nL 336.747878 229.755753 \r\nL 337.00181 226.412719 \r\nL 337.353631 206.556921 \r\nL 337.892811 150.851479 \r\nL 338.834633 49.810262 \r\nL 339.22592 32.929248 \r\nL 339.467462 33.753554 \r\nL 339.779199 47.488522 \r\nL 340.214038 86.398047 \r\nL 341.45943 217.917643 \r\nL 341.654202 226.659532 \r\nL 341.876578 229.855506 \r\nL 342.144207 223.844676 \r\nL 342.663725 184.893279 \r\nL 344.112022 38.305908 \r\nL 344.322476 32.623972 \r\nL 344.568738 34.418391 \r\nL 344.894248 50.333999 \r\nL 345.465438 106.78114 \r\nL 346.325662 203.128833 \r\nL 346.684999 225.213903 \r\nL 346.900792 229.791281 \r\nL 347.156204 226.15362 \r\nL 347.513824 205.462286 \r\nL 348.157633 136.4963 \r\nL 348.830338 61.675783 \r\nL 349.181358 38.472132 \r\nL 349.391254 32.675974 \r\nL 349.636594 34.281799 \r\nL 349.959289 49.759093 \r\nL 350.534269 106.258895 \r\nL 351.374576 201.059832 \r\nL 351.727578 224.007577 \r\nL 351.938853 229.520911 \r\nL 352.186483 227.447577 \r\nL 352.516293 210.869371 \r\nL 353.081834 154.51567 \r\nL 353.964903 56.532637 \r\nL 354.331955 35.581875 \r\nL 354.55348 32.206676 \r\nL 354.819466 37.904273 \r\nL 355.344747 76.969082 \r\nL 356.792451 223.655191 \r\nL 357.002525 229.415066 \r\nL 357.248157 227.749366 \r\nL 357.571738 212.133734 \r\nL 358.145518 155.6497 \r\nL 358.992674 60.305656 \r\nL 359.34782 37.642648 \r\nL 359.560605 32.440823 \r\nL 359.810789 35.031696 \r\nL 360.149049 52.889699 \r\nL 360.703982 109.023202 \r\nL 361.617508 208.874364 \r\nL 361.99597 227.995928 \r\nL 362.226499 229.472578 \r\nL 362.511046 220.349242 \r\nL 362.983856 182.072236 \r\nL 364.238527 47.269101 \r\nL 364.426917 37.410256 \r\nL 364.640565 32.386762 \r\nL 364.892227 35.275299 \r\nL 365.235657 53.902629 \r\nL 365.784409 109.882312 \r\nL 366.710951 210.374338 \r\nL 367.09491 228.557274 \r\nL 367.330032 229.069192 \r\nL 367.625208 218.089589 \r\nL 368.079762 179.6758 \r\nL 369.29933 48.086646 \r\nL 369.697781 32.526792 \r\nL 369.945964 34.712506 \r\nL 370.277555 51.562836 \r\nL 370.840807 107.873828 \r\nL 371.731562 206.366936 \r\nL 372.101351 226.894836 \r\nL 372.324974 229.827764 \r\nL 372.595053 223.353841 \r\nL 373.106461 184.551242 \r\nL 374.55559 38.130928 \r\nL 374.766642 32.57176 \r\nL 375.0139 34.569254 \r\nL 375.342524 50.965529 \r\nL 375.909606 107.346425 \r\nL 376.787052 204.942609 \r\nL 377.152152 226.188717 \r\nL 377.372201 229.874489 \r\nL 377.635382 224.715603 \r\nL 377.954051 205.396314 \r\nL 378.596029 136.620012 \r\nL 378.641662 131.037079 \r\nL 378.641662 131.037079 \r\n\" style=\"fill:none;stroke:#1f77b4;stroke-linecap:square;stroke-width:1.5;\"/>\r\n   </g>\r\n   <g id=\"patch_3\">\r\n    <path d=\"M 59.059844 239.758125 \r\nL 59.059844 22.318125 \r\n\" style=\"fill:none;stroke:#000000;stroke-linecap:square;stroke-linejoin:miter;stroke-width:0.8;\"/>\r\n   </g>\r\n   <g id=\"patch_4\">\r\n    <path d=\"M 393.859844 239.758125 \r\nL 393.859844 22.318125 \r\n\" style=\"fill:none;stroke:#000000;stroke-linecap:square;stroke-linejoin:miter;stroke-width:0.8;\"/>\r\n   </g>\r\n   <g id=\"patch_5\">\r\n    <path d=\"M 59.059844 239.758125 \r\nL 393.859844 239.758125 \r\n\" style=\"fill:none;stroke:#000000;stroke-linecap:square;stroke-linejoin:miter;stroke-width:0.8;\"/>\r\n   </g>\r\n   <g id=\"patch_6\">\r\n    <path d=\"M 59.059844 22.318125 \r\nL 393.859844 22.318125 \r\n\" style=\"fill:none;stroke:#000000;stroke-linecap:square;stroke-linejoin:miter;stroke-width:0.8;\"/>\r\n   </g>\r\n   <g id=\"text_14\">\r\n    <!-- Carrera de condensadores -->\r\n    <g transform=\"translate(147.242031 16.318125)scale(0.12 -0.12)\">\r\n     <defs>\r\n      <path d=\"M 64.40625 67.28125 \r\nL 64.40625 56.890625 \r\nQ 59.421875 61.53125 53.78125 63.8125 \r\nQ 48.140625 66.109375 41.796875 66.109375 \r\nQ 29.296875 66.109375 22.65625 58.46875 \r\nQ 16.015625 50.828125 16.015625 36.375 \r\nQ 16.015625 21.96875 22.65625 14.328125 \r\nQ 29.296875 6.6875 41.796875 6.6875 \r\nQ 48.140625 6.6875 53.78125 8.984375 \r\nQ 59.421875 11.28125 64.40625 15.921875 \r\nL 64.40625 5.609375 \r\nQ 59.234375 2.09375 53.4375 0.328125 \r\nQ 47.65625 -1.421875 41.21875 -1.421875 \r\nQ 24.65625 -1.421875 15.125 8.703125 \r\nQ 5.609375 18.84375 5.609375 36.375 \r\nQ 5.609375 53.953125 15.125 64.078125 \r\nQ 24.65625 74.21875 41.21875 74.21875 \r\nQ 47.75 74.21875 53.53125 72.484375 \r\nQ 59.328125 70.75 64.40625 67.28125 \r\nz\r\n\" id=\"DejaVuSans-67\"/>\r\n      <path d=\"M 41.109375 46.296875 \r\nQ 39.59375 47.171875 37.8125 47.578125 \r\nQ 36.03125 48 33.890625 48 \r\nQ 26.265625 48 22.1875 43.046875 \r\nQ 18.109375 38.09375 18.109375 28.8125 \r\nL 18.109375 0 \r\nL 9.078125 0 \r\nL 9.078125 54.6875 \r\nL 18.109375 54.6875 \r\nL 18.109375 46.1875 \r\nQ 20.953125 51.171875 25.484375 53.578125 \r\nQ 30.03125 56 36.53125 56 \r\nQ 37.453125 56 38.578125 55.875 \r\nQ 39.703125 55.765625 41.0625 55.515625 \r\nz\r\n\" id=\"DejaVuSans-114\"/>\r\n      <path d=\"M 45.40625 46.390625 \r\nL 45.40625 75.984375 \r\nL 54.390625 75.984375 \r\nL 54.390625 0 \r\nL 45.40625 0 \r\nL 45.40625 8.203125 \r\nQ 42.578125 3.328125 38.25 0.953125 \r\nQ 33.9375 -1.421875 27.875 -1.421875 \r\nQ 17.96875 -1.421875 11.734375 6.484375 \r\nQ 5.515625 14.40625 5.515625 27.296875 \r\nQ 5.515625 40.1875 11.734375 48.09375 \r\nQ 17.96875 56 27.875 56 \r\nQ 33.9375 56 38.25 53.625 \r\nQ 42.578125 51.265625 45.40625 46.390625 \r\nz\r\nM 14.796875 27.296875 \r\nQ 14.796875 17.390625 18.875 11.75 \r\nQ 22.953125 6.109375 30.078125 6.109375 \r\nQ 37.203125 6.109375 41.296875 11.75 \r\nQ 45.40625 17.390625 45.40625 27.296875 \r\nQ 45.40625 37.203125 41.296875 42.84375 \r\nQ 37.203125 48.484375 30.078125 48.484375 \r\nQ 22.953125 48.484375 18.875 42.84375 \r\nQ 14.796875 37.203125 14.796875 27.296875 \r\nz\r\n\" id=\"DejaVuSans-100\"/>\r\n      <path d=\"M 48.78125 52.59375 \r\nL 48.78125 44.1875 \r\nQ 44.96875 46.296875 41.140625 47.34375 \r\nQ 37.3125 48.390625 33.40625 48.390625 \r\nQ 24.65625 48.390625 19.8125 42.84375 \r\nQ 14.984375 37.3125 14.984375 27.296875 \r\nQ 14.984375 17.28125 19.8125 11.734375 \r\nQ 24.65625 6.203125 33.40625 6.203125 \r\nQ 37.3125 6.203125 41.140625 7.25 \r\nQ 44.96875 8.296875 48.78125 10.40625 \r\nL 48.78125 2.09375 \r\nQ 45.015625 0.34375 40.984375 -0.53125 \r\nQ 36.96875 -1.421875 32.421875 -1.421875 \r\nQ 20.0625 -1.421875 12.78125 6.34375 \r\nQ 5.515625 14.109375 5.515625 27.296875 \r\nQ 5.515625 40.671875 12.859375 48.328125 \r\nQ 20.21875 56 33.015625 56 \r\nQ 37.15625 56 41.109375 55.140625 \r\nQ 45.0625 54.296875 48.78125 52.59375 \r\nz\r\n\" id=\"DejaVuSans-99\"/>\r\n      <path d=\"M 54.890625 33.015625 \r\nL 54.890625 0 \r\nL 45.90625 0 \r\nL 45.90625 32.71875 \r\nQ 45.90625 40.484375 42.875 44.328125 \r\nQ 39.84375 48.1875 33.796875 48.1875 \r\nQ 26.515625 48.1875 22.3125 43.546875 \r\nQ 18.109375 38.921875 18.109375 30.90625 \r\nL 18.109375 0 \r\nL 9.078125 0 \r\nL 9.078125 54.6875 \r\nL 18.109375 54.6875 \r\nL 18.109375 46.1875 \r\nQ 21.34375 51.125 25.703125 53.5625 \r\nQ 30.078125 56 35.796875 56 \r\nQ 45.21875 56 50.046875 50.171875 \r\nQ 54.890625 44.34375 54.890625 33.015625 \r\nz\r\n\" id=\"DejaVuSans-110\"/>\r\n      <path d=\"M 44.28125 53.078125 \r\nL 44.28125 44.578125 \r\nQ 40.484375 46.53125 36.375 47.5 \r\nQ 32.28125 48.484375 27.875 48.484375 \r\nQ 21.1875 48.484375 17.84375 46.4375 \r\nQ 14.5 44.390625 14.5 40.28125 \r\nQ 14.5 37.15625 16.890625 35.375 \r\nQ 19.28125 33.59375 26.515625 31.984375 \r\nL 29.59375 31.296875 \r\nQ 39.15625 29.25 43.1875 25.515625 \r\nQ 47.21875 21.78125 47.21875 15.09375 \r\nQ 47.21875 7.46875 41.1875 3.015625 \r\nQ 35.15625 -1.421875 24.609375 -1.421875 \r\nQ 20.21875 -1.421875 15.453125 -0.5625 \r\nQ 10.6875 0.296875 5.421875 2 \r\nL 5.421875 11.28125 \r\nQ 10.40625 8.6875 15.234375 7.390625 \r\nQ 20.0625 6.109375 24.8125 6.109375 \r\nQ 31.15625 6.109375 34.5625 8.28125 \r\nQ 37.984375 10.453125 37.984375 14.40625 \r\nQ 37.984375 18.0625 35.515625 20.015625 \r\nQ 33.0625 21.96875 24.703125 23.78125 \r\nL 21.578125 24.515625 \r\nQ 13.234375 26.265625 9.515625 29.90625 \r\nQ 5.8125 33.546875 5.8125 39.890625 \r\nQ 5.8125 47.609375 11.28125 51.796875 \r\nQ 16.75 56 26.8125 56 \r\nQ 31.78125 56 36.171875 55.265625 \r\nQ 40.578125 54.546875 44.28125 53.078125 \r\nz\r\n\" id=\"DejaVuSans-115\"/>\r\n     </defs>\r\n     <use xlink:href=\"#DejaVuSans-67\"/>\r\n     <use x=\"69.824219\" xlink:href=\"#DejaVuSans-97\"/>\r\n     <use x=\"131.103516\" xlink:href=\"#DejaVuSans-114\"/>\r\n     <use x=\"170.466797\" xlink:href=\"#DejaVuSans-114\"/>\r\n     <use x=\"209.330078\" xlink:href=\"#DejaVuSans-101\"/>\r\n     <use x=\"270.853516\" xlink:href=\"#DejaVuSans-114\"/>\r\n     <use x=\"311.966797\" xlink:href=\"#DejaVuSans-97\"/>\r\n     <use x=\"373.246094\" xlink:href=\"#DejaVuSans-32\"/>\r\n     <use x=\"405.033203\" xlink:href=\"#DejaVuSans-100\"/>\r\n     <use x=\"468.509766\" xlink:href=\"#DejaVuSans-101\"/>\r\n     <use x=\"530.033203\" xlink:href=\"#DejaVuSans-32\"/>\r\n     <use x=\"561.820312\" xlink:href=\"#DejaVuSans-99\"/>\r\n     <use x=\"616.800781\" xlink:href=\"#DejaVuSans-111\"/>\r\n     <use x=\"677.982422\" xlink:href=\"#DejaVuSans-110\"/>\r\n     <use x=\"741.361328\" xlink:href=\"#DejaVuSans-100\"/>\r\n     <use x=\"804.837891\" xlink:href=\"#DejaVuSans-101\"/>\r\n     <use x=\"866.361328\" xlink:href=\"#DejaVuSans-110\"/>\r\n     <use x=\"929.740234\" xlink:href=\"#DejaVuSans-115\"/>\r\n     <use x=\"981.839844\" xlink:href=\"#DejaVuSans-97\"/>\r\n     <use x=\"1043.119141\" xlink:href=\"#DejaVuSans-100\"/>\r\n     <use x=\"1106.595703\" xlink:href=\"#DejaVuSans-111\"/>\r\n     <use x=\"1167.777344\" xlink:href=\"#DejaVuSans-114\"/>\r\n     <use x=\"1206.640625\" xlink:href=\"#DejaVuSans-101\"/>\r\n     <use x=\"1268.164062\" xlink:href=\"#DejaVuSans-115\"/>\r\n    </g>\r\n   </g>\r\n  </g>\r\n </g>\r\n <defs>\r\n  <clipPath id=\"pf8eeabe917\">\r\n   <rect height=\"217.44\" width=\"334.8\" x=\"59.059844\" y=\"22.318125\"/>\r\n  </clipPath>\r\n </defs>\r\n</svg>\r\n"
          },
          "metadata": {
            "needs_background": "light"
          }
        }
      ],
      "source": [
        "figura = plt.figure()\n",
        "plt.title(\"Carrera de condensadores\")\n",
        "plt.grid()\n",
        "plt.xlabel(\"Tiempo (T)\")\n",
        "plt.ylabel(\"Voltaje (V)\")\n",
        "plt.plot(resultados['tran']['T'], resultados['tran']['V1'],label=\"Intensidad en V1\")"
      ]
    },
    {
      "cell_type": "code",
      "execution_count": 83,
      "metadata": {},
      "outputs": [
        {
          "output_type": "execute_result",
          "data": {
            "text/plain": [
              "[<matplotlib.lines.Line2D at 0x1fe079e1c48>]"
            ]
          },
          "metadata": {},
          "execution_count": 83
        },
        {
          "output_type": "display_data",
          "data": {
            "text/plain": "<Figure size 432x288 with 1 Axes>",
            "image/svg+xml": "<?xml version=\"1.0\" encoding=\"utf-8\" standalone=\"no\"?>\r\n<!DOCTYPE svg PUBLIC \"-//W3C//DTD SVG 1.1//EN\"\r\n  \"http://www.w3.org/Graphics/SVG/1.1/DTD/svg11.dtd\">\r\n<!-- Created with matplotlib (https://matplotlib.org/) -->\r\n<svg height=\"279.25pt\" version=\"1.1\" viewBox=\"0 0 411.554531 279.25\" width=\"411.554531pt\" xmlns=\"http://www.w3.org/2000/svg\" xmlns:xlink=\"http://www.w3.org/1999/xlink\">\r\n <metadata>\r\n  <rdf:RDF xmlns:cc=\"http://creativecommons.org/ns#\" xmlns:dc=\"http://purl.org/dc/elements/1.1/\" xmlns:rdf=\"http://www.w3.org/1999/02/22-rdf-syntax-ns#\">\r\n   <cc:Work>\r\n    <dc:type rdf:resource=\"http://purl.org/dc/dcmitype/StillImage\"/>\r\n    <dc:date>2021-01-06T13:47:01.523789</dc:date>\r\n    <dc:format>image/svg+xml</dc:format>\r\n    <dc:creator>\r\n     <cc:Agent>\r\n      <dc:title>Matplotlib v3.3.3, https://matplotlib.org/</dc:title>\r\n     </cc:Agent>\r\n    </dc:creator>\r\n   </cc:Work>\r\n  </rdf:RDF>\r\n </metadata>\r\n <defs>\r\n  <style type=\"text/css\">*{stroke-linecap:butt;stroke-linejoin:round;}</style>\r\n </defs>\r\n <g id=\"figure_1\">\r\n  <g id=\"patch_1\">\r\n   <path d=\"M 0 279.25 \r\nL 411.554531 279.25 \r\nL 411.554531 0 \r\nL 0 0 \r\nz\r\n\" style=\"fill:none;\"/>\r\n  </g>\r\n  <g id=\"axes_1\">\r\n   <g id=\"patch_2\">\r\n    <path d=\"M 69.554531 239.758125 \r\nL 404.354531 239.758125 \r\nL 404.354531 22.318125 \r\nL 69.554531 22.318125 \r\nz\r\n\" style=\"fill:#ffffff;\"/>\r\n   </g>\r\n   <g id=\"matplotlib.axis_1\">\r\n    <g id=\"xtick_1\">\r\n     <g id=\"line2d_1\">\r\n      <defs>\r\n       <path d=\"M 0 0 \r\nL 0 3.5 \r\n\" id=\"m9ccee2f406\" style=\"stroke:#000000;stroke-width:0.8;\"/>\r\n      </defs>\r\n      <g>\r\n       <use style=\"stroke:#000000;stroke-width:0.8;\" x=\"84.742271\" xlink:href=\"#m9ccee2f406\" y=\"239.758125\"/>\r\n      </g>\r\n     </g>\r\n     <g id=\"text_1\">\r\n      <!-- 0.0 -->\r\n      <g transform=\"translate(75.995552 255.116406)scale(0.11 -0.11)\">\r\n       <defs>\r\n        <path d=\"M 31.78125 66.40625 \r\nQ 24.171875 66.40625 20.328125 58.90625 \r\nQ 16.5 51.421875 16.5 36.375 \r\nQ 16.5 21.390625 20.328125 13.890625 \r\nQ 24.171875 6.390625 31.78125 6.390625 \r\nQ 39.453125 6.390625 43.28125 13.890625 \r\nQ 47.125 21.390625 47.125 36.375 \r\nQ 47.125 51.421875 43.28125 58.90625 \r\nQ 39.453125 66.40625 31.78125 66.40625 \r\nz\r\nM 31.78125 74.21875 \r\nQ 44.046875 74.21875 50.515625 64.515625 \r\nQ 56.984375 54.828125 56.984375 36.375 \r\nQ 56.984375 17.96875 50.515625 8.265625 \r\nQ 44.046875 -1.421875 31.78125 -1.421875 \r\nQ 19.53125 -1.421875 13.0625 8.265625 \r\nQ 6.59375 17.96875 6.59375 36.375 \r\nQ 6.59375 54.828125 13.0625 64.515625 \r\nQ 19.53125 74.21875 31.78125 74.21875 \r\nz\r\n\" id=\"DejaVuSans-48\"/>\r\n        <path d=\"M 10.6875 12.40625 \r\nL 21 12.40625 \r\nL 21 0 \r\nL 10.6875 0 \r\nz\r\n\" id=\"DejaVuSans-46\"/>\r\n       </defs>\r\n       <use xlink:href=\"#DejaVuSans-48\"/>\r\n       <use x=\"63.623047\" xlink:href=\"#DejaVuSans-46\"/>\r\n       <use x=\"95.410156\" xlink:href=\"#DejaVuSans-48\"/>\r\n      </g>\r\n     </g>\r\n    </g>\r\n    <g id=\"xtick_2\">\r\n     <g id=\"line2d_2\">\r\n      <g>\r\n       <use style=\"stroke:#000000;stroke-width:0.8;\" x=\"145.621086\" xlink:href=\"#m9ccee2f406\" y=\"239.758125\"/>\r\n      </g>\r\n     </g>\r\n     <g id=\"text_2\">\r\n      <!-- 0.2 -->\r\n      <g transform=\"translate(136.874368 255.116406)scale(0.11 -0.11)\">\r\n       <defs>\r\n        <path d=\"M 19.1875 8.296875 \r\nL 53.609375 8.296875 \r\nL 53.609375 0 \r\nL 7.328125 0 \r\nL 7.328125 8.296875 \r\nQ 12.9375 14.109375 22.625 23.890625 \r\nQ 32.328125 33.6875 34.8125 36.53125 \r\nQ 39.546875 41.84375 41.421875 45.53125 \r\nQ 43.3125 49.21875 43.3125 52.78125 \r\nQ 43.3125 58.59375 39.234375 62.25 \r\nQ 35.15625 65.921875 28.609375 65.921875 \r\nQ 23.96875 65.921875 18.8125 64.3125 \r\nQ 13.671875 62.703125 7.8125 59.421875 \r\nL 7.8125 69.390625 \r\nQ 13.765625 71.78125 18.9375 73 \r\nQ 24.125 74.21875 28.421875 74.21875 \r\nQ 39.75 74.21875 46.484375 68.546875 \r\nQ 53.21875 62.890625 53.21875 53.421875 \r\nQ 53.21875 48.921875 51.53125 44.890625 \r\nQ 49.859375 40.875 45.40625 35.40625 \r\nQ 44.1875 33.984375 37.640625 27.21875 \r\nQ 31.109375 20.453125 19.1875 8.296875 \r\nz\r\n\" id=\"DejaVuSans-50\"/>\r\n       </defs>\r\n       <use xlink:href=\"#DejaVuSans-48\"/>\r\n       <use x=\"63.623047\" xlink:href=\"#DejaVuSans-46\"/>\r\n       <use x=\"95.410156\" xlink:href=\"#DejaVuSans-50\"/>\r\n      </g>\r\n     </g>\r\n    </g>\r\n    <g id=\"xtick_3\">\r\n     <g id=\"line2d_3\">\r\n      <g>\r\n       <use style=\"stroke:#000000;stroke-width:0.8;\" x=\"206.499902\" xlink:href=\"#m9ccee2f406\" y=\"239.758125\"/>\r\n      </g>\r\n     </g>\r\n     <g id=\"text_3\">\r\n      <!-- 0.4 -->\r\n      <g transform=\"translate(197.753183 255.116406)scale(0.11 -0.11)\">\r\n       <defs>\r\n        <path d=\"M 37.796875 64.3125 \r\nL 12.890625 25.390625 \r\nL 37.796875 25.390625 \r\nz\r\nM 35.203125 72.90625 \r\nL 47.609375 72.90625 \r\nL 47.609375 25.390625 \r\nL 58.015625 25.390625 \r\nL 58.015625 17.1875 \r\nL 47.609375 17.1875 \r\nL 47.609375 0 \r\nL 37.796875 0 \r\nL 37.796875 17.1875 \r\nL 4.890625 17.1875 \r\nL 4.890625 26.703125 \r\nz\r\n\" id=\"DejaVuSans-52\"/>\r\n       </defs>\r\n       <use xlink:href=\"#DejaVuSans-48\"/>\r\n       <use x=\"63.623047\" xlink:href=\"#DejaVuSans-46\"/>\r\n       <use x=\"95.410156\" xlink:href=\"#DejaVuSans-52\"/>\r\n      </g>\r\n     </g>\r\n    </g>\r\n    <g id=\"xtick_4\">\r\n     <g id=\"line2d_4\">\r\n      <g>\r\n       <use style=\"stroke:#000000;stroke-width:0.8;\" x=\"267.378718\" xlink:href=\"#m9ccee2f406\" y=\"239.758125\"/>\r\n      </g>\r\n     </g>\r\n     <g id=\"text_4\">\r\n      <!-- 0.6 -->\r\n      <g transform=\"translate(258.631999 255.116406)scale(0.11 -0.11)\">\r\n       <defs>\r\n        <path d=\"M 33.015625 40.375 \r\nQ 26.375 40.375 22.484375 35.828125 \r\nQ 18.609375 31.296875 18.609375 23.390625 \r\nQ 18.609375 15.53125 22.484375 10.953125 \r\nQ 26.375 6.390625 33.015625 6.390625 \r\nQ 39.65625 6.390625 43.53125 10.953125 \r\nQ 47.40625 15.53125 47.40625 23.390625 \r\nQ 47.40625 31.296875 43.53125 35.828125 \r\nQ 39.65625 40.375 33.015625 40.375 \r\nz\r\nM 52.59375 71.296875 \r\nL 52.59375 62.3125 \r\nQ 48.875 64.0625 45.09375 64.984375 \r\nQ 41.3125 65.921875 37.59375 65.921875 \r\nQ 27.828125 65.921875 22.671875 59.328125 \r\nQ 17.53125 52.734375 16.796875 39.40625 \r\nQ 19.671875 43.65625 24.015625 45.921875 \r\nQ 28.375 48.1875 33.59375 48.1875 \r\nQ 44.578125 48.1875 50.953125 41.515625 \r\nQ 57.328125 34.859375 57.328125 23.390625 \r\nQ 57.328125 12.15625 50.6875 5.359375 \r\nQ 44.046875 -1.421875 33.015625 -1.421875 \r\nQ 20.359375 -1.421875 13.671875 8.265625 \r\nQ 6.984375 17.96875 6.984375 36.375 \r\nQ 6.984375 53.65625 15.1875 63.9375 \r\nQ 23.390625 74.21875 37.203125 74.21875 \r\nQ 40.921875 74.21875 44.703125 73.484375 \r\nQ 48.484375 72.75 52.59375 71.296875 \r\nz\r\n\" id=\"DejaVuSans-54\"/>\r\n       </defs>\r\n       <use xlink:href=\"#DejaVuSans-48\"/>\r\n       <use x=\"63.623047\" xlink:href=\"#DejaVuSans-46\"/>\r\n       <use x=\"95.410156\" xlink:href=\"#DejaVuSans-54\"/>\r\n      </g>\r\n     </g>\r\n    </g>\r\n    <g id=\"xtick_5\">\r\n     <g id=\"line2d_5\">\r\n      <g>\r\n       <use style=\"stroke:#000000;stroke-width:0.8;\" x=\"328.257534\" xlink:href=\"#m9ccee2f406\" y=\"239.758125\"/>\r\n      </g>\r\n     </g>\r\n     <g id=\"text_5\">\r\n      <!-- 0.8 -->\r\n      <g transform=\"translate(319.510815 255.116406)scale(0.11 -0.11)\">\r\n       <defs>\r\n        <path d=\"M 31.78125 34.625 \r\nQ 24.75 34.625 20.71875 30.859375 \r\nQ 16.703125 27.09375 16.703125 20.515625 \r\nQ 16.703125 13.921875 20.71875 10.15625 \r\nQ 24.75 6.390625 31.78125 6.390625 \r\nQ 38.8125 6.390625 42.859375 10.171875 \r\nQ 46.921875 13.96875 46.921875 20.515625 \r\nQ 46.921875 27.09375 42.890625 30.859375 \r\nQ 38.875 34.625 31.78125 34.625 \r\nz\r\nM 21.921875 38.8125 \r\nQ 15.578125 40.375 12.03125 44.71875 \r\nQ 8.5 49.078125 8.5 55.328125 \r\nQ 8.5 64.0625 14.71875 69.140625 \r\nQ 20.953125 74.21875 31.78125 74.21875 \r\nQ 42.671875 74.21875 48.875 69.140625 \r\nQ 55.078125 64.0625 55.078125 55.328125 \r\nQ 55.078125 49.078125 51.53125 44.71875 \r\nQ 48 40.375 41.703125 38.8125 \r\nQ 48.828125 37.15625 52.796875 32.3125 \r\nQ 56.78125 27.484375 56.78125 20.515625 \r\nQ 56.78125 9.90625 50.3125 4.234375 \r\nQ 43.84375 -1.421875 31.78125 -1.421875 \r\nQ 19.734375 -1.421875 13.25 4.234375 \r\nQ 6.78125 9.90625 6.78125 20.515625 \r\nQ 6.78125 27.484375 10.78125 32.3125 \r\nQ 14.796875 37.15625 21.921875 38.8125 \r\nz\r\nM 18.3125 54.390625 \r\nQ 18.3125 48.734375 21.84375 45.5625 \r\nQ 25.390625 42.390625 31.78125 42.390625 \r\nQ 38.140625 42.390625 41.71875 45.5625 \r\nQ 45.3125 48.734375 45.3125 54.390625 \r\nQ 45.3125 60.0625 41.71875 63.234375 \r\nQ 38.140625 66.40625 31.78125 66.40625 \r\nQ 25.390625 66.40625 21.84375 63.234375 \r\nQ 18.3125 60.0625 18.3125 54.390625 \r\nz\r\n\" id=\"DejaVuSans-56\"/>\r\n       </defs>\r\n       <use xlink:href=\"#DejaVuSans-48\"/>\r\n       <use x=\"63.623047\" xlink:href=\"#DejaVuSans-46\"/>\r\n       <use x=\"95.410156\" xlink:href=\"#DejaVuSans-56\"/>\r\n      </g>\r\n     </g>\r\n    </g>\r\n    <g id=\"xtick_6\">\r\n     <g id=\"line2d_6\">\r\n      <g>\r\n       <use style=\"stroke:#000000;stroke-width:0.8;\" x=\"389.136349\" xlink:href=\"#m9ccee2f406\" y=\"239.758125\"/>\r\n      </g>\r\n     </g>\r\n     <g id=\"text_6\">\r\n      <!-- 1.0 -->\r\n      <g transform=\"translate(380.389631 255.116406)scale(0.11 -0.11)\">\r\n       <defs>\r\n        <path d=\"M 12.40625 8.296875 \r\nL 28.515625 8.296875 \r\nL 28.515625 63.921875 \r\nL 10.984375 60.40625 \r\nL 10.984375 69.390625 \r\nL 28.421875 72.90625 \r\nL 38.28125 72.90625 \r\nL 38.28125 8.296875 \r\nL 54.390625 8.296875 \r\nL 54.390625 0 \r\nL 12.40625 0 \r\nz\r\n\" id=\"DejaVuSans-49\"/>\r\n       </defs>\r\n       <use xlink:href=\"#DejaVuSans-49\"/>\r\n       <use x=\"63.623047\" xlink:href=\"#DejaVuSans-46\"/>\r\n       <use x=\"95.410156\" xlink:href=\"#DejaVuSans-48\"/>\r\n      </g>\r\n     </g>\r\n    </g>\r\n    <g id=\"text_7\">\r\n     <!-- Tiempo (T) -->\r\n     <g transform=\"translate(207.241641 269.762344)scale(0.11 -0.11)\">\r\n      <defs>\r\n       <path d=\"M -0.296875 72.90625 \r\nL 61.375 72.90625 \r\nL 61.375 64.59375 \r\nL 35.5 64.59375 \r\nL 35.5 0 \r\nL 25.59375 0 \r\nL 25.59375 64.59375 \r\nL -0.296875 64.59375 \r\nz\r\n\" id=\"DejaVuSans-84\"/>\r\n       <path d=\"M 9.421875 54.6875 \r\nL 18.40625 54.6875 \r\nL 18.40625 0 \r\nL 9.421875 0 \r\nz\r\nM 9.421875 75.984375 \r\nL 18.40625 75.984375 \r\nL 18.40625 64.59375 \r\nL 9.421875 64.59375 \r\nz\r\n\" id=\"DejaVuSans-105\"/>\r\n       <path d=\"M 56.203125 29.59375 \r\nL 56.203125 25.203125 \r\nL 14.890625 25.203125 \r\nQ 15.484375 15.921875 20.484375 11.0625 \r\nQ 25.484375 6.203125 34.421875 6.203125 \r\nQ 39.59375 6.203125 44.453125 7.46875 \r\nQ 49.3125 8.734375 54.109375 11.28125 \r\nL 54.109375 2.78125 \r\nQ 49.265625 0.734375 44.1875 -0.34375 \r\nQ 39.109375 -1.421875 33.890625 -1.421875 \r\nQ 20.796875 -1.421875 13.15625 6.1875 \r\nQ 5.515625 13.8125 5.515625 26.8125 \r\nQ 5.515625 40.234375 12.765625 48.109375 \r\nQ 20.015625 56 32.328125 56 \r\nQ 43.359375 56 49.78125 48.890625 \r\nQ 56.203125 41.796875 56.203125 29.59375 \r\nz\r\nM 47.21875 32.234375 \r\nQ 47.125 39.59375 43.09375 43.984375 \r\nQ 39.0625 48.390625 32.421875 48.390625 \r\nQ 24.90625 48.390625 20.390625 44.140625 \r\nQ 15.875 39.890625 15.1875 32.171875 \r\nz\r\n\" id=\"DejaVuSans-101\"/>\r\n       <path d=\"M 52 44.1875 \r\nQ 55.375 50.25 60.0625 53.125 \r\nQ 64.75 56 71.09375 56 \r\nQ 79.640625 56 84.28125 50.015625 \r\nQ 88.921875 44.046875 88.921875 33.015625 \r\nL 88.921875 0 \r\nL 79.890625 0 \r\nL 79.890625 32.71875 \r\nQ 79.890625 40.578125 77.09375 44.375 \r\nQ 74.3125 48.1875 68.609375 48.1875 \r\nQ 61.625 48.1875 57.5625 43.546875 \r\nQ 53.515625 38.921875 53.515625 30.90625 \r\nL 53.515625 0 \r\nL 44.484375 0 \r\nL 44.484375 32.71875 \r\nQ 44.484375 40.625 41.703125 44.40625 \r\nQ 38.921875 48.1875 33.109375 48.1875 \r\nQ 26.21875 48.1875 22.15625 43.53125 \r\nQ 18.109375 38.875 18.109375 30.90625 \r\nL 18.109375 0 \r\nL 9.078125 0 \r\nL 9.078125 54.6875 \r\nL 18.109375 54.6875 \r\nL 18.109375 46.1875 \r\nQ 21.1875 51.21875 25.484375 53.609375 \r\nQ 29.78125 56 35.6875 56 \r\nQ 41.65625 56 45.828125 52.96875 \r\nQ 50 49.953125 52 44.1875 \r\nz\r\n\" id=\"DejaVuSans-109\"/>\r\n       <path d=\"M 18.109375 8.203125 \r\nL 18.109375 -20.796875 \r\nL 9.078125 -20.796875 \r\nL 9.078125 54.6875 \r\nL 18.109375 54.6875 \r\nL 18.109375 46.390625 \r\nQ 20.953125 51.265625 25.265625 53.625 \r\nQ 29.59375 56 35.59375 56 \r\nQ 45.5625 56 51.78125 48.09375 \r\nQ 58.015625 40.1875 58.015625 27.296875 \r\nQ 58.015625 14.40625 51.78125 6.484375 \r\nQ 45.5625 -1.421875 35.59375 -1.421875 \r\nQ 29.59375 -1.421875 25.265625 0.953125 \r\nQ 20.953125 3.328125 18.109375 8.203125 \r\nz\r\nM 48.6875 27.296875 \r\nQ 48.6875 37.203125 44.609375 42.84375 \r\nQ 40.53125 48.484375 33.40625 48.484375 \r\nQ 26.265625 48.484375 22.1875 42.84375 \r\nQ 18.109375 37.203125 18.109375 27.296875 \r\nQ 18.109375 17.390625 22.1875 11.75 \r\nQ 26.265625 6.109375 33.40625 6.109375 \r\nQ 40.53125 6.109375 44.609375 11.75 \r\nQ 48.6875 17.390625 48.6875 27.296875 \r\nz\r\n\" id=\"DejaVuSans-112\"/>\r\n       <path d=\"M 30.609375 48.390625 \r\nQ 23.390625 48.390625 19.1875 42.75 \r\nQ 14.984375 37.109375 14.984375 27.296875 \r\nQ 14.984375 17.484375 19.15625 11.84375 \r\nQ 23.34375 6.203125 30.609375 6.203125 \r\nQ 37.796875 6.203125 41.984375 11.859375 \r\nQ 46.1875 17.53125 46.1875 27.296875 \r\nQ 46.1875 37.015625 41.984375 42.703125 \r\nQ 37.796875 48.390625 30.609375 48.390625 \r\nz\r\nM 30.609375 56 \r\nQ 42.328125 56 49.015625 48.375 \r\nQ 55.71875 40.765625 55.71875 27.296875 \r\nQ 55.71875 13.875 49.015625 6.21875 \r\nQ 42.328125 -1.421875 30.609375 -1.421875 \r\nQ 18.84375 -1.421875 12.171875 6.21875 \r\nQ 5.515625 13.875 5.515625 27.296875 \r\nQ 5.515625 40.765625 12.171875 48.375 \r\nQ 18.84375 56 30.609375 56 \r\nz\r\n\" id=\"DejaVuSans-111\"/>\r\n       <path id=\"DejaVuSans-32\"/>\r\n       <path d=\"M 31 75.875 \r\nQ 24.46875 64.65625 21.28125 53.65625 \r\nQ 18.109375 42.671875 18.109375 31.390625 \r\nQ 18.109375 20.125 21.3125 9.0625 \r\nQ 24.515625 -2 31 -13.1875 \r\nL 23.1875 -13.1875 \r\nQ 15.875 -1.703125 12.234375 9.375 \r\nQ 8.59375 20.453125 8.59375 31.390625 \r\nQ 8.59375 42.28125 12.203125 53.3125 \r\nQ 15.828125 64.359375 23.1875 75.875 \r\nz\r\n\" id=\"DejaVuSans-40\"/>\r\n       <path d=\"M 8.015625 75.875 \r\nL 15.828125 75.875 \r\nQ 23.140625 64.359375 26.78125 53.3125 \r\nQ 30.421875 42.28125 30.421875 31.390625 \r\nQ 30.421875 20.453125 26.78125 9.375 \r\nQ 23.140625 -1.703125 15.828125 -13.1875 \r\nL 8.015625 -13.1875 \r\nQ 14.5 -2 17.703125 9.0625 \r\nQ 20.90625 20.125 20.90625 31.390625 \r\nQ 20.90625 42.671875 17.703125 53.65625 \r\nQ 14.5 64.65625 8.015625 75.875 \r\nz\r\n\" id=\"DejaVuSans-41\"/>\r\n      </defs>\r\n      <use xlink:href=\"#DejaVuSans-84\"/>\r\n      <use x=\"57.958984\" xlink:href=\"#DejaVuSans-105\"/>\r\n      <use x=\"85.742188\" xlink:href=\"#DejaVuSans-101\"/>\r\n      <use x=\"147.265625\" xlink:href=\"#DejaVuSans-109\"/>\r\n      <use x=\"244.677734\" xlink:href=\"#DejaVuSans-112\"/>\r\n      <use x=\"308.154297\" xlink:href=\"#DejaVuSans-111\"/>\r\n      <use x=\"369.335938\" xlink:href=\"#DejaVuSans-32\"/>\r\n      <use x=\"401.123047\" xlink:href=\"#DejaVuSans-40\"/>\r\n      <use x=\"440.136719\" xlink:href=\"#DejaVuSans-84\"/>\r\n      <use x=\"501.220703\" xlink:href=\"#DejaVuSans-41\"/>\r\n     </g>\r\n    </g>\r\n   </g>\r\n   <g id=\"matplotlib.axis_2\">\r\n    <g id=\"ytick_1\">\r\n     <g id=\"line2d_7\">\r\n      <defs>\r\n       <path d=\"M 0 0 \r\nL -3.5 0 \r\n\" id=\"m1e26fee791\" style=\"stroke:#000000;stroke-width:0.8;\"/>\r\n      </defs>\r\n      <g>\r\n       <use style=\"stroke:#000000;stroke-width:0.8;\" x=\"69.554531\" xlink:href=\"#m1e26fee791\" y=\"213.403762\"/>\r\n      </g>\r\n     </g>\r\n     <g id=\"text_8\">\r\n      <!-- −0.010 -->\r\n      <g transform=\"translate(21.845937 217.582902)scale(0.11 -0.11)\">\r\n       <defs>\r\n        <path d=\"M 10.59375 35.5 \r\nL 73.1875 35.5 \r\nL 73.1875 27.203125 \r\nL 10.59375 27.203125 \r\nz\r\n\" id=\"DejaVuSans-8722\"/>\r\n       </defs>\r\n       <use xlink:href=\"#DejaVuSans-8722\"/>\r\n       <use x=\"83.789062\" xlink:href=\"#DejaVuSans-48\"/>\r\n       <use x=\"147.412109\" xlink:href=\"#DejaVuSans-46\"/>\r\n       <use x=\"179.199219\" xlink:href=\"#DejaVuSans-48\"/>\r\n       <use x=\"242.822266\" xlink:href=\"#DejaVuSans-49\"/>\r\n       <use x=\"306.445312\" xlink:href=\"#DejaVuSans-48\"/>\r\n      </g>\r\n     </g>\r\n    </g>\r\n    <g id=\"ytick_2\">\r\n     <g id=\"line2d_8\">\r\n      <g>\r\n       <use style=\"stroke:#000000;stroke-width:0.8;\" x=\"69.554531\" xlink:href=\"#m1e26fee791\" y=\"172.221466\"/>\r\n      </g>\r\n     </g>\r\n     <g id=\"text_9\">\r\n      <!-- −0.005 -->\r\n      <g transform=\"translate(21.845937 176.400607)scale(0.11 -0.11)\">\r\n       <defs>\r\n        <path d=\"M 10.796875 72.90625 \r\nL 49.515625 72.90625 \r\nL 49.515625 64.59375 \r\nL 19.828125 64.59375 \r\nL 19.828125 46.734375 \r\nQ 21.96875 47.46875 24.109375 47.828125 \r\nQ 26.265625 48.1875 28.421875 48.1875 \r\nQ 40.625 48.1875 47.75 41.5 \r\nQ 54.890625 34.8125 54.890625 23.390625 \r\nQ 54.890625 11.625 47.5625 5.09375 \r\nQ 40.234375 -1.421875 26.90625 -1.421875 \r\nQ 22.3125 -1.421875 17.546875 -0.640625 \r\nQ 12.796875 0.140625 7.71875 1.703125 \r\nL 7.71875 11.625 \r\nQ 12.109375 9.234375 16.796875 8.0625 \r\nQ 21.484375 6.890625 26.703125 6.890625 \r\nQ 35.15625 6.890625 40.078125 11.328125 \r\nQ 45.015625 15.765625 45.015625 23.390625 \r\nQ 45.015625 31 40.078125 35.4375 \r\nQ 35.15625 39.890625 26.703125 39.890625 \r\nQ 22.75 39.890625 18.8125 39.015625 \r\nQ 14.890625 38.140625 10.796875 36.28125 \r\nz\r\n\" id=\"DejaVuSans-53\"/>\r\n       </defs>\r\n       <use xlink:href=\"#DejaVuSans-8722\"/>\r\n       <use x=\"83.789062\" xlink:href=\"#DejaVuSans-48\"/>\r\n       <use x=\"147.412109\" xlink:href=\"#DejaVuSans-46\"/>\r\n       <use x=\"179.199219\" xlink:href=\"#DejaVuSans-48\"/>\r\n       <use x=\"242.822266\" xlink:href=\"#DejaVuSans-48\"/>\r\n       <use x=\"306.445312\" xlink:href=\"#DejaVuSans-53\"/>\r\n      </g>\r\n     </g>\r\n    </g>\r\n    <g id=\"ytick_3\">\r\n     <g id=\"line2d_9\">\r\n      <g>\r\n       <use style=\"stroke:#000000;stroke-width:0.8;\" x=\"69.554531\" xlink:href=\"#m1e26fee791\" y=\"131.039171\"/>\r\n      </g>\r\n     </g>\r\n     <g id=\"text_10\">\r\n      <!-- 0.000 -->\r\n      <g transform=\"translate(31.063594 135.218311)scale(0.11 -0.11)\">\r\n       <use xlink:href=\"#DejaVuSans-48\"/>\r\n       <use x=\"63.623047\" xlink:href=\"#DejaVuSans-46\"/>\r\n       <use x=\"95.410156\" xlink:href=\"#DejaVuSans-48\"/>\r\n       <use x=\"159.033203\" xlink:href=\"#DejaVuSans-48\"/>\r\n       <use x=\"222.65625\" xlink:href=\"#DejaVuSans-48\"/>\r\n      </g>\r\n     </g>\r\n    </g>\r\n    <g id=\"ytick_4\">\r\n     <g id=\"line2d_10\">\r\n      <g>\r\n       <use style=\"stroke:#000000;stroke-width:0.8;\" x=\"69.554531\" xlink:href=\"#m1e26fee791\" y=\"89.856875\"/>\r\n      </g>\r\n     </g>\r\n     <g id=\"text_11\">\r\n      <!-- 0.005 -->\r\n      <g transform=\"translate(31.063594 94.036016)scale(0.11 -0.11)\">\r\n       <use xlink:href=\"#DejaVuSans-48\"/>\r\n       <use x=\"63.623047\" xlink:href=\"#DejaVuSans-46\"/>\r\n       <use x=\"95.410156\" xlink:href=\"#DejaVuSans-48\"/>\r\n       <use x=\"159.033203\" xlink:href=\"#DejaVuSans-48\"/>\r\n       <use x=\"222.65625\" xlink:href=\"#DejaVuSans-53\"/>\r\n      </g>\r\n     </g>\r\n    </g>\r\n    <g id=\"ytick_5\">\r\n     <g id=\"line2d_11\">\r\n      <g>\r\n       <use style=\"stroke:#000000;stroke-width:0.8;\" x=\"69.554531\" xlink:href=\"#m1e26fee791\" y=\"48.67458\"/>\r\n      </g>\r\n     </g>\r\n     <g id=\"text_12\">\r\n      <!-- 0.010 -->\r\n      <g transform=\"translate(31.063594 52.85372)scale(0.11 -0.11)\">\r\n       <use xlink:href=\"#DejaVuSans-48\"/>\r\n       <use x=\"63.623047\" xlink:href=\"#DejaVuSans-46\"/>\r\n       <use x=\"95.410156\" xlink:href=\"#DejaVuSans-48\"/>\r\n       <use x=\"159.033203\" xlink:href=\"#DejaVuSans-49\"/>\r\n       <use x=\"222.65625\" xlink:href=\"#DejaVuSans-48\"/>\r\n      </g>\r\n     </g>\r\n    </g>\r\n    <g id=\"text_13\">\r\n     <!-- Intensidad (I) -->\r\n     <g transform=\"translate(15.558281 167.581328)rotate(-90)scale(0.11 -0.11)\">\r\n      <defs>\r\n       <path d=\"M 9.8125 72.90625 \r\nL 19.671875 72.90625 \r\nL 19.671875 0 \r\nL 9.8125 0 \r\nz\r\n\" id=\"DejaVuSans-73\"/>\r\n       <path d=\"M 54.890625 33.015625 \r\nL 54.890625 0 \r\nL 45.90625 0 \r\nL 45.90625 32.71875 \r\nQ 45.90625 40.484375 42.875 44.328125 \r\nQ 39.84375 48.1875 33.796875 48.1875 \r\nQ 26.515625 48.1875 22.3125 43.546875 \r\nQ 18.109375 38.921875 18.109375 30.90625 \r\nL 18.109375 0 \r\nL 9.078125 0 \r\nL 9.078125 54.6875 \r\nL 18.109375 54.6875 \r\nL 18.109375 46.1875 \r\nQ 21.34375 51.125 25.703125 53.5625 \r\nQ 30.078125 56 35.796875 56 \r\nQ 45.21875 56 50.046875 50.171875 \r\nQ 54.890625 44.34375 54.890625 33.015625 \r\nz\r\n\" id=\"DejaVuSans-110\"/>\r\n       <path d=\"M 18.3125 70.21875 \r\nL 18.3125 54.6875 \r\nL 36.8125 54.6875 \r\nL 36.8125 47.703125 \r\nL 18.3125 47.703125 \r\nL 18.3125 18.015625 \r\nQ 18.3125 11.328125 20.140625 9.421875 \r\nQ 21.96875 7.515625 27.59375 7.515625 \r\nL 36.8125 7.515625 \r\nL 36.8125 0 \r\nL 27.59375 0 \r\nQ 17.1875 0 13.234375 3.875 \r\nQ 9.28125 7.765625 9.28125 18.015625 \r\nL 9.28125 47.703125 \r\nL 2.6875 47.703125 \r\nL 2.6875 54.6875 \r\nL 9.28125 54.6875 \r\nL 9.28125 70.21875 \r\nz\r\n\" id=\"DejaVuSans-116\"/>\r\n       <path d=\"M 44.28125 53.078125 \r\nL 44.28125 44.578125 \r\nQ 40.484375 46.53125 36.375 47.5 \r\nQ 32.28125 48.484375 27.875 48.484375 \r\nQ 21.1875 48.484375 17.84375 46.4375 \r\nQ 14.5 44.390625 14.5 40.28125 \r\nQ 14.5 37.15625 16.890625 35.375 \r\nQ 19.28125 33.59375 26.515625 31.984375 \r\nL 29.59375 31.296875 \r\nQ 39.15625 29.25 43.1875 25.515625 \r\nQ 47.21875 21.78125 47.21875 15.09375 \r\nQ 47.21875 7.46875 41.1875 3.015625 \r\nQ 35.15625 -1.421875 24.609375 -1.421875 \r\nQ 20.21875 -1.421875 15.453125 -0.5625 \r\nQ 10.6875 0.296875 5.421875 2 \r\nL 5.421875 11.28125 \r\nQ 10.40625 8.6875 15.234375 7.390625 \r\nQ 20.0625 6.109375 24.8125 6.109375 \r\nQ 31.15625 6.109375 34.5625 8.28125 \r\nQ 37.984375 10.453125 37.984375 14.40625 \r\nQ 37.984375 18.0625 35.515625 20.015625 \r\nQ 33.0625 21.96875 24.703125 23.78125 \r\nL 21.578125 24.515625 \r\nQ 13.234375 26.265625 9.515625 29.90625 \r\nQ 5.8125 33.546875 5.8125 39.890625 \r\nQ 5.8125 47.609375 11.28125 51.796875 \r\nQ 16.75 56 26.8125 56 \r\nQ 31.78125 56 36.171875 55.265625 \r\nQ 40.578125 54.546875 44.28125 53.078125 \r\nz\r\n\" id=\"DejaVuSans-115\"/>\r\n       <path d=\"M 45.40625 46.390625 \r\nL 45.40625 75.984375 \r\nL 54.390625 75.984375 \r\nL 54.390625 0 \r\nL 45.40625 0 \r\nL 45.40625 8.203125 \r\nQ 42.578125 3.328125 38.25 0.953125 \r\nQ 33.9375 -1.421875 27.875 -1.421875 \r\nQ 17.96875 -1.421875 11.734375 6.484375 \r\nQ 5.515625 14.40625 5.515625 27.296875 \r\nQ 5.515625 40.1875 11.734375 48.09375 \r\nQ 17.96875 56 27.875 56 \r\nQ 33.9375 56 38.25 53.625 \r\nQ 42.578125 51.265625 45.40625 46.390625 \r\nz\r\nM 14.796875 27.296875 \r\nQ 14.796875 17.390625 18.875 11.75 \r\nQ 22.953125 6.109375 30.078125 6.109375 \r\nQ 37.203125 6.109375 41.296875 11.75 \r\nQ 45.40625 17.390625 45.40625 27.296875 \r\nQ 45.40625 37.203125 41.296875 42.84375 \r\nQ 37.203125 48.484375 30.078125 48.484375 \r\nQ 22.953125 48.484375 18.875 42.84375 \r\nQ 14.796875 37.203125 14.796875 27.296875 \r\nz\r\n\" id=\"DejaVuSans-100\"/>\r\n       <path d=\"M 34.28125 27.484375 \r\nQ 23.390625 27.484375 19.1875 25 \r\nQ 14.984375 22.515625 14.984375 16.5 \r\nQ 14.984375 11.71875 18.140625 8.90625 \r\nQ 21.296875 6.109375 26.703125 6.109375 \r\nQ 34.1875 6.109375 38.703125 11.40625 \r\nQ 43.21875 16.703125 43.21875 25.484375 \r\nL 43.21875 27.484375 \r\nz\r\nM 52.203125 31.203125 \r\nL 52.203125 0 \r\nL 43.21875 0 \r\nL 43.21875 8.296875 \r\nQ 40.140625 3.328125 35.546875 0.953125 \r\nQ 30.953125 -1.421875 24.3125 -1.421875 \r\nQ 15.921875 -1.421875 10.953125 3.296875 \r\nQ 6 8.015625 6 15.921875 \r\nQ 6 25.140625 12.171875 29.828125 \r\nQ 18.359375 34.515625 30.609375 34.515625 \r\nL 43.21875 34.515625 \r\nL 43.21875 35.40625 \r\nQ 43.21875 41.609375 39.140625 45 \r\nQ 35.0625 48.390625 27.6875 48.390625 \r\nQ 23 48.390625 18.546875 47.265625 \r\nQ 14.109375 46.140625 10.015625 43.890625 \r\nL 10.015625 52.203125 \r\nQ 14.9375 54.109375 19.578125 55.046875 \r\nQ 24.21875 56 28.609375 56 \r\nQ 40.484375 56 46.34375 49.84375 \r\nQ 52.203125 43.703125 52.203125 31.203125 \r\nz\r\n\" id=\"DejaVuSans-97\"/>\r\n      </defs>\r\n      <use xlink:href=\"#DejaVuSans-73\"/>\r\n      <use x=\"29.492188\" xlink:href=\"#DejaVuSans-110\"/>\r\n      <use x=\"92.871094\" xlink:href=\"#DejaVuSans-116\"/>\r\n      <use x=\"132.080078\" xlink:href=\"#DejaVuSans-101\"/>\r\n      <use x=\"193.603516\" xlink:href=\"#DejaVuSans-110\"/>\r\n      <use x=\"256.982422\" xlink:href=\"#DejaVuSans-115\"/>\r\n      <use x=\"309.082031\" xlink:href=\"#DejaVuSans-105\"/>\r\n      <use x=\"336.865234\" xlink:href=\"#DejaVuSans-100\"/>\r\n      <use x=\"400.341797\" xlink:href=\"#DejaVuSans-97\"/>\r\n      <use x=\"461.621094\" xlink:href=\"#DejaVuSans-100\"/>\r\n      <use x=\"525.097656\" xlink:href=\"#DejaVuSans-32\"/>\r\n      <use x=\"556.884766\" xlink:href=\"#DejaVuSans-40\"/>\r\n      <use x=\"595.898438\" xlink:href=\"#DejaVuSans-73\"/>\r\n      <use x=\"625.390625\" xlink:href=\"#DejaVuSans-41\"/>\r\n     </g>\r\n    </g>\r\n   </g>\r\n   <g id=\"line2d_12\">\r\n    <path clip-path=\"url(#pb9c197b8dd)\" d=\"M 84.772713 134.764747 \r\nL 85.378063 201.069461 \r\nL 85.731089 224.014291 \r\nL 85.942382 229.524343 \r\nL 86.190039 227.445443 \r\nL 86.519935 210.853909 \r\nL 87.085364 154.502253 \r\nL 87.968829 56.492391 \r\nL 88.33602 35.562867 \r\nL 88.557651 32.209945 \r\nL 88.82384 37.946378 \r\nL 89.348392 76.996456 \r\nL 90.796171 223.670958 \r\nL 91.00629 229.421462 \r\nL 91.251998 227.740294 \r\nL 91.575809 212.088802 \r\nL 92.149278 155.608986 \r\nL 92.998116 60.133308 \r\nL 93.353793 37.542074 \r\nL 93.566957 32.418341 \r\nL 93.817786 35.139408 \r\nL 94.158278 53.330703 \r\nL 94.710515 109.399385 \r\nL 95.630063 209.562157 \r\nL 96.011007 228.264354 \r\nL 96.243586 229.309565 \r\nL 96.532769 219.367725 \r\nL 96.99719 181.029057 \r\nL 98.238207 47.513717 \r\nL 98.426134 37.577625 \r\nL 98.639167 32.426721 \r\nL 98.889772 35.102522 \r\nL 99.229482 53.177397 \r\nL 99.782658 109.269045 \r\nL 100.700174 209.329321 \r\nL 101.080269 228.175707 \r\nL 101.312143 229.369165 \r\nL 101.599713 219.71057 \r\nL 102.066972 181.393197 \r\nL 103.312995 47.412195 \r\nL 103.501115 37.508284 \r\nL 103.714405 32.410484 \r\nL 103.96545 35.174888 \r\nL 104.306694 53.478222 \r\nL 104.858031 109.52448 \r\nL 105.779468 209.779838 \r\nL 106.16121 228.34553 \r\nL 106.394457 229.25047 \r\nL 106.685186 219.038596 \r\nL 107.146962 180.679842 \r\nL 108.382898 47.6303 \r\nL 108.570604 37.657524 \r\nL 108.783344 32.446043 \r\nL 109.033448 35.020883 \r\nL 109.371437 52.838185 \r\nL 109.926701 108.979406 \r\nL 110.839447 208.78854 \r\nL 111.217595 227.962732 \r\nL 111.447866 229.49359 \r\nL 111.731843 220.471876 \r\nL 112.205736 182.202482 \r\nL 113.461938 47.251175 \r\nL 113.650366 37.398762 \r\nL 113.864066 32.385871 \r\nL 114.115816 35.292132 \r\nL 114.459562 53.96611 \r\nL 115.007943 109.936001 \r\nL 115.93518 210.458521 \r\nL 116.319447 228.587776 \r\nL 116.554832 229.044598 \r\nL 116.850646 217.955992 \r\nL 117.304208 179.53472 \r\nL 118.521185 48.171931 \r\nL 118.919278 32.545063 \r\nL 119.16712 34.661469 \r\nL 119.497609 51.343614 \r\nL 120.062274 107.681284 \r\nL 120.948374 205.868192 \r\nL 121.316496 226.654897 \r\nL 121.538837 229.858198 \r\nL 121.806399 223.860203 \r\nL 122.326148 184.904382 \r\nL 123.774421 38.312738 \r\nL 123.984859 32.627514 \r\nL 124.231095 34.416499 \r\nL 124.556523 50.31937 \r\nL 125.127822 106.76815 \r\nL 125.987534 203.077327 \r\nL 126.346703 225.185974 \r\nL 126.562374 229.788643 \r\nL 126.817572 226.193648 \r\nL 127.174334 205.625382 \r\nL 127.819333 136.597561 \r\nL 128.49105 61.834947 \r\nL 128.841603 38.571829 \r\nL 129.051176 32.709652 \r\nL 129.295984 34.206619 \r\nL 129.617087 49.43428 \r\nL 130.194243 105.960413 \r\nL 131.184815 212.584383 \r\nL 131.57739 229.231587 \r\nL 131.820096 228.166871 \r\nL 132.13509 213.907765 \r\nL 132.566506 174.926231 \r\nL 133.834345 42.505219 \r\nL 134.032926 34.471632 \r\nL 134.260756 32.426297 \r\nL 134.539454 40.495954 \r\nL 135.025528 78.857028 \r\nL 136.292942 214.921033 \r\nL 136.48155 224.743158 \r\nL 136.69549 229.706165 \r\nL 136.947656 226.716447 \r\nL 137.2929 207.82151 \r\nL 137.839536 151.898696 \r\nL 138.769928 51.243139 \r\nL 139.155622 33.363432 \r\nL 139.392231 33.162684 \r\nL 139.691054 44.762647 \r\nL 140.140069 83.217637 \r\nL 141.343796 213.439988 \r\nL 141.739907 229.436247 \r\nL 141.985878 227.701309 \r\nL 142.310492 211.924764 \r\nL 142.88288 155.460072 \r\nL 143.737316 59.551414 \r\nL 144.094779 37.204526 \r\nL 144.309218 32.345455 \r\nL 144.562253 35.509236 \r\nL 144.910689 54.872246 \r\nL 145.453665 110.691672 \r\nL 146.390065 211.571608 \r\nL 146.778602 228.947652 \r\nL 147.017691 228.631608 \r\nL 147.32284 215.974112 \r\nL 147.764419 177.300009 \r\nL 148.927615 50.440574 \r\nL 149.316412 33.110816 \r\nL 149.555731 33.474428 \r\nL 149.86148 46.231109 \r\nL 150.302471 84.933672 \r\nL 151.460461 211.369645 \r\nL 151.848211 228.885974 \r\nL 152.086609 228.713818 \r\nL 152.389961 216.354394 \r\nL 152.833232 177.77762 \r\nL 154.010801 49.741679 \r\nL 154.402373 32.912174 \r\nL 154.644171 33.789461 \r\nL 154.956618 47.639096 \r\nL 155.390711 86.566216 \r\nL 156.60933 216.403592 \r\nL 156.800884 225.720667 \r\nL 157.018798 229.854602 \r\nL 157.278025 225.464721 \r\nL 157.611682 205.79059 \r\nL 158.257131 136.794353 \r\nL 158.926778 62.157266 \r\nL 159.276377 38.773709 \r\nL 159.485291 32.777364 \r\nL 159.729024 34.053409 \r\nL 160.046962 48.781667 \r\nL 160.628503 105.351474 \r\nL 161.560547 207.931051 \r\nL 161.935672 227.605539 \r\nL 162.163495 229.652476 \r\nL 162.442176 221.585751 \r\nL 162.928294 183.223834 \r\nL 164.195734 47.15721 \r\nL 164.384343 37.335117 \r\nL 164.598283 32.372162 \r\nL 164.850449 35.361968 \r\nL 165.195695 54.257139 \r\nL 165.742329 110.179903 \r\nL 166.672724 210.83559 \r\nL 167.058419 228.715038 \r\nL 167.29503 228.915519 \r\nL 167.593856 217.315019 \r\nL 168.042867 178.859995 \r\nL 169.246578 48.638917 \r\nL 169.642687 32.642218 \r\nL 169.888655 34.376702 \r\nL 170.213263 50.15219 \r\nL 170.78566 106.617013 \r\nL 171.64005 202.522167 \r\nL 171.997498 224.871086 \r\nL 172.211927 229.732348 \r\nL 172.464944 226.572242 \r\nL 172.813311 207.21922 \r\nL 173.356365 151.397536 \r\nL 174.292646 50.521629 \r\nL 174.681124 33.135184 \r\nL 174.920162 33.440553 \r\nL 175.225177 46.075836 \r\nL 175.666886 84.743319 \r\nL 176.831216 211.695103 \r\nL 177.220237 228.984587 \r\nL 177.459755 228.57964 \r\nL 177.766029 215.736503 \r\nL 178.2065 177.010519 \r\nL 179.359737 50.960109 \r\nL 179.746516 33.27144 \r\nL 179.984065 33.26677 \r\nL 180.285246 45.26379 \r\nL 180.730844 83.743193 \r\nL 181.922785 212.971405 \r\nL 182.316944 229.32831 \r\nL 182.561101 227.964992 \r\nL 182.880279 213.040577 \r\nL 183.460093 156.486405 \r\nL 184.419583 51.931667 \r\nL 184.802685 33.599758 \r\nL 185.037078 32.935048 \r\nL 185.330505 43.614163 \r\nL 185.787835 82.006858 \r\nL 187.01418 214.193917 \r\nL 187.201407 224.245666 \r\nL 187.413515 229.587712 \r\nL 187.662545 227.230102 \r\nL 187.996916 209.95749 \r\nL 188.556652 153.717323 \r\nL 189.457907 54.566716 \r\nL 189.831576 34.655999 \r\nL 190.058239 32.364458 \r\nL 190.334487 39.985945 \r\nL 190.827389 78.470847 \r\nL 192.098648 214.929104 \r\nL 192.287272 224.748612 \r\nL 192.501232 229.70732 \r\nL 192.753434 226.710401 \r\nL 193.098808 207.796298 \r\nL 193.645293 151.87762 \r\nL 194.575949 51.211383 \r\nL 194.961764 33.352959 \r\nL 195.198478 33.174049 \r\nL 195.497561 44.817991 \r\nL 195.946193 83.275765 \r\nL 197.148685 213.393213 \r\nL 197.5446 229.425936 \r\nL 197.790387 227.728605 \r\nL 198.114439 212.039588 \r\nL 198.687583 155.564243 \r\nL 199.538143 59.954511 \r\nL 199.894367 37.437545 \r\nL 200.10792 32.394447 \r\nL 200.359418 35.250152 \r\nL 200.702266 53.791327 \r\nL 201.251703 109.78896 \r\nL 202.176937 210.222363 \r\nL 202.560319 228.505376 \r\nL 202.79495 229.120022 \r\nL 203.088948 218.34273 \r\nL 203.545364 179.943071 \r\nL 204.769551 47.947344 \r\nL 204.956661 37.876248 \r\nL 205.168613 32.502184 \r\nL 205.417381 34.806599 \r\nL 205.750884 51.947733 \r\nL 206.311709 108.210524 \r\nL 207.209862 207.171932 \r\nL 207.582365 227.270126 \r\nL 207.808108 229.756047 \r\nL 208.082455 222.485279 \r\nL 208.580822 183.906558 \r\nL 209.854921 47.152378 \r\nL 210.043538 37.331857 \r\nL 210.257491 32.371471 \r\nL 210.509679 35.365584 \r\nL 210.855002 54.272217 \r\nL 211.401546 110.192508 \r\nL 212.332099 210.854598 \r\nL 212.717867 228.72131 \r\nL 212.95454 228.908726 \r\nL 213.253522 217.281918 \r\nL 213.702303 178.825225 \r\nL 214.905278 48.666765 \r\nL 215.301269 32.648345 \r\nL 215.547128 34.360426 \r\nL 215.871401 50.083738 \r\nL 216.444249 106.554946 \r\nL 217.29635 202.284031 \r\nL 217.653066 224.733844 \r\nL 217.866969 229.704179 \r\nL 218.119073 226.726798 \r\nL 218.464094 207.864673 \r\nL 219.010989 151.934797 \r\nL 219.940926 51.297836 \r\nL 220.326411 33.38156 \r\nL 220.562841 33.14329 \r\nL 220.861218 44.667827 \r\nL 221.310893 83.117997 \r\nL 222.516699 213.517535 \r\nL 222.913136 229.453111 \r\nL 223.159414 227.655569 \r\nL 223.484971 211.732641 \r\nL 224.056098 155.286445 \r\nL 224.916615 58.916761 \r\nL 225.276048 36.845207 \r\nL 225.49191 32.28232 \r\nL 225.747446 35.94444 \r\nL 226.105561 56.706652 \r\nL 226.748686 125.636868 \r\nL 227.421941 200.489007 \r\nL 227.773224 223.658912 \r\nL 227.983303 229.417671 \r\nL 228.228944 227.75013 \r\nL 228.552553 212.13023 \r\nL 229.126296 155.646695 \r\nL 229.973653 60.286802 \r\nL 230.328863 37.632377 \r\nL 230.541694 32.439898 \r\nL 230.791955 35.046344 \r\nL 231.13048 52.943959 \r\nL 231.685091 109.069908 \r\nL 232.599366 208.961108 \r\nL 232.978132 228.031755 \r\nL 233.208909 229.455976 \r\nL 233.49401 220.234102 \r\nL 233.965779 181.949688 \r\nL 235.218933 47.292561 \r\nL 235.407282 37.426858 \r\nL 235.620875 32.392062 \r\nL 235.872443 35.261706 \r\nL 236.215538 53.839422 \r\nL 236.764684 109.829464 \r\nL 237.690477 210.288099 \r\nL 238.074105 228.528518 \r\nL 238.308945 229.099439 \r\nL 238.603443 218.236183 \r\nL 239.059064 179.830483 \r\nL 240.281318 48.005434 \r\nL 240.468319 37.916548 \r\nL 240.680128 32.51303 \r\nL 240.928655 34.768539 \r\nL 241.261366 51.789429 \r\nL 241.823193 108.072462 \r\nL 242.71838 206.848974 \r\nL 243.089785 227.122248 \r\nL 243.314665 229.790034 \r\nL 243.587259 222.845039 \r\nL 244.090838 184.177921 \r\nL 245.367414 47.162021 \r\nL 245.556013 37.338383 \r\nL 245.769941 32.372853 \r\nL 246.022086 35.35836 \r\nL 246.367254 54.242094 \r\nL 246.913978 110.167322 \r\nL 247.844215 210.816574 \r\nL 248.229838 228.708748 \r\nL 248.466386 228.922288 \r\nL 248.765057 217.348059 \r\nL 249.214297 178.894707 \r\nL 250.418738 48.611521 \r\nL 250.814962 32.636226 \r\nL 251.061038 34.39279 \r\nL 251.385978 50.219805 \r\nL 251.957931 106.678215 \r\nL 252.814517 202.751047 \r\nL 253.172673 225.001771 \r\nL 253.38761 229.757161 \r\nL 253.641517 226.419295 \r\nL 253.993239 206.577866 \r\nL 254.532529 150.869028 \r\nL 255.474205 49.831517 \r\nL 255.865415 32.936569 \r\nL 256.106887 33.746559 \r\nL 256.418434 47.450626 \r\nL 256.853473 86.355215 \r\nL 258.1052 218.263095 \r\nL 258.300735 226.865394 \r\nL 258.524187 229.834358 \r\nL 258.793928 223.424125 \r\nL 259.306425 184.602156 \r\nL 260.755445 38.157402 \r\nL 260.966414 32.580967 \r\nL 261.213531 34.549875 \r\nL 261.541711 50.877923 \r\nL 262.109374 107.268726 \r\nL 262.984597 204.709078 \r\nL 263.348936 226.068816 \r\nL 263.568414 229.874489 \r\nL 263.830528 224.922269 \r\nL 264.152978 205.52019 \r\nL 264.796 136.679284 \r\nL 265.466875 61.967048 \r\nL 265.817036 38.654311 \r\nL 266.026339 32.736935 \r\nL 266.270704 34.142961 \r\nL 266.590493 49.163902 \r\nL 267.169459 105.709641 \r\nL 268.140348 211.04674 \r\nL 268.526853 228.783981 \r\nL 268.764163 228.838431 \r\nL 269.064741 216.942692 \r\nL 269.511201 178.469358 \r\nL 270.706294 48.976938 \r\nL 271.10099 32.719062 \r\nL 271.345644 34.184351 \r\nL 271.666287 49.339819 \r\nL 272.244075 105.873033 \r\nL 273.229192 212.153609 \r\nL 273.620031 229.116143 \r\nL 273.861168 228.375466 \r\nL 274.171794 214.820565 \r\nL 274.607797 175.941026 \r\nL 275.885647 42.465467 \r\nL 276.084323 34.450112 \r\nL 276.312294 32.434347 \r\nL 276.591289 40.558153 \r\nL 277.076546 78.90356 \r\nL 278.343483 214.919107 \r\nL 278.532087 224.741855 \r\nL 278.746022 229.705889 \r\nL 278.99818 226.717889 \r\nL 279.343392 207.827524 \r\nL 279.890064 151.903725 \r\nL 280.820393 51.250735 \r\nL 281.206058 33.365943 \r\nL 281.442642 33.159976 \r\nL 281.741403 44.74944 \r\nL 282.19051 83.203763 \r\nL 283.394529 213.450983 \r\nL 283.790686 229.438656 \r\nL 284.0367 227.694861 \r\nL 284.361448 211.897657 \r\nL 284.933657 155.435524 \r\nL 285.78898 59.458971 \r\nL 286.146729 37.151608 \r\nL 286.361373 32.335183 \r\nL 286.614766 35.570523 \r\nL 286.964541 55.128911 \r\nL 287.506005 110.903761 \r\nL 288.444661 211.856274 \r\nL 288.834316 229.031805 \r\nL 289.074397 228.509952 \r\nL 289.382167 215.420925 \r\nL 289.821128 176.634622 \r\nL 290.959494 51.786361 \r\nL 291.343138 33.548435 \r\nL 291.57799 32.980149 \r\nL 291.872518 43.84859 \r\nL 292.328092 82.254653 \r\nL 293.550228 214.069312 \r\nL 293.737222 224.159297 \r\nL 293.949022 229.564634 \r\nL 294.197534 227.312146 \r\nL 294.530197 210.298664 \r\nL 295.092085 154.014398 \r\nL 295.987086 55.249666 \r\nL 296.358422 34.965489 \r\nL 296.583248 32.286366 \r\nL 296.855733 39.211128 \r\nL 297.359641 77.88384 \r\nL 298.636366 214.915527 \r\nL 298.824963 224.739422 \r\nL 299.038889 229.705374 \r\nL 299.291031 226.720575 \r\nL 299.636186 207.838723 \r\nL 300.182925 151.91309 \r\nL 301.113136 51.264902 \r\nL 301.498746 33.370631 \r\nL 301.735284 33.15494 \r\nL 302.033929 44.724844 \r\nL 302.483207 83.17792 \r\nL 303.687768 213.471291 \r\nL 304.08401 229.443089 \r\nL 304.330105 227.682919 \r\nL 304.655099 211.847475 \r\nL 305.226979 155.390124 \r\nL 306.083918 59.290427 \r\nL 306.442188 37.055633 \r\nL 306.657209 32.317393 \r\nL 306.911259 35.684091 \r\nL 307.263535 55.605794 \r\nL 307.802212 111.295607 \r\nL 308.744694 212.353092 \r\nL 309.136331 229.170572 \r\nL 309.378188 228.280987 \r\nL 309.690801 214.404668 \r\nL 310.12472 175.473613 \r\nL 311.336146 46.099861 \r\nL 311.526838 36.632545 \r\nL 311.743576 32.252683 \r\nL 312.000676 36.224397 \r\nL 312.365257 57.905505 \r\nL 312.999604 126.361731 \r\nL 313.68809 202.307913 \r\nL 314.044874 224.747488 \r\nL 314.258831 229.707083 \r\nL 314.511025 226.711646 \r\nL 314.856373 207.801488 \r\nL 315.402889 151.881958 \r\nL 316.33349 51.217908 \r\nL 316.71928 33.355108 \r\nL 316.955973 33.171707 \r\nL 317.255002 44.806601 \r\nL 317.703713 83.263805 \r\nL 318.90646 213.402932 \r\nL 319.302416 229.428087 \r\nL 319.548241 227.722952 \r\nL 319.872409 212.015793 \r\nL 320.445397 155.542631 \r\nL 321.296776 59.869397 \r\nL 321.653261 37.388037 \r\nL 321.867 32.383537 \r\nL 322.118819 35.303764 \r\nL 322.462814 54.014556 \r\nL 323.010904 109.976682 \r\nL 323.938682 210.522663 \r\nL 324.32319 228.6098 \r\nL 324.558782 229.023398 \r\nL 324.855098 217.849029 \r\nL 325.307886 179.421939 \r\nL 326.52277 48.241084 \r\nL 326.920567 32.558776 \r\nL 327.168127 34.617867 \r\nL 327.497713 51.16181 \r\nL 328.063544 107.520717 \r\nL 328.945585 205.43391 \r\nL 329.312278 226.43948 \r\nL 329.53353 229.872201 \r\nL 329.798992 224.274764 \r\nL 330.326168 185.170998 \r\nL 331.773685 38.455789 \r\nL 331.983642 32.672185 \r\nL 332.229083 34.298725 \r\nL 332.552084 49.823795 \r\nL 333.126649 106.318244 \r\nL 333.96939 201.313438 \r\nL 334.32315 224.161373 \r\nL 334.534957 229.565191 \r\nL 334.783481 227.310226 \r\nL 335.116183 210.290678 \r\nL 335.678021 154.007421 \r\nL 336.573174 55.233039 \r\nL 336.944567 34.957792 \r\nL 337.169437 32.287954 \r\nL 337.442011 39.229288 \r\nL 337.94565 77.897417 \r\nL 339.222253 214.916178 \r\nL 339.410852 224.739862 \r\nL 339.624779 229.705468 \r\nL 339.876924 226.720088 \r\nL 340.222089 207.836691 \r\nL 340.768816 151.91139 \r\nL 341.699048 51.262328 \r\nL 342.084669 33.369779 \r\nL 342.321215 33.155854 \r\nL 342.619881 44.729309 \r\nL 343.069128 83.182611 \r\nL 344.273591 213.467621 \r\nL 344.669818 229.442289 \r\nL 344.915898 227.68508 \r\nL 345.240847 211.856556 \r\nL 345.812787 155.398335 \r\nL 346.669436 59.32068 \r\nL 347.027612 37.072811 \r\nL 347.242565 32.320497 \r\nL 347.496497 35.663531 \r\nL 347.848318 55.519329 \r\nL 348.387499 111.224771 \r\nL 349.329321 212.265988 \r\nL 349.720608 229.147002 \r\nL 349.962149 228.322696 \r\nL 350.273887 214.587728 \r\nL 350.708725 175.678203 \r\nL 351.954118 44.158607 \r\nL 352.14889 35.416718 \r\nL 352.371265 32.220744 \r\nL 352.638895 38.231574 \r\nL 353.158413 77.182971 \r\nL 354.606709 223.770342 \r\nL 354.817164 229.452278 \r\nL 355.063426 227.657859 \r\nL 355.388936 211.742251 \r\nL 355.960126 155.29511 \r\nL 356.82035 58.947417 \r\nL 357.179687 36.862347 \r\nL 357.395479 32.284969 \r\nL 357.650892 35.92263 \r\nL 358.008512 56.613964 \r\nL 358.652321 125.57995 \r\nL 359.325026 200.400467 \r\nL 359.676045 223.604118 \r\nL 359.885941 229.400276 \r\nL 360.131281 227.794451 \r\nL 360.453976 212.317157 \r\nL 361.028957 155.817355 \r\nL 361.869264 61.016418 \r\nL 362.222266 38.068673 \r\nL 362.43354 32.555339 \r\nL 362.681171 34.628673 \r\nL 363.01098 51.206879 \r\nL 363.576522 107.56058 \r\nL 364.45959 205.543613 \r\nL 364.826643 226.494375 \r\nL 365.048168 229.869574 \r\nL 365.314153 224.171977 \r\nL 365.839434 185.107168 \r\nL 367.287139 38.421059 \r\nL 367.497212 32.661184 \r\nL 367.742845 34.326884 \r\nL 368.066426 49.942516 \r\nL 368.640205 106.42655 \r\nL 369.487361 201.770594 \r\nL 369.842507 224.433602 \r\nL 370.055293 229.635427 \r\nL 370.305477 227.044554 \r\nL 370.643737 209.186551 \r\nL 371.19867 153.053048 \r\nL 372.112196 53.201886 \r\nL 372.490658 34.080322 \r\nL 372.721186 32.603672 \r\nL 373.005734 41.727008 \r\nL 373.478543 80.004014 \r\nL 374.733215 214.807149 \r\nL 374.921604 224.665994 \r\nL 375.135252 229.689488 \r\nL 375.386914 226.800951 \r\nL 375.730344 208.173621 \r\nL 376.279096 152.193938 \r\nL 377.205639 51.701912 \r\nL 377.589598 33.518976 \r\nL 377.824719 33.007058 \r\nL 378.119896 43.986661 \r\nL 378.57445 82.40045 \r\nL 379.794018 213.989604 \r\nL 380.192468 229.549458 \r\nL 380.440652 227.363744 \r\nL 380.772242 210.513414 \r\nL 381.335494 154.202422 \r\nL 382.22625 55.709314 \r\nL 382.596038 35.181414 \r\nL 382.819661 32.248486 \r\nL 383.08974 38.722409 \r\nL 383.601148 77.525008 \r\nL 385.050277 223.945322 \r\nL 385.26133 229.50449 \r\nL 385.508588 227.506996 \r\nL 385.837212 211.110721 \r\nL 386.404294 154.729825 \r\nL 387.281739 57.133641 \r\nL 387.646839 35.887533 \r\nL 387.866888 32.201761 \r\nL 388.130069 37.360647 \r\nL 388.448738 56.679936 \r\nL 389.090717 125.456238 \r\nL 389.136349 131.039171 \r\nL 389.136349 131.039171 \r\n\" style=\"fill:none;stroke:#1f77b4;stroke-linecap:square;stroke-width:1.5;\"/>\r\n   </g>\r\n   <g id=\"patch_3\">\r\n    <path d=\"M 69.554531 239.758125 \r\nL 69.554531 22.318125 \r\n\" style=\"fill:none;stroke:#000000;stroke-linecap:square;stroke-linejoin:miter;stroke-width:0.8;\"/>\r\n   </g>\r\n   <g id=\"patch_4\">\r\n    <path d=\"M 404.354531 239.758125 \r\nL 404.354531 22.318125 \r\n\" style=\"fill:none;stroke:#000000;stroke-linecap:square;stroke-linejoin:miter;stroke-width:0.8;\"/>\r\n   </g>\r\n   <g id=\"patch_5\">\r\n    <path d=\"M 69.554531 239.758125 \r\nL 404.354531 239.758125 \r\n\" style=\"fill:none;stroke:#000000;stroke-linecap:square;stroke-linejoin:miter;stroke-width:0.8;\"/>\r\n   </g>\r\n   <g id=\"patch_6\">\r\n    <path d=\"M 69.554531 22.318125 \r\nL 404.354531 22.318125 \r\n\" style=\"fill:none;stroke:#000000;stroke-linecap:square;stroke-linejoin:miter;stroke-width:0.8;\"/>\r\n   </g>\r\n   <g id=\"text_14\">\r\n    <!-- Voltaje en borne V1 -->\r\n    <g transform=\"translate(178.116094 16.318125)scale(0.12 -0.12)\">\r\n     <defs>\r\n      <path d=\"M 28.609375 0 \r\nL 0.78125 72.90625 \r\nL 11.078125 72.90625 \r\nL 34.1875 11.53125 \r\nL 57.328125 72.90625 \r\nL 67.578125 72.90625 \r\nL 39.796875 0 \r\nz\r\n\" id=\"DejaVuSans-86\"/>\r\n      <path d=\"M 9.421875 75.984375 \r\nL 18.40625 75.984375 \r\nL 18.40625 0 \r\nL 9.421875 0 \r\nz\r\n\" id=\"DejaVuSans-108\"/>\r\n      <path d=\"M 9.421875 54.6875 \r\nL 18.40625 54.6875 \r\nL 18.40625 -0.984375 \r\nQ 18.40625 -11.421875 14.421875 -16.109375 \r\nQ 10.453125 -20.796875 1.609375 -20.796875 \r\nL -1.8125 -20.796875 \r\nL -1.8125 -13.1875 \r\nL 0.59375 -13.1875 \r\nQ 5.71875 -13.1875 7.5625 -10.8125 \r\nQ 9.421875 -8.453125 9.421875 -0.984375 \r\nz\r\nM 9.421875 75.984375 \r\nL 18.40625 75.984375 \r\nL 18.40625 64.59375 \r\nL 9.421875 64.59375 \r\nz\r\n\" id=\"DejaVuSans-106\"/>\r\n      <path d=\"M 48.6875 27.296875 \r\nQ 48.6875 37.203125 44.609375 42.84375 \r\nQ 40.53125 48.484375 33.40625 48.484375 \r\nQ 26.265625 48.484375 22.1875 42.84375 \r\nQ 18.109375 37.203125 18.109375 27.296875 \r\nQ 18.109375 17.390625 22.1875 11.75 \r\nQ 26.265625 6.109375 33.40625 6.109375 \r\nQ 40.53125 6.109375 44.609375 11.75 \r\nQ 48.6875 17.390625 48.6875 27.296875 \r\nz\r\nM 18.109375 46.390625 \r\nQ 20.953125 51.265625 25.265625 53.625 \r\nQ 29.59375 56 35.59375 56 \r\nQ 45.5625 56 51.78125 48.09375 \r\nQ 58.015625 40.1875 58.015625 27.296875 \r\nQ 58.015625 14.40625 51.78125 6.484375 \r\nQ 45.5625 -1.421875 35.59375 -1.421875 \r\nQ 29.59375 -1.421875 25.265625 0.953125 \r\nQ 20.953125 3.328125 18.109375 8.203125 \r\nL 18.109375 0 \r\nL 9.078125 0 \r\nL 9.078125 75.984375 \r\nL 18.109375 75.984375 \r\nz\r\n\" id=\"DejaVuSans-98\"/>\r\n      <path d=\"M 41.109375 46.296875 \r\nQ 39.59375 47.171875 37.8125 47.578125 \r\nQ 36.03125 48 33.890625 48 \r\nQ 26.265625 48 22.1875 43.046875 \r\nQ 18.109375 38.09375 18.109375 28.8125 \r\nL 18.109375 0 \r\nL 9.078125 0 \r\nL 9.078125 54.6875 \r\nL 18.109375 54.6875 \r\nL 18.109375 46.1875 \r\nQ 20.953125 51.171875 25.484375 53.578125 \r\nQ 30.03125 56 36.53125 56 \r\nQ 37.453125 56 38.578125 55.875 \r\nQ 39.703125 55.765625 41.0625 55.515625 \r\nz\r\n\" id=\"DejaVuSans-114\"/>\r\n     </defs>\r\n     <use xlink:href=\"#DejaVuSans-86\"/>\r\n     <use x=\"60.658203\" xlink:href=\"#DejaVuSans-111\"/>\r\n     <use x=\"121.839844\" xlink:href=\"#DejaVuSans-108\"/>\r\n     <use x=\"149.623047\" xlink:href=\"#DejaVuSans-116\"/>\r\n     <use x=\"188.832031\" xlink:href=\"#DejaVuSans-97\"/>\r\n     <use x=\"250.111328\" xlink:href=\"#DejaVuSans-106\"/>\r\n     <use x=\"277.894531\" xlink:href=\"#DejaVuSans-101\"/>\r\n     <use x=\"339.417969\" xlink:href=\"#DejaVuSans-32\"/>\r\n     <use x=\"371.205078\" xlink:href=\"#DejaVuSans-101\"/>\r\n     <use x=\"432.728516\" xlink:href=\"#DejaVuSans-110\"/>\r\n     <use x=\"496.107422\" xlink:href=\"#DejaVuSans-32\"/>\r\n     <use x=\"527.894531\" xlink:href=\"#DejaVuSans-98\"/>\r\n     <use x=\"591.371094\" xlink:href=\"#DejaVuSans-111\"/>\r\n     <use x=\"652.552734\" xlink:href=\"#DejaVuSans-114\"/>\r\n     <use x=\"691.916016\" xlink:href=\"#DejaVuSans-110\"/>\r\n     <use x=\"755.294922\" xlink:href=\"#DejaVuSans-101\"/>\r\n     <use x=\"816.818359\" xlink:href=\"#DejaVuSans-32\"/>\r\n     <use x=\"848.605469\" xlink:href=\"#DejaVuSans-86\"/>\r\n     <use x=\"917.013672\" xlink:href=\"#DejaVuSans-49\"/>\r\n    </g>\r\n   </g>\r\n  </g>\r\n </g>\r\n <defs>\r\n  <clipPath id=\"pb9c197b8dd\">\r\n   <rect height=\"217.44\" width=\"334.8\" x=\"69.554531\" y=\"22.318125\"/>\r\n  </clipPath>\r\n </defs>\r\n</svg>\r\n"
          },
          "metadata": {
            "needs_background": "light"
          }
        }
      ],
      "source": [
        "figura = plt.figure()\n",
        "plt.title(\"Voltaje en borne V1\")\n",
        "plt.xlabel(\"Tiempo (T)\")\n",
        "plt.ylabel(\"Intensidad (I)\")\n",
        "plt.plot(resultados['tran']['T'], resultados['tran']['I(V1)'], label=\"Otra etiqueta\")"
      ]
    },
    {
      "source": [
        "Tras la realización de dos simulaciones del mismo circuito usando en cada una un intérprete diferente (primeramente Ltspice y a continuación Ahkab) se puede observar la obtención de gráficas iguales para el voltaje y la intensidad en función del tiempo. \n",
        "La primera gráfica en ambas simulaciones representa el voltaje y describe un tipo de onda senoidal, la cual es periódica, con una amplitud de 120 voltios. El tipo de onda senoidal representa los electrones que van y vienen en corriente alterna, variando así voltajes y corriente en el tiempo.\n",
        "En la segunda gráfica de los dos intérpretes se refleja la intensidad y su variación en el tiempo, la cual refleja una onda senoidal de la misma manera que el voltaje, pero con oscilaciones cuyos valores sin positivos o negativos de manera inversa al voltaje según la dirección de los electrones en cada momento.\n"
      ],
      "cell_type": "markdown",
      "metadata": {}
    },
    {
      "source": [
        "# Resumen de lo que se pide\n",
        "Volved a realizar todos los ejercicios y demos en vuestro propio notebook, explicando con vuestras palabras cada paso, cada gráfica y respondiendo a cada pregunta. Cuidad la belleza, coherencia, narración, explicaciones y gráficas."
      ],
      "cell_type": "markdown",
      "metadata": {}
    }
  ],
  "metadata": {
    "pygments_lexer": "ipython3",
    "orig_nbformat": 2,
    "name": "python",
    "mimetype": "text/x-python",
    "npconvert_exporter": "python",
    "kernel_info": {
      "name": "python3"
    },
    "language_info": {
      "name": "python",
      "version": "3.7.9-final",
      "mimetype": "text/x-python",
      "codemirror_mode": {
        "name": "ipython",
        "version": 3
      },
      "pygments_lexer": "ipython3",
      "nbconvert_exporter": "python",
      "file_extension": ".py"
    },
    "version": 3,
    "kernelspec": {
      "name": "python3",
      "language": "python",
      "display_name": "Python 3"
    },
    "file_extension": ".py",
    "nteract": {
      "version": "0.27.0"
    }
  },
  "nbformat": 4,
  "nbformat_minor": 2
}